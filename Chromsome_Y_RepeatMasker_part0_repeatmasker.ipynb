{
 "cells": [
  {
   "cell_type": "code",
   "execution_count": 1,
   "id": "83d817a8",
   "metadata": {},
   "outputs": [],
   "source": [
    "%matplotlib inline\n",
    "import pandas as pd\n",
    "import matplotlib.pyplot as plt\n",
    "import numpy as np\n",
    "import itertools\n",
    "import seaborn as sns\n",
    "from os import walk\n",
    "from tqdm import tqdm"
   ]
  },
  {
   "cell_type": "code",
   "execution_count": 7,
   "id": "ad03275a",
   "metadata": {},
   "outputs": [
    {
     "name": "stdout",
     "output_type": "stream",
     "text": [
      ">chrY.01-24.01.PAR1-PAR2.RV.unassigned-0000749.HC02666:28485067-30356991\n",
      ">chrY.01-24.01.PAR1-PAR2.RV.unassigned-0000749.HC02666:30390717-30914882\n",
      ">chrY.01-24.01.PAR1-PAR2.RV.unassigned-0000749.HC02666:30954915-31111659\n",
      ">chrY.01-24.01.PAR1-PAR2.RV.unassigned-0000749.HC02666:31169273-32374102\n",
      ">chrY.01-24.01.PAR1-PAR2.RV.unassigned-0000749.HC02666:32723823-33101657\n",
      ">chrY.01-24.01.PAR1-PAR2.RV.unassigned-0000749.HC02666:33377381-34110135\n",
      ">chrY.01-24.01.PAR1-PAR2.RV.unassigned-0000749.HC02666:34383192-34912795\n",
      ">chrY.01-24.01.PAR1-PAR2.RV.unassigned-0000749.HC02666:35138021-35893284\n",
      ">chrY.01-24.01.PAR1-PAR2.RV.unassigned-0000749.HC02666:36339970-37096205\n",
      ">chrY.01-24.01.PAR1-PAR2.RV.unassigned-0000749.HC02666:37407521-41007274\n",
      ">chrY.01-24.01.PAR1-PAR2.RV.unassigned-0000749.HC02666:41767992-42287354\n",
      ">chrY.01-24.01.PAR1-PAR2.RV.unassigned-0000749.HC02666:42818264-43472664\n",
      ">chrY.01-24.01.PAR1-PAR2.RV.unassigned-0000749.HC02666:43863835-44601715\n",
      ">chrY.01-24.01.PAR1-PAR2.RV.unassigned-0000749.HC02666:45161407-45823708\n",
      ">chrY.01-24.01.PAR1-PAR2.RV.unassigned-0000749.HC02666:46379436-46767162\n",
      ">chrY.01-24.01.PAR1-PAR2.RV.unassigned-0000749.HC02666:47207863-47532463\n",
      ">chrY.01-24.01.PAR1-PAR2.RV.unassigned-0000749.HC02666:48004637-48401759\n",
      ">chrY.01-24.01.PAR1-PAR2.RV.unassigned-0000749.HC02666:49006976-49480376\n",
      ">chrY.01-24.01.PAR1-PAR2.RV.unassigned-0000749.HC02666:50167396-50569692\n",
      ">chrY.01-24.01.PAR1-PAR2.RV.unassigned-0000749.HC02666:52130780-52750340\n",
      ">chrY.01-24.01.PAR1-PAR2.RV.unassigned-0000749.HC02666:52911111-53440951\n",
      ">chrY.01-24.01.PAR1-PAR2.RV.unassigned-0000749.HC02666:53489177-53936393\n",
      ">chrY.01-24.01.PAR1-PAR2.RV.unassigned-0000749.HC02666:53959791-54319003\n",
      ">chrY.01-24.01.PAR1-PAR2.RV.unassigned-0000749.HC02666:54344471-54355242\n",
      ">chrY.01-24.01.PAR1-PAR2.RV.unassigned-0000749.HC02666:54375340-54385351\n",
      ">chrY.01-24.01.PAR1-PAR2.RV.unassigned-0000749.HC02666:54406553-54412951\n"
     ]
    }
   ],
   "source": [
    "with open(\"/home/mark/Desktop/chromosome_y/nonRepeatBlockSubBlocks/DYZ1_Blocks/HC02666_DYZ1blocks_sequences.fasta\") as file:\n",
    "    lines = file.readlines()\n",
    "    i=0\n",
    "    for line in lines:\n",
    "        if \">\" in line:\n",
    "            print(line.strip())"
   ]
  },
  {
   "cell_type": "markdown",
   "id": "db603998",
   "metadata": {},
   "source": [
    "## Read in Assembly Coordinate File"
   ]
  },
  {
   "cell_type": "code",
   "execution_count": 2,
   "id": "dde1f700",
   "metadata": {},
   "outputs": [
    {
     "data": {
      "text/html": [
       "<div>\n",
       "<style scoped>\n",
       "    .dataframe tbody tr th:only-of-type {\n",
       "        vertical-align: middle;\n",
       "    }\n",
       "\n",
       "    .dataframe tbody tr th {\n",
       "        vertical-align: top;\n",
       "    }\n",
       "\n",
       "    .dataframe thead th {\n",
       "        text-align: right;\n",
       "    }\n",
       "</style>\n",
       "<table border=\"1\" class=\"dataframe\">\n",
       "  <thead>\n",
       "    <tr style=\"text-align: right;\">\n",
       "      <th></th>\n",
       "      <th>Start</th>\n",
       "      <th>End</th>\n",
       "      <th>Portion</th>\n",
       "      <th>Contig_Header</th>\n",
       "    </tr>\n",
       "    <tr>\n",
       "      <th>Assembly</th>\n",
       "      <th></th>\n",
       "      <th></th>\n",
       "      <th></th>\n",
       "      <th></th>\n",
       "    </tr>\n",
       "  </thead>\n",
       "  <tbody>\n",
       "    <tr>\n",
       "      <th>T2T</th>\n",
       "      <td>27462682</td>\n",
       "      <td>27617806</td>\n",
       "      <td>other2_DYZ18</td>\n",
       "      <td>NaN</td>\n",
       "    </tr>\n",
       "    <tr>\n",
       "      <th>T2T</th>\n",
       "      <td>27617807</td>\n",
       "      <td>62123571</td>\n",
       "      <td>HET3_Yq</td>\n",
       "      <td>NaN</td>\n",
       "    </tr>\n",
       "    <tr>\n",
       "      <th>HG02666</th>\n",
       "      <td>28353027</td>\n",
       "      <td>28485325</td>\n",
       "      <td>other2_DYZ18</td>\n",
       "      <td>NaN</td>\n",
       "    </tr>\n",
       "    <tr>\n",
       "      <th>HG02666</th>\n",
       "      <td>28485325</td>\n",
       "      <td>54446525</td>\n",
       "      <td>HET3_Yq</td>\n",
       "      <td>NaN</td>\n",
       "    </tr>\n",
       "    <tr>\n",
       "      <th>HG00358</th>\n",
       "      <td>26322870</td>\n",
       "      <td>26529791</td>\n",
       "      <td>other2_DYZ18</td>\n",
       "      <td>NaN</td>\n",
       "    </tr>\n",
       "    <tr>\n",
       "      <th>HG00358</th>\n",
       "      <td>26529791</td>\n",
       "      <td>58568835</td>\n",
       "      <td>HET3_Yq</td>\n",
       "      <td>NaN</td>\n",
       "    </tr>\n",
       "    <tr>\n",
       "      <th>HG01890</th>\n",
       "      <td>28322351</td>\n",
       "      <td>28526630</td>\n",
       "      <td>other2_DYZ18</td>\n",
       "      <td>NaN</td>\n",
       "    </tr>\n",
       "    <tr>\n",
       "      <th>HG01890</th>\n",
       "      <td>28526630</td>\n",
       "      <td>46163349</td>\n",
       "      <td>HET3_Yq</td>\n",
       "      <td>NaN</td>\n",
       "    </tr>\n",
       "    <tr>\n",
       "      <th>HG01952</th>\n",
       "      <td>453468</td>\n",
       "      <td>619972</td>\n",
       "      <td>other2_DYZ18</td>\n",
       "      <td>NaN</td>\n",
       "    </tr>\n",
       "    <tr>\n",
       "      <th>HG01952</th>\n",
       "      <td>619972</td>\n",
       "      <td>23145755</td>\n",
       "      <td>HET3_Yq</td>\n",
       "      <td>NaN</td>\n",
       "    </tr>\n",
       "    <tr>\n",
       "      <th>HG01952_new</th>\n",
       "      <td>453468</td>\n",
       "      <td>619972</td>\n",
       "      <td>other2_DYZ18</td>\n",
       "      <td>chrY.21-24.01.AMPL7-PAR2.FW.unassigned-0010036...</td>\n",
       "    </tr>\n",
       "    <tr>\n",
       "      <th>HG01952_new</th>\n",
       "      <td>619972</td>\n",
       "      <td>23145755</td>\n",
       "      <td>HET3_Yq</td>\n",
       "      <td>chrY.21-24.01.AMPL7-PAR2.FW.unassigned-0010036...</td>\n",
       "    </tr>\n",
       "    <tr>\n",
       "      <th>HG01952_UNPLACED</th>\n",
       "      <td>0</td>\n",
       "      <td>54031</td>\n",
       "      <td>HET3_Yq_unplaced_1</td>\n",
       "      <td>chrY.23-23.01.HET3_Yq-HET3_Yq.RV.unassigned-00...</td>\n",
       "    </tr>\n",
       "    <tr>\n",
       "      <th>HG01106_new</th>\n",
       "      <td>477438</td>\n",
       "      <td>658580</td>\n",
       "      <td>other2_DYZ18</td>\n",
       "      <td>chrY.21-24.01.AMPL7-PAR2.FW.unassigned-0000976...</td>\n",
       "    </tr>\n",
       "    <tr>\n",
       "      <th>HG01106_new</th>\n",
       "      <td>658580</td>\n",
       "      <td>37863253</td>\n",
       "      <td>HET3_Y</td>\n",
       "      <td>chrY.21-24.01.AMPL7-PAR2.FW.unassigned-0000976...</td>\n",
       "    </tr>\n",
       "    <tr>\n",
       "      <th>HG02011_new</th>\n",
       "      <td>16990153</td>\n",
       "      <td>17162490</td>\n",
       "      <td>other2_DYZ18</td>\n",
       "      <td>chrY.09-24.01.HET1_centro-PAR2.FW.unassigned-0...</td>\n",
       "    </tr>\n",
       "    <tr>\n",
       "      <th>HG02011_new</th>\n",
       "      <td>17162490</td>\n",
       "      <td>40282069</td>\n",
       "      <td>HET3_Yq</td>\n",
       "      <td>chrY.09-24.01.HET1_centro-PAR2.FW.unassigned-0...</td>\n",
       "    </tr>\n",
       "    <tr>\n",
       "      <th>HG00358_new</th>\n",
       "      <td>26322870</td>\n",
       "      <td>26529793</td>\n",
       "      <td>other2_DYZ18</td>\n",
       "      <td>chrY.01-24.01.PAR1-PAR2.RV.unassigned-0001094....</td>\n",
       "    </tr>\n",
       "    <tr>\n",
       "      <th>HG00358_new</th>\n",
       "      <td>26529793</td>\n",
       "      <td>58568835</td>\n",
       "      <td>HET3_Yq</td>\n",
       "      <td>chrY.01-24.01.PAR1-PAR2.RV.unassigned-0001094....</td>\n",
       "    </tr>\n",
       "    <tr>\n",
       "      <th>HG01890_new</th>\n",
       "      <td>28322351</td>\n",
       "      <td>28526630</td>\n",
       "      <td>other2_DYZ18</td>\n",
       "      <td>chrY.01-24.01.PAR1-PAR2.RV.unassigned-0000376....</td>\n",
       "    </tr>\n",
       "    <tr>\n",
       "      <th>HG01890_new</th>\n",
       "      <td>28526630</td>\n",
       "      <td>46163349</td>\n",
       "      <td>HET3_Yq</td>\n",
       "      <td>chrY.01-24.01.PAR1-PAR2.RV.unassigned-0000376....</td>\n",
       "    </tr>\n",
       "    <tr>\n",
       "      <th>HC02666_newPilleProvided</th>\n",
       "      <td>28352767</td>\n",
       "      <td>28485067</td>\n",
       "      <td>other2_DYZ18</td>\n",
       "      <td>chrY.01-24.01.PAR1-PAR2.RV.unassigned-0000749....</td>\n",
       "    </tr>\n",
       "    <tr>\n",
       "      <th>HC02666_newPilleProvided</th>\n",
       "      <td>28485067</td>\n",
       "      <td>54442810</td>\n",
       "      <td>HET3_Yq</td>\n",
       "      <td>chrY.01-24.01.PAR1-PAR2.RV.unassigned-0000749....</td>\n",
       "    </tr>\n",
       "    <tr>\n",
       "      <th>HG01928_new</th>\n",
       "      <td>7974125</td>\n",
       "      <td>8132045</td>\n",
       "      <td>other2_DYZ18</td>\n",
       "      <td>chrY.17-23.01.AMPL6-HET3_Yq.RV.unassigned-0005...</td>\n",
       "    </tr>\n",
       "    <tr>\n",
       "      <th>HG01928_new</th>\n",
       "      <td>8132045</td>\n",
       "      <td>17187322</td>\n",
       "      <td>HET3_Yq_1</td>\n",
       "      <td>chrY.17-23.01.AMPL6-HET3_Yq.RV.unassigned-0005...</td>\n",
       "    </tr>\n",
       "    <tr>\n",
       "      <th>HG01928_new</th>\n",
       "      <td>0</td>\n",
       "      <td>14567088</td>\n",
       "      <td>HET3_Yq_2</td>\n",
       "      <td>chrY.23-24.01.HET3_Yq-PAR2.FW.unassigned-00085...</td>\n",
       "    </tr>\n",
       "    <tr>\n",
       "      <th>NA19317_new</th>\n",
       "      <td>27995731</td>\n",
       "      <td>28173848</td>\n",
       "      <td>other2_DYZ18</td>\n",
       "      <td>chrY.01-23.01.PAR1-HET3_Yq.RV.unassigned-00009...</td>\n",
       "    </tr>\n",
       "    <tr>\n",
       "      <th>NA19317_new</th>\n",
       "      <td>28173848</td>\n",
       "      <td>47080722</td>\n",
       "      <td>HET3_Yq_1</td>\n",
       "      <td>chrY.01-23.01.PAR1-HET3_Yq.RV.unassigned-00009...</td>\n",
       "    </tr>\n",
       "    <tr>\n",
       "      <th>NA19317_new</th>\n",
       "      <td>0</td>\n",
       "      <td>4090829</td>\n",
       "      <td>HET3_Yq_2</td>\n",
       "      <td>chrY.23-24.01.HET3_Yq-PAR2.RV.unassigned-00004...</td>\n",
       "    </tr>\n",
       "    <tr>\n",
       "      <th>NA19705_new</th>\n",
       "      <td>17821965</td>\n",
       "      <td>18000081</td>\n",
       "      <td>other2_DYZ18</td>\n",
       "      <td>chrY.09-23.01.HET1_centro-HET3_Yq.FW.unassigne...</td>\n",
       "    </tr>\n",
       "    <tr>\n",
       "      <th>NA19705_new</th>\n",
       "      <td>18000081</td>\n",
       "      <td>38050762</td>\n",
       "      <td>HET3_Yq_1</td>\n",
       "      <td>chrY.09-23.01.HET1_centro-HET3_Yq.FW.unassigne...</td>\n",
       "    </tr>\n",
       "    <tr>\n",
       "      <th>NA19705_new</th>\n",
       "      <td>0</td>\n",
       "      <td>4278674</td>\n",
       "      <td>HET3_Yq_2</td>\n",
       "      <td>chrY.23-24.01.HET3_Yq-PAR2.RV.unassigned-00001...</td>\n",
       "    </tr>\n",
       "    <tr>\n",
       "      <th>NA19347_new</th>\n",
       "      <td>16973325</td>\n",
       "      <td>17151443</td>\n",
       "      <td>other2_DYZ18</td>\n",
       "      <td>chrY.09-23.01.HET1_centro-HET3_Yq.RV.unassigne...</td>\n",
       "    </tr>\n",
       "    <tr>\n",
       "      <th>NA19347_new</th>\n",
       "      <td>17151443</td>\n",
       "      <td>28217775</td>\n",
       "      <td>HET3_Yq_1</td>\n",
       "      <td>chrY.09-23.01.HET1_centro-HET3_Yq.RV.unassigne...</td>\n",
       "    </tr>\n",
       "    <tr>\n",
       "      <th>NA19347_new</th>\n",
       "      <td>0</td>\n",
       "      <td>4152353</td>\n",
       "      <td>HET3_Yq_2</td>\n",
       "      <td>chrY.23-24.01.HET3_Yq-PAR2.FW.unassigned-00008...</td>\n",
       "    </tr>\n",
       "  </tbody>\n",
       "</table>\n",
       "</div>"
      ],
      "text/plain": [
       "                             Start       End             Portion  \\\n",
       "Assembly                                                           \n",
       "T2T                       27462682  27617806        other2_DYZ18   \n",
       "T2T                       27617807  62123571             HET3_Yq   \n",
       "HG02666                   28353027  28485325        other2_DYZ18   \n",
       "HG02666                   28485325  54446525             HET3_Yq   \n",
       "HG00358                   26322870  26529791        other2_DYZ18   \n",
       "HG00358                   26529791  58568835             HET3_Yq   \n",
       "HG01890                   28322351  28526630        other2_DYZ18   \n",
       "HG01890                   28526630  46163349             HET3_Yq   \n",
       "HG01952                     453468    619972        other2_DYZ18   \n",
       "HG01952                     619972  23145755             HET3_Yq   \n",
       "HG01952_new                 453468    619972        other2_DYZ18   \n",
       "HG01952_new                 619972  23145755             HET3_Yq   \n",
       "HG01952_UNPLACED                 0     54031  HET3_Yq_unplaced_1   \n",
       "HG01106_new                 477438    658580        other2_DYZ18   \n",
       "HG01106_new                 658580  37863253              HET3_Y   \n",
       "HG02011_new               16990153  17162490        other2_DYZ18   \n",
       "HG02011_new               17162490  40282069             HET3_Yq   \n",
       "HG00358_new               26322870  26529793        other2_DYZ18   \n",
       "HG00358_new               26529793  58568835             HET3_Yq   \n",
       "HG01890_new               28322351  28526630        other2_DYZ18   \n",
       "HG01890_new               28526630  46163349             HET3_Yq   \n",
       "HC02666_newPilleProvided  28352767  28485067        other2_DYZ18   \n",
       "HC02666_newPilleProvided  28485067  54442810             HET3_Yq   \n",
       "HG01928_new                7974125   8132045        other2_DYZ18   \n",
       "HG01928_new                8132045  17187322           HET3_Yq_1   \n",
       "HG01928_new                      0  14567088           HET3_Yq_2   \n",
       "NA19317_new               27995731  28173848        other2_DYZ18   \n",
       "NA19317_new               28173848  47080722           HET3_Yq_1   \n",
       "NA19317_new                      0   4090829           HET3_Yq_2   \n",
       "NA19705_new               17821965  18000081        other2_DYZ18   \n",
       "NA19705_new               18000081  38050762           HET3_Yq_1   \n",
       "NA19705_new                      0   4278674           HET3_Yq_2   \n",
       "NA19347_new               16973325  17151443        other2_DYZ18   \n",
       "NA19347_new               17151443  28217775           HET3_Yq_1   \n",
       "NA19347_new                      0   4152353           HET3_Yq_2   \n",
       "\n",
       "                                                              Contig_Header  \n",
       "Assembly                                                                     \n",
       "T2T                                                                     NaN  \n",
       "T2T                                                                     NaN  \n",
       "HG02666                                                                 NaN  \n",
       "HG02666                                                                 NaN  \n",
       "HG00358                                                                 NaN  \n",
       "HG00358                                                                 NaN  \n",
       "HG01890                                                                 NaN  \n",
       "HG01890                                                                 NaN  \n",
       "HG01952                                                                 NaN  \n",
       "HG01952                                                                 NaN  \n",
       "HG01952_new               chrY.21-24.01.AMPL7-PAR2.FW.unassigned-0010036...  \n",
       "HG01952_new               chrY.21-24.01.AMPL7-PAR2.FW.unassigned-0010036...  \n",
       "HG01952_UNPLACED          chrY.23-23.01.HET3_Yq-HET3_Yq.RV.unassigned-00...  \n",
       "HG01106_new               chrY.21-24.01.AMPL7-PAR2.FW.unassigned-0000976...  \n",
       "HG01106_new               chrY.21-24.01.AMPL7-PAR2.FW.unassigned-0000976...  \n",
       "HG02011_new               chrY.09-24.01.HET1_centro-PAR2.FW.unassigned-0...  \n",
       "HG02011_new               chrY.09-24.01.HET1_centro-PAR2.FW.unassigned-0...  \n",
       "HG00358_new               chrY.01-24.01.PAR1-PAR2.RV.unassigned-0001094....  \n",
       "HG00358_new               chrY.01-24.01.PAR1-PAR2.RV.unassigned-0001094....  \n",
       "HG01890_new               chrY.01-24.01.PAR1-PAR2.RV.unassigned-0000376....  \n",
       "HG01890_new               chrY.01-24.01.PAR1-PAR2.RV.unassigned-0000376....  \n",
       "HC02666_newPilleProvided  chrY.01-24.01.PAR1-PAR2.RV.unassigned-0000749....  \n",
       "HC02666_newPilleProvided  chrY.01-24.01.PAR1-PAR2.RV.unassigned-0000749....  \n",
       "HG01928_new               chrY.17-23.01.AMPL6-HET3_Yq.RV.unassigned-0005...  \n",
       "HG01928_new               chrY.17-23.01.AMPL6-HET3_Yq.RV.unassigned-0005...  \n",
       "HG01928_new               chrY.23-24.01.HET3_Yq-PAR2.FW.unassigned-00085...  \n",
       "NA19317_new               chrY.01-23.01.PAR1-HET3_Yq.RV.unassigned-00009...  \n",
       "NA19317_new               chrY.01-23.01.PAR1-HET3_Yq.RV.unassigned-00009...  \n",
       "NA19317_new               chrY.23-24.01.HET3_Yq-PAR2.RV.unassigned-00004...  \n",
       "NA19705_new               chrY.09-23.01.HET1_centro-HET3_Yq.FW.unassigne...  \n",
       "NA19705_new               chrY.09-23.01.HET1_centro-HET3_Yq.FW.unassigne...  \n",
       "NA19705_new               chrY.23-24.01.HET3_Yq-PAR2.RV.unassigned-00001...  \n",
       "NA19347_new               chrY.09-23.01.HET1_centro-HET3_Yq.RV.unassigne...  \n",
       "NA19347_new               chrY.09-23.01.HET1_centro-HET3_Yq.RV.unassigne...  \n",
       "NA19347_new               chrY.23-24.01.HET3_Yq-PAR2.FW.unassigned-00008...  "
      ]
     },
     "execution_count": 2,
     "metadata": {},
     "output_type": "execute_result"
    }
   ],
   "source": [
    "ACF = pd.read_csv(\"/home/mark/Desktop/chromosome_y/assemblies/assembly_coordinates.txt\", sep='\\t').set_index(\"Assembly\")\n",
    "ACF"
   ]
  },
  {
   "cell_type": "code",
   "execution_count": 11,
   "id": "1edc9647",
   "metadata": {},
   "outputs": [
    {
     "name": "stderr",
     "output_type": "stream",
     "text": [
      "100%|█████████████████████████████████| 87297/87297 [00:00<00:00, 456058.43it/s]\n"
     ]
    }
   ],
   "source": [
    "with open(\"/home/mark/Desktop/chromosome_y/assemblies/repeatmasker/T2T.chrY.fasta.out\", 'r') as file:\n",
    "    Lines = file.readlines()\n",
    "    myLines = []\n",
    "    lineNum = 0\n",
    "\n",
    "    with open(\"/home/mark/Desktop/chromosome_y/assemblies/repeatmasker/T2T.cleaned.out\", 'a+') as file2:\n",
    "        for line in tqdm(Lines): \n",
    "            goodLine = ' '.join(line.split())\n",
    "            if int(goodLine.split(\" \")[5]) > 27617807 and int(goodLine.split(\" \")[6]) < 62123571:\n",
    "                file2.write(goodLine+'\\n')\n",
    "            else:\n",
    "                continue\n",
    "    file2.close()\n",
    "        \n",
    "file.close()"
   ]
  },
  {
   "cell_type": "code",
   "execution_count": null,
   "id": "f1f86add",
   "metadata": {},
   "outputs": [],
   "source": [
    "HG002 = pd.read_csv(\"/home/mark/Desktop/chromosome_y/assemblies/repeatmasker/T2T.chrY.fasta.out\", sep='\\t', comment='#')\n",
    "HG002_Clean = HG002[(HG002['query_start']>=28352767) & (HG002['query_end']<=54442810)].copy()\n",
    "#HG02666_Clean.to_csv(\"/home/mark/Desktop/chromosome_y/assemblies/repeatmasker/postMay232022/cleaned/HC02666_RepeatMasker.tsv\", sep='\\t')"
   ]
  },
  {
   "cell_type": "markdown",
   "id": "7467f31c",
   "metadata": {},
   "source": [
    "## Read in RepeatMasker TSV and filter out only the DYZ18 and HET3 Yq regions"
   ]
  },
  {
   "cell_type": "markdown",
   "id": "293eacf5",
   "metadata": {},
   "source": [
    "## Fragmented Genomes"
   ]
  },
  {
   "cell_type": "code",
   "execution_count": 10,
   "id": "d470ce94",
   "metadata": {},
   "outputs": [
    {
     "name": "stdout",
     "output_type": "stream",
     "text": [
      "chrY.17-23.01.AMPL6-HET3_Yq.RV.unassigned-0005883.HG01928\n",
      "chrY.17-23.01.AMPL6-HET3_Yq.RV.unassigned-0005883.HG01928\n",
      "chrY.23-24.01.HET3_Yq-PAR2.FW.unassigned-0008584.HG01928\n"
     ]
    }
   ],
   "source": [
    "for x in ACF.loc['HG01928_new']['Contig_Header']:\n",
    "    print(x)"
   ]
  },
  {
   "cell_type": "code",
   "execution_count": 11,
   "id": "0974cd32",
   "metadata": {},
   "outputs": [
    {
     "name": "stdout",
     "output_type": "stream",
     "text": [
      "chrY.01-23.01.PAR1-HET3_Yq.RV.unassigned-0000904.NA19317\n",
      "chrY.01-23.01.PAR1-HET3_Yq.RV.unassigned-0000904.NA19317\n",
      "chrY.23-24.01.HET3_Yq-PAR2.RV.unassigned-0000495.NA19317\n"
     ]
    }
   ],
   "source": [
    "for x in ACF.loc['NA19317_new']['Contig_Header']:\n",
    "    print(x)"
   ]
  },
  {
   "cell_type": "code",
   "execution_count": 12,
   "id": "c0ee1378",
   "metadata": {},
   "outputs": [
    {
     "name": "stdout",
     "output_type": "stream",
     "text": [
      "chrY.09-23.01.HET1_centro-HET3_Yq.FW.unassigned-0001118.NA19705\n",
      "chrY.09-23.01.HET1_centro-HET3_Yq.FW.unassigned-0001118.NA19705\n",
      "chrY.23-24.01.HET3_Yq-PAR2.RV.unassigned-0000115.NA19705\n"
     ]
    }
   ],
   "source": [
    "for x in ACF.loc['NA19705_new']['Contig_Header']:\n",
    "    print(x)"
   ]
  },
  {
   "cell_type": "code",
   "execution_count": 13,
   "id": "a9d3ec3b",
   "metadata": {},
   "outputs": [
    {
     "name": "stdout",
     "output_type": "stream",
     "text": [
      "chrY.09-23.01.HET1_centro-HET3_Yq.RV.unassigned-0000258.NA19347\n",
      "chrY.09-23.01.HET1_centro-HET3_Yq.RV.unassigned-0000258.NA19347\n",
      "chrY.23-24.01.HET3_Yq-PAR2.FW.unassigned-0000876.NA19347\n"
     ]
    }
   ],
   "source": [
    "for x in ACF.loc['NA19347_new']['Contig_Header']:\n",
    "    print(x)"
   ]
  },
  {
   "cell_type": "code",
   "execution_count": 15,
   "id": "00e7ac5b",
   "metadata": {},
   "outputs": [],
   "source": [
    "HG01928 = pd.read_csv(\"/home/mark/Desktop/chromosome_y/assemblies/repeatmasker/postMay232022/Fragmented/HG01928.HIFIRW.ONTUL.na.chrY.matches.tsv\", sep='\\t', comment='#')\n",
    "HG01928_Clean1 = HG01928[(HG01928['query_start']>=7974125) & (HG01928['query_end']<=17187322)].copy()\n",
    "HG01928_Clean2 = HG01928[(HG01928['query_start']>=0) & (HG01928['query_end']<=14567088)].copy()\n",
    "\n",
    "#HG01928_Clean1.to_csv(\"/home/mark/Desktop/chromosome_y/assemblies/repeatmasker/postMay232022/Fragmented/cleaned/HG01928_RepeatMasker_part1.tsv\", sep='\\t')\n",
    "#HG01928_Clean2.to_csv(\"/home/mark/Desktop/chromosome_y/assemblies/repeatmasker/postMay232022/Fragmented/cleaned/HG01928_RepeatMasker_part2.tsv\", sep='\\t')"
   ]
  },
  {
   "cell_type": "code",
   "execution_count": 16,
   "id": "d55899ff",
   "metadata": {},
   "outputs": [],
   "source": [
    "NA19705 = pd.read_csv(\"/home/mark/Desktop/chromosome_y/assemblies/repeatmasker/postMay232022/Fragmented/NA19705.HIFIRW.ONTUL.na.chrY.matches.tsv\", sep='\\t', comment='#')\n",
    "NA19705_Clean1 = NA19705[(NA19705['query_start']>=17821965) & (NA19705['query_end']<=38050762)].copy()\n",
    "NA19705_Clean2 = NA19705[(NA19705['query_start']>=0) & (NA19705['query_end']<=4278674)].copy()\n",
    "\n",
    "#NA19705_Clean1.to_csv(\"/home/mark/Desktop/chromosome_y/assemblies/repeatmasker/postMay232022/Fragmented/cleaned/NA19705_RepeatMasker_part1.tsv\", sep='\\t')\n",
    "#NA19705_Clean2.to_csv(\"/home/mark/Desktop/chromosome_y/assemblies/repeatmasker/postMay232022/Fragmented/cleaned/NA19705_RepeatMasker_part2.tsv\", sep='\\t')"
   ]
  },
  {
   "cell_type": "code",
   "execution_count": 17,
   "id": "3da6d774",
   "metadata": {},
   "outputs": [],
   "source": [
    "NA19317 = pd.read_csv(\"/home/mark/Desktop/chromosome_y/assemblies/repeatmasker/postMay232022/Fragmented/NA19317.HIFIRW.ONTUL.na.chrY.matches.tsv\", sep='\\t', comment='#')\n",
    "NA19317_Clean1 = NA19317[(NA19317['query_start']>=27995731) & (NA19317['query_end']<=47080722)].copy()\n",
    "NA19317_Clean2 = NA19317[(NA19317['query_start']>=0) & (NA19317['query_end']<=4090829)].copy()\n",
    "\n",
    "#NA19317_Clean1.to_csv(\"/home/mark/Desktop/chromosome_y/assemblies/repeatmasker/postMay232022/Fragmented/cleaned/NA19317_RepeatMasker_part1.tsv\", sep='\\t')\n",
    "#NA19317_Clean2.to_csv(\"/home/mark/Desktop/chromosome_y/assemblies/repeatmasker/postMay232022/Fragmented/cleaned/NA19317_RepeatMasker_part2.tsv\", sep='\\t')"
   ]
  },
  {
   "cell_type": "code",
   "execution_count": 18,
   "id": "3c7af72c",
   "metadata": {},
   "outputs": [],
   "source": [
    "NA19347 = pd.read_csv(\"/home/mark/Desktop/chromosome_y/assemblies/repeatmasker/postMay232022/Fragmented/NA19347.HIFIRW.ONTUL.na.chrY.matches.tsv\", sep='\\t', comment='#')\n",
    "NA19347_Clean1 = NA19347[(NA19347['query_start']>=16973325) & (NA19347['query_end']<=28217775)].copy()\n",
    "NA19347_Clean2 = NA19347[(NA19347['query_start']>=0) & (NA19347['query_end']<=4152353)].copy()\n",
    "\n",
    "#NA19347_Clean1.to_csv(\"/home/mark/Desktop/chromosome_y/assemblies/repeatmasker/postMay232022/Fragmented/cleaned/NA19347_RepeatMasker_part1.tsv\", sep='\\t')\n",
    "#NA19347_Clean2.to_csv(\"/home/mark/Desktop/chromosome_y/assemblies/repeatmasker/postMay232022/Fragmented/cleaned/NA19347_RepeatMasker_part2.tsv\", sep='\\t')"
   ]
  },
  {
   "cell_type": "markdown",
   "id": "cb786692",
   "metadata": {},
   "source": [
    "## Complete Genomes"
   ]
  },
  {
   "cell_type": "code",
   "execution_count": 3,
   "id": "a3871c80",
   "metadata": {},
   "outputs": [
    {
     "name": "stdout",
     "output_type": "stream",
     "text": [
      "chrY.01-24.01.PAR1-PAR2.RV.unassigned-0000749.HC02666\n",
      "chrY.01-24.01.PAR1-PAR2.RV.unassigned-0000749.HC02666\n"
     ]
    }
   ],
   "source": [
    "for x in ACF.loc['HC02666_newPilleProvided']['Contig_Header']:\n",
    "    print(x)"
   ]
  },
  {
   "cell_type": "code",
   "execution_count": 20,
   "id": "e5285bc2",
   "metadata": {},
   "outputs": [
    {
     "name": "stdout",
     "output_type": "stream",
     "text": [
      "chrY.01-24.01.PAR1-PAR2.RV.unassigned-0001094.HG00358\n",
      "chrY.01-24.01.PAR1-PAR2.RV.unassigned-0001094.HG00358\n"
     ]
    }
   ],
   "source": [
    "for x in ACF.loc['HG00358_new']['Contig_Header']:\n",
    "    print(x)"
   ]
  },
  {
   "cell_type": "code",
   "execution_count": 13,
   "id": "a3058aa8",
   "metadata": {},
   "outputs": [
    {
     "name": "stdout",
     "output_type": "stream",
     "text": [
      "chrY.01-24.01.PAR1-PAR2.RV.unassigned-0000376.HG01890\n",
      "chrY.01-24.01.PAR1-PAR2.RV.unassigned-0000376.HG01890\n"
     ]
    }
   ],
   "source": [
    "for x in ACF.loc['HG01890_new']['Contig_Header']:\n",
    "    print(x)"
   ]
  },
  {
   "cell_type": "code",
   "execution_count": 10,
   "id": "0435d2a9",
   "metadata": {},
   "outputs": [
    {
     "name": "stdout",
     "output_type": "stream",
     "text": [
      "chrY.21-24.01.AMPL7-PAR2.FW.unassigned-0000976.HG01106\n",
      "chrY.21-24.01.AMPL7-PAR2.FW.unassigned-0000976.HG01106\n"
     ]
    }
   ],
   "source": [
    "for x in ACF.loc['HG01106_new']['Contig_Header']:\n",
    "    print(x)"
   ]
  },
  {
   "cell_type": "code",
   "execution_count": 11,
   "id": "c41f53b0",
   "metadata": {},
   "outputs": [
    {
     "name": "stdout",
     "output_type": "stream",
     "text": [
      "chrY.09-24.01.HET1_centro-PAR2.FW.unassigned-0000585.HG02011\n",
      "chrY.09-24.01.HET1_centro-PAR2.FW.unassigned-0000585.HG02011\n"
     ]
    }
   ],
   "source": [
    "for x in ACF.loc['HG02011_new']['Contig_Header']:\n",
    "    print(x)"
   ]
  },
  {
   "cell_type": "code",
   "execution_count": 12,
   "id": "fd6f3edd",
   "metadata": {},
   "outputs": [
    {
     "name": "stdout",
     "output_type": "stream",
     "text": [
      "chrY.21-24.01.AMPL7-PAR2.FW.unassigned-0010036.HG01952\n",
      "chrY.21-24.01.AMPL7-PAR2.FW.unassigned-0010036.HG01952\n"
     ]
    }
   ],
   "source": [
    "for x in ACF.loc['HG01952_new']['Contig_Header']:\n",
    "    print(x)"
   ]
  },
  {
   "cell_type": "code",
   "execution_count": 4,
   "id": "b3587f6f",
   "metadata": {},
   "outputs": [],
   "source": [
    "HG02666 = pd.read_csv(\"/home/mark/Desktop/chromosome_y/assemblies/repeatmasker/postMay232022/HC02666.HIFIRW.ONTUL.na.chrY.matches.tsv\", sep='\\t', comment='#')\n",
    "HG02666_Clean = HG02666[(HG02666['query_start']>=28352767) & (HG02666['query_end']<=54442810)].copy()\n",
    "#HG02666_Clean.to_csv(\"/home/mark/Desktop/chromosome_y/assemblies/repeatmasker/postMay232022/cleaned/HC02666_RepeatMasker.tsv\", sep='\\t')"
   ]
  },
  {
   "cell_type": "code",
   "execution_count": 21,
   "id": "2741fa89",
   "metadata": {},
   "outputs": [],
   "source": [
    "HG00358 = pd.read_csv(\"/home/mark/Desktop/chromosome_y/assemblies/repeatmasker/postMay232022/HG00358.HIFIRW.ONTUL.na.chrY.matches.tsv\", sep='\\t', comment='#')\n",
    "HG00358_Clean = HG00358[(HG00358['query_start']>=26322870) & (HG00358['query_end']<=58568835)].copy()\n",
    "#HG00358_Clean.to_csv(\"/home/mark/Desktop/chromosome_y/assemblies/repeatmasker/postMay232022/cleaned/HG00358_RepeatMasker.tsv\", sep='\\t')"
   ]
  },
  {
   "cell_type": "code",
   "execution_count": 12,
   "id": "897167fa",
   "metadata": {},
   "outputs": [],
   "source": [
    "HG01890 = pd.read_csv(\"/home/mark/Desktop/chromosome_y/assemblies/repeatmasker/postMay232022/HG01890.HIFIRW.ONTUL.na.chrY.matches.tsv\", sep='\\t', comment='#')\n",
    "HG01890_Clean = HG01890[(HG01890['query_start']>=28322351) & (HG01890['query_end']<=46163349)].copy()\n",
    "#HG01890_Clean.to_csv(\"/home/mark/Desktop/chromosome_y/assemblies/repeatmasker/postMay232022/cleaned/HG01890_RepeatMasker.tsv\", sep='\\t')"
   ]
  },
  {
   "cell_type": "code",
   "execution_count": 3,
   "id": "20792826",
   "metadata": {},
   "outputs": [],
   "source": [
    "#This is a new assembly of HG01952\n",
    "HG01952 = pd.read_csv(\"/home/mark/Desktop/chromosome_y/assemblies/repeatmasker/postMay232022/HG01952.HIFIRW.ONTUL.na.chrY.matches.tsv\", sep='\\t', comment='#')\n",
    "#HG01952_Clean = HG01952[(HG01952['query_start']>=453468) & (HG01952['query_end']<=23145755)].copy()\n",
    "#HG01952_Clean.to_csv(\"/home/mark/Desktop/chromosome_y/assemblies/repeatmasker/postMay232022/cleaned/HG01952_RepeatMasker.tsv\", sep='\\t')"
   ]
  },
  {
   "cell_type": "code",
   "execution_count": 4,
   "id": "29dd6988",
   "metadata": {},
   "outputs": [],
   "source": [
    "#This is a new assembly of HG01106\n",
    "HG01106 = pd.read_csv(\"/home/mark/Desktop/chromosome_y/assemblies/repeatmasker/postMay232022/HG01106.HIFIRW.ONTUL.na.chrY.matches.tsv\", sep='\\t', comment='#')\n",
    "#HG01106_Clean = HG01106[(HG01106['query_start']>=477438) & (HG01106['query_end']<=37863253)].copy()\n",
    "#HG01106_Clean.to_csv(\"/home/mark/Desktop/chromosome_y/assemblies/repeatmasker/postMay232022/cleaned/HG01106_RepeatMasker.tsv\", sep='\\t')"
   ]
  },
  {
   "cell_type": "code",
   "execution_count": 5,
   "id": "e2901981",
   "metadata": {},
   "outputs": [],
   "source": [
    "#This is a new assembly of HG02011\n",
    "HG02011 = pd.read_csv(\"/home/mark/Desktop/chromosome_y/assemblies/repeatmasker/postMay232022/HG02011.HIFIRW.ONTUL.na.chrY.matches.tsv\", sep='\\t', comment='#')\n",
    "#HG02011_Clean = HG02011[(HG02011['query_start']>=16990153) & (HG02011['query_end']<=40282069)].copy()\n",
    "#HG02011_Clean.to_csv(\"/home/mark/Desktop/chromosome_y/assemblies/repeatmasker/postMay232022/cleaned/HG02011_RepeatMasker.tsv\", sep='\\t')"
   ]
  },
  {
   "cell_type": "markdown",
   "id": "4fa38636",
   "metadata": {},
   "source": [
    "# Compare new to old"
   ]
  },
  {
   "cell_type": "code",
   "execution_count": 5,
   "id": "96e2ff46",
   "metadata": {},
   "outputs": [],
   "source": [
    "def compareRuns(oldFilePath, newFilePath, Coordinate, sampleName):\n",
    "    \n",
    "    old_Runs = []\n",
    "    with open(oldFilePath) as f:\n",
    "        Lines = f.readlines()\n",
    "        for line in Lines: \n",
    "\n",
    "            goodLine = ' '.join(line.split())\n",
    "            if int(goodLine.split(\" \")[6]) >= int(Coordinate):\n",
    "                old_Runs.append(str(goodLine.split(\" \")[6])+\"-\"+str(goodLine.split(\" \")[7])+\"-\"+str(goodLine.split(\" \")[10]))\n",
    "                \n",
    "    f.close()\n",
    "\n",
    "    new_Runs = []           \n",
    "    with open(newFilePath) as f:\n",
    "        Lines = f.readlines()\n",
    "        for line in Lines: \n",
    "\n",
    "            goodLine = ' '.join(line.split())\n",
    "            if int(goodLine.split(\" \")[6]) >= int(Coordinate):\n",
    "                new_Runs.append(str(goodLine.split(\" \")[6])+\"-\"+str(goodLine.split(\" \")[7])+\"-\"+str(goodLine.split(\" \")[10]))\n",
    "                \n",
    "    f.close()\n",
    "    \n",
    "    print(\"Test results for sample: \"+str(sampleName))\n",
    "    print(\"Total old genome repeats: \"+str(len(old_Runs)))\n",
    "    print(\"Total new genome repeats: \"+str(len(new_Runs)))\n",
    "    \n",
    "    tempList=[]\n",
    "    for i in old_Runs:\n",
    "        if i in new_Runs:\n",
    "            continue\n",
    "        else:\n",
    "            tempList.append(i)\n",
    "        \n",
    "    tempList2=[]\n",
    "    for i in new_Runs:\n",
    "        if i in old_Runs:\n",
    "            continue\n",
    "        else:\n",
    "            tempList2.append(i)\n",
    "        \n",
    "    print(\"There were \"+str(len(tempList))+\" repeats in the old repeatmasker that were not in the new repeatmasker.\")\n",
    "    print(\"There were \"+str(len(tempList2))+\" repeats in the new repeatmasker that were not in the old repeatmasker.\")"
   ]
  },
  {
   "cell_type": "code",
   "execution_count": 6,
   "id": "4627c2c5",
   "metadata": {},
   "outputs": [
    {
     "name": "stdout",
     "output_type": "stream",
     "text": [
      "Test results for sample: HC02666\n",
      "Total old genome repeats: 22401\n",
      "Total new genome repeats: 22098\n",
      "There were 22401 repeats in the old repeatmasker that were not in the new repeatmasker.\n",
      "There were 22098 repeats in the new repeatmasker that were not in the old repeatmasker.\n"
     ]
    }
   ],
   "source": [
    "#Cant be sure for this one since their lengths are different\n",
    "compareRuns('/home/mark/Desktop/chromosome_y/assemblies/repeatmasker/finalized/HC02666_final.txt','/home/mark/Desktop/chromosome_y/assemblies/repeatmasker/postMay232022/finalized/HC02666_finalized.txt',28526630, 'HC02666')"
   ]
  },
  {
   "cell_type": "code",
   "execution_count": 22,
   "id": "fbe186e7",
   "metadata": {},
   "outputs": [
    {
     "name": "stdout",
     "output_type": "stream",
     "text": [
      "Test results for sample: HG01890\n",
      "Total old genome repeats: 15818\n",
      "Total new genome repeats: 15818\n",
      "There were 0 repeats in the old repeatmasker that were not in the new repeatmasker.\n",
      "There were 0 repeats in the new repeatmasker that were not in the old repeatmasker.\n"
     ]
    }
   ],
   "source": [
    "compareRuns('/home/mark/Desktop/chromosome_y/assemblies/repeatmasker/finalized/HG01890_final.txt','/home/mark/Desktop/chromosome_y/assemblies/repeatmasker/postMay232022/finalized/HG01890_finalized.txt',28526630, 'HG01890')"
   ]
  },
  {
   "cell_type": "code",
   "execution_count": 23,
   "id": "1997cd9a",
   "metadata": {},
   "outputs": [
    {
     "name": "stdout",
     "output_type": "stream",
     "text": [
      "Test results for sample: HG00358\n",
      "Total old genome repeats: 26978\n",
      "Total new genome repeats: 26978\n",
      "There were 0 repeats in the old repeatmasker that were not in the new repeatmasker.\n",
      "There were 0 repeats in the new repeatmasker that were not in the old repeatmasker.\n"
     ]
    }
   ],
   "source": [
    "compareRuns('/home/mark/Desktop/chromosome_y/assemblies/repeatmasker/finalized/HG00358_final.txt','/home/mark/Desktop/chromosome_y/assemblies/repeatmasker/postMay232022/finalized/HG00358_finalized.txt',26529793, 'HG00358')"
   ]
  },
  {
   "cell_type": "code",
   "execution_count": 24,
   "id": "07ed15d7",
   "metadata": {},
   "outputs": [
    {
     "name": "stdout",
     "output_type": "stream",
     "text": [
      "Test results for sample: HG01952\n",
      "Total old genome repeats: 19902\n",
      "Total new genome repeats: 19902\n",
      "There were 0 repeats in the old repeatmasker that were not in the new repeatmasker.\n",
      "There were 0 repeats in the new repeatmasker that were not in the old repeatmasker.\n"
     ]
    }
   ],
   "source": [
    "compareRuns('/home/mark/Desktop/chromosome_y/assemblies/repeatmasker/finalized/HG01952_final.txt','/home/mark/Desktop/chromosome_y/assemblies/repeatmasker/postMay232022/finalized/HG01952_finalized.txt',619972, 'HG01952')"
   ]
  },
  {
   "cell_type": "code",
   "execution_count": 25,
   "id": "6e863937",
   "metadata": {},
   "outputs": [],
   "source": [
    "#T2T, HG020111, and HG01106 had no old genomes\n",
    "#HG02666 still waiting for SeqClasses Bed file to confirm"
   ]
  },
  {
   "cell_type": "code",
   "execution_count": null,
   "id": "2e4992ff",
   "metadata": {},
   "outputs": [],
   "source": []
  }
 ],
 "metadata": {
  "kernelspec": {
   "display_name": "Python 3 (ipykernel)",
   "language": "python",
   "name": "python3"
  },
  "language_info": {
   "codemirror_mode": {
    "name": "ipython",
    "version": 3
   },
   "file_extension": ".py",
   "mimetype": "text/x-python",
   "name": "python",
   "nbconvert_exporter": "python",
   "pygments_lexer": "ipython3",
   "version": "3.9.12"
  }
 },
 "nbformat": 4,
 "nbformat_minor": 5
}
