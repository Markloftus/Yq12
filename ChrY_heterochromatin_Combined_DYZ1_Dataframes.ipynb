{
 "cells": [
  {
   "cell_type": "code",
   "execution_count": 8,
   "id": "d9edad20",
   "metadata": {},
   "outputs": [],
   "source": [
    "%matplotlib inline\n",
    "import pandas as pd\n",
    "import matplotlib.pyplot as plt\n",
    "import numpy as np\n",
    "import itertools\n",
    "import seaborn as sns\n",
    "from os import walk\n",
    "from tqdm import tqdm\n",
    "import pysam"
   ]
  },
  {
   "cell_type": "markdown",
   "id": "140261dc",
   "metadata": {},
   "source": [
    "# Fragment Lengths"
   ]
  },
  {
   "cell_type": "code",
   "execution_count": 9,
   "id": "f8645d94",
   "metadata": {},
   "outputs": [],
   "source": [
    "HG02011_FragmentLength = pd.read_csv(\"/home/mark/Desktop/chromosome_y/DYZ1_Region_Analysis/HG02011_fragmentLengths.csv\")\n",
    "HC02666_FragmentLength = pd.read_csv(\"/home/mark/Desktop/chromosome_y/DYZ1_Region_Analysis/HC02666_fragmentLengths.csv\")\n",
    "HG002_FragmentLength = pd.read_csv(\"/home/mark/Desktop/chromosome_y/DYZ1_Region_Analysis/HG002_fragmentLengths.csv\")\n",
    "HG00358_FragmentLength = pd.read_csv(\"/home/mark/Desktop/chromosome_y/DYZ1_Region_Analysis/HG00358_fragmentLengths.csv\")\n",
    "HG01106_FragmentLength = pd.read_csv(\"/home/mark/Desktop/chromosome_y/DYZ1_Region_Analysis/HG01106_fragmentLengths.csv\")\n",
    "HG01890_FragmentLength = pd.read_csv(\"/home/mark/Desktop/chromosome_y/DYZ1_Region_Analysis/HG01890_fragmentLengths.csv\")\n",
    "HG01952_FragmentLength = pd.read_csv(\"/home/mark/Desktop/chromosome_y/DYZ1_Region_Analysis/HG01952_fragmentLengths.csv\")"
   ]
  },
  {
   "cell_type": "code",
   "execution_count": 11,
   "id": "5e8fed98",
   "metadata": {},
   "outputs": [
    {
     "data": {
      "text/html": [
       "<div>\n",
       "<style scoped>\n",
       "    .dataframe tbody tr th:only-of-type {\n",
       "        vertical-align: middle;\n",
       "    }\n",
       "\n",
       "    .dataframe tbody tr th {\n",
       "        vertical-align: top;\n",
       "    }\n",
       "\n",
       "    .dataframe thead th {\n",
       "        text-align: right;\n",
       "    }\n",
       "</style>\n",
       "<table border=\"1\" class=\"dataframe\">\n",
       "  <thead>\n",
       "    <tr style=\"text-align: right;\">\n",
       "      <th></th>\n",
       "      <th>SpacerBlock</th>\n",
       "      <th>Unnamed: 1</th>\n",
       "      <th>SpacerBlock.1</th>\n",
       "      <th>Length</th>\n",
       "      <th>Start</th>\n",
       "      <th>End</th>\n",
       "    </tr>\n",
       "  </thead>\n",
       "  <tbody>\n",
       "    <tr>\n",
       "      <th>1695</th>\n",
       "      <td>8</td>\n",
       "      <td>1695</td>\n",
       "      <td>8</td>\n",
       "      <td>2187</td>\n",
       "      <td>9641478</td>\n",
       "      <td>9643664</td>\n",
       "    </tr>\n",
       "    <tr>\n",
       "      <th>1696</th>\n",
       "      <td>8</td>\n",
       "      <td>1696</td>\n",
       "      <td>8</td>\n",
       "      <td>368</td>\n",
       "      <td>9643665</td>\n",
       "      <td>9644032</td>\n",
       "    </tr>\n",
       "    <tr>\n",
       "      <th>1697</th>\n",
       "      <td>8</td>\n",
       "      <td>1697</td>\n",
       "      <td>8</td>\n",
       "      <td>70</td>\n",
       "      <td>9644033</td>\n",
       "      <td>9644102</td>\n",
       "    </tr>\n",
       "    <tr>\n",
       "      <th>1698</th>\n",
       "      <td>8</td>\n",
       "      <td>1698</td>\n",
       "      <td>8</td>\n",
       "      <td>3</td>\n",
       "      <td>9644103</td>\n",
       "      <td>9644105</td>\n",
       "    </tr>\n",
       "  </tbody>\n",
       "</table>\n",
       "</div>"
      ],
      "text/plain": [
       "      SpacerBlock  Unnamed: 1  SpacerBlock.1  Length    Start      End\n",
       "1695            8        1695              8    2187  9641478  9643664\n",
       "1696            8        1696              8     368  9643665  9644032\n",
       "1697            8        1697              8      70  9644033  9644102\n",
       "1698            8        1698              8       3  9644103  9644105"
      ]
     },
     "execution_count": 11,
     "metadata": {},
     "output_type": "execute_result"
    }
   ],
   "source": [
    "HG01952_FragmentLength[HG01952_FragmentLength['SpacerBlock']==8]"
   ]
  },
  {
   "cell_type": "code",
   "execution_count": null,
   "id": "e9f91c42",
   "metadata": {},
   "outputs": [],
   "source": []
  },
  {
   "cell_type": "code",
   "execution_count": null,
   "id": "7dd82d92",
   "metadata": {},
   "outputs": [],
   "source": []
  },
  {
   "cell_type": "code",
   "execution_count": 7,
   "id": "23950864",
   "metadata": {},
   "outputs": [
    {
     "data": {
      "text/html": [
       "<div>\n",
       "<style scoped>\n",
       "    .dataframe tbody tr th:only-of-type {\n",
       "        vertical-align: middle;\n",
       "    }\n",
       "\n",
       "    .dataframe tbody tr th {\n",
       "        vertical-align: top;\n",
       "    }\n",
       "\n",
       "    .dataframe thead th {\n",
       "        text-align: right;\n",
       "    }\n",
       "</style>\n",
       "<table border=\"1\" class=\"dataframe\">\n",
       "  <thead>\n",
       "    <tr style=\"text-align: right;\">\n",
       "      <th></th>\n",
       "      <th>SpacerBlock</th>\n",
       "      <th>Unnamed: 1</th>\n",
       "      <th>SpacerBlock.1</th>\n",
       "      <th>Length</th>\n",
       "      <th>Start</th>\n",
       "      <th>End</th>\n",
       "    </tr>\n",
       "  </thead>\n",
       "  <tbody>\n",
       "    <tr>\n",
       "      <th>1423</th>\n",
       "      <td>6</td>\n",
       "      <td>1423</td>\n",
       "      <td>6</td>\n",
       "      <td>5722</td>\n",
       "      <td>34358919</td>\n",
       "      <td>34364640</td>\n",
       "    </tr>\n",
       "  </tbody>\n",
       "</table>\n",
       "</div>"
      ],
      "text/plain": [
       "      SpacerBlock  Unnamed: 1  SpacerBlock.1  Length     Start       End\n",
       "1423            6        1423              6    5722  34358919  34364640"
      ]
     },
     "execution_count": 7,
     "metadata": {},
     "output_type": "execute_result"
    }
   ],
   "source": [
    "HG01890_FragmentLength[HG01890_FragmentLength['SpacerBlock']==6]"
   ]
  },
  {
   "cell_type": "code",
   "execution_count": 22,
   "id": "443e5f9f",
   "metadata": {},
   "outputs": [
    {
     "name": "stdout",
     "output_type": "stream",
     "text": [
      "205830\n",
      "3\n"
     ]
    }
   ],
   "source": [
    "fragLengths = list(HG02011_FragmentLength['Length']) + list(HC02666_FragmentLength['Length']) + list(HG002_FragmentLength['Length']) +list(HG00358_FragmentLength['Length']) + list(HG01106_FragmentLength['Length']) + list(HG01890_FragmentLength['Length']) + list(HG01952_FragmentLength['Length'])\n",
    "print(max(fragLengths))\n",
    "print(min(fragLengths))"
   ]
  },
  {
   "cell_type": "markdown",
   "id": "ea2f8b19",
   "metadata": {},
   "source": [
    "# Consensus Kmer"
   ]
  },
  {
   "cell_type": "code",
   "execution_count": 2,
   "id": "5df22b49",
   "metadata": {},
   "outputs": [
    {
     "data": {
      "text/html": [
       "<div>\n",
       "<style scoped>\n",
       "    .dataframe tbody tr th:only-of-type {\n",
       "        vertical-align: middle;\n",
       "    }\n",
       "\n",
       "    .dataframe tbody tr th {\n",
       "        vertical-align: top;\n",
       "    }\n",
       "\n",
       "    .dataframe thead th {\n",
       "        text-align: right;\n",
       "    }\n",
       "</style>\n",
       "<table border=\"1\" class=\"dataframe\">\n",
       "  <thead>\n",
       "    <tr style=\"text-align: right;\">\n",
       "      <th></th>\n",
       "      <th>GATGG</th>\n",
       "      <th>GCGCT</th>\n",
       "      <th>GCTCG</th>\n",
       "      <th>CCATT</th>\n",
       "      <th>GGAAA</th>\n",
       "      <th>GCGCA</th>\n",
       "      <th>GTCCT</th>\n",
       "      <th>TTGAC</th>\n",
       "      <th>CTGTG</th>\n",
       "      <th>ACTGA</th>\n",
       "      <th>...</th>\n",
       "      <th>AAAGT</th>\n",
       "      <th>TCAGT</th>\n",
       "      <th>TCCAA</th>\n",
       "      <th>ACAAA</th>\n",
       "      <th>GCAGT</th>\n",
       "      <th>GTACA</th>\n",
       "      <th>TTGGG</th>\n",
       "      <th>TAGCG</th>\n",
       "      <th>AGGCC</th>\n",
       "      <th>GGCCT</th>\n",
       "    </tr>\n",
       "    <tr>\n",
       "      <th>Unnamed: 0</th>\n",
       "      <th></th>\n",
       "      <th></th>\n",
       "      <th></th>\n",
       "      <th></th>\n",
       "      <th></th>\n",
       "      <th></th>\n",
       "      <th></th>\n",
       "      <th></th>\n",
       "      <th></th>\n",
       "      <th></th>\n",
       "      <th></th>\n",
       "      <th></th>\n",
       "      <th></th>\n",
       "      <th></th>\n",
       "      <th></th>\n",
       "      <th></th>\n",
       "      <th></th>\n",
       "      <th></th>\n",
       "      <th></th>\n",
       "      <th></th>\n",
       "      <th></th>\n",
       "    </tr>\n",
       "  </thead>\n",
       "  <tbody>\n",
       "    <tr>\n",
       "      <th>Yqhet_3k1bp</th>\n",
       "      <td>0.000321</td>\n",
       "      <td>0.0</td>\n",
       "      <td>0.000000</td>\n",
       "      <td>0.0</td>\n",
       "      <td>0.003852</td>\n",
       "      <td>0.0</td>\n",
       "      <td>0.000000</td>\n",
       "      <td>0.000000</td>\n",
       "      <td>0.00000</td>\n",
       "      <td>0.002568</td>\n",
       "      <td>...</td>\n",
       "      <td>0.000642</td>\n",
       "      <td>0.00000</td>\n",
       "      <td>0.001284</td>\n",
       "      <td>0.000642</td>\n",
       "      <td>0.003210</td>\n",
       "      <td>0.000000</td>\n",
       "      <td>0.000321</td>\n",
       "      <td>0.0</td>\n",
       "      <td>0.0</td>\n",
       "      <td>0.0</td>\n",
       "    </tr>\n",
       "    <tr>\n",
       "      <th>DYZ18_Yq</th>\n",
       "      <td>0.000350</td>\n",
       "      <td>0.0</td>\n",
       "      <td>0.000000</td>\n",
       "      <td>0.0</td>\n",
       "      <td>0.004895</td>\n",
       "      <td>0.0</td>\n",
       "      <td>0.000000</td>\n",
       "      <td>0.000350</td>\n",
       "      <td>0.00035</td>\n",
       "      <td>0.001748</td>\n",
       "      <td>...</td>\n",
       "      <td>0.000000</td>\n",
       "      <td>0.00035</td>\n",
       "      <td>0.000699</td>\n",
       "      <td>0.000699</td>\n",
       "      <td>0.002448</td>\n",
       "      <td>0.000000</td>\n",
       "      <td>0.000350</td>\n",
       "      <td>0.0</td>\n",
       "      <td>0.0</td>\n",
       "      <td>0.0</td>\n",
       "    </tr>\n",
       "    <tr>\n",
       "      <th>DYZ1_Yq</th>\n",
       "      <td>0.000842</td>\n",
       "      <td>0.0</td>\n",
       "      <td>0.000281</td>\n",
       "      <td>0.0</td>\n",
       "      <td>0.008135</td>\n",
       "      <td>0.0</td>\n",
       "      <td>0.000281</td>\n",
       "      <td>0.001122</td>\n",
       "      <td>0.00000</td>\n",
       "      <td>0.000842</td>\n",
       "      <td>...</td>\n",
       "      <td>0.001122</td>\n",
       "      <td>0.00000</td>\n",
       "      <td>0.001964</td>\n",
       "      <td>0.000281</td>\n",
       "      <td>0.000561</td>\n",
       "      <td>0.000281</td>\n",
       "      <td>0.000000</td>\n",
       "      <td>0.0</td>\n",
       "      <td>0.0</td>\n",
       "      <td>0.0</td>\n",
       "    </tr>\n",
       "    <tr>\n",
       "      <th>Yqhet_2k7bp</th>\n",
       "      <td>0.001087</td>\n",
       "      <td>0.0</td>\n",
       "      <td>0.000362</td>\n",
       "      <td>0.0</td>\n",
       "      <td>0.005797</td>\n",
       "      <td>0.0</td>\n",
       "      <td>0.000362</td>\n",
       "      <td>0.000725</td>\n",
       "      <td>0.00000</td>\n",
       "      <td>0.000725</td>\n",
       "      <td>...</td>\n",
       "      <td>0.000362</td>\n",
       "      <td>0.00000</td>\n",
       "      <td>0.000725</td>\n",
       "      <td>0.000362</td>\n",
       "      <td>0.000725</td>\n",
       "      <td>0.000362</td>\n",
       "      <td>0.000000</td>\n",
       "      <td>0.0</td>\n",
       "      <td>0.0</td>\n",
       "      <td>0.0</td>\n",
       "    </tr>\n",
       "  </tbody>\n",
       "</table>\n",
       "<p>4 rows × 1012 columns</p>\n",
       "</div>"
      ],
      "text/plain": [
       "                GATGG  GCGCT     GCTCG  CCATT     GGAAA  GCGCA     GTCCT  \\\n",
       "Unnamed: 0                                                                 \n",
       "Yqhet_3k1bp  0.000321    0.0  0.000000    0.0  0.003852    0.0  0.000000   \n",
       "DYZ18_Yq     0.000350    0.0  0.000000    0.0  0.004895    0.0  0.000000   \n",
       "DYZ1_Yq      0.000842    0.0  0.000281    0.0  0.008135    0.0  0.000281   \n",
       "Yqhet_2k7bp  0.001087    0.0  0.000362    0.0  0.005797    0.0  0.000362   \n",
       "\n",
       "                TTGAC    CTGTG     ACTGA  ...     AAAGT    TCAGT     TCCAA  \\\n",
       "Unnamed: 0                                ...                                \n",
       "Yqhet_3k1bp  0.000000  0.00000  0.002568  ...  0.000642  0.00000  0.001284   \n",
       "DYZ18_Yq     0.000350  0.00035  0.001748  ...  0.000000  0.00035  0.000699   \n",
       "DYZ1_Yq      0.001122  0.00000  0.000842  ...  0.001122  0.00000  0.001964   \n",
       "Yqhet_2k7bp  0.000725  0.00000  0.000725  ...  0.000362  0.00000  0.000725   \n",
       "\n",
       "                ACAAA     GCAGT     GTACA     TTGGG  TAGCG  AGGCC  GGCCT  \n",
       "Unnamed: 0                                                                \n",
       "Yqhet_3k1bp  0.000642  0.003210  0.000000  0.000321    0.0    0.0    0.0  \n",
       "DYZ18_Yq     0.000699  0.002448  0.000000  0.000350    0.0    0.0    0.0  \n",
       "DYZ1_Yq      0.000281  0.000561  0.000281  0.000000    0.0    0.0    0.0  \n",
       "Yqhet_2k7bp  0.000362  0.000725  0.000362  0.000000    0.0    0.0    0.0  \n",
       "\n",
       "[4 rows x 1012 columns]"
      ]
     },
     "execution_count": 2,
     "metadata": {},
     "output_type": "execute_result"
    }
   ],
   "source": [
    "abundanceConsensus = pd.read_csv(\"/home/mark/Desktop/chromosome_y/centReferences/Reference_KMER_Profile.csv\").set_index(\"Unnamed: 0\")\n",
    "abundanceConsensus"
   ]
  },
  {
   "cell_type": "code",
   "execution_count": 3,
   "id": "d9ed1d45",
   "metadata": {},
   "outputs": [
    {
     "data": {
      "text/html": [
       "<div>\n",
       "<style scoped>\n",
       "    .dataframe tbody tr th:only-of-type {\n",
       "        vertical-align: middle;\n",
       "    }\n",
       "\n",
       "    .dataframe tbody tr th {\n",
       "        vertical-align: top;\n",
       "    }\n",
       "\n",
       "    .dataframe thead th {\n",
       "        text-align: right;\n",
       "    }\n",
       "</style>\n",
       "<table border=\"1\" class=\"dataframe\">\n",
       "  <thead>\n",
       "    <tr style=\"text-align: right;\">\n",
       "      <th>Unnamed: 0</th>\n",
       "      <th>Yqhet_3k1bp</th>\n",
       "      <th>DYZ18_Yq</th>\n",
       "      <th>DYZ1_Yq</th>\n",
       "      <th>Yqhet_2k7bp</th>\n",
       "    </tr>\n",
       "    <tr>\n",
       "      <th>Unnamed: 0</th>\n",
       "      <th></th>\n",
       "      <th></th>\n",
       "      <th></th>\n",
       "      <th></th>\n",
       "    </tr>\n",
       "  </thead>\n",
       "  <tbody>\n",
       "    <tr>\n",
       "      <th>Yqhet_3k1bp</th>\n",
       "      <td>0.0</td>\n",
       "      <td>0.0</td>\n",
       "      <td>0.0</td>\n",
       "      <td>0.0</td>\n",
       "    </tr>\n",
       "    <tr>\n",
       "      <th>DYZ18_Yq</th>\n",
       "      <td>0.0</td>\n",
       "      <td>0.0</td>\n",
       "      <td>0.0</td>\n",
       "      <td>0.0</td>\n",
       "    </tr>\n",
       "    <tr>\n",
       "      <th>DYZ1_Yq</th>\n",
       "      <td>0.0</td>\n",
       "      <td>0.0</td>\n",
       "      <td>0.0</td>\n",
       "      <td>0.0</td>\n",
       "    </tr>\n",
       "    <tr>\n",
       "      <th>Yqhet_2k7bp</th>\n",
       "      <td>0.0</td>\n",
       "      <td>0.0</td>\n",
       "      <td>0.0</td>\n",
       "      <td>0.0</td>\n",
       "    </tr>\n",
       "  </tbody>\n",
       "</table>\n",
       "</div>"
      ],
      "text/plain": [
       "Unnamed: 0   Yqhet_3k1bp  DYZ18_Yq  DYZ1_Yq  Yqhet_2k7bp\n",
       "Unnamed: 0                                              \n",
       "Yqhet_3k1bp          0.0       0.0      0.0          0.0\n",
       "DYZ18_Yq             0.0       0.0      0.0          0.0\n",
       "DYZ1_Yq              0.0       0.0      0.0          0.0\n",
       "Yqhet_2k7bp          0.0       0.0      0.0          0.0"
      ]
     },
     "execution_count": 3,
     "metadata": {},
     "output_type": "execute_result"
    }
   ],
   "source": [
    "from scipy.spatial import distance\n",
    "HeatmapDF = pd.DataFrame(index=abundanceConsensus.index, columns= abundanceConsensus.index).fillna(0.0)\n",
    "HeatmapDF"
   ]
  },
  {
   "cell_type": "code",
   "execution_count": 4,
   "id": "f89da096",
   "metadata": {},
   "outputs": [
    {
     "data": {
      "text/html": [
       "<div>\n",
       "<style scoped>\n",
       "    .dataframe tbody tr th:only-of-type {\n",
       "        vertical-align: middle;\n",
       "    }\n",
       "\n",
       "    .dataframe tbody tr th {\n",
       "        vertical-align: top;\n",
       "    }\n",
       "\n",
       "    .dataframe thead th {\n",
       "        text-align: right;\n",
       "    }\n",
       "</style>\n",
       "<table border=\"1\" class=\"dataframe\">\n",
       "  <thead>\n",
       "    <tr style=\"text-align: right;\">\n",
       "      <th>Unnamed: 0</th>\n",
       "      <th>Yqhet_3k1bp</th>\n",
       "      <th>DYZ18_Yq</th>\n",
       "      <th>DYZ1_Yq</th>\n",
       "      <th>Yqhet_2k7bp</th>\n",
       "    </tr>\n",
       "    <tr>\n",
       "      <th>Unnamed: 0</th>\n",
       "      <th></th>\n",
       "      <th></th>\n",
       "      <th></th>\n",
       "      <th></th>\n",
       "    </tr>\n",
       "  </thead>\n",
       "  <tbody>\n",
       "    <tr>\n",
       "      <th>Yqhet_3k1bp</th>\n",
       "      <td>1.000000</td>\n",
       "      <td>0.913407</td>\n",
       "      <td>0.616042</td>\n",
       "      <td>0.674951</td>\n",
       "    </tr>\n",
       "    <tr>\n",
       "      <th>DYZ18_Yq</th>\n",
       "      <td>0.913407</td>\n",
       "      <td>1.000000</td>\n",
       "      <td>0.605992</td>\n",
       "      <td>0.664576</td>\n",
       "    </tr>\n",
       "    <tr>\n",
       "      <th>DYZ1_Yq</th>\n",
       "      <td>0.616042</td>\n",
       "      <td>0.605992</td>\n",
       "      <td>1.000000</td>\n",
       "      <td>0.853436</td>\n",
       "    </tr>\n",
       "    <tr>\n",
       "      <th>Yqhet_2k7bp</th>\n",
       "      <td>0.674951</td>\n",
       "      <td>0.664576</td>\n",
       "      <td>0.853436</td>\n",
       "      <td>1.000000</td>\n",
       "    </tr>\n",
       "  </tbody>\n",
       "</table>\n",
       "</div>"
      ],
      "text/plain": [
       "Unnamed: 0   Yqhet_3k1bp  DYZ18_Yq   DYZ1_Yq  Yqhet_2k7bp\n",
       "Unnamed: 0                                               \n",
       "Yqhet_3k1bp     1.000000  0.913407  0.616042     0.674951\n",
       "DYZ18_Yq        0.913407  1.000000  0.605992     0.664576\n",
       "DYZ1_Yq         0.616042  0.605992  1.000000     0.853436\n",
       "Yqhet_2k7bp     0.674951  0.664576  0.853436     1.000000"
      ]
     },
     "execution_count": 4,
     "metadata": {},
     "output_type": "execute_result"
    }
   ],
   "source": [
    "for row in HeatmapDF.index:\n",
    "    for column in HeatmapDF.columns:\n",
    "        HeatmapDF.at[row,column] = 1- float(distance.braycurtis(list(abundanceConsensus.loc[row]), list(abundanceConsensus.loc[column])))\n",
    "HeatmapDF"
   ]
  },
  {
   "cell_type": "code",
   "execution_count": 5,
   "id": "f80d8fd7",
   "metadata": {},
   "outputs": [],
   "source": [
    "HeatmapDF.rename(index={'Yqhet_3k1bp':'3.1kbp', 'DYZ18_Yq':'DYZ18','DYZ1_Yq':'DYZ1', 'Yqhet_2k7bp':'2.7kbp' },columns={'Yqhet_3k1bp':'3.1kbp', 'DYZ18_Yq':'DYZ18','DYZ1_Yq':'DYZ1', 'Yqhet_2k7bp':'2.7kbp' }, inplace=True)"
   ]
  },
  {
   "cell_type": "code",
   "execution_count": 9,
   "id": "9c69f2d4",
   "metadata": {},
   "outputs": [
    {
     "data": {
      "image/png": "[encoded data removed]",
      "text/plain": [
       "<Figure size 800x600 with 2 Axes>"
      ]
     },
     "metadata": {},
     "output_type": "display_data"
    }
   ],
   "source": [
    "from matplotlib import rcParams\n",
    "plt.rcParams.update(plt.rcParamsDefault)\n",
    "rcParams['figure.figsize'] = 8,6\n",
    "sns.heatmap(HeatmapDF.loc[['DYZ18','3.1kbp','2.7kbp','DYZ1']], annot=True)\n",
    "plt.title(\"Repeat Kmer Abundance Similarity\")\n",
    "plt.xlabel(\"Repeat\")\n",
    "plt.ylabel(\"Repeat\")\n",
    "#plt.savefig(\"/home/mark/Desktop/chromosome_y/Images/Consensus_Sequence_Kmer_Similarity.jpg\", dpi=300, bbox_inches='tight')\n",
    "#plt.savefig(\"/home/mark/Desktop/chromosome_y/Images/Consensus_Sequence_Kmer_Similarity.pdf\", dpi=300, bbox_inches='tight')\n",
    "\n",
    "plt.show()"
   ]
  },
  {
   "cell_type": "code",
   "execution_count": 11,
   "id": "79b4402a",
   "metadata": {},
   "outputs": [
    {
     "data": {
      "text/html": [
       "<div>\n",
       "<style scoped>\n",
       "    .dataframe tbody tr th:only-of-type {\n",
       "        vertical-align: middle;\n",
       "    }\n",
       "\n",
       "    .dataframe tbody tr th {\n",
       "        vertical-align: top;\n",
       "    }\n",
       "\n",
       "    .dataframe thead th {\n",
       "        text-align: right;\n",
       "    }\n",
       "</style>\n",
       "<table border=\"1\" class=\"dataframe\">\n",
       "  <thead>\n",
       "    <tr style=\"text-align: right;\">\n",
       "      <th></th>\n",
       "      <th>AATGG</th>\n",
       "      <th>ATGGA</th>\n",
       "      <th>GAATG</th>\n",
       "      <th>GGAAT</th>\n",
       "      <th>TGGAA</th>\n",
       "      <th>TCGAA</th>\n",
       "      <th>CGAAT</th>\n",
       "      <th>GAATC</th>\n",
       "      <th>AATCG</th>\n",
       "      <th>ATCGA</th>\n",
       "      <th>...</th>\n",
       "      <th>CTATC</th>\n",
       "      <th>GAGTT</th>\n",
       "      <th>AGGAG</th>\n",
       "      <th>GGCTA</th>\n",
       "      <th>CAACC</th>\n",
       "      <th>GTAAC</th>\n",
       "      <th>CCGTT</th>\n",
       "      <th>TTCAG</th>\n",
       "      <th>GCACA</th>\n",
       "      <th>GGCCT</th>\n",
       "    </tr>\n",
       "    <tr>\n",
       "      <th>Unnamed: 0</th>\n",
       "      <th></th>\n",
       "      <th></th>\n",
       "      <th></th>\n",
       "      <th></th>\n",
       "      <th></th>\n",
       "      <th></th>\n",
       "      <th></th>\n",
       "      <th></th>\n",
       "      <th></th>\n",
       "      <th></th>\n",
       "      <th></th>\n",
       "      <th></th>\n",
       "      <th></th>\n",
       "      <th></th>\n",
       "      <th></th>\n",
       "      <th></th>\n",
       "      <th></th>\n",
       "      <th></th>\n",
       "      <th></th>\n",
       "      <th></th>\n",
       "      <th></th>\n",
       "    </tr>\n",
       "  </thead>\n",
       "  <tbody>\n",
       "    <tr>\n",
       "      <th>Yqhet_3k1bp</th>\n",
       "      <td>0.047191</td>\n",
       "      <td>0.043981</td>\n",
       "      <td>0.044944</td>\n",
       "      <td>0.045586</td>\n",
       "      <td>0.047191</td>\n",
       "      <td>0.009310</td>\n",
       "      <td>0.006742</td>\n",
       "      <td>0.012841</td>\n",
       "      <td>0.008989</td>\n",
       "      <td>0.008026</td>\n",
       "      <td>...</td>\n",
       "      <td>0.0</td>\n",
       "      <td>0.000963</td>\n",
       "      <td>0.002568</td>\n",
       "      <td>0.000321</td>\n",
       "      <td>0.000321</td>\n",
       "      <td>0.00000</td>\n",
       "      <td>0.0</td>\n",
       "      <td>0.0</td>\n",
       "      <td>0.0</td>\n",
       "      <td>0.0</td>\n",
       "    </tr>\n",
       "    <tr>\n",
       "      <th>DYZ18_Yq</th>\n",
       "      <td>0.046503</td>\n",
       "      <td>0.044056</td>\n",
       "      <td>0.044056</td>\n",
       "      <td>0.045804</td>\n",
       "      <td>0.047552</td>\n",
       "      <td>0.008741</td>\n",
       "      <td>0.006993</td>\n",
       "      <td>0.012587</td>\n",
       "      <td>0.008741</td>\n",
       "      <td>0.007692</td>\n",
       "      <td>...</td>\n",
       "      <td>0.0</td>\n",
       "      <td>0.001399</td>\n",
       "      <td>0.002448</td>\n",
       "      <td>0.000000</td>\n",
       "      <td>0.000000</td>\n",
       "      <td>0.00035</td>\n",
       "      <td>0.0</td>\n",
       "      <td>0.0</td>\n",
       "      <td>0.0</td>\n",
       "      <td>0.0</td>\n",
       "    </tr>\n",
       "    <tr>\n",
       "      <th>DYZ1_Yq</th>\n",
       "      <td>0.070687</td>\n",
       "      <td>0.069565</td>\n",
       "      <td>0.069285</td>\n",
       "      <td>0.068443</td>\n",
       "      <td>0.066480</td>\n",
       "      <td>0.016830</td>\n",
       "      <td>0.014025</td>\n",
       "      <td>0.012903</td>\n",
       "      <td>0.010659</td>\n",
       "      <td>0.010379</td>\n",
       "      <td>...</td>\n",
       "      <td>0.0</td>\n",
       "      <td>0.000000</td>\n",
       "      <td>0.000000</td>\n",
       "      <td>0.000000</td>\n",
       "      <td>0.000000</td>\n",
       "      <td>0.00000</td>\n",
       "      <td>0.0</td>\n",
       "      <td>0.0</td>\n",
       "      <td>0.0</td>\n",
       "      <td>0.0</td>\n",
       "    </tr>\n",
       "    <tr>\n",
       "      <th>Yqhet_2k7bp</th>\n",
       "      <td>0.066304</td>\n",
       "      <td>0.065217</td>\n",
       "      <td>0.064855</td>\n",
       "      <td>0.062681</td>\n",
       "      <td>0.063768</td>\n",
       "      <td>0.014130</td>\n",
       "      <td>0.012681</td>\n",
       "      <td>0.010507</td>\n",
       "      <td>0.009058</td>\n",
       "      <td>0.009420</td>\n",
       "      <td>...</td>\n",
       "      <td>0.0</td>\n",
       "      <td>0.000362</td>\n",
       "      <td>0.000362</td>\n",
       "      <td>0.000000</td>\n",
       "      <td>0.000000</td>\n",
       "      <td>0.00000</td>\n",
       "      <td>0.0</td>\n",
       "      <td>0.0</td>\n",
       "      <td>0.0</td>\n",
       "      <td>0.0</td>\n",
       "    </tr>\n",
       "  </tbody>\n",
       "</table>\n",
       "<p>4 rows × 1012 columns</p>\n",
       "</div>"
      ],
      "text/plain": [
       "                AATGG     ATGGA     GAATG     GGAAT     TGGAA     TCGAA  \\\n",
       "Unnamed: 0                                                                \n",
       "Yqhet_3k1bp  0.047191  0.043981  0.044944  0.045586  0.047191  0.009310   \n",
       "DYZ18_Yq     0.046503  0.044056  0.044056  0.045804  0.047552  0.008741   \n",
       "DYZ1_Yq      0.070687  0.069565  0.069285  0.068443  0.066480  0.016830   \n",
       "Yqhet_2k7bp  0.066304  0.065217  0.064855  0.062681  0.063768  0.014130   \n",
       "\n",
       "                CGAAT     GAATC     AATCG     ATCGA  ...  CTATC     GAGTT  \\\n",
       "Unnamed: 0                                           ...                    \n",
       "Yqhet_3k1bp  0.006742  0.012841  0.008989  0.008026  ...    0.0  0.000963   \n",
       "DYZ18_Yq     0.006993  0.012587  0.008741  0.007692  ...    0.0  0.001399   \n",
       "DYZ1_Yq      0.014025  0.012903  0.010659  0.010379  ...    0.0  0.000000   \n",
       "Yqhet_2k7bp  0.012681  0.010507  0.009058  0.009420  ...    0.0  0.000362   \n",
       "\n",
       "                AGGAG     GGCTA     CAACC    GTAAC  CCGTT  TTCAG  GCACA  GGCCT  \n",
       "Unnamed: 0                                                                      \n",
       "Yqhet_3k1bp  0.002568  0.000321  0.000321  0.00000    0.0    0.0    0.0    0.0  \n",
       "DYZ18_Yq     0.002448  0.000000  0.000000  0.00035    0.0    0.0    0.0    0.0  \n",
       "DYZ1_Yq      0.000000  0.000000  0.000000  0.00000    0.0    0.0    0.0    0.0  \n",
       "Yqhet_2k7bp  0.000362  0.000000  0.000000  0.00000    0.0    0.0    0.0    0.0  \n",
       "\n",
       "[4 rows x 1012 columns]"
      ]
     },
     "execution_count": 11,
     "metadata": {},
     "output_type": "execute_result"
    }
   ],
   "source": [
    "abundanceConsensus.loc[:, abundanceConsensus.loc[['DYZ1_Yq']].max().sort_values(ascending=False).index]"
   ]
  },
  {
   "cell_type": "code",
   "execution_count": 29,
   "id": "c89253c0",
   "metadata": {},
   "outputs": [
    {
     "data": {
      "text/plain": [
       "0.9134073791377184"
      ]
     },
     "execution_count": 29,
     "metadata": {},
     "output_type": "execute_result"
    }
   ],
   "source": [
    "1- float(distance.braycurtis(list(abundanceConsensus.loc['Yqhet_3k1bp']), list(abundanceConsensus.loc['DYZ18_Yq'])))"
   ]
  },
  {
   "cell_type": "code",
   "execution_count": 31,
   "id": "a3b48a9e",
   "metadata": {},
   "outputs": [
    {
     "data": {
      "text/plain": [
       "0.6645763656633212"
      ]
     },
     "execution_count": 31,
     "metadata": {},
     "output_type": "execute_result"
    }
   ],
   "source": [
    "1- float(distance.braycurtis(list(abundanceConsensus.loc['Yqhet_2k7bp']), list(abundanceConsensus.loc['DYZ18_Yq'])))"
   ]
  },
  {
   "cell_type": "code",
   "execution_count": 32,
   "id": "364a95ae",
   "metadata": {},
   "outputs": [
    {
     "data": {
      "text/plain": [
       "0.6749511480214949"
      ]
     },
     "execution_count": 32,
     "metadata": {},
     "output_type": "execute_result"
    }
   ],
   "source": [
    "1- float(distance.braycurtis(list(abundanceConsensus.loc['Yqhet_3k1bp']), list(abundanceConsensus.loc['Yqhet_2k7bp'])))"
   ]
  },
  {
   "cell_type": "code",
   "execution_count": 30,
   "id": "15b4738f",
   "metadata": {},
   "outputs": [
    {
     "data": {
      "text/plain": [
       "0.6160423593929747"
      ]
     },
     "execution_count": 30,
     "metadata": {},
     "output_type": "execute_result"
    }
   ],
   "source": [
    "1- float(distance.braycurtis(list(abundanceConsensus.loc['Yqhet_3k1bp']), list(abundanceConsensus.loc['DYZ1_Yq'])))"
   ]
  },
  {
   "cell_type": "code",
   "execution_count": 33,
   "id": "3bdd2f88",
   "metadata": {},
   "outputs": [
    {
     "data": {
      "text/plain": [
       "0.8534361851332404"
      ]
     },
     "execution_count": 33,
     "metadata": {},
     "output_type": "execute_result"
    }
   ],
   "source": [
    "1- float(distance.braycurtis(list(abundanceConsensus.loc['Yqhet_2k7bp']), list(abundanceConsensus.loc['DYZ1_Yq'])))"
   ]
  },
  {
   "cell_type": "code",
   "execution_count": 34,
   "id": "3e8343ac",
   "metadata": {},
   "outputs": [
    {
     "data": {
      "text/plain": [
       "0.6059921144773874"
      ]
     },
     "execution_count": 34,
     "metadata": {},
     "output_type": "execute_result"
    }
   ],
   "source": [
    "1- float(distance.braycurtis(list(abundanceConsensus.loc['DYZ18_Yq']), list(abundanceConsensus.loc['DYZ1_Yq'])))"
   ]
  },
  {
   "cell_type": "markdown",
   "id": "9bd292c5",
   "metadata": {},
   "source": [
    "# Fragments"
   ]
  },
  {
   "cell_type": "code",
   "execution_count": 3,
   "id": "edb5b811",
   "metadata": {},
   "outputs": [],
   "source": [
    "HC02666_frags = pd.read_csv(\"/home/mark/Desktop/chromosome_y/DYZ1_Region_Analysis/HC02666_fragmentLengths.csv\")\n",
    "HG01890_frags = pd.read_csv(\"/home/mark/Desktop/chromosome_y/DYZ1_Region_Analysis/HG01890_fragmentLengths.csv\")\n",
    "HG00358_frags = pd.read_csv(\"/home/mark/Desktop/chromosome_y/DYZ1_Region_Analysis/HG00358_fragmentLengths.csv\")\n",
    "HG01952_frags = pd.read_csv(\"/home/mark/Desktop/chromosome_y/DYZ1_Region_Analysis/HG01952_fragmentLengths.csv\")\n",
    "HG02011_frags = pd.read_csv(\"/home/mark/Desktop/chromosome_y/DYZ1_Region_Analysis/HG02011_fragmentLengths.csv\")\n",
    "HG01106_frags = pd.read_csv(\"/home/mark/Desktop/chromosome_y/DYZ1_Region_Analysis/HG01106_fragmentLengths.csv\")\n",
    "HG002_frags = pd.read_csv(\"/home/mark/Desktop/chromosome_y/DYZ1_Region_Analysis/HG002_fragmentLengths.csv\")"
   ]
  },
  {
   "cell_type": "code",
   "execution_count": 83,
   "id": "d9ef33cd",
   "metadata": {},
   "outputs": [
    {
     "name": "stdout",
     "output_type": "stream",
     "text": [
      "24\n",
      "204300\n",
      "24\n",
      "205830\n",
      "3\n",
      "165411\n",
      "24\n",
      "154943\n",
      "5\n",
      "180048\n",
      "25\n",
      "154032\n",
      "25\n",
      "131969\n"
     ]
    }
   ],
   "source": [
    "print(np.min(HG01890_frags['Length']))\n",
    "print(np.max(HG01890_frags['Length']))\n",
    "print(np.min(HG00358_frags['Length']))\n",
    "print(np.max(HG00358_frags['Length']))\n",
    "print(np.min(HG01952_frags['Length']))\n",
    "print(np.max(HG01952_frags['Length']))\n",
    "print(np.min(HG02011_frags['Length']))\n",
    "print(np.max(HG02011_frags['Length']))\n",
    "print(np.min(HG01106_frags['Length']))\n",
    "print(np.max(HG01106_frags['Length']))\n",
    "print(np.min(HG002_frags['Length']))\n",
    "print(np.max(HG002_frags['Length']))\n",
    "print(np.min(HC02666_frags['Length']))\n",
    "print(np.max(HC02666_frags['Length']))"
   ]
  },
  {
   "cell_type": "code",
   "execution_count": 79,
   "id": "60fbfe12",
   "metadata": {
    "scrolled": true
   },
   "outputs": [
    {
     "name": "stdout",
     "output_type": "stream",
     "text": [
      "Counter({3569: 342, 3574: 301, 3564: 275, 3559: 250, 3549: 242, 3544: 238, 3554: 218, 3534: 180, 3539: 178, 3584: 171, 3579: 157, 3529: 112, 3519: 104, 3589: 92, 3558: 84, 3543: 84, 3553: 84, 3548: 84, 3563: 65, 3524: 64, 3568: 56, 3573: 54, 3533: 47, 3594: 45, 819: 34, 3514: 33, 3578: 30, 3518: 29, 3538: 28, 3557: 24, 3583: 24, 1505: 19, 3599: 18, 3503: 18, 3523: 15, 3509: 15, 3588: 14, 3593: 14, 3540: 14, 790: 14, 3513: 13, 3565: 13, 2695: 13, 2666: 13, 3504: 11, 3585: 11, 3580: 11, 3575: 11, 7137: 11, 3604: 10, 3562: 10, 2059: 10, 3535: 9, 3528: 9, 3542: 9, 3572: 9, 3551: 9, 3550: 9, 3508: 8, 3567: 8, 3547: 8, 3498: 7, 1891: 7, 3552: 7, 3570: 7, 1495: 7, 3068: 7, 2685: 7, 3520: 6, 3546: 6, 289: 6, 3537: 6, 3587: 6, 3577: 6, 3609: 6, 3582: 6, 565: 6, 7093: 5, 2661: 5, 5772: 5, 844: 5, 3555: 5, 1070: 5, 2061: 5, 2717: 5, 1114: 4, 3515: 4, 1638: 4, 3522: 4, 290: 4, 3619: 4, 820: 4, 3179: 4, 7107: 4, 5547: 4, 7158: 4, 1397: 4, 5562: 4, 2074: 4, 7156: 4, 3530: 4, 3053: 4, 3492: 4, 7127: 4, 3046: 4, 2700: 4, 2259: 4, 2254: 4, 2007: 3, 2834: 3, 3246: 3, 905: 3, 2850: 3, 7088: 3, 3560: 3, 3499: 3, 7108: 3, 3119: 3, 3603: 3, 3113: 3, 740: 3, 7122: 3, 2054: 3, 2720: 3, 2157: 3, 7142: 3, 2029: 3, 2039: 3, 4728: 3, 2363: 3, 2064: 3, 2459: 3, 2710: 3, 3109: 3, 6028: 3, 6038: 3, 2704: 3, 2699: 3, 2978: 3, 205: 3, 3479: 3, 3136: 2, 3121: 2, 3131: 2, 180: 2, 7222: 2, 7037: 2, 3605: 2, 3483: 2, 3487: 2, 3468: 2, 1868: 2, 1623: 2, 1896: 2, 2709: 2, 1643: 2, 7138: 2, 3517: 2, 7113: 2, 7123: 2, 3494: 2, 964: 2, 2848: 2, 135: 2, 3484: 2, 3482: 2, 3512: 2, 3285: 2, 5429: 2, 1684: 2, 2729: 2, 3527: 2, 1903: 2, 1420: 2, 3654: 2, 3063: 2, 9336: 2, 3194: 2, 5552: 2, 3099: 2, 2819: 2, 3058: 2, 1424: 2, 3489: 2, 5777: 2, 7133: 2, 2705: 2, 919: 2, 2649: 2, 3478: 2, 1085: 2, 3590: 2, 7148: 2, 2646: 2, 3556: 2, 1480: 2, 2504: 2, 3118: 2, 2155: 2, 2069: 2, 3746: 2, 2749: 2, 3814: 2, 3493: 2, 5752: 2, 2959: 2, 5770: 2, 2690: 2, 920: 2, 2422: 2, 25: 2, 11686: 1, 103649: 1, 5427: 1, 10444: 1, 1109: 1, 2027: 1, 2026: 1, 2017: 1, 4229: 1, 3111: 1, 41554: 1, 8513: 1, 2921: 1, 50290: 1, 9293: 1, 14472: 1, 3092: 1, 131969: 1, 3906: 1, 12448: 1, 2770: 1, 14433: 1, 7053: 1, 566: 1, 2973: 1, 1395: 1, 2139: 1, 1819: 1, 5191: 1, 1666: 1, 1661: 1, 805: 1, 1658: 1, 3467: 1, 2294: 1, 160: 1, 8821: 1, 6022: 1, 7082: 1, 10692: 1, 5242: 1, 1901: 1, 40248: 1, 3318: 1, 7028: 1, 5798: 1, 7038: 1, 3469: 1, 7058: 1, 7048: 1, 2543: 1, 2594: 1, 1417: 1, 3767: 1, 3241: 1, 3525: 1, 3490: 1, 2882: 1, 2110: 1, 3477: 1, 2653: 1, 2619: 1, 2648: 1, 2339: 1, 3007: 1, 2389: 1, 2875: 1, 2830: 1, 2805: 1, 2845: 1, 3414: 1, 3443: 1, 2802: 1, 7047: 1, 3280: 1, 3290: 1, 3270: 1, 6023: 1, 3571: 1, 7071: 1, 2406: 1, 3639: 1, 2149: 1, 3114: 1, 1908: 1, 2129: 1, 1385: 1, 2169: 1, 10651: 1, 5571: 1, 3653: 1, 2724: 1, 2744: 1, 4485: 1, 1740: 1, 3576: 1, 3566: 1, 2676: 1, 7094: 1, 10644: 1, 7090: 1, 3255: 1, 5748: 1, 834: 1, 2359: 1, 3532: 1, 2128: 1, 3268: 1, 260: 1, 2123: 1, 3363: 1, 3602: 1, 5537: 1, 3038: 1, 1414: 1, 2133: 1, 7153: 1, 1801: 1, 2374: 1, 4150: 1, 3057: 1, 2715: 1, 895: 1, 2644: 1, 1510: 1, 2044: 1, 5542: 1, 1540: 1, 2473: 1, 3600: 1, 7178: 1, 7103: 1, 3541: 1, 3488: 1, 2478: 1, 2671: 1, 4718: 1, 2361: 1, 3615: 1, 7097: 1, 3013: 1, 3009: 1, 3454: 1, 1382: 1, 2049: 1, 791: 1, 1300: 1, 3545: 1, 280: 1, 3269: 1, 6037: 1, 3012: 1, 3502: 1, 7147: 1, 7078: 1, 10681: 1, 7132: 1, 818: 1, 7086: 1, 3054: 1, 6193: 1, 2624: 1, 7118: 1, 3354: 1, 5300: 1, 3344: 1, 3359: 1, 760: 1, 2794: 1, 2559: 1, 2809: 1, 2769: 1, 2779: 1, 1144: 1, 2415: 1, 2867: 1, 5773: 1, 5802: 1, 3324: 1, 7131: 1, 950: 1, 2584: 1, 965: 1, 2609: 1, 564: 1, 2994: 1, 568: 1, 5679: 1, 50923: 1, 1963: 1, 36689: 1, 56397: 1, 6635: 1, 3496: 1, 8124: 1, 788: 1, 3644: 1, 3507: 1, 151: 1})\n",
      "Counter({3569: 221, 3549: 176, 3554: 174, 3559: 164, 3564: 157, 3574: 137, 3544: 127, 3539: 119, 3534: 116, 3529: 78, 3584: 67, 3579: 63, 3568: 57, 3553: 53, 3524: 51, 3573: 51, 3558: 51, 3548: 50, 3519: 46, 3578: 41, 3563: 39, 3557: 36, 3533: 35, 3514: 35, 3589: 34, 3543: 28, 3583: 25, 3528: 16, 3588: 15, 3594: 14, 3518: 13, 3523: 13, 3538: 13, 566: 12, 3599: 12, 3552: 12, 3562: 12, 3565: 12, 819: 11, 3493: 11, 3508: 10, 3604: 10, 2661: 10, 2695: 10, 3570: 9, 3515: 9, 3572: 9, 3513: 8, 3545: 8, 3575: 8, 3560: 8, 790: 8, 1415: 7, 3550: 7, 3503: 7, 1719: 7, 3542: 7, 995: 7, 740: 7, 3509: 6, 3512: 6, 3603: 6, 3499: 6, 3571: 6, 290: 6, 3535: 6, 800: 6, 24: 6, 3507: 6, 260: 5, 3629: 5, 3504: 5, 3598: 5, 2840: 5, 2830: 5, 3547: 5, 2569: 5, 3687: 5, 3555: 5, 7137: 5, 3522: 5, 3314: 4, 2973: 4, 3084: 4, 3600: 4, 3498: 4, 3540: 4, 3593: 4, 2850: 4, 3567: 4, 3556: 4, 920: 4, 3577: 4, 2656: 4, 3527: 4, 2159: 3, 2129: 3, 3489: 3, 2958: 3, 3094: 3, 2968: 3, 3099: 3, 3532: 3, 1159: 3, 2369: 3, 2909: 3, 2044: 3, 1505: 3, 3530: 3, 2829: 3, 4706: 3, 2019: 3, 3053: 3, 5772: 3, 2061: 3, 3494: 3, 3488: 3, 3089: 3, 950: 3, 3484: 3, 2709: 3, 1384: 2, 2953: 2, 7068: 2, 1379: 2, 2119: 2, 3613: 2, 565: 2, 3520: 2, 1638: 2, 1891: 2, 2212: 2, 1332: 2, 2131: 2, 3505: 2, 2848: 2, 2389: 2, 2845: 2, 2384: 2, 2815: 2, 3468: 2, 3561: 2, 3109: 2, 2644: 2, 3537: 2, 7122: 2, 3114: 2, 2596: 2, 2591: 2, 2676: 2, 1550: 2, 3582: 2, 5557: 2, 7098: 2, 7118: 2, 1180: 2, 7063: 2, 3104: 2, 3634: 2, 2675: 2, 2671: 2, 135: 2, 1424: 2, 2128: 2, 2804: 2, 2819: 2, 2700: 2, 3068: 2, 1731: 2, 1828: 2, 2217: 2, 1337: 2, 2710: 2, 3628: 2, 2427: 2, 2594: 2, 2579: 2, 788: 2, 2717: 2, 204300: 1, 2007: 1, 7310: 1, 31114: 1, 3101: 1, 3096: 1, 172380: 1, 7607: 1, 3525: 1, 1899: 1, 2134: 1, 5363: 1, 7088: 1, 7083: 1, 2155: 1, 7073: 1, 7112: 1, 7102: 1, 2379: 1, 2179: 1, 3472: 1, 2786: 1, 3467: 1, 3517: 1, 1500: 1, 2059: 1, 3502: 1, 25: 1, 1890: 1, 1623: 1, 5089: 1, 2294: 1, 160: 1, 6188: 1, 2855: 1, 7158: 1, 2034: 1, 5104: 1, 7103: 1, 3158: 1, 395: 1, 32057: 1, 3546: 1, 20668: 1, 2715: 1, 785: 1, 2761: 1, 3521: 1, 1001: 1, 2885: 1, 1417: 1, 8468: 1, 3510: 1, 2834: 1, 3526: 1, 7033: 1, 2349: 1, 5186: 1, 4704: 1, 4726: 1, 2394: 1, 6394: 1, 2847: 1, 2364: 1, 2820: 1, 3438: 1, 2805: 1, 1665: 1, 1883: 1, 2564: 1, 2562: 1, 3694: 1, 3684: 1, 2479: 1, 280: 1, 3267: 1, 2649: 1, 3536: 1, 7108: 1, 3134: 1, 3118: 1, 1549: 1, 14211: 1, 3654: 1, 1903: 1, 3073: 1, 5787: 1, 4524: 1, 3269: 1, 3284: 1, 10681: 1, 7095: 1, 7126: 1, 5546: 1, 6387: 1, 8621: 1, 7113: 1, 5547: 1, 5722: 1, 5782: 1, 1120: 1, 1130: 1, 2674: 1, 14276: 1, 3590: 1, 3585: 1, 2634: 1, 2764: 1, 110: 1, 3413: 1, 3414: 1, 3429: 1, 986: 1, 5376: 1, 9956: 1, 5732: 1, 2685: 1, 3531: 1, 5542: 1, 4501: 1, 10657: 1, 3052: 1, 2903: 1, 1389: 1, 2185: 1, 3103: 1, 2681: 1, 1868: 1, 10616: 1, 10690: 1, 3775: 1, 3063: 1, 5774: 1, 844: 1, 2705: 1, 834: 1, 2896: 1, 820: 1, 2729: 1, 2694: 1, 780: 1, 2759: 1, 3037: 1, 5056: 1, 14253: 1, 1901: 1, 5226: 1, 3048: 1, 5061: 1, 3105: 1, 3058: 1, 7077: 1, 3619: 1, 3608: 1, 2669: 1, 3054: 1, 1674: 1, 1875: 1, 6871: 1, 7888: 1, 2809: 1, 2794: 1, 3551: 1, 5792: 1, 3224: 1, 3264: 1, 2410: 1, 2415: 1, 1434: 1, 1427: 1, 2113: 1, 3609: 1, 2589: 1, 965: 1, 568: 1, 21323: 1, 14137: 1, 7069: 1, 56478: 1, 35333: 1, 6634: 1, 15134: 1, 2684: 1, 2714: 1, 2704: 1, 2716: 1, 4303: 1, 555: 1, 2949: 1, 151: 1})\n",
      "Counter({3569: 401, 3549: 368, 3564: 348, 3554: 333, 3559: 311, 3574: 254, 3544: 229, 3539: 190, 3534: 186, 3579: 183, 3584: 164, 3548: 145, 3529: 130, 3573: 105, 3558: 96, 3568: 94, 3543: 86, 3553: 83, 3524: 72, 3533: 70, 3519: 67, 3563: 67, 3538: 67, 3578: 60, 3589: 57, 3583: 46, 2695: 41, 3594: 36, 819: 32, 3514: 28, 3528: 21, 3518: 18, 3557: 18, 3599: 14, 3504: 13, 3537: 13, 3572: 13, 3562: 13, 834: 13, 3523: 13, 5772: 13, 3508: 12, 3577: 12, 3575: 11, 3588: 11, 3593: 11, 1424: 11, 3532: 10, 3550: 10, 3053: 10, 3604: 9, 3547: 9, 3509: 9, 844: 9, 3068: 9, 2217: 9, 3552: 8, 3513: 8, 2666: 8, 1495: 8, 1901: 8, 1663: 8, 1891: 7, 1638: 7, 2850: 7, 3567: 7, 3580: 7, 2128: 7, 290: 7, 3503: 6, 3530: 6, 3603: 6, 3598: 6, 1505: 6, 305: 6, 2710: 6, 3570: 6, 3555: 5, 2671: 5, 740: 5, 7113: 5, 565: 5, 3033: 5, 2061: 5, 3535: 5, 2978: 5, 1332: 5, 289: 4, 7123: 4, 920: 4, 5771: 4, 5547: 4, 2824: 4, 2054: 4, 7098: 4, 5727: 4, 3052: 4, 7127: 4, 7108: 4, 3239: 4, 2133: 4, 3525: 4, 3585: 4, 3243: 4, 3499: 4, 566: 4, 2044: 4, 1870: 4, 1674: 4, 1114: 3, 2017: 3, 3498: 3, 7132: 3, 7093: 3, 2829: 3, 3542: 3, 3556: 3, 3560: 3, 3571: 3, 739: 3, 3255: 3, 1878: 3, 7152: 3, 5542: 3, 5552: 3, 5777: 3, 7137: 3, 2667: 3, 2132: 3, 2694: 3, 259: 3, 3047: 3, 2059: 3, 10700: 3, 1725: 3, 3609: 3, 3264: 3, 3619: 3, 3254: 3, 965: 3, 2699: 2, 3111: 2, 3520: 2, 3545: 2, 915: 2, 2614: 2, 7088: 2, 395: 2, 3303: 2, 3328: 2, 3342: 2, 3515: 2, 7138: 2, 3468: 2, 2835: 2, 2845: 2, 2649: 2, 3582: 2, 1415: 2, 3659: 2, 1903: 2, 820: 2, 3484: 2, 7128: 2, 2809: 2, 7107: 2, 6891: 2, 3541: 2, 7097: 2, 3517: 2, 2680: 2, 3289: 2, 2129: 2, 3119: 2, 3497: 2, 1404: 2, 2149: 2, 7103: 2, 9772: 2, 2908: 2, 4048: 2, 3614: 2, 2681: 2, 2626: 2, 3512: 2, 2661: 2, 2676: 2, 2674: 2, 2064: 2, 995: 2, 2549: 2, 2948: 2, 7114: 2, 7117: 2, 6217: 2, 1412: 2, 3889: 2, 2569: 2, 3608: 2, 2968: 2, 1666: 2, 7116: 2, 7126: 2, 3259: 2, 1898: 2, 3043: 2, 3618: 2, 3489: 2, 2988: 2, 7091: 2, 7136: 2, 7140: 2, 7120: 2, 7090: 2, 2079: 2, 1485: 2, 2599: 2, 205830: 1, 1118: 1, 2023: 1, 1109: 1, 2022: 1, 3121: 1, 4229: 1, 3107: 1, 1997: 1, 38421: 1, 26971: 1, 130242: 1, 12398: 1, 20001: 1, 7148: 1, 7222: 1, 9066: 1, 2713: 1, 805: 1, 7038: 1, 7073: 1, 3527: 1, 1159: 1, 2384: 1, 3482: 1, 3457: 1, 3467: 1, 945: 1, 4134: 1, 2294: 1, 160: 1, 6166: 1, 3163: 1, 3158: 1, 10587: 1, 45443: 1, 10600: 1, 10598: 1, 14115: 1, 4969: 1, 785: 1, 2786: 1, 3522: 1, 5803: 1, 2533: 1, 964: 1, 2834: 1, 7069: 1, 7070: 1, 2789: 1, 725: 1, 2884: 1, 2529: 1, 2334: 1, 2887: 1, 5849: 1, 135: 1, 5713: 1, 789: 1, 3916: 1, 1719: 1, 2394: 1, 2840: 1, 2830: 1, 2805: 1, 6403: 1, 2811: 1, 2827: 1, 3859: 1, 2554: 1, 3290: 1, 2879: 1, 4268: 1, 6199: 1, 3109: 1, 3099: 1, 3108: 1, 2654: 1, 2624: 1, 1926: 1, 1633: 1, 3576: 1, 3526: 1, 2779: 1, 3382: 1, 3179: 1, 3114: 1, 3654: 1, 1918: 1, 2729: 1, 2744: 1, 3062: 1, 4530: 1, 1534: 1, 2007: 1, 4426: 1, 3419: 1, 3304: 1, 3057: 1, 3058: 1, 9331: 1, 4034: 1, 2433: 1, 7142: 1, 7106: 1, 2804: 1, 4445: 1, 5774: 1, 1425: 1, 5747: 1, 3531: 1, 2131: 1, 1417: 1, 7163: 1, 2672: 1, 7077: 1, 3586: 1, 2808: 1, 2690: 1, 2963: 1, 7124: 1, 5392: 1, 2465: 1, 7083: 1, 5902: 1, 7061: 1, 7036: 1, 2715: 1, 2167: 1, 1376: 1, 3274: 1, 3536: 1, 10701: 1, 10677: 1, 6222: 1, 1990: 1, 5532: 1, 3244: 1, 10696: 1, 10686: 1, 10695: 1, 7109: 1, 5367: 1, 6428: 1, 1004: 1, 6173: 1, 2720: 1, 5357: 1, 1105: 1, 1893: 1, 5823: 1, 7118: 1, 1010: 1, 6188: 1, 5358: 1, 3469: 1, 1100: 1, 3628: 1, 7122: 1, 5062: 1, 1731: 1, 1823: 1, 3124: 1, 3100: 1, 1357: 1, 1419: 1, 7133: 1, 7147: 1, 1442: 1, 2936: 1, 598: 1, 8961: 1, 2705: 1, 6183: 1, 3565: 1, 5061: 1, 905: 1, 2644: 1, 800: 1, 24: 1, 3464: 1, 3281: 1, 1347: 1, 1337: 1, 1342: 1, 1906: 1, 1658: 1, 5373: 1, 3054: 1, 7096: 1, 4314: 1, 5802: 1, 2422: 1, 25: 1, 9469: 1, 4484: 1, 1434: 1, 2574: 1, 568: 1, 10734: 1, 30239: 1, 65057: 1, 14039: 1, 5503: 1, 788: 1, 2724: 1, 3506: 1, 3494: 1, 555: 1, 2959: 1, 3501: 1, 151: 1})\n",
      "Counter({3569: 237, 3564: 234, 3554: 230, 3549: 212, 3559: 202, 3574: 171, 3544: 138, 3534: 128, 3539: 114, 3579: 110, 3548: 89, 3529: 80, 3519: 71, 3568: 65, 3584: 65, 3558: 55, 3573: 51, 3553: 49, 3563: 48, 3533: 47, 3524: 46, 3578: 38, 3589: 37, 3538: 36, 3543: 33, 3514: 25, 3528: 22, 2695: 21, 819: 16, 3504: 13, 3567: 13, 3594: 13, 1901: 13, 1891: 12, 3518: 11, 1638: 11, 3562: 11, 7113: 11, 3577: 10, 3557: 10, 3588: 10, 2217: 10, 1663: 10, 3537: 9, 3552: 9, 3593: 9, 3503: 8, 3523: 8, 3583: 8, 3599: 8, 3498: 7, 2850: 7, 3509: 6, 3515: 6, 3547: 6, 3513: 6, 834: 6, 290: 6, 3522: 5, 3532: 5, 905: 5, 3053: 5, 844: 5, 5552: 5, 5772: 5, 1658: 5, 3043: 5, 2694: 4, 1114: 4, 3520: 4, 995: 4, 3560: 4, 7118: 4, 3619: 4, 5547: 4, 2128: 4, 3614: 4, 5061: 4, 2017: 3, 7222: 3, 3508: 3, 3572: 3, 3535: 3, 3484: 3, 289: 3, 7108: 3, 3550: 3, 3555: 3, 920: 3, 3585: 3, 1415: 3, 3419: 3, 740: 3, 3604: 3, 1424: 3, 7132: 3, 3068: 3, 2061: 3, 565: 3, 2963: 3, 305: 3, 3499: 3, 1342: 3, 2710: 3, 3575: 3, 5757: 3, 1495: 3, 566: 3, 2644: 3, 1332: 3, 2988: 3, 1870: 3, 1674: 3, 3126: 2, 3121: 2, 3107: 2, 3580: 2, 3530: 2, 3489: 2, 7073: 2, 3527: 2, 7102: 2, 7138: 2, 7088: 2, 3303: 2, 4954: 2, 784: 2, 2781: 2, 5803: 2, 3342: 2, 3517: 2, 2774: 2, 725: 2, 2829: 2, 2845: 2, 3203: 2, 320: 2, 2574: 2, 3556: 2, 2619: 2, 3114: 2, 1926: 2, 1633: 2, 3609: 2, 7117: 2, 3654: 2, 820: 2, 5771: 2, 7122: 2, 3595: 2, 3263: 2, 25: 2, 7128: 2, 3540: 2, 5368: 2, 3542: 2, 1505: 2, 3598: 2, 5660: 2, 800: 2, 24: 2, 1357: 2, 3823: 2, 1906: 2, 3494: 2, 7107: 2, 2054: 2, 10695: 2, 7101: 2, 1419: 2, 7112: 2, 3269: 2, 7137: 2, 5608: 2, 14231: 2, 14241: 2, 3479: 2, 3507: 2, 2869: 2, 670: 2, 7091: 2, 3603: 2, 1387: 2, 2182: 2, 3525: 2, 165411: 1, 1118: 1, 2018: 1, 1109: 1, 2027: 1, 2007: 1, 4229: 1, 40418: 1, 30100: 1, 18657: 1, 129595: 1, 12453: 1, 2760: 1, 19976: 1, 10909: 1, 5378: 1, 8130: 1, 9066: 1, 5466: 1, 44: 1, 1848: 1, 1159: 1, 2384: 1, 3483: 1, 3482: 1, 3472: 1, 2564: 1, 1608: 1, 3467: 1, 945: 1, 4134: 1, 2294: 1, 160: 1, 7161: 1, 3163: 1, 395: 1, 10582: 1, 47843: 1, 10600: 1, 3318: 1, 3328: 1, 17648: 1, 3341: 1, 4962: 1, 785: 1, 2776: 1, 2834: 1, 3814: 1, 3246: 1, 3079: 1, 17644: 1, 2884: 1, 2529: 1, 7148: 1, 2334: 1, 2887: 1, 5848: 1, 135: 1, 5713: 1, 789: 1, 7465: 1, 4706: 1, 1719: 1, 2394: 1, 6389: 1, 2830: 1, 3468: 1, 2805: 1, 2735: 1, 2855: 1, 2811: 1, 2827: 1, 3511: 1, 3859: 1, 2554: 1, 2524: 1, 3290: 1, 6013: 1, 2879: 1, 4277: 1, 6043: 1, 8847: 1, 10692: 1, 3109: 1, 3108: 1, 2639: 1, 6223: 1, 2649: 1, 3404: 1, 4441: 1, 7136: 1, 3526: 1, 3184: 1, 3194: 1, 1913: 1, 1903: 1, 2729: 1, 2744: 1, 3062: 1, 4524: 1, 4426: 1, 3273: 1, 3561: 1, 2809: 1, 3064: 1, 3058: 1, 9326: 1, 8079: 1, 2433: 1, 1878: 1, 3590: 1, 2664: 1, 2671: 1, 2824: 1, 5568: 1, 3255: 1, 5747: 1, 3582: 1, 6881: 1, 3551: 1, 3541: 1, 7545: 1, 2724: 1, 5777: 1, 2131: 1, 1417: 1, 1110: 1, 2474: 1, 1628: 1, 1956: 1, 7168: 1, 2069: 1, 2064: 1, 7103: 1, 2666: 1, 2651: 1, 2187: 1, 368: 1, 70: 1, 3: 1, 5712: 1, 1725: 1, 10701: 1, 7127: 1, 2133: 1, 7114: 1, 7151: 1, 6237: 1, 2892: 1, 3238: 1, 3032: 1, 6458: 1, 6813: 1, 1731: 1, 1813: 1, 3124: 1, 3119: 1, 14263: 1, 6867: 1, 3319: 1, 3608: 1, 6188: 1, 2804: 1, 765: 1, 2044: 1, 1100: 1, 1898: 1, 7116: 1, 7126: 1, 2968: 1, 8741: 1, 7123: 1, 3038: 1, 3474: 1, 3123: 1, 3512: 1, 3100: 1, 1337: 1, 5243: 1, 3613: 1, 2720: 1, 3618: 1, 3264: 1, 275: 1, 3274: 1, 3284: 1, 7147: 1, 5557: 1, 5546: 1, 3244: 1, 3570: 1, 2973: 1, 2149: 1, 5522: 1, 14236: 1, 17795: 1, 1341: 1, 2993: 1, 3040: 1, 3259: 1, 3054: 1, 7135: 1, 10687: 1, 2074: 1, 1485: 1, 5802: 1, 2422: 1, 5975: 1, 4483: 1, 1434: 1, 11357: 1, 14137: 1, 17662: 1, 1963: 1, 82737: 1, 14039: 1, 5513: 1, 3506: 1, 555: 1, 2949: 1, 790: 1, 2716: 1, 3501: 1, 151: 1})\n",
      "Counter({3569: 329, 3549: 292, 3559: 285, 3564: 259, 3554: 231, 3544: 186, 3574: 168, 3539: 133, 3534: 133, 3579: 131, 3548: 98, 3529: 97, 3568: 86, 3558: 83, 3573: 76, 3533: 74, 3563: 72, 3584: 67, 3524: 63, 3553: 54, 819: 54, 3519: 52, 3538: 51, 3543: 49, 3589: 35, 2695: 34, 3583: 33, 3578: 31, 3528: 29, 3514: 26, 3518: 22, 3562: 18, 3567: 17, 3593: 17, 3504: 16, 3588: 16, 3572: 15, 1424: 15, 3513: 15, 2061: 15, 3053: 14, 3547: 13, 3599: 13, 1891: 12, 3523: 12, 3594: 12, 1638: 11, 2680: 11, 3537: 10, 3556: 10, 3499: 10, 3542: 9, 2128: 9, 5547: 9, 5772: 9, 2850: 8, 3550: 8, 3509: 7, 3557: 7, 7127: 7, 5542: 7, 2694: 7, 3604: 6, 3508: 6, 3552: 6, 3545: 6, 565: 6, 3503: 5, 3522: 5, 3318: 5, 3561: 5, 844: 5, 3540: 5, 1731: 5, 2699: 4, 3520: 4, 7137: 4, 834: 4, 3536: 4, 3582: 4, 2054: 4, 3551: 4, 3532: 4, 305: 4, 7112: 4, 2149: 4, 1114: 3, 7068: 3, 7078: 3, 3498: 3, 2399: 3, 3328: 3, 785: 3, 3560: 3, 2835: 3, 3565: 3, 3521: 3, 3555: 3, 3580: 3, 5747: 3, 3598: 3, 3541: 3, 5546: 3, 2671: 3, 25: 3, 7117: 3, 1725: 3, 290: 3, 2883: 3, 273: 3, 1495: 3, 1901: 3, 2670: 3, 2586: 3, 3530: 3, 965: 3, 2017: 2, 3107: 2, 7222: 2, 6208: 2, 3527: 2, 1623: 2, 4134: 2, 7128: 2, 10600: 2, 3489: 2, 2339: 2, 2887: 2, 1719: 2, 6389: 2, 3462: 2, 4680: 2, 2830: 2, 2845: 2, 2812: 2, 3484: 2, 2735: 2, 3614: 2, 3535: 2, 7123: 2, 920: 2, 3114: 2, 7147: 2, 3585: 2, 740: 2, 5552: 2, 7107: 2, 1505: 2, 2646: 2, 10692: 2, 2963: 2, 2133: 2, 7119: 2, 3052: 2, 3244: 2, 3239: 2, 3033: 2, 3497: 2, 566: 2, 3119: 2, 4833: 2, 3566: 2, 3261: 2, 5522: 2, 3577: 2, 5061: 2, 1838: 2, 1868: 2, 2719: 2, 1870: 2, 1674: 2, 1434: 2, 2589: 2, 788: 2, 2714: 2, 3506: 2, 790: 2, 16301: 1, 154943: 1, 1118: 1, 1591: 1, 1109: 1, 2022: 1, 3121: 1, 3131: 1, 2037: 1, 3126: 1, 4229: 1, 2002: 1, 35305: 1, 30147: 1, 104965: 1, 10677: 1, 9669: 1, 19996: 1, 3575: 1, 7063: 1, 3488: 1, 1159: 1, 3467: 1, 1886: 1, 1608: 1, 945: 1, 2294: 1, 160: 1, 8795: 1, 3163: 1, 395: 1, 14082: 1, 21306: 1, 10599: 1, 3363: 1, 10586: 1, 4969: 1, 2771: 1, 3342: 1, 36349: 1, 7067: 1, 6866: 1, 3327: 1, 14155: 1, 4947: 1, 2751: 1, 3189: 1, 7074: 1, 14125: 1, 2774: 1, 725: 1, 2884: 1, 2519: 1, 7143: 1, 5848: 1, 2805: 1, 6403: 1, 2811: 1, 2827: 1, 3270: 1, 289: 1, 7153: 1, 3144: 1, 1936: 1, 2863: 1, 3109: 1, 3099: 1, 4266: 1, 2619: 1, 2649: 1, 4436: 1, 3404: 1, 7146: 1, 3595: 1, 7150: 1, 2641: 1, 2651: 1, 2794: 1, 2118: 1, 5537: 1, 7096: 1, 5521: 1, 5777: 1, 2131: 1, 1417: 1, 7118: 1, 2666: 1, 3470: 1, 1699: 1, 868: 1, 2248: 1, 3331: 1, 2050: 1, 2701: 1, 4661: 1, 739: 1, 2824: 1, 2829: 1, 2534: 1, 1010: 1, 3628: 1, 2113: 1, 7101: 1, 3570: 1, 6458: 1, 7088: 1, 3259: 1, 7132: 1, 3608: 1, 3546: 1, 7105: 1, 6194: 1, 6453: 1, 7110: 1, 5541: 1, 7113: 1, 10672: 1, 2745: 1, 3264: 1, 5767: 1, 2679: 1, 2715: 1, 3040: 1, 3279: 1, 5650: 1, 2725: 1, 3525: 1, 3517: 1, 604: 1, 2978: 1, 7102: 1, 3479: 1, 6418: 1, 7138: 1, 7092: 1, 905: 1, 2654: 1, 800: 1, 24: 1, 1808: 1, 1642: 1, 3043: 1, 3251: 1, 1100: 1, 7097: 1, 3055: 1, 3307: 1, 260: 1, 7048: 1, 7151: 1, 3603: 1, 7122: 1, 7108: 1, 14256: 1, 1813: 1, 1833: 1, 3084: 1, 3512: 1, 3095: 1, 10705: 1, 10694: 1, 1668: 1, 1658: 1, 3058: 1, 2685: 1, 2710: 1, 2958: 1, 2968: 1, 1105: 1, 2581: 1, 5607: 1, 3402: 1, 825: 1, 2982: 1, 3587: 1, 10681: 1, 2700: 1, 2977: 1, 5363: 1, 5358: 1, 1395: 1, 2144: 1, 1557: 1, 2690: 1, 280: 1, 3274: 1, 3619: 1, 2698: 1, 3068: 1, 3054: 1, 850: 1, 7103: 1, 10682: 1, 335: 1, 3224: 1, 4314: 1, 2809: 1, 5773: 1, 5797: 1, 2422: 1, 5976: 1, 2129: 1, 2127: 1, 1435: 1, 6178: 1, 2908: 1, 2599: 1, 3515: 1, 152: 1, 10734: 1, 24740: 1, 21183: 1, 1963: 1, 89428: 1, 6990: 1, 5528: 1, 3494: 1, 555: 1, 2954: 1, 3659: 1, 2727: 1, 2717: 1, 3500: 1, 3482: 1, 151: 1})\n",
      "Counter({3569: 504, 3564: 436, 3549: 433, 3559: 431, 3554: 328, 3574: 280, 3544: 270, 3579: 222, 3539: 164, 3534: 139, 3584: 133, 3548: 121, 3568: 110, 3558: 103, 3529: 101, 3563: 98, 3573: 91, 3524: 74, 3553: 68, 3578: 63, 3538: 60, 3519: 58, 3543: 57, 3583: 56, 2695: 51, 819: 48, 3533: 42, 3514: 41, 3589: 38, 3588: 32, 3567: 22, 3528: 21, 3513: 21, 3053: 21, 3572: 20, 3594: 20, 3509: 19, 3523: 19, 290: 19, 3504: 17, 3575: 15, 3552: 15, 3547: 15, 2217: 15, 3562: 14, 1424: 14, 7127: 13, 3542: 13, 3518: 12, 3577: 12, 834: 12, 1901: 12, 3557: 11, 3550: 10, 3508: 10, 3551: 10, 5772: 10, 565: 10, 3264: 10, 3599: 9, 2128: 9, 5542: 9, 2694: 9, 5547: 8, 3540: 8, 1352: 8, 1658: 8, 1868: 8, 2626: 7, 3609: 7, 3068: 7, 800: 7, 24: 7, 1731: 7, 1100: 7, 1114: 6, 3604: 6, 3555: 6, 3593: 6, 7112: 6, 7147: 6, 7123: 6, 3545: 6, 2666: 6, 305: 6, 2149: 6, 3499: 6, 3503: 6, 3535: 5, 3556: 5, 3580: 5, 3537: 5, 7132: 5, 844: 5, 2671: 5, 5373: 5, 7122: 5, 2680: 5, 7118: 5, 3565: 5, 5522: 5, 1838: 5, 3530: 5, 1342: 5, 905: 5, 2017: 4, 3520: 4, 3582: 4, 920: 4, 3114: 4, 7137: 4, 3498: 4, 2676: 4, 2054: 4, 25: 4, 3613: 4, 3614: 4, 7113: 4, 3603: 4, 5771: 4, 5061: 4, 3512: 4, 3105: 4, 2232: 4, 3239: 4, 2883: 4, 1495: 4, 3494: 4, 1668: 4, 3043: 4, 2719: 4, 850: 4, 7103: 4, 5378: 3, 7133: 3, 2619: 3, 4241: 3, 2644: 3, 3619: 3, 3541: 3, 3587: 3, 1570: 3, 7117: 3, 3536: 3, 1846: 3, 1723: 3, 260: 3, 1332: 3, 1337: 3, 1663: 3, 3040: 3, 6188: 3, 14241: 3, 3560: 3, 7028: 3, 2654: 3, 1916: 3, 1736: 3, 2022: 2, 3121: 2, 3532: 2, 3099: 2, 4436: 2, 3404: 2, 4441: 2, 3522: 2, 7101: 2, 2651: 2, 7131: 2, 3598: 2, 5747: 2, 3546: 2, 1989: 2, 3585: 2, 2661: 2, 5537: 2, 5777: 2, 5727: 2, 3284: 2, 2710: 2, 3581: 2, 3624: 2, 2061: 2, 2705: 2, 3269: 2, 3484: 2, 1813: 2, 7152: 2, 5403: 2, 5756: 2, 273: 2, 3089: 2, 2222: 2, 2123: 2, 4143: 2, 2591: 2, 5567: 2, 1010: 2, 2574: 2, 7102: 2, 3124: 2, 3084: 2, 3085: 2, 5792: 2, 5598: 2, 5552: 2, 3402: 2, 3570: 2, 3489: 2, 3263: 2, 2700: 2, 2987: 2, 5608: 2, 3597: 2, 10680: 2, 3561: 2, 3525: 2, 3304: 2, 7141: 2, 3104: 2, 1870: 2, 1674: 2, 5323: 2, 965: 2, 180048: 1, 1118: 1, 1591: 1, 1109: 1, 3126: 1, 6237: 1, 1231: 1, 2007: 1, 16637: 1, 21804: 1, 36367: 1, 3107: 1, 159748: 1, 6906: 1, 20001: 1, 12754: 1, 7063: 1, 7098: 1, 7143: 1, 3109: 1, 889: 1, 6418: 1, 7142: 1, 7111: 1, 3526: 1, 2649: 1, 6403: 1, 1720: 1, 7136: 1, 2610: 1, 739: 1, 2824: 1, 740: 1, 2829: 1, 5559: 1, 5557: 1, 7092: 1, 7535: 1, 5767: 1, 1505: 1, 7128: 1, 2701: 1, 2641: 1, 7168: 1, 3608: 1, 10692: 1, 2113: 1, 2004: 1, 2048: 1, 2131: 1, 1417: 1, 7145: 1, 5168: 1, 1630: 1, 3531: 1, 3291: 1, 2908: 1, 1379: 1, 2170: 1, 2667: 1, 1885: 1, 1694: 1, 2704: 1, 1725: 1, 10691: 1, 2963: 1, 1389: 1, 30: 1, 2133: 1, 6208: 1, 17800: 1, 3254: 1, 3033: 1, 3299: 1, 3289: 1, 2060: 1, 3294: 1, 2148: 1, 5243: 1, 3259: 1, 1465: 1, 2089: 1, 3246: 1, 3601: 1, 10712: 1, 5051: 1, 3129: 1, 3100: 1, 14258: 1, 2968: 1, 1858: 1, 5593: 1, 5612: 1, 21354: 1, 2118: 1, 5532: 1, 7108: 1, 3079: 1, 3243: 1, 3052: 1, 3119: 1, 3497: 1, 7078: 1, 7073: 1, 1676: 1, 8584: 1, 3586: 1, 5031: 1, 3517: 1, 1673: 1, 1631: 1, 2586: 1, 5603: 1, 10667: 1, 1020: 1, 3483: 1, 1357: 1, 1891: 1, 5248: 1, 3618: 1, 3324: 1, 3134: 1, 3502: 1, 1470: 1, 2094: 1, 3251: 1, 2064: 1, 3591: 1, 1696: 1, 1848: 1, 4785: 1, 1362: 1, 1788: 1, 1793: 1, 1823: 1, 10695: 1, 10685: 1, 785: 1, 5632: 1, 3407: 1, 3474: 1, 3057: 1, 6147: 1, 5046: 1, 10700: 1, 14236: 1, 10677: 1, 3139: 1, 843: 1, 5308: 1, 5: 1, 2690: 1, 566: 1, 10670: 1, 3699: 1, 7090: 1, 4314: 1, 2809: 1, 5802: 1, 2422: 1, 5981: 1, 3515: 1, 1434: 1, 1435: 1, 2918: 1, 2589: 1, 2624: 1, 568: 1, 10734: 1, 81040: 1, 10544: 1, 6960: 1, 5518: 1, 788: 1, 2714: 1, 3659: 1, 790: 1, 2717: 1, 3500: 1, 3482: 1, 151: 1})\n",
      "Counter({3554: 367, 3569: 359, 3559: 357, 3549: 357, 3564: 325, 3544: 292, 3574: 257, 3539: 220, 3579: 219, 3534: 173, 3548: 132, 3529: 130, 3584: 119, 3563: 101, 3568: 99, 3558: 99, 3543: 96, 3524: 92, 3553: 88, 3533: 77, 819: 75, 3573: 71, 3514: 63, 3589: 58, 2695: 50, 3578: 48, 3519: 46, 3538: 46, 3513: 36, 3537: 31, 3583: 30, 3518: 29, 3528: 24, 3594: 23, 2694: 23, 2061: 21, 3562: 18, 3504: 17, 3557: 17, 5772: 17, 3572: 16, 2054: 16, 3552: 14, 1901: 14, 3550: 13, 3523: 13, 3053: 13, 3068: 13, 3508: 12, 3547: 12, 1505: 12, 3599: 12, 3509: 11, 3542: 11, 1424: 11, 3567: 10, 3588: 10, 2671: 10, 834: 10, 3575: 9, 3532: 9, 7132: 9, 3577: 9, 1495: 9, 3604: 8, 1891: 8, 2850: 8, 3560: 8, 3114: 8, 3580: 8, 2128: 8, 2666: 8, 3503: 7, 3556: 7, 5771: 7, 2679: 7, 3545: 7, 3598: 7, 3497: 7, 1010: 7, 1663: 7, 2217: 7, 3498: 6, 1638: 6, 7088: 6, 7137: 6, 7113: 6, 3540: 6, 7118: 6, 2676: 6, 290: 6, 1658: 6, 1342: 6, 3535: 5, 3515: 5, 785: 5, 1415: 5, 565: 5, 305: 5, 1114: 4, 3520: 4, 3493: 4, 3522: 4, 3585: 4, 5777: 4, 7152: 4, 844: 4, 3525: 4, 3530: 4, 3119: 4, 7117: 4, 2149: 4, 2027: 3, 2017: 3, 3121: 3, 2835: 3, 2735: 3, 3526: 3, 7110: 3, 3654: 3, 1903: 3, 5547: 3, 5542: 3, 7142: 3, 3593: 3, 2651: 3, 7128: 3, 3499: 3, 2066: 3, 3138: 3, 436: 3, 3527: 3, 3614: 3, 7103: 3, 2978: 3, 3494: 3, 3040: 3, 1357: 3, 965: 3, 3107: 2, 2524: 2, 3467: 2, 915: 2, 2614: 2, 10721: 2, 4969: 2, 3342: 2, 964: 2, 2830: 2, 2849: 2, 3468: 2, 2845: 2, 3109: 2, 3108: 2, 2644: 2, 4441: 2, 1926: 2, 1633: 2, 2959: 2, 820: 2, 7096: 2, 3541: 2, 790: 2, 5537: 2, 5727: 2, 3571: 2, 3536: 2, 3512: 2, 2723: 2, 850: 2, 2894: 2, 2704: 2, 995: 2, 1666: 2, 2569: 2, 3570: 2, 7123: 2, 7093: 2, 2963: 2, 2123: 2, 3238: 2, 3239: 2, 3038: 2, 5061: 2, 22110: 2, 1906: 2, 3043: 2, 2559: 2, 6183: 2, 3565: 2, 3073: 2, 2044: 2, 2415: 2, 1144: 2, 3900: 2, 7116: 2, 5243: 2, 3613: 2, 2705: 2, 3259: 2, 7122: 2, 2710: 2, 2222: 2, 1648: 2, 2988: 2, 3609: 2, 2074: 2, 14138: 2, 154032: 1, 1118: 1, 2018: 1, 1109: 1, 2699: 1, 3131: 1, 4235: 1, 4229: 1, 1997: 1, 38431: 1, 6216: 1, 23825: 1, 18657: 1, 135270: 1, 13125: 1, 5378: 1, 7148: 1, 7038: 1, 990: 1, 7078: 1, 7073: 1, 7053: 1, 7063: 1, 3488: 1, 3482: 1, 1623: 1, 1608: 1, 945: 1, 4134: 1, 2294: 1, 160: 1, 11431: 1, 6197: 1, 40741: 1, 10600: 1, 3303: 1, 17644: 1, 7827: 1, 2776: 1, 5808: 1, 4962: 1, 2780: 1, 2533: 1, 2834: 1, 3500: 1, 7074: 1, 14110: 1, 2779: 1, 725: 1, 2884: 1, 1014: 1, 2339: 1, 2887: 1, 5848: 1, 135: 1, 5713: 1, 1719: 1, 2399: 1, 6389: 1, 2829: 1, 2805: 1, 1696: 1, 1159: 1, 6403: 1, 2811: 1, 3859: 1, 2554: 1, 6293: 1, 5988: 1, 920: 1, 7121: 1, 335: 1, 7141: 1, 1069: 1, 2464: 1, 7147: 1, 2003: 1, 1913: 1, 2729: 1, 3062: 1, 4524: 1, 2809: 1, 750: 1, 5627: 1, 7102: 1, 2759: 1, 2131: 1, 1417: 1, 3592: 1, 10752: 1, 2646: 1, 2641: 1, 2764: 1, 780: 1, 7138: 1, 6219: 1, 2064: 1, 3555: 1, 1465: 1, 2084: 1, 2700: 1, 2039: 1, 2656: 1, 3275: 1, 289: 1, 5757: 1, 2859: 1, 685: 1, 3603: 1, 3495: 1, 8812: 1, 3449: 1, 2661: 1, 2669: 1, 7083: 1, 395: 1, 5650: 1, 7162: 1, 7143: 1, 6188: 1, 2543: 1, 2549: 1, 3531: 1, 5692: 1, 3582: 1, 1725: 1, 10691: 1, 2720: 1, 7114: 1, 3052: 1, 6222: 1, 4676: 1, 6243: 1, 3279: 1, 5645: 1, 3619: 1, 2878: 1, 14268: 1, 3104: 1, 1665: 1, 7133: 1, 10705: 1, 3889: 1, 5928: 1, 5368: 1, 1898: 1, 10687: 1, 905: 1, 3483: 1, 3134: 1, 3033: 1, 3618: 1, 7097: 1, 7153: 1, 3269: 1, 3264: 1, 3274: 1, 7127: 1, 2192: 1, 8966: 1, 3248: 1, 6173: 1, 1347: 1, 1668: 1, 2968: 1, 2049: 1, 2793: 1, 775: 1, 7086: 1, 566: 1, 1651: 1, 1923: 1, 5373: 1, 1420: 1, 3054: 1, 7107: 1, 7092: 1, 1485: 1, 1382: 1, 2182: 1, 2574: 1, 5747: 1, 5802: 1, 2422: 1, 25: 1, 4483: 1, 1434: 1, 2918: 1, 2582: 1, 2604: 1, 2594: 1, 568: 1, 10734: 1, 14137: 1, 10603: 1, 7069: 1, 28263: 1, 1963: 1, 58032: 1, 33280: 1, 1729: 1, 5503: 1, 788: 1, 2714: 1, 3506: 1, 555: 1, 3659: 1, 3484: 1, 3489: 1, 2717: 1, 3496: 1, 151: 1})\n"
     ]
    }
   ],
   "source": [
    "print(collections.Counter(HC02666_frags['Length']))\n",
    "print(collections.Counter(HG01890_frags['Length']))\n",
    "print(collections.Counter(HG00358_frags['Length']))\n",
    "print(collections.Counter(HG01952_frags['Length']))\n",
    "print(collections.Counter(HG02011_frags['Length']))\n",
    "print(collections.Counter(HG01106_frags['Length']))\n",
    "print(collections.Counter(HG002_frags['Length']))"
   ]
  },
  {
   "cell_type": "code",
   "execution_count": null,
   "id": "33750315",
   "metadata": {},
   "outputs": [],
   "source": []
  },
  {
   "cell_type": "code",
   "execution_count": null,
   "id": "8e925249",
   "metadata": {},
   "outputs": [],
   "source": []
  },
  {
   "cell_type": "code",
   "execution_count": 7,
   "id": "5188423f",
   "metadata": {},
   "outputs": [],
   "source": [
    "HG002_DYZ2 = pd.read_csv(\"/home/mark/Desktop/chromosome_y/Dataframes/T2T/T2T_rbDF2_Kmode.csv\")\n",
    "HG00358_DYZ2 = pd.read_csv(\"/home/mark/Desktop/chromosome_y/Dataframes/HG00358/HG00358_rbDF2_Kmode.csv\")\n",
    "HG01952_DYZ2 = pd.read_csv(\"/home/mark/Desktop/chromosome_y/Dataframes/HG01952/HG01952_rbDF2_Kmode.csv\")\n",
    "HG01890_DYZ2 = pd.read_csv(\"/home/mark/Desktop/chromosome_y/Dataframes/HG01890/HG01890_rbDF2_Kmode.csv\")\n",
    "HG02011_DYZ2 = pd.read_csv(\"/home/mark/Desktop/chromosome_y/Dataframes/HG02011/HG02011_rbDF2_Kmode.csv\")\n",
    "HG01106_DYZ2 = pd.read_csv(\"/home/mark/Desktop/chromosome_y/Dataframes/HG01106/HG01106_rbDF2_Kmode.csv\")\n",
    "HC02666_DYZ2 = pd.read_csv(\"/home/mark/Desktop/chromosome_y/Dataframes/HC02666/HC02666_rbDF2_Kmode.csv\")"
   ]
  },
  {
   "cell_type": "code",
   "execution_count": 8,
   "id": "a2df1905",
   "metadata": {},
   "outputs": [],
   "source": [
    "HG002_DYZ2['Sample']='HG002'\n",
    "HG00358_DYZ2['Sample']='HG00358' # = pd.read_csv(\"/home/mark/Desktop/chromosome_y/DYZ1_Region_Analysis/Block_Sequences/HG00358/Finalized_Fragmentdf.csv\").drop(columns=['Unnamed: 0','index'])\n",
    "HG01952_DYZ2['Sample']='HG01952' #= pd.read_csv(\"/home/mark/Desktop/chromosome_y/DYZ1_Region_Analysis/Block_Sequences/HG01952/Finalized_Fragmentdf.csv\").drop(columns=['Unnamed: 0','index'])\n",
    "HG01890_DYZ2['Sample']='HG01890' #= pd.read_csv(\"/home/mark/Desktop/chromosome_y/DYZ1_Region_Analysis/Block_Sequences/HG01890/Finalized_Fragmentdf.csv\").drop(columns=['Unnamed: 0','index'])\n",
    "HG02011_DYZ2['Sample']='HG02011' #= pd.read_csv(\"/home/mark/Desktop/chromosome_y/DYZ1_Region_Analysis/Block_Sequences/HG02011/Finalized_Fragmentdf.csv\").drop(columns=['Unnamed: 0','index'])\n",
    "HG01106_DYZ2['Sample']='HG01106' #= pd.read_csv(\"/home/mark/Desktop/chromosome_y/DYZ1_Region_Analysis/Block_Sequences/HG01106/Finalized_Fragmentdf.csv\").drop(columns=['Unnamed: 0','index'])\n",
    "HC02666_DYZ2['Sample']='HC02666'"
   ]
  },
  {
   "cell_type": "code",
   "execution_count": 9,
   "id": "efebe184",
   "metadata": {},
   "outputs": [
    {
     "data": {
      "text/html": [
       "<div>\n",
       "<style scoped>\n",
       "    .dataframe tbody tr th:only-of-type {\n",
       "        vertical-align: middle;\n",
       "    }\n",
       "\n",
       "    .dataframe tbody tr th {\n",
       "        vertical-align: top;\n",
       "    }\n",
       "\n",
       "    .dataframe thead th {\n",
       "        text-align: right;\n",
       "    }\n",
       "</style>\n",
       "<table border=\"1\" class=\"dataframe\">\n",
       "  <thead>\n",
       "    <tr style=\"text-align: right;\">\n",
       "      <th></th>\n",
       "      <th>Alu</th>\n",
       "      <th>RepeatBlock</th>\n",
       "      <th>Lengths</th>\n",
       "      <th>Group</th>\n",
       "      <th>Block_Size</th>\n",
       "      <th>KMode_cluster</th>\n",
       "      <th>Sample</th>\n",
       "    </tr>\n",
       "  </thead>\n",
       "  <tbody>\n",
       "    <tr>\n",
       "      <th>0</th>\n",
       "      <td>C_AluY_30358347-30358634</td>\n",
       "      <td>0</td>\n",
       "      <td>2214</td>\n",
       "      <td>['45593 372 23.4 4.5 3.3 chrY.01-24.01.PAR1-PA...</td>\n",
       "      <td>2000-2999</td>\n",
       "      <td>#F6C324</td>\n",
       "      <td>HC02666</td>\n",
       "    </tr>\n",
       "    <tr>\n",
       "      <th>1</th>\n",
       "      <td>C_AluY_30360759-30361047</td>\n",
       "      <td>0</td>\n",
       "      <td>2402</td>\n",
       "      <td>['45596 372 19.8 8.9 2.8 chrY.01-24.01.PAR1-PA...</td>\n",
       "      <td>2000-2999</td>\n",
       "      <td>#F6C324</td>\n",
       "      <td>HC02666</td>\n",
       "    </tr>\n",
       "    <tr>\n",
       "      <th>2</th>\n",
       "      <td>C_AluY_30363169-30363457</td>\n",
       "      <td>0</td>\n",
       "      <td>2403</td>\n",
       "      <td>['45599 400 24.7 3.9 3.7 chrY.01-24.01.PAR1-PA...</td>\n",
       "      <td>2000-2999</td>\n",
       "      <td>#F6C324</td>\n",
       "      <td>HC02666</td>\n",
       "    </tr>\n",
       "    <tr>\n",
       "      <th>3</th>\n",
       "      <td>C_AluY_30365580-30365868</td>\n",
       "      <td>0</td>\n",
       "      <td>2404</td>\n",
       "      <td>['45602 379 26.2 3.0 4.2 chrY.01-24.01.PAR1-PA...</td>\n",
       "      <td>2000-2999</td>\n",
       "      <td>#F6C324</td>\n",
       "      <td>HC02666</td>\n",
       "    </tr>\n",
       "    <tr>\n",
       "      <th>4</th>\n",
       "      <td>C_AluY_30367996-30368286</td>\n",
       "      <td>0</td>\n",
       "      <td>2418</td>\n",
       "      <td>['45605 390 18.8 9.1 2.7 chrY.01-24.01.PAR1-PA...</td>\n",
       "      <td>2000-2999</td>\n",
       "      <td>#F6C324</td>\n",
       "      <td>HC02666</td>\n",
       "    </tr>\n",
       "    <tr>\n",
       "      <th>...</th>\n",
       "      <td>...</td>\n",
       "      <td>...</td>\n",
       "      <td>...</td>\n",
       "      <td>...</td>\n",
       "      <td>...</td>\n",
       "      <td>...</td>\n",
       "      <td>...</td>\n",
       "    </tr>\n",
       "    <tr>\n",
       "      <th>3730</th>\n",
       "      <td>+_AluSx_54438944-54439272</td>\n",
       "      <td>25</td>\n",
       "      <td>551</td>\n",
       "      <td>['65992 2114 13.0 0.7 0.0 chrY.01-24.01.PAR1-P...</td>\n",
       "      <td>&lt;999</td>\n",
       "      <td>GraveYard</td>\n",
       "      <td>HC02666</td>\n",
       "    </tr>\n",
       "    <tr>\n",
       "      <th>3731</th>\n",
       "      <td>+_AluJb_54440400-54440550</td>\n",
       "      <td>25</td>\n",
       "      <td>1012</td>\n",
       "      <td>['65994 18 21.8 0.0 0.0 chrY.01-24.01.PAR1-PAR...</td>\n",
       "      <td>1000-1999</td>\n",
       "      <td>GraveYard</td>\n",
       "      <td>HC02666</td>\n",
       "    </tr>\n",
       "    <tr>\n",
       "      <th>3732</th>\n",
       "      <td>+_AluSp_54440551-54440848</td>\n",
       "      <td>25</td>\n",
       "      <td>298</td>\n",
       "      <td>['65996 2102 12.8 0.7 0.3 chrY.01-24.01.PAR1-P...</td>\n",
       "      <td>&lt;999</td>\n",
       "      <td>GraveYard</td>\n",
       "      <td>HC02666</td>\n",
       "    </tr>\n",
       "    <tr>\n",
       "      <th>3733</th>\n",
       "      <td>+_AluJb_54440849-54441008</td>\n",
       "      <td>25</td>\n",
       "      <td>772</td>\n",
       "      <td>['65997 1569 19.5 0.0 6.5 chrY.01-24.01.PAR1-P...</td>\n",
       "      <td>&lt;999</td>\n",
       "      <td>GraveYard</td>\n",
       "      <td>HC02666</td>\n",
       "    </tr>\n",
       "    <tr>\n",
       "      <th>3734</th>\n",
       "      <td>C_AluSx_54441693-54442011</td>\n",
       "      <td>25</td>\n",
       "      <td>357</td>\n",
       "      <td>['66000 1768 11.8 1.6 7.3 chrY.01-24.01.PAR1-P...</td>\n",
       "      <td>&lt;999</td>\n",
       "      <td>GraveYard</td>\n",
       "      <td>HC02666</td>\n",
       "    </tr>\n",
       "  </tbody>\n",
       "</table>\n",
       "<p>3735 rows × 7 columns</p>\n",
       "</div>"
      ],
      "text/plain": [
       "                            Alu  RepeatBlock  Lengths  \\\n",
       "0      C_AluY_30358347-30358634            0     2214   \n",
       "1      C_AluY_30360759-30361047            0     2402   \n",
       "2      C_AluY_30363169-30363457            0     2403   \n",
       "3      C_AluY_30365580-30365868            0     2404   \n",
       "4      C_AluY_30367996-30368286            0     2418   \n",
       "...                         ...          ...      ...   \n",
       "3730  +_AluSx_54438944-54439272           25      551   \n",
       "3731  +_AluJb_54440400-54440550           25     1012   \n",
       "3732  +_AluSp_54440551-54440848           25      298   \n",
       "3733  +_AluJb_54440849-54441008           25      772   \n",
       "3734  C_AluSx_54441693-54442011           25      357   \n",
       "\n",
       "                                                  Group Block_Size  \\\n",
       "0     ['45593 372 23.4 4.5 3.3 chrY.01-24.01.PAR1-PA...  2000-2999   \n",
       "1     ['45596 372 19.8 8.9 2.8 chrY.01-24.01.PAR1-PA...  2000-2999   \n",
       "2     ['45599 400 24.7 3.9 3.7 chrY.01-24.01.PAR1-PA...  2000-2999   \n",
       "3     ['45602 379 26.2 3.0 4.2 chrY.01-24.01.PAR1-PA...  2000-2999   \n",
       "4     ['45605 390 18.8 9.1 2.7 chrY.01-24.01.PAR1-PA...  2000-2999   \n",
       "...                                                 ...        ...   \n",
       "3730  ['65992 2114 13.0 0.7 0.0 chrY.01-24.01.PAR1-P...       <999   \n",
       "3731  ['65994 18 21.8 0.0 0.0 chrY.01-24.01.PAR1-PAR...  1000-1999   \n",
       "3732  ['65996 2102 12.8 0.7 0.3 chrY.01-24.01.PAR1-P...       <999   \n",
       "3733  ['65997 1569 19.5 0.0 6.5 chrY.01-24.01.PAR1-P...       <999   \n",
       "3734  ['66000 1768 11.8 1.6 7.3 chrY.01-24.01.PAR1-P...       <999   \n",
       "\n",
       "     KMode_cluster   Sample  \n",
       "0          #F6C324  HC02666  \n",
       "1          #F6C324  HC02666  \n",
       "2          #F6C324  HC02666  \n",
       "3          #F6C324  HC02666  \n",
       "4          #F6C324  HC02666  \n",
       "...            ...      ...  \n",
       "3730     GraveYard  HC02666  \n",
       "3731     GraveYard  HC02666  \n",
       "3732     GraveYard  HC02666  \n",
       "3733     GraveYard  HC02666  \n",
       "3734     GraveYard  HC02666  \n",
       "\n",
       "[3735 rows x 7 columns]"
      ]
     },
     "execution_count": 9,
     "metadata": {},
     "output_type": "execute_result"
    }
   ],
   "source": [
    "HC02666_DYZ2"
   ]
  },
  {
   "cell_type": "code",
   "execution_count": 28,
   "id": "534f3c6a",
   "metadata": {},
   "outputs": [
    {
     "name": "stdout",
     "output_type": "stream",
     "text": [
      "10\n",
      "10\n",
      "10\n",
      "10\n",
      "10\n",
      "8\n",
      "11\n"
     ]
    }
   ],
   "source": [
    "print(len(HG002_DYZ2[HG002_DYZ2['RepeatBlock']==42]))\n",
    "print(len(HG00358_DYZ2[HG00358_DYZ2['RepeatBlock']==38]))\n",
    "print(len(HG01952_DYZ2[HG01952_DYZ2['RepeatBlock']==23]))\n",
    "print(len(HG01890_DYZ2[HG01890_DYZ2['RepeatBlock']==17]))\n",
    "print(len(HG02011_DYZ2[HG02011_DYZ2['RepeatBlock']==27]))\n",
    "print(len(HG01106_DYZ2[HG01106_DYZ2['RepeatBlock']==40]))\n",
    "print(len(HC02666_DYZ2[HC02666_DYZ2['RepeatBlock']==22]))"
   ]
  },
  {
   "cell_type": "code",
   "execution_count": 17,
   "id": "de2d41fd",
   "metadata": {},
   "outputs": [],
   "source": [
    "DFList2 = [HG002_DYZ2, HG00358_DYZ2, HG01952_DYZ2, HG01890_DYZ2, HG02011_DYZ2, HG01106_DYZ2, HC02666_DYZ2]\n",
    "CombinedDF2 = pd.concat(DFList2)"
   ]
  },
  {
   "cell_type": "code",
   "execution_count": 21,
   "id": "05a6edc7",
   "metadata": {},
   "outputs": [
    {
     "name": "stdout",
     "output_type": "stream",
     "text": [
      "Counter({'2000-2999': 30961, '1000-1999': 273, '3000-3999': 96, '<999': 88})\n",
      "31418\n"
     ]
    }
   ],
   "source": [
    "import collections\n",
    "print(collections.Counter(CombinedDF2[CombinedDF2['KMode_cluster']!='GraveYard']['Block_Size']))\n",
    "print(len(CombinedDF2[CombinedDF2['KMode_cluster']!='GraveYard']['Block_Size']))"
   ]
  },
  {
   "cell_type": "code",
   "execution_count": 22,
   "id": "61256070",
   "metadata": {},
   "outputs": [
    {
     "data": {
      "text/plain": [
       "0.9854541982303139"
      ]
     },
     "execution_count": 22,
     "metadata": {},
     "output_type": "execute_result"
    }
   ],
   "source": [
    "30961/31418"
   ]
  },
  {
   "cell_type": "code",
   "execution_count": 16,
   "id": "d227cf3e",
   "metadata": {},
   "outputs": [
    {
     "name": "stdout",
     "output_type": "stream",
     "text": [
      "HG01890\n",
      "Counter({11: 824, 13: 684, 9: 270, 10: 163, 4: 113, 7: 101, 3: 96, 8: 87, 12: 83, 14: 67, 6: 45, 15: 44, 1: 38, 20: 31, 5: 26, 19: 23, 0: 13, 16: 11, 17: 10, 2: 9, 18: 9})\n",
      "\n",
      "\n",
      "HG002\n",
      "Counter({7: 489, 38: 388, 18: 358, 35: 354, 17: 350, 23: 321, 37: 284, 27: 278, 36: 278, 26: 273, 32: 264, 24: 157, 22: 145, 25: 125, 16: 118, 30: 118, 34: 118, 28: 107, 11: 105, 5: 103, 6: 99, 12: 95, 3: 94, 33: 79, 29: 74, 4: 70, 14: 67, 20: 65, 9: 64, 19: 51, 15: 48, 21: 47, 10: 42, 39: 42, 31: 40, 13: 38, 8: 33, 45: 32, 40: 25, 44: 23, 1: 16, 2: 15, 0: 11, 41: 10, 42: 10, 43: 10})\n",
      "\n",
      "\n",
      "HG01952\n",
      "Counter({7: 746, 18: 401, 10: 389, 20: 330, 17: 263, 19: 231, 13: 230, 14: 217, 11: 205, 8: 164, 9: 161, 3: 108, 6: 100, 15: 94, 5: 81, 12: 78, 4: 48, 16: 43, 21: 35, 1: 31, 26: 31, 25: 23, 22: 18, 2: 17, 0: 14, 23: 10, 24: 10})\n",
      "\n",
      "\n",
      "HG00358\n",
      "Counter({19: 401, 17: 392, 33: 344, 11: 340, 14: 236, 32: 226, 20: 223, 29: 205, 26: 202, 27: 199, 28: 198, 23: 196, 25: 183, 9: 152, 21: 146, 18: 125, 24: 122, 31: 122, 7: 110, 16: 110, 30: 103, 6: 101, 22: 98, 13: 96, 34: 93, 10: 83, 8: 69, 3: 66, 12: 56, 35: 50, 5: 44, 36: 33, 41: 31, 15: 29, 1: 25, 40: 22, 2: 18, 0: 14, 38: 10, 39: 10, 4: 7, 37: 6})\n",
      "\n",
      "\n",
      "HG02011\n",
      "Counter({22: 476, 14: 303, 23: 288, 17: 246, 16: 216, 21: 204, 18: 151, 6: 131, 19: 129, 4: 125, 20: 115, 9: 94, 8: 91, 7: 86, 11: 86, 13: 86, 12: 85, 10: 84, 5: 71, 15: 44, 24: 39, 30: 31, 29: 23, 1: 19, 2: 18, 25: 15, 0: 14, 26: 13, 27: 10, 28: 9, 3: 5})\n",
      "\n",
      "\n",
      "HG01106\n",
      "Counter({7: 493, 34: 428, 11: 389, 29: 349, 12: 330, 22: 285, 36: 268, 10: 263, 24: 252, 17: 239, 33: 216, 5: 178, 35: 174, 21: 169, 8: 164, 23: 161, 28: 159, 0: 155, 30: 155, 18: 154, 20: 144, 16: 143, 2: 132, 32: 132, 14: 121, 27: 117, 15: 106, 26: 106, 1: 105, 3: 89, 9: 89, 19: 76, 4: 68, 31: 68, 13: 67, 25: 44, 6: 39, 37: 32, 43: 31, 42: 23, 38: 20, 39: 16, 41: 9, 40: 8})\n",
      "\n",
      "\n",
      "HC02666\n",
      "Counter({18: 645, 9: 321, 17: 284, 16: 250, 12: 232, 13: 231, 10: 220, 15: 195, 7: 187, 14: 182, 11: 163, 3: 145, 8: 130, 4: 115, 5: 112, 6: 97, 19: 67, 25: 31, 2: 24, 24: 23, 20: 20, 1: 17, 0: 14, 22: 11, 21: 10, 23: 9})\n",
      "\n",
      "\n"
     ]
    }
   ],
   "source": [
    "for sample in set(CombinedDF['Sample']):\n",
    "    print(sample)\n",
    "    print(collections.Counter(CombinedDF[CombinedDF['Sample']==sample]['RepeatBlock']))\n",
    "    print('\\n')"
   ]
  },
  {
   "cell_type": "code",
   "execution_count": null,
   "id": "37755019",
   "metadata": {},
   "outputs": [],
   "source": []
  },
  {
   "cell_type": "code",
   "execution_count": null,
   "id": "bf1543c0",
   "metadata": {},
   "outputs": [],
   "source": []
  },
  {
   "cell_type": "code",
   "execution_count": 10,
   "id": "134e5b2d",
   "metadata": {},
   "outputs": [
    {
     "name": "stdout",
     "output_type": "stream",
     "text": [
      "DYZ2 in HG002: 5868\n",
      "DYZ2 in HG00358: 5233\n",
      "DYZ2 in HG01952: 4014\n",
      "DYZ2 in HG01890: 2684\n",
      "DYZ2 in HG02011: 3244\n",
      "DYZ2 in HG01106: 6703\n",
      "DYZ2 in HC02666: 3672\n"
     ]
    }
   ],
   "source": [
    "print(\"DYZ2 in HG002: \"+str(len(HG002_DYZ2[HG002_DYZ2['KMode_cluster']!='GraveYard'])))\n",
    "print(\"DYZ2 in HG00358: \"+str(len(HG00358_DYZ2[HG00358_DYZ2['KMode_cluster']!='GraveYard'])))\n",
    "print(\"DYZ2 in HG01952: \"+str(len(HG01952_DYZ2[HG01952_DYZ2['KMode_cluster']!='GraveYard'])))\n",
    "print(\"DYZ2 in HG01890: \"+str(len(HG01890_DYZ2[HG01890_DYZ2['KMode_cluster']!='GraveYard'])))\n",
    "print(\"DYZ2 in HG02011: \"+str(len(HG02011_DYZ2[HG02011_DYZ2['KMode_cluster']!='GraveYard'])))\n",
    "print(\"DYZ2 in HG01106: \"+str(len(HG01106_DYZ2[HG01106_DYZ2['KMode_cluster']!='GraveYard'])))\n",
    "print(\"DYZ2 in HC02666: \"+str(len(HC02666_DYZ2[HC02666_DYZ2['KMode_cluster']!='GraveYard'])))"
   ]
  },
  {
   "cell_type": "code",
   "execution_count": 19,
   "id": "cff6a7b8",
   "metadata": {},
   "outputs": [
    {
     "data": {
      "text/plain": [
       "4488.285714285715"
      ]
     },
     "execution_count": 19,
     "metadata": {},
     "output_type": "execute_result"
    }
   ],
   "source": [
    "np.mean([5868,5233,4014,2684,3244,6703,3672])"
   ]
  },
  {
   "cell_type": "code",
   "execution_count": 5,
   "id": "df2c8c60",
   "metadata": {},
   "outputs": [],
   "source": [
    "HG002 = pd.read_csv(\"/home/mark/Desktop/chromosome_y/DYZ1_Region_Analysis/Block_Sequences/HG002/Finalized_Fragmentdf.csv\").drop(columns=['Unnamed: 0','index'])\n",
    "HG00358 = pd.read_csv(\"/home/mark/Desktop/chromosome_y/DYZ1_Region_Analysis/Block_Sequences/HG00358/Finalized_Fragmentdf.csv\").drop(columns=['Unnamed: 0','index'])\n",
    "HG01952 = pd.read_csv(\"/home/mark/Desktop/chromosome_y/DYZ1_Region_Analysis/Block_Sequences/HG01952/Finalized_Fragmentdf.csv\").drop(columns=['Unnamed: 0','index'])\n",
    "HG01890 = pd.read_csv(\"/home/mark/Desktop/chromosome_y/DYZ1_Region_Analysis/Block_Sequences/HG01890/Finalized_Fragmentdf.csv\").drop(columns=['Unnamed: 0','index'])\n",
    "HG02011 = pd.read_csv(\"/home/mark/Desktop/chromosome_y/DYZ1_Region_Analysis/Block_Sequences/HG02011/Finalized_Fragmentdf.csv\").drop(columns=['Unnamed: 0','index'])\n",
    "HG01106 = pd.read_csv(\"/home/mark/Desktop/chromosome_y/DYZ1_Region_Analysis/Block_Sequences/HG01106/Finalized_Fragmentdf.csv\").drop(columns=['Unnamed: 0','index'])\n",
    "HC02666 = pd.read_csv(\"/home/mark/Desktop/chromosome_y/DYZ1_Region_Analysis/Block_Sequences/HC02666/Finalized_Fragmentdf.csv\").drop(columns=['Unnamed: 0','index'])"
   ]
  },
  {
   "cell_type": "code",
   "execution_count": 11,
   "id": "6fb77258",
   "metadata": {
    "scrolled": true
   },
   "outputs": [
    {
     "data": {
      "text/html": [
       "<div>\n",
       "<style scoped>\n",
       "    .dataframe tbody tr th:only-of-type {\n",
       "        vertical-align: middle;\n",
       "    }\n",
       "\n",
       "    .dataframe tbody tr th {\n",
       "        vertical-align: top;\n",
       "    }\n",
       "\n",
       "    .dataframe thead th {\n",
       "        text-align: right;\n",
       "    }\n",
       "</style>\n",
       "<table border=\"1\" class=\"dataframe\">\n",
       "  <thead>\n",
       "    <tr style=\"text-align: right;\">\n",
       "      <th></th>\n",
       "      <th>Fragment</th>\n",
       "      <th>Orientation</th>\n",
       "      <th>Length</th>\n",
       "      <th>Start</th>\n",
       "      <th>End</th>\n",
       "      <th>Color</th>\n",
       "      <th>SpacerBlock</th>\n",
       "    </tr>\n",
       "  </thead>\n",
       "  <tbody>\n",
       "    <tr>\n",
       "      <th>123</th>\n",
       "      <td>HG00358:26633832-26796472</td>\n",
       "      <td>C</td>\n",
       "      <td>1300</td>\n",
       "      <td>26694030</td>\n",
       "      <td>26695330</td>\n",
       "      <td>cyan</td>\n",
       "      <td>0</td>\n",
       "    </tr>\n",
       "    <tr>\n",
       "      <th>124</th>\n",
       "      <td>HG00358:26633832-26796472</td>\n",
       "      <td>C</td>\n",
       "      <td>1500</td>\n",
       "      <td>26695319</td>\n",
       "      <td>26696819</td>\n",
       "      <td>cyan</td>\n",
       "      <td>0</td>\n",
       "    </tr>\n",
       "    <tr>\n",
       "      <th>125</th>\n",
       "      <td>HG00358:26633832-26796472</td>\n",
       "      <td>C</td>\n",
       "      <td>2759</td>\n",
       "      <td>26696819</td>\n",
       "      <td>26699578</td>\n",
       "      <td>cyan</td>\n",
       "      <td>0</td>\n",
       "    </tr>\n",
       "    <tr>\n",
       "      <th>126</th>\n",
       "      <td>HG00358:26633832-26796472</td>\n",
       "      <td>C</td>\n",
       "      <td>2754</td>\n",
       "      <td>26699578</td>\n",
       "      <td>26702332</td>\n",
       "      <td>cyan</td>\n",
       "      <td>0</td>\n",
       "    </tr>\n",
       "    <tr>\n",
       "      <th>127</th>\n",
       "      <td>HG00358:26633832-26796472</td>\n",
       "      <td>C</td>\n",
       "      <td>2769</td>\n",
       "      <td>26702332</td>\n",
       "      <td>26705101</td>\n",
       "      <td>cyan</td>\n",
       "      <td>0</td>\n",
       "    </tr>\n",
       "    <tr>\n",
       "      <th>128</th>\n",
       "      <td>HG00358:26633832-26796472</td>\n",
       "      <td>C</td>\n",
       "      <td>2764</td>\n",
       "      <td>26705101</td>\n",
       "      <td>26707865</td>\n",
       "      <td>cyan</td>\n",
       "      <td>0</td>\n",
       "    </tr>\n",
       "    <tr>\n",
       "      <th>129</th>\n",
       "      <td>HG00358:26633832-26796472</td>\n",
       "      <td>C</td>\n",
       "      <td>2748</td>\n",
       "      <td>26707865</td>\n",
       "      <td>26710613</td>\n",
       "      <td>cyan</td>\n",
       "      <td>0</td>\n",
       "    </tr>\n",
       "    <tr>\n",
       "      <th>130</th>\n",
       "      <td>HG00358:26633832-26796472</td>\n",
       "      <td>C</td>\n",
       "      <td>2764</td>\n",
       "      <td>26710613</td>\n",
       "      <td>26713377</td>\n",
       "      <td>cyan</td>\n",
       "      <td>0</td>\n",
       "    </tr>\n",
       "    <tr>\n",
       "      <th>131</th>\n",
       "      <td>HG00358:26633832-26796472</td>\n",
       "      <td>C</td>\n",
       "      <td>2764</td>\n",
       "      <td>26713377</td>\n",
       "      <td>26716141</td>\n",
       "      <td>cyan</td>\n",
       "      <td>0</td>\n",
       "    </tr>\n",
       "    <tr>\n",
       "      <th>132</th>\n",
       "      <td>HG00358:26633832-26796472</td>\n",
       "      <td>C</td>\n",
       "      <td>2748</td>\n",
       "      <td>26716141</td>\n",
       "      <td>26718889</td>\n",
       "      <td>cyan</td>\n",
       "      <td>0</td>\n",
       "    </tr>\n",
       "    <tr>\n",
       "      <th>133</th>\n",
       "      <td>HG00358:26633832-26796472</td>\n",
       "      <td>C</td>\n",
       "      <td>2764</td>\n",
       "      <td>26718889</td>\n",
       "      <td>26721653</td>\n",
       "      <td>cyan</td>\n",
       "      <td>0</td>\n",
       "    </tr>\n",
       "    <tr>\n",
       "      <th>134</th>\n",
       "      <td>HG00358:26633832-26796472</td>\n",
       "      <td>C</td>\n",
       "      <td>2764</td>\n",
       "      <td>26721653</td>\n",
       "      <td>26724417</td>\n",
       "      <td>cyan</td>\n",
       "      <td>0</td>\n",
       "    </tr>\n",
       "    <tr>\n",
       "      <th>135</th>\n",
       "      <td>HG00358:26633832-26796472</td>\n",
       "      <td>C</td>\n",
       "      <td>2754</td>\n",
       "      <td>26724417</td>\n",
       "      <td>26727171</td>\n",
       "      <td>cyan</td>\n",
       "      <td>0</td>\n",
       "    </tr>\n",
       "    <tr>\n",
       "      <th>136</th>\n",
       "      <td>HG00358:26633832-26796472</td>\n",
       "      <td>C</td>\n",
       "      <td>2733</td>\n",
       "      <td>26727171</td>\n",
       "      <td>26729904</td>\n",
       "      <td>cyan</td>\n",
       "      <td>0</td>\n",
       "    </tr>\n",
       "    <tr>\n",
       "      <th>137</th>\n",
       "      <td>HG00358:26633832-26796472</td>\n",
       "      <td>C</td>\n",
       "      <td>2724</td>\n",
       "      <td>26729904</td>\n",
       "      <td>26732628</td>\n",
       "      <td>cyan</td>\n",
       "      <td>0</td>\n",
       "    </tr>\n",
       "    <tr>\n",
       "      <th>138</th>\n",
       "      <td>HG00358:26633832-26796472</td>\n",
       "      <td>C</td>\n",
       "      <td>2749</td>\n",
       "      <td>26732628</td>\n",
       "      <td>26735377</td>\n",
       "      <td>cyan</td>\n",
       "      <td>0</td>\n",
       "    </tr>\n",
       "    <tr>\n",
       "      <th>139</th>\n",
       "      <td>HG00358:26633832-26796472</td>\n",
       "      <td>C</td>\n",
       "      <td>2769</td>\n",
       "      <td>26735377</td>\n",
       "      <td>26738146</td>\n",
       "      <td>cyan</td>\n",
       "      <td>0</td>\n",
       "    </tr>\n",
       "    <tr>\n",
       "      <th>140</th>\n",
       "      <td>HG00358:26633832-26796472</td>\n",
       "      <td>C</td>\n",
       "      <td>2789</td>\n",
       "      <td>26738146</td>\n",
       "      <td>26740935</td>\n",
       "      <td>cyan</td>\n",
       "      <td>0</td>\n",
       "    </tr>\n",
       "    <tr>\n",
       "      <th>141</th>\n",
       "      <td>HG00358:26633832-26796472</td>\n",
       "      <td>C</td>\n",
       "      <td>2757</td>\n",
       "      <td>26740935</td>\n",
       "      <td>26743692</td>\n",
       "      <td>cyan</td>\n",
       "      <td>0</td>\n",
       "    </tr>\n",
       "    <tr>\n",
       "      <th>142</th>\n",
       "      <td>HG00358:26633832-26796472</td>\n",
       "      <td>C</td>\n",
       "      <td>2759</td>\n",
       "      <td>26743692</td>\n",
       "      <td>26746451</td>\n",
       "      <td>cyan</td>\n",
       "      <td>0</td>\n",
       "    </tr>\n",
       "    <tr>\n",
       "      <th>143</th>\n",
       "      <td>HG00358:26633832-26796472</td>\n",
       "      <td>C</td>\n",
       "      <td>2769</td>\n",
       "      <td>26746451</td>\n",
       "      <td>26749220</td>\n",
       "      <td>cyan</td>\n",
       "      <td>0</td>\n",
       "    </tr>\n",
       "    <tr>\n",
       "      <th>144</th>\n",
       "      <td>HG00358:26633832-26796472</td>\n",
       "      <td>C</td>\n",
       "      <td>2763</td>\n",
       "      <td>26749220</td>\n",
       "      <td>26751983</td>\n",
       "      <td>cyan</td>\n",
       "      <td>0</td>\n",
       "    </tr>\n",
       "    <tr>\n",
       "      <th>145</th>\n",
       "      <td>HG00358:26633832-26796472</td>\n",
       "      <td>C</td>\n",
       "      <td>2759</td>\n",
       "      <td>26751983</td>\n",
       "      <td>26754742</td>\n",
       "      <td>cyan</td>\n",
       "      <td>0</td>\n",
       "    </tr>\n",
       "    <tr>\n",
       "      <th>146</th>\n",
       "      <td>HG00358:26633832-26796472</td>\n",
       "      <td>C</td>\n",
       "      <td>2758</td>\n",
       "      <td>26754742</td>\n",
       "      <td>26757500</td>\n",
       "      <td>cyan</td>\n",
       "      <td>0</td>\n",
       "    </tr>\n",
       "    <tr>\n",
       "      <th>147</th>\n",
       "      <td>HG00358:26633832-26796472</td>\n",
       "      <td>C</td>\n",
       "      <td>2758</td>\n",
       "      <td>26757500</td>\n",
       "      <td>26760258</td>\n",
       "      <td>cyan</td>\n",
       "      <td>0</td>\n",
       "    </tr>\n",
       "    <tr>\n",
       "      <th>148</th>\n",
       "      <td>HG00358:26633832-26796472</td>\n",
       "      <td>C</td>\n",
       "      <td>2773</td>\n",
       "      <td>26760258</td>\n",
       "      <td>26763031</td>\n",
       "      <td>cyan</td>\n",
       "      <td>0</td>\n",
       "    </tr>\n",
       "    <tr>\n",
       "      <th>149</th>\n",
       "      <td>HG00358:26633832-26796472</td>\n",
       "      <td>C</td>\n",
       "      <td>2764</td>\n",
       "      <td>26763031</td>\n",
       "      <td>26765795</td>\n",
       "      <td>cyan</td>\n",
       "      <td>0</td>\n",
       "    </tr>\n",
       "    <tr>\n",
       "      <th>150</th>\n",
       "      <td>HG00358:26633832-26796472</td>\n",
       "      <td>C</td>\n",
       "      <td>2763</td>\n",
       "      <td>26765795</td>\n",
       "      <td>26768558</td>\n",
       "      <td>cyan</td>\n",
       "      <td>0</td>\n",
       "    </tr>\n",
       "    <tr>\n",
       "      <th>151</th>\n",
       "      <td>HG00358:26633832-26796472</td>\n",
       "      <td>C</td>\n",
       "      <td>2719</td>\n",
       "      <td>26768558</td>\n",
       "      <td>26771277</td>\n",
       "      <td>cyan</td>\n",
       "      <td>0</td>\n",
       "    </tr>\n",
       "    <tr>\n",
       "      <th>152</th>\n",
       "      <td>HG00358:26633832-26796472</td>\n",
       "      <td>C</td>\n",
       "      <td>2774</td>\n",
       "      <td>26771277</td>\n",
       "      <td>26774051</td>\n",
       "      <td>cyan</td>\n",
       "      <td>0</td>\n",
       "    </tr>\n",
       "    <tr>\n",
       "      <th>153</th>\n",
       "      <td>HG00358:26633832-26796472</td>\n",
       "      <td>C</td>\n",
       "      <td>2765</td>\n",
       "      <td>26774051</td>\n",
       "      <td>26776816</td>\n",
       "      <td>cyan</td>\n",
       "      <td>0</td>\n",
       "    </tr>\n",
       "    <tr>\n",
       "      <th>154</th>\n",
       "      <td>HG00358:26633832-26796472</td>\n",
       "      <td>C</td>\n",
       "      <td>2749</td>\n",
       "      <td>26776816</td>\n",
       "      <td>26779565</td>\n",
       "      <td>cyan</td>\n",
       "      <td>0</td>\n",
       "    </tr>\n",
       "    <tr>\n",
       "      <th>155</th>\n",
       "      <td>HG00358:26633832-26796472</td>\n",
       "      <td>C</td>\n",
       "      <td>2769</td>\n",
       "      <td>26779565</td>\n",
       "      <td>26782334</td>\n",
       "      <td>cyan</td>\n",
       "      <td>0</td>\n",
       "    </tr>\n",
       "    <tr>\n",
       "      <th>156</th>\n",
       "      <td>HG00358:26633832-26796472</td>\n",
       "      <td>C</td>\n",
       "      <td>2749</td>\n",
       "      <td>26782334</td>\n",
       "      <td>26785083</td>\n",
       "      <td>cyan</td>\n",
       "      <td>0</td>\n",
       "    </tr>\n",
       "    <tr>\n",
       "      <th>157</th>\n",
       "      <td>HG00358:26633832-26796472</td>\n",
       "      <td>C</td>\n",
       "      <td>2714</td>\n",
       "      <td>26785083</td>\n",
       "      <td>26787797</td>\n",
       "      <td>cyan</td>\n",
       "      <td>0</td>\n",
       "    </tr>\n",
       "    <tr>\n",
       "      <th>158</th>\n",
       "      <td>HG00358:26633832-26796472</td>\n",
       "      <td>C</td>\n",
       "      <td>2779</td>\n",
       "      <td>26787797</td>\n",
       "      <td>26790576</td>\n",
       "      <td>cyan</td>\n",
       "      <td>0</td>\n",
       "    </tr>\n",
       "    <tr>\n",
       "      <th>159</th>\n",
       "      <td>HG00358:26633832-26796472</td>\n",
       "      <td>C</td>\n",
       "      <td>2774</td>\n",
       "      <td>26790576</td>\n",
       "      <td>26793350</td>\n",
       "      <td>cyan</td>\n",
       "      <td>0</td>\n",
       "    </tr>\n",
       "    <tr>\n",
       "      <th>160</th>\n",
       "      <td>HG00358:26633832-26796472</td>\n",
       "      <td>C</td>\n",
       "      <td>1861</td>\n",
       "      <td>26793350</td>\n",
       "      <td>26795211</td>\n",
       "      <td>cyan</td>\n",
       "      <td>0</td>\n",
       "    </tr>\n",
       "  </tbody>\n",
       "</table>\n",
       "</div>"
      ],
      "text/plain": [
       "                      Fragment Orientation  Length     Start       End Color  \\\n",
       "123  HG00358:26633832-26796472           C    1300  26694030  26695330  cyan   \n",
       "124  HG00358:26633832-26796472           C    1500  26695319  26696819  cyan   \n",
       "125  HG00358:26633832-26796472           C    2759  26696819  26699578  cyan   \n",
       "126  HG00358:26633832-26796472           C    2754  26699578  26702332  cyan   \n",
       "127  HG00358:26633832-26796472           C    2769  26702332  26705101  cyan   \n",
       "128  HG00358:26633832-26796472           C    2764  26705101  26707865  cyan   \n",
       "129  HG00358:26633832-26796472           C    2748  26707865  26710613  cyan   \n",
       "130  HG00358:26633832-26796472           C    2764  26710613  26713377  cyan   \n",
       "131  HG00358:26633832-26796472           C    2764  26713377  26716141  cyan   \n",
       "132  HG00358:26633832-26796472           C    2748  26716141  26718889  cyan   \n",
       "133  HG00358:26633832-26796472           C    2764  26718889  26721653  cyan   \n",
       "134  HG00358:26633832-26796472           C    2764  26721653  26724417  cyan   \n",
       "135  HG00358:26633832-26796472           C    2754  26724417  26727171  cyan   \n",
       "136  HG00358:26633832-26796472           C    2733  26727171  26729904  cyan   \n",
       "137  HG00358:26633832-26796472           C    2724  26729904  26732628  cyan   \n",
       "138  HG00358:26633832-26796472           C    2749  26732628  26735377  cyan   \n",
       "139  HG00358:26633832-26796472           C    2769  26735377  26738146  cyan   \n",
       "140  HG00358:26633832-26796472           C    2789  26738146  26740935  cyan   \n",
       "141  HG00358:26633832-26796472           C    2757  26740935  26743692  cyan   \n",
       "142  HG00358:26633832-26796472           C    2759  26743692  26746451  cyan   \n",
       "143  HG00358:26633832-26796472           C    2769  26746451  26749220  cyan   \n",
       "144  HG00358:26633832-26796472           C    2763  26749220  26751983  cyan   \n",
       "145  HG00358:26633832-26796472           C    2759  26751983  26754742  cyan   \n",
       "146  HG00358:26633832-26796472           C    2758  26754742  26757500  cyan   \n",
       "147  HG00358:26633832-26796472           C    2758  26757500  26760258  cyan   \n",
       "148  HG00358:26633832-26796472           C    2773  26760258  26763031  cyan   \n",
       "149  HG00358:26633832-26796472           C    2764  26763031  26765795  cyan   \n",
       "150  HG00358:26633832-26796472           C    2763  26765795  26768558  cyan   \n",
       "151  HG00358:26633832-26796472           C    2719  26768558  26771277  cyan   \n",
       "152  HG00358:26633832-26796472           C    2774  26771277  26774051  cyan   \n",
       "153  HG00358:26633832-26796472           C    2765  26774051  26776816  cyan   \n",
       "154  HG00358:26633832-26796472           C    2749  26776816  26779565  cyan   \n",
       "155  HG00358:26633832-26796472           C    2769  26779565  26782334  cyan   \n",
       "156  HG00358:26633832-26796472           C    2749  26782334  26785083  cyan   \n",
       "157  HG00358:26633832-26796472           C    2714  26785083  26787797  cyan   \n",
       "158  HG00358:26633832-26796472           C    2779  26787797  26790576  cyan   \n",
       "159  HG00358:26633832-26796472           C    2774  26790576  26793350  cyan   \n",
       "160  HG00358:26633832-26796472           C    1861  26793350  26795211  cyan   \n",
       "\n",
       "     SpacerBlock  \n",
       "123            0  \n",
       "124            0  \n",
       "125            0  \n",
       "126            0  \n",
       "127            0  \n",
       "128            0  \n",
       "129            0  \n",
       "130            0  \n",
       "131            0  \n",
       "132            0  \n",
       "133            0  \n",
       "134            0  \n",
       "135            0  \n",
       "136            0  \n",
       "137            0  \n",
       "138            0  \n",
       "139            0  \n",
       "140            0  \n",
       "141            0  \n",
       "142            0  \n",
       "143            0  \n",
       "144            0  \n",
       "145            0  \n",
       "146            0  \n",
       "147            0  \n",
       "148            0  \n",
       "149            0  \n",
       "150            0  \n",
       "151            0  \n",
       "152            0  \n",
       "153            0  \n",
       "154            0  \n",
       "155            0  \n",
       "156            0  \n",
       "157            0  \n",
       "158            0  \n",
       "159            0  \n",
       "160            0  "
      ]
     },
     "execution_count": 11,
     "metadata": {},
     "output_type": "execute_result"
    }
   ],
   "source": [
    "HG00358[HG00358['Color']=='cyan']"
   ]
  },
  {
   "cell_type": "code",
   "execution_count": 11,
   "id": "c0bf5d23",
   "metadata": {},
   "outputs": [
    {
     "name": "stdout",
     "output_type": "stream",
     "text": [
      "DYZ1 in HG002: 5717\n",
      "DYZ1 in HG00358: 5436\n",
      "DYZ1 in HG01952: 3580\n",
      "DYZ1 in HG01890: 3124\n",
      "DYZ1 in HG02011: 4289\n",
      "DYZ1 in HG01106: 5910\n",
      "DYZ1 in HC02666: 4771\n"
     ]
    }
   ],
   "source": [
    "print(\"DYZ1 in HG002: \"+str(len(HG002[HG002['Color']=='black'])))\n",
    "print(\"DYZ1 in HG00358: \"+str(len(HG00358[HG00358['Color']=='black'])))\n",
    "print(\"DYZ1 in HG01952: \"+str(len(HG01952[HG01952['Color']=='black'])))\n",
    "print(\"DYZ1 in HG01890: \"+str(len(HG01890[HG01890['Color']=='black'])))\n",
    "print(\"DYZ1 in HG02011: \"+str(len(HG02011[HG02011['Color']=='black'])))\n",
    "print(\"DYZ1 in HG01106: \"+str(len(HG01106[HG01106['Color']=='black'])))\n",
    "print(\"DYZ1 in HC02666: \"+str(len(HC02666[HC02666['Color']=='black'])))"
   ]
  },
  {
   "cell_type": "code",
   "execution_count": 17,
   "id": "afa8cd96",
   "metadata": {},
   "outputs": [
    {
     "data": {
      "text/plain": [
       "4689.571428571428"
      ]
     },
     "execution_count": 17,
     "metadata": {},
     "output_type": "execute_result"
    }
   ],
   "source": [
    "np.mean([5717,3580,5436,3124,4289,5910,4771])"
   ]
  },
  {
   "cell_type": "code",
   "execution_count": 15,
   "id": "19df8696",
   "metadata": {},
   "outputs": [
    {
     "name": "stdout",
     "output_type": "stream",
     "text": [
      "HG002 Ratio (DYZ1/DYZ2): 0.9742672119972734\n",
      "HG00358 Ratio (DYZ1/DYZ2): 1.0387922797630422\n",
      "HG01952 Ratio (DYZ1/DYZ2): 0.8918784255107125\n",
      "HG01890 Ratio (DYZ1/DYZ2): 1.1639344262295082\n",
      "HG02011 Ratio (DYZ1/DYZ2): 1.3221331689272504\n",
      "HG01106 Ratio (DYZ1/DYZ2): 0.881694763538714\n",
      "HG01106 Ratio (DYZ1/DYZ2): 1.2992919389978212\n"
     ]
    }
   ],
   "source": [
    "print(\"HG002 Ratio (DYZ1/DYZ2): \"+str(5717/5868))\n",
    "print(\"HG00358 Ratio (DYZ1/DYZ2): \"+str(5436/5233))\n",
    "print(\"HG01952 Ratio (DYZ1/DYZ2): \"+str(3580/4014))\n",
    "print(\"HG01890 Ratio (DYZ1/DYZ2): \"+str(3124/2684))\n",
    "print(\"HG02011 Ratio (DYZ1/DYZ2): \"+str(4289/3244))\n",
    "print(\"HG01106 Ratio (DYZ1/DYZ2): \"+str(5910/6703))\n",
    "print(\"HG01106 Ratio (DYZ1/DYZ2): \"+str(4771/3672))"
   ]
  },
  {
   "cell_type": "code",
   "execution_count": 38,
   "id": "f6dc14ad",
   "metadata": {},
   "outputs": [
    {
     "name": "stdout",
     "output_type": "stream",
     "text": [
      "19437.8\n",
      "14083.199999999999\n",
      "33520.998999999996\n",
      "0.5798454700038782\n"
     ]
    }
   ],
   "source": [
    "print(5717*3.4)\n",
    "print(5868*2.4)\n",
    "print(19437.8+14083.199)\n",
    "print(19437/33521)"
   ]
  },
  {
   "cell_type": "code",
   "execution_count": 39,
   "id": "eedc918f",
   "metadata": {},
   "outputs": [
    {
     "name": "stdout",
     "output_type": "stream",
     "text": [
      "18482.399999999998\n",
      "12559.199999999999\n",
      "31041.58\n",
      "0.59538689517428\n"
     ]
    }
   ],
   "source": [
    "print(5436*3.4)\n",
    "print(5233*2.4)\n",
    "print(18482.39+12559.19)\n",
    "print(18482/31042)"
   ]
  },
  {
   "cell_type": "code",
   "execution_count": 40,
   "id": "6055d49e",
   "metadata": {},
   "outputs": [
    {
     "name": "stdout",
     "output_type": "stream",
     "text": [
      "12172.0\n",
      "9633.6\n",
      "21805.6\n",
      "0.5582205916074295\n"
     ]
    }
   ],
   "source": [
    "print(3580*3.4)\n",
    "print(4014*2.4)\n",
    "print(12172+9633.6)\n",
    "print(12172/21805)"
   ]
  },
  {
   "cell_type": "code",
   "execution_count": 41,
   "id": "a145631f",
   "metadata": {},
   "outputs": [
    {
     "name": "stdout",
     "output_type": "stream",
     "text": [
      "10621.6\n",
      "6441.599999999999\n",
      "17063.190000000002\n",
      "0.6224579499501847\n"
     ]
    }
   ],
   "source": [
    "print(3124*3.4)\n",
    "print(2684*2.4)\n",
    "print(10621.6+6441.59)\n",
    "print(10621/17063)"
   ]
  },
  {
   "cell_type": "code",
   "execution_count": 42,
   "id": "ce304807",
   "metadata": {},
   "outputs": [
    {
     "name": "stdout",
     "output_type": "stream",
     "text": [
      "14582.6\n",
      "7785.599999999999\n",
      "22368.190000000002\n",
      "0.6519134477825465\n"
     ]
    }
   ],
   "source": [
    "print(4289*3.4)\n",
    "print(3244*2.4)\n",
    "print(14582.6+7785.59)\n",
    "print(14582/22368)"
   ]
  },
  {
   "cell_type": "code",
   "execution_count": 43,
   "id": "1e55b490",
   "metadata": {},
   "outputs": [
    {
     "name": "stdout",
     "output_type": "stream",
     "text": [
      "20094.0\n",
      "16087.199999999999\n",
      "36181.19\n",
      "0.555374367762085\n"
     ]
    }
   ],
   "source": [
    "print(5910*3.4)\n",
    "print(6703*2.4)\n",
    "print(20094.0+16087.19)\n",
    "print(20094/36181)"
   ]
  },
  {
   "cell_type": "code",
   "execution_count": 44,
   "id": "f37afaaa",
   "metadata": {},
   "outputs": [
    {
     "name": "stdout",
     "output_type": "stream",
     "text": [
      "16221.4\n",
      "8812.8\n",
      "25034.199999999997\n",
      "0.6479587760645522\n"
     ]
    }
   ],
   "source": [
    "print(4771*3.4)\n",
    "print(3672*2.4)\n",
    "print(16221.4+8812.8)\n",
    "print(16221/25034)"
   ]
  },
  {
   "cell_type": "code",
   "execution_count": 23,
   "id": "a9405566",
   "metadata": {},
   "outputs": [
    {
     "data": {
      "text/plain": [
       "0.57986276849642"
      ]
     },
     "execution_count": 23,
     "metadata": {},
     "output_type": "execute_result"
    }
   ],
   "source": [
    "19437/33520"
   ]
  },
  {
   "cell_type": "code",
   "execution_count": 12,
   "id": "36c9d2be",
   "metadata": {},
   "outputs": [],
   "source": [
    "HG002['Sample']='HG002'\n",
    "HG00358['Sample']='HG00358' # = pd.read_csv(\"/home/mark/Desktop/chromosome_y/DYZ1_Region_Analysis/Block_Sequences/HG00358/Finalized_Fragmentdf.csv\").drop(columns=['Unnamed: 0','index'])\n",
    "HG01952['Sample']='HG01952' #= pd.read_csv(\"/home/mark/Desktop/chromosome_y/DYZ1_Region_Analysis/Block_Sequences/HG01952/Finalized_Fragmentdf.csv\").drop(columns=['Unnamed: 0','index'])\n",
    "HG01890['Sample']='HG01890' #= pd.read_csv(\"/home/mark/Desktop/chromosome_y/DYZ1_Region_Analysis/Block_Sequences/HG01890/Finalized_Fragmentdf.csv\").drop(columns=['Unnamed: 0','index'])\n",
    "HG02011['Sample']='HG02011' #= pd.read_csv(\"/home/mark/Desktop/chromosome_y/DYZ1_Region_Analysis/Block_Sequences/HG02011/Finalized_Fragmentdf.csv\").drop(columns=['Unnamed: 0','index'])\n",
    "HG01106['Sample']='HG01106' #= pd.read_csv(\"/home/mark/Desktop/chromosome_y/DYZ1_Region_Analysis/Block_Sequences/HG01106/Finalized_Fragmentdf.csv\").drop(columns=['Unnamed: 0','index'])\n",
    "HC02666['Sample']='HC02666' #= pd.read_csv(\"/home/mark/Desktop/chromosome_y/DYZ1_Region_Analysis/Block_Sequences/HC02666/Finalized_Fragmentdf.csv\").drop(columns=['Unnamed: 0','index'])"
   ]
  },
  {
   "cell_type": "code",
   "execution_count": 13,
   "id": "40b132ab",
   "metadata": {
    "scrolled": true
   },
   "outputs": [],
   "source": [
    "DFList = [HG002, HG00358, HG01952, HG01890, HG02011, HG01106, HC02666]\n",
    "CombinedDF = pd.concat(DFList)"
   ]
  },
  {
   "cell_type": "code",
   "execution_count": 16,
   "id": "63a60528",
   "metadata": {},
   "outputs": [
    {
     "data": {
      "text/plain": [
       "3553.0"
      ]
     },
     "execution_count": 16,
     "metadata": {},
     "output_type": "execute_result"
    }
   ],
   "source": [
    "np.median(CombinedDF[CombinedDF['Color']=='black']['Length'])"
   ]
  },
  {
   "cell_type": "code",
   "execution_count": 10,
   "id": "8808b5c3",
   "metadata": {},
   "outputs": [
    {
     "name": "stdout",
     "output_type": "stream",
     "text": [
      "HG01890\n",
      "Counter({'black': 3124, 'grey': 71, 'cyan': 44, 'red': 33})\n",
      "\n",
      "\n",
      "HG002\n",
      "Counter({'black': 5717, 'red': 60, 'grey': 54, 'cyan': 35})\n",
      "\n",
      "\n",
      "HG01952\n",
      "Counter({'black': 3580, 'grey': 58, 'red': 57, 'cyan': 42})\n",
      "\n",
      "\n",
      "HG00358\n",
      "Counter({'black': 5436, 'grey': 72, 'red': 51, 'cyan': 38})\n",
      "\n",
      "\n",
      "HG02011\n",
      "Counter({'black': 4289, 'grey': 60, 'red': 51, 'cyan': 35})\n",
      "\n",
      "\n",
      "HG01106\n",
      "Counter({'black': 5910, 'grey': 63, 'red': 53, 'cyan': 50})\n",
      "\n",
      "\n",
      "HC02666\n",
      "Counter({'black': 4771, 'red': 73, 'grey': 46, 'cyan': 41})\n",
      "\n",
      "\n"
     ]
    }
   ],
   "source": [
    "import collections\n",
    "for sample in set(CombinedDF['Sample']):\n",
    "    print(sample)\n",
    "    print(collections.Counter(CombinedDF[CombinedDF['Sample']==sample]['Color']))\n",
    "    print('\\n')"
   ]
  },
  {
   "cell_type": "code",
   "execution_count": 7,
   "id": "02b5d4ee",
   "metadata": {},
   "outputs": [
    {
     "name": "stdout",
     "output_type": "stream",
     "text": [
      "Counter({'black': 5717, 'red': 60, 'grey': 54, 'cyan': 35})\n",
      "Counter({'black': 5436, 'grey': 72, 'red': 51, 'cyan': 38})\n",
      "Counter({'black': 3580, 'grey': 58, 'red': 57, 'cyan': 42})\n",
      "Counter({'black': 3124, 'grey': 71, 'cyan': 44, 'red': 33})\n",
      "Counter({'black': 4289, 'grey': 60, 'red': 51, 'cyan': 35})\n",
      "Counter({'black': 5910, 'grey': 63, 'red': 53, 'cyan': 50})\n",
      "Counter({'black': 4771, 'red': 73, 'grey': 46, 'cyan': 41})\n"
     ]
    }
   ],
   "source": [
    "import collections\n",
    "print(collections.Counter(HG002['Color']))\n",
    "print(collections.Counter(HG00358['Color']))\n",
    "print(collections.Counter(HG01952['Color']))\n",
    "print(collections.Counter(HG01890['Color']))\n",
    "print(collections.Counter(HG02011['Color']))\n",
    "print(collections.Counter(HG01106['Color']))\n",
    "print(collections.Counter(HC02666['Color']))"
   ]
  },
  {
   "cell_type": "code",
   "execution_count": 11,
   "id": "1e2af727",
   "metadata": {},
   "outputs": [
    {
     "name": "stdout",
     "output_type": "stream",
     "text": [
      "3124\n",
      "4689.571428571428\n",
      "5910\n"
     ]
    }
   ],
   "source": [
    "print(min([5717,5436,3580,3124,4289,5910,4771]))\n",
    "print(np.mean([5717,5436,3580,3124,4289,5910,4771]))\n",
    "print(max([5717,5436,3580,3124,4289,5910,4771]))"
   ]
  },
  {
   "cell_type": "code",
   "execution_count": null,
   "id": "43f1031e",
   "metadata": {},
   "outputs": [],
   "source": []
  },
  {
   "cell_type": "code",
   "execution_count": 12,
   "id": "cb6d02dd",
   "metadata": {},
   "outputs": [
    {
     "name": "stdout",
     "output_type": "stream",
     "text": [
      "2901\n",
      "2850.0235849056603\n",
      "2871.0\n",
      "141.9037822118084\n",
      "1705\n"
     ]
    }
   ],
   "source": [
    "print(np.max(CombinedDF[CombinedDF['Color']=='grey']['Length']))\n",
    "print(np.mean(CombinedDF[CombinedDF['Color']=='grey']['Length']))\n",
    "print(np.median(CombinedDF[CombinedDF['Color']=='grey']['Length']))\n",
    "print(np.std(CombinedDF[CombinedDF['Color']=='grey']['Length']))\n",
    "print(np.min(CombinedDF[CombinedDF['Color']=='grey']['Length']))"
   ]
  },
  {
   "cell_type": "code",
   "execution_count": 13,
   "id": "4b1cda1e",
   "metadata": {},
   "outputs": [
    {
     "name": "stdout",
     "output_type": "stream",
     "text": [
      "3151\n",
      "2839.378306878307\n",
      "3107.0\n",
      "460.4402221285051\n",
      "1375\n"
     ]
    }
   ],
   "source": [
    "print(np.max(CombinedDF[CombinedDF['Color']=='red']['Length']))\n",
    "print(np.mean(CombinedDF[CombinedDF['Color']=='red']['Length']))\n",
    "print(np.median(CombinedDF[CombinedDF['Color']=='red']['Length']))\n",
    "print(np.std(CombinedDF[CombinedDF['Color']=='red']['Length']))\n",
    "print(np.min(CombinedDF[CombinedDF['Color']=='red']['Length']))"
   ]
  },
  {
   "cell_type": "code",
   "execution_count": 14,
   "id": "b27f10cc",
   "metadata": {},
   "outputs": [
    {
     "name": "stdout",
     "output_type": "stream",
     "text": [
      "2789\n",
      "2657.2140350877194\n",
      "2758.0\n",
      "324.8477643119234\n",
      "1299\n"
     ]
    }
   ],
   "source": [
    "print(np.max(CombinedDF[CombinedDF['Color']=='cyan']['Length']))\n",
    "print(np.mean(CombinedDF[CombinedDF['Color']=='cyan']['Length']))\n",
    "print(np.median(CombinedDF[CombinedDF['Color']=='cyan']['Length']))\n",
    "print(np.std(CombinedDF[CombinedDF['Color']=='cyan']['Length']))\n",
    "print(np.min(CombinedDF[CombinedDF['Color']=='cyan']['Length']))"
   ]
  },
  {
   "cell_type": "code",
   "execution_count": 20,
   "id": "318316f0",
   "metadata": {},
   "outputs": [
    {
     "data": {
      "text/plain": [
       "0.9514119474822554"
      ]
     },
     "execution_count": 20,
     "metadata": {},
     "output_type": "execute_result"
    }
   ],
   "source": [
    "31232/(len(CombinedDF[CombinedDF['Color']=='black']['Length']))"
   ]
  },
  {
   "cell_type": "code",
   "execution_count": 24,
   "id": "710c6e90",
   "metadata": {},
   "outputs": [
    {
     "data": {
      "text/plain": [
       "32827"
      ]
     },
     "execution_count": 24,
     "metadata": {},
     "output_type": "execute_result"
    }
   ],
   "source": [
    "len(CombinedDF[CombinedDF['Color']=='black']['Length'])"
   ]
  },
  {
   "cell_type": "code",
   "execution_count": 22,
   "id": "754d3985",
   "metadata": {},
   "outputs": [
    {
     "data": {
      "text/plain": [
       "3543.5246221823772"
      ]
     },
     "execution_count": 22,
     "metadata": {},
     "output_type": "execute_result"
    }
   ],
   "source": [
    "np.mean(CombinedDF[(CombinedDF['Color']=='black') & (CombinedDF['Length']>=3000)]['Length'])"
   ]
  },
  {
   "cell_type": "code",
   "execution_count": 15,
   "id": "d48de56c",
   "metadata": {},
   "outputs": [
    {
     "name": "stdout",
     "output_type": "stream",
     "text": [
      "3608\n",
      "3470.209370335395\n",
      "3553.0\n",
      "344.5819672315318\n",
      "1165\n"
     ]
    }
   ],
   "source": [
    "print(np.max(CombinedDF[CombinedDF['Color']=='black']['Length']))\n",
    "print(np.mean(CombinedDF[CombinedDF['Color']=='black']['Length']))\n",
    "print(np.median(CombinedDF[CombinedDF['Color']=='black']['Length']))\n",
    "print(np.std(CombinedDF[CombinedDF['Color']=='black']['Length']))\n",
    "print(np.min(CombinedDF[CombinedDF['Color']=='black']['Length']))"
   ]
  },
  {
   "cell_type": "code",
   "execution_count": null,
   "id": "13f1cdb9",
   "metadata": {},
   "outputs": [],
   "source": [
    "plt.hist(CombinedDF[CombinedDF['Color']=='grey']['Length'])"
   ]
  },
  {
   "cell_type": "markdown",
   "id": "55d0e80c",
   "metadata": {},
   "source": [
    "# Compare Similarity to Kmer Profile"
   ]
  },
  {
   "cell_type": "code",
   "execution_count": null,
   "id": "b04c441e",
   "metadata": {},
   "outputs": [],
   "source": [
    "HG002"
   ]
  },
  {
   "cell_type": "code",
   "execution_count": null,
   "id": "52ec2f02",
   "metadata": {},
   "outputs": [],
   "source": [
    "#pysam.faidx('/home/mark/Desktop/chromosome_y/assemblies/assembly_pysam/T2T.chrY.fasta', 'chrY:'+str(row))\n",
    "#pysam.faidx('/home/mark/Desktop/chromosome_y/assemblies/assembly_pysam/HC02666.HIFIRW.ONTUL.na.chrY.fasta', \"chrY.01-24.01.PAR1-PAR2.RV.unassigned-0000749.HC02666:\"+str(desired_df2.at[row,'Start'])+\"-\"+str(desired_df2.at[row,'End']))\n",
    "#pysam.faidx('/home/mark/Desktop/chromosome_y/assemblies/assembly_pysam/HG01890.chrY.fasta', \"chrY.01-24.01.PAR1-PAR2.RV.utig4-384.HG01890:\"+str(desired_df2.at[row,'Start'])+\"-\"+str(desired_df2.at[row,'End']))\n",
    "#pysam.faidx('/home/mark/Desktop/chromosome_y/assemblies/assembly/FinalGenomes/HG02011.HIFIRW.ONTUL.na.chrY.fasta', \"chrY.09-24.01.HET1_centro-PAR2.FW.unassigned-0000585.\"+str(row))\n",
    "#pysam.faidx('/home/mark/Desktop/chromosome_y/assemblies/assembly/FinalGenomes/HG01952.HIFIRW.ONTUL.na.chrY.fasta', \"chrY.21-24.01.AMPL7-PAR2.FW.unassigned-0010036.\"+str(row))\n",
    "#pysam.faidx('/home/mark/Desktop/chromosome_y/assemblies/assembly_pysam/HG00358.chrY.fasta', \"chrY.01-24.01.PAR1-PAR2.RV.utig4-2510.HG00358:\"+str(row.split(\"HG00358:\")[1]))\n",
    "#pysam.faidx('/home/mark/Desktop/chromosome_y/assemblies/assembly/FinalGenomes/HG01106.HIFIRW.ONTUL.na.chrY.fasta', \"chrY.21-24.01.AMPL7-PAR2.FW.unassigned-0000976.\"+str(row))"
   ]
  },
  {
   "cell_type": "code",
   "execution_count": null,
   "id": "26e725f0",
   "metadata": {},
   "outputs": [],
   "source": [
    "def prevalenceFilter(df):\n",
    "    dfo = df.copy()\n",
    "    dfo2 = dfo.div(dfo.sum(axis=1), axis=0).copy()            \n",
    "    return(dfo2)"
   ]
  },
  {
   "cell_type": "code",
   "execution_count": null,
   "id": "9b86ece2",
   "metadata": {},
   "outputs": [],
   "source": [
    "import pysam\n",
    "from Bio.Seq import Seq\n",
    "def split(word):\n",
    "    return [char for char in word]\n",
    "\n",
    "def kmerProile(df, sampleName):\n",
    "    tempList = {}\n",
    "\n",
    "    #All Rows\n",
    "    for row in df.index:\n",
    "\n",
    "        tempDict = {}\n",
    "        \n",
    "\n",
    "        if sampleName == 'chrY':\n",
    "            sequence = pysam.faidx('/home/mark/Desktop/chromosome_y/assemblies/assembly_pysam/T2T.chrY.fasta', \"chrY:\"+str(df.at[row,'Start'])+\"-\"+str(df.at[row,'End']))\n",
    "\n",
    "        elif sampleName == 'HC02666':\n",
    "            sequence = pysam.faidx('/home/mark/Desktop/chromosome_y/assemblies/assembly_pysam/HC02666.HIFIRW.ONTUL.na.chrY.fasta', \"chrY.01-24.01.PAR1-PAR2.RV.unassigned-0000749.HC02666:\"+str(df.at[row,'Start'])+\"-\"+str(df.at[row,'End']))\n",
    "\n",
    "        elif sampleName == 'HG01890':\n",
    "            sequence = pysam.faidx('/home/mark/Desktop/chromosome_y/assemblies/assembly_pysam/HG01890.chrY.fasta', \"chrY.01-24.01.PAR1-PAR2.RV.utig4-384.HG01890:\"+str(df.at[row,'Start'])+\"-\"+str(df.at[row,'End']))\n",
    "        \n",
    "        elif sampleName == 'HG00358':\n",
    "            sequence = pysam.faidx('/home/mark/Desktop/chromosome_y/assemblies/assembly_pysam/HG00358.chrY.fasta', \"chrY.01-24.01.PAR1-PAR2.RV.utig4-2510.HG00358:\"+str(df.at[row,'Start'])+\"-\"+str(df.at[row,'End']))\n",
    "\n",
    "        elif sampleName == 'HG01952':\n",
    "            sequence = pysam.faidx('/home/mark/Desktop/chromosome_y/assemblies/assembly/FinalGenomes/HG01952.HIFIRW.ONTUL.na.chrY.fasta', \"chrY.21-24.01.AMPL7-PAR2.FW.unassigned-0010036.HG01952:\"+str(df.at[row,'Start'])+\"-\"+str(df.at[row,'End']))\n",
    "\n",
    "        \n",
    "        elif sampleName == 'HG02011':\n",
    "            sequence = pysam.faidx('/home/mark/Desktop/chromosome_y/assemblies/assembly/FinalGenomes/HG02011.HIFIRW.ONTUL.na.chrY.fasta', \"chrY.09-24.01.HET1_centro-PAR2.FW.unassigned-0000585.HG02011:\"+str(df.at[row,'Start'])+\"-\"+str(df.at[row,'End']))\n",
    "\n",
    "        \n",
    "        elif sampleName == 'HG01106':\n",
    "            sequence = pysam.faidx('/home/mark/Desktop/chromosome_y/assemblies/assembly/FinalGenomes/HG01106.HIFIRW.ONTUL.na.chrY.fasta', \"chrY.21-24.01.AMPL7-PAR2.FW.unassigned-0000976.HG01106:\"+str(df.at[row,'Start'])+\"-\"+str(df.at[row,'End']))\n",
    "\n",
    "        \n",
    "        else:\n",
    "            print(\"HUH?\")\n",
    "            \n",
    "\n",
    "        if df.at[row,'Orientation'] == '+':\n",
    "\n",
    "\n",
    "            mySeq1 = sequence.split(str(sampleName)+\":\"+str(df.at[row,'Start'])+\"-\"+str(df.at[row,'End']))[1].strip()\n",
    "            seq = Seq(mySeq1)\n",
    "            mySeq = split(seq.reverse_complement())\n",
    "\n",
    "        else:\n",
    "            mySeq = (split(sequence.split(str(sampleName)+\":\"+str(df.at[row,'Start'])+\"-\"+str(df.at[row,'End']))[1].strip()))\n",
    "\n",
    "        goodSeq = []\n",
    "        for x in mySeq:\n",
    "            if str(x) != '\\n':\n",
    "                goodSeq.append(str(x))\n",
    "            else:\n",
    "                continue\n",
    "\n",
    "\n",
    "        i=0\n",
    "        while i < len(goodSeq):\n",
    "\n",
    "            if len(str(''.join(goodSeq[i:i+5])).strip()) > 4:\n",
    "                if str(''.join(goodSeq[i:i+5])) in tempDict.keys():\n",
    "                    tempDict[str(''.join(goodSeq[i:i+5]))]+=1\n",
    "                else:\n",
    "                    tempDict[str(''.join(goodSeq[i:i+5]))]=1\n",
    "\n",
    "            i+=1\n",
    "\n",
    "        tempList[str(sampleName)+\":\"+str(df.at[row,'Start'])+\"-\"+str(df.at[row,'End'])]=tempDict\n",
    "        \n",
    "    allKeys = []\n",
    "    for key in tempList.keys():\n",
    "        for kmer in tempList[key]:\n",
    "            if kmer in allKeys:\n",
    "                continue\n",
    "            else:\n",
    "                allKeys.append(kmer)\n",
    "\n",
    "    kmerDF = pd.DataFrame(index=[x for x in tempList.keys()], columns=[x for x in set(allKeys)]).fillna(0)\n",
    "    for key in tqdm(tempList.keys()):\n",
    "        for kmer in tempList[key]:\n",
    "            kmerDF.at[str(key),str(kmer)]= int(tempList[key][kmer])\n",
    "    abundanceKmer = prevalenceFilter(kmerDF)\n",
    "\n",
    "    return(abundanceKmer)"
   ]
  },
  {
   "cell_type": "code",
   "execution_count": null,
   "id": "c1a7d4b8",
   "metadata": {},
   "outputs": [],
   "source": [
    "HG002_KP = kmerProile(HG002, 'chrY')"
   ]
  },
  {
   "cell_type": "code",
   "execution_count": null,
   "id": "e0863187",
   "metadata": {},
   "outputs": [],
   "source": [
    "HC02666_KP = kmerProile(HC02666, 'HC02666')"
   ]
  },
  {
   "cell_type": "code",
   "execution_count": null,
   "id": "8fe7b089",
   "metadata": {},
   "outputs": [],
   "source": [
    "HG01890_KP = kmerProile(HG01890, 'HG01890')"
   ]
  },
  {
   "cell_type": "code",
   "execution_count": null,
   "id": "d15c4348",
   "metadata": {},
   "outputs": [],
   "source": [
    "HG01952_KP = kmerProile(HG01952, 'HG01952')"
   ]
  },
  {
   "cell_type": "code",
   "execution_count": null,
   "id": "ba5450ed",
   "metadata": {},
   "outputs": [],
   "source": [
    "HG02011_KP = kmerProile(HG02011, 'HG02011')"
   ]
  },
  {
   "cell_type": "code",
   "execution_count": null,
   "id": "c3594ab7",
   "metadata": {},
   "outputs": [],
   "source": [
    "HG01106_KP = kmerProile(HG01106, 'HG01106')"
   ]
  },
  {
   "cell_type": "code",
   "execution_count": null,
   "id": "b2bd11cb",
   "metadata": {},
   "outputs": [],
   "source": [
    "HG00358_KP = kmerProile(HG00358, 'HG00358')"
   ]
  },
  {
   "cell_type": "code",
   "execution_count": null,
   "id": "8e0162f8",
   "metadata": {},
   "outputs": [],
   "source": [
    "#HG00358_KP.to_csv(\"/home/mark/Desktop/chromosome_y/DYZ1_Region_Analysis/Kmer_Profiles/HG00358.csv\")\n",
    "#HG01106_KP.to_csv(\"/home/mark/Desktop/chromosome_y/DYZ1_Region_Analysis/Kmer_Profiles/HG01106.csv\")\n",
    "#HG02011_KP.to_csv(\"/home/mark/Desktop/chromosome_y/DYZ1_Region_Analysis/Kmer_Profiles/HG02011.csv\")\n",
    "#HG01952_KP.to_csv(\"/home/mark/Desktop/chromosome_y/DYZ1_Region_Analysis/Kmer_Profiles/HG01952.csv\")\n",
    "#HG01890_KP.to_csv(\"/home/mark/Desktop/chromosome_y/DYZ1_Region_Analysis/Kmer_Profiles/HG01890.csv\")\n",
    "#HC02666_KP.to_csv(\"/home/mark/Desktop/chromosome_y/DYZ1_Region_Analysis/Kmer_Profiles/HC02666.csv\")\n",
    "#HG002_KP.to_csv(\"/home/mark/Desktop/chromosome_y/DYZ1_Region_Analysis/Kmer_Profiles/HG002.csv\")"
   ]
  },
  {
   "cell_type": "code",
   "execution_count": 8,
   "id": "a0104793",
   "metadata": {},
   "outputs": [],
   "source": [
    "HG00358_KP = pd.read_csv(\"/home/mark/Desktop/chromosome_y/DYZ1_Region_Analysis/Kmer_Profiles/HG00358.csv\").rename(columns={'Unnamed: 0':'Repeat'}).set_index(\"Repeat\")\n",
    "HG01106_KP = pd.read_csv(\"/home/mark/Desktop/chromosome_y/DYZ1_Region_Analysis/Kmer_Profiles/HG01106.csv\").rename(columns={'Unnamed: 0':'Repeat'}).set_index(\"Repeat\")\n",
    "HG02011_KP = pd.read_csv(\"/home/mark/Desktop/chromosome_y/DYZ1_Region_Analysis/Kmer_Profiles/HG02011.csv\").rename(columns={'Unnamed: 0':'Repeat'}).set_index(\"Repeat\")\n",
    "HG01952_KP = pd.read_csv(\"/home/mark/Desktop/chromosome_y/DYZ1_Region_Analysis/Kmer_Profiles/HG01952.csv\").rename(columns={'Unnamed: 0':'Repeat'}).set_index(\"Repeat\")\n",
    "HG01890_KP = pd.read_csv(\"/home/mark/Desktop/chromosome_y/DYZ1_Region_Analysis/Kmer_Profiles/HG01890.csv\").rename(columns={'Unnamed: 0':'Repeat'}).set_index(\"Repeat\")\n",
    "HC02666_KP = pd.read_csv(\"/home/mark/Desktop/chromosome_y/DYZ1_Region_Analysis/Kmer_Profiles/HC02666.csv\").rename(columns={'Unnamed: 0':'Repeat'}).set_index(\"Repeat\")\n",
    "HG002_KP = pd.read_csv(\"/home/mark/Desktop/chromosome_y/DYZ1_Region_Analysis/Kmer_Profiles/HG002.csv\").rename(columns={'Unnamed: 0':'Repeat'}).set_index(\"Repeat\")"
   ]
  },
  {
   "cell_type": "code",
   "execution_count": 41,
   "id": "0f1c4be6",
   "metadata": {},
   "outputs": [],
   "source": [
    "filtAbund = abundanceConsensus.replace(0.0, np.nan).dropna(axis=1, thresh=1).fillna(0.0).copy()"
   ]
  },
  {
   "cell_type": "code",
   "execution_count": 42,
   "id": "79ec4ac6",
   "metadata": {},
   "outputs": [
    {
     "data": {
      "text/html": [
       "<div>\n",
       "<style scoped>\n",
       "    .dataframe tbody tr th:only-of-type {\n",
       "        vertical-align: middle;\n",
       "    }\n",
       "\n",
       "    .dataframe tbody tr th {\n",
       "        vertical-align: top;\n",
       "    }\n",
       "\n",
       "    .dataframe thead th {\n",
       "        text-align: right;\n",
       "    }\n",
       "</style>\n",
       "<table border=\"1\" class=\"dataframe\">\n",
       "  <thead>\n",
       "    <tr style=\"text-align: right;\">\n",
       "      <th></th>\n",
       "      <th>GATGG</th>\n",
       "      <th>GCTCG</th>\n",
       "      <th>GGAAA</th>\n",
       "      <th>GTCCT</th>\n",
       "      <th>TTGAC</th>\n",
       "      <th>CTGTG</th>\n",
       "      <th>ACTGA</th>\n",
       "      <th>GACTC</th>\n",
       "      <th>CTACG</th>\n",
       "      <th>CCAGT</th>\n",
       "      <th>...</th>\n",
       "      <th>CCTTG</th>\n",
       "      <th>CCGTG</th>\n",
       "      <th>ATCTA</th>\n",
       "      <th>AAAGT</th>\n",
       "      <th>TCAGT</th>\n",
       "      <th>TCCAA</th>\n",
       "      <th>ACAAA</th>\n",
       "      <th>GCAGT</th>\n",
       "      <th>GTACA</th>\n",
       "      <th>TTGGG</th>\n",
       "    </tr>\n",
       "    <tr>\n",
       "      <th>Unnamed: 0</th>\n",
       "      <th></th>\n",
       "      <th></th>\n",
       "      <th></th>\n",
       "      <th></th>\n",
       "      <th></th>\n",
       "      <th></th>\n",
       "      <th></th>\n",
       "      <th></th>\n",
       "      <th></th>\n",
       "      <th></th>\n",
       "      <th></th>\n",
       "      <th></th>\n",
       "      <th></th>\n",
       "      <th></th>\n",
       "      <th></th>\n",
       "      <th></th>\n",
       "      <th></th>\n",
       "      <th></th>\n",
       "      <th></th>\n",
       "      <th></th>\n",
       "      <th></th>\n",
       "    </tr>\n",
       "  </thead>\n",
       "  <tbody>\n",
       "    <tr>\n",
       "      <th>Yqhet_3k1bp</th>\n",
       "      <td>0.000321</td>\n",
       "      <td>0.000000</td>\n",
       "      <td>0.003852</td>\n",
       "      <td>0.000000</td>\n",
       "      <td>0.000000</td>\n",
       "      <td>0.00000</td>\n",
       "      <td>0.002568</td>\n",
       "      <td>0.000000</td>\n",
       "      <td>0.000000</td>\n",
       "      <td>0.000321</td>\n",
       "      <td>...</td>\n",
       "      <td>0.000000</td>\n",
       "      <td>0.000321</td>\n",
       "      <td>0.000321</td>\n",
       "      <td>0.000642</td>\n",
       "      <td>0.00000</td>\n",
       "      <td>0.001284</td>\n",
       "      <td>0.000642</td>\n",
       "      <td>0.003210</td>\n",
       "      <td>0.000000</td>\n",
       "      <td>0.000321</td>\n",
       "    </tr>\n",
       "    <tr>\n",
       "      <th>DYZ18_Yq</th>\n",
       "      <td>0.000350</td>\n",
       "      <td>0.000000</td>\n",
       "      <td>0.004895</td>\n",
       "      <td>0.000000</td>\n",
       "      <td>0.000350</td>\n",
       "      <td>0.00035</td>\n",
       "      <td>0.001748</td>\n",
       "      <td>0.000000</td>\n",
       "      <td>0.000000</td>\n",
       "      <td>0.000699</td>\n",
       "      <td>...</td>\n",
       "      <td>0.000000</td>\n",
       "      <td>0.000350</td>\n",
       "      <td>0.000350</td>\n",
       "      <td>0.000000</td>\n",
       "      <td>0.00035</td>\n",
       "      <td>0.000699</td>\n",
       "      <td>0.000699</td>\n",
       "      <td>0.002448</td>\n",
       "      <td>0.000000</td>\n",
       "      <td>0.000350</td>\n",
       "    </tr>\n",
       "    <tr>\n",
       "      <th>DYZ1_Yq</th>\n",
       "      <td>0.000842</td>\n",
       "      <td>0.000281</td>\n",
       "      <td>0.008135</td>\n",
       "      <td>0.000281</td>\n",
       "      <td>0.001122</td>\n",
       "      <td>0.00000</td>\n",
       "      <td>0.000842</td>\n",
       "      <td>0.005330</td>\n",
       "      <td>0.000281</td>\n",
       "      <td>0.000000</td>\n",
       "      <td>...</td>\n",
       "      <td>0.000281</td>\n",
       "      <td>0.000000</td>\n",
       "      <td>0.001122</td>\n",
       "      <td>0.001122</td>\n",
       "      <td>0.00000</td>\n",
       "      <td>0.001964</td>\n",
       "      <td>0.000281</td>\n",
       "      <td>0.000561</td>\n",
       "      <td>0.000281</td>\n",
       "      <td>0.000000</td>\n",
       "    </tr>\n",
       "    <tr>\n",
       "      <th>Yqhet_2k7bp</th>\n",
       "      <td>0.001087</td>\n",
       "      <td>0.000362</td>\n",
       "      <td>0.005797</td>\n",
       "      <td>0.000362</td>\n",
       "      <td>0.000725</td>\n",
       "      <td>0.00000</td>\n",
       "      <td>0.000725</td>\n",
       "      <td>0.005072</td>\n",
       "      <td>0.000000</td>\n",
       "      <td>0.000000</td>\n",
       "      <td>...</td>\n",
       "      <td>0.000362</td>\n",
       "      <td>0.000000</td>\n",
       "      <td>0.001087</td>\n",
       "      <td>0.000362</td>\n",
       "      <td>0.00000</td>\n",
       "      <td>0.000725</td>\n",
       "      <td>0.000362</td>\n",
       "      <td>0.000725</td>\n",
       "      <td>0.000362</td>\n",
       "      <td>0.000000</td>\n",
       "    </tr>\n",
       "  </tbody>\n",
       "</table>\n",
       "<p>4 rows × 647 columns</p>\n",
       "</div>"
      ],
      "text/plain": [
       "                GATGG     GCTCG     GGAAA     GTCCT     TTGAC    CTGTG  \\\n",
       "Unnamed: 0                                                               \n",
       "Yqhet_3k1bp  0.000321  0.000000  0.003852  0.000000  0.000000  0.00000   \n",
       "DYZ18_Yq     0.000350  0.000000  0.004895  0.000000  0.000350  0.00035   \n",
       "DYZ1_Yq      0.000842  0.000281  0.008135  0.000281  0.001122  0.00000   \n",
       "Yqhet_2k7bp  0.001087  0.000362  0.005797  0.000362  0.000725  0.00000   \n",
       "\n",
       "                ACTGA     GACTC     CTACG     CCAGT  ...     CCTTG     CCGTG  \\\n",
       "Unnamed: 0                                           ...                       \n",
       "Yqhet_3k1bp  0.002568  0.000000  0.000000  0.000321  ...  0.000000  0.000321   \n",
       "DYZ18_Yq     0.001748  0.000000  0.000000  0.000699  ...  0.000000  0.000350   \n",
       "DYZ1_Yq      0.000842  0.005330  0.000281  0.000000  ...  0.000281  0.000000   \n",
       "Yqhet_2k7bp  0.000725  0.005072  0.000000  0.000000  ...  0.000362  0.000000   \n",
       "\n",
       "                ATCTA     AAAGT    TCAGT     TCCAA     ACAAA     GCAGT  \\\n",
       "Unnamed: 0                                                               \n",
       "Yqhet_3k1bp  0.000321  0.000642  0.00000  0.001284  0.000642  0.003210   \n",
       "DYZ18_Yq     0.000350  0.000000  0.00035  0.000699  0.000699  0.002448   \n",
       "DYZ1_Yq      0.001122  0.001122  0.00000  0.001964  0.000281  0.000561   \n",
       "Yqhet_2k7bp  0.001087  0.000362  0.00000  0.000725  0.000362  0.000725   \n",
       "\n",
       "                GTACA     TTGGG  \n",
       "Unnamed: 0                       \n",
       "Yqhet_3k1bp  0.000000  0.000321  \n",
       "DYZ18_Yq     0.000000  0.000350  \n",
       "DYZ1_Yq      0.000281  0.000000  \n",
       "Yqhet_2k7bp  0.000362  0.000000  \n",
       "\n",
       "[4 rows x 647 columns]"
      ]
     },
     "execution_count": 42,
     "metadata": {},
     "output_type": "execute_result"
    }
   ],
   "source": [
    "filtAbund"
   ]
  },
  {
   "cell_type": "code",
   "execution_count": null,
   "id": "a703b519",
   "metadata": {},
   "outputs": [],
   "source": [
    "#HG002 \n",
    "#HG00358 \n",
    "#HG01952 \n",
    "#HG01890 \n",
    "#HG02011 \n",
    "#HG01106 \n",
    "#HC02666"
   ]
  },
  {
   "cell_type": "code",
   "execution_count": 25,
   "id": "88574628",
   "metadata": {},
   "outputs": [],
   "source": [
    "from scipy.spatial import distance\n",
    "def CompareSimilarity(df, conDF, outDF, inputName):\n",
    "\n",
    "    outDF['Identity'] = 'temp'\n",
    "    for row in outDF.index:\n",
    "        outDF.at[row,'Identity'] = str(inputName)+\":\"+str(outDF.at[row,'Start'])+\"-\"+str(outDF.at[row,'End'])\n",
    "\n",
    "    outDF.set_index(\"Identity\", inplace=True)\n",
    "    \n",
    "    outDF['Similarity_Percentage']= 0.0\n",
    "    for row in df.index:\n",
    "        if outDF.at[row,'Color'] == 'grey':\n",
    "            outDF.at[row,'Similarity_Percentage'] = float(distance.braycurtis(list(df[[x for x in conDF.columns]].loc[row]), list(conDF.loc['DYZ18_Yq'])))\n",
    "        elif outDF.at[row,'Color'] == 'red':\n",
    "            outDF.at[row,'Similarity_Percentage'] = float(distance.braycurtis(list(df[[x for x in conDF.columns]].loc[row]), list(conDF.loc['Yqhet_3k1bp'])))\n",
    "\n",
    "        elif outDF.at[row,'Color'] == 'cyan':\n",
    "            outDF.at[row,'Similarity_Percentage'] = float(distance.braycurtis(list(df[[x for x in conDF.columns]].loc[row]), list(conDF.loc['Yqhet_2k7bp'])))\n",
    "\n",
    "        elif outDF.at[row,'Color'] == 'black':\n",
    "            outDF.at[row,'Similarity_Percentage'] = float(distance.braycurtis(list(df[[x for x in conDF.columns]].loc[row]), list(conDF.loc['DYZ1_Yq'])))\n",
    "\n",
    "        else: \n",
    "            print(row)\n",
    "        \n",
    "    return(outDF)"
   ]
  },
  {
   "cell_type": "code",
   "execution_count": 74,
   "id": "ba29f032",
   "metadata": {},
   "outputs": [],
   "source": [
    "HG002_final = CompareSimilarity(HG002_KP,filtAbund,HG002,'chrY' )"
   ]
  },
  {
   "cell_type": "code",
   "execution_count": 75,
   "id": "ea2eb3bd",
   "metadata": {},
   "outputs": [],
   "source": [
    "HG00358_final = CompareSimilarity(HG00358_KP,filtAbund,HG00358,'HG00358' )\n",
    "HG01952_final = CompareSimilarity(HG01952_KP,filtAbund,HG01952,'HG01952' )\n",
    "HG01890_final = CompareSimilarity(HG01890_KP,filtAbund,HG01890,'HG01890' )\n",
    "HG02011_final = CompareSimilarity(HG02011_KP,filtAbund,HG02011,'HG02011' )\n",
    "HG01106_final = CompareSimilarity(HG01106_KP,filtAbund,HG01106,'HG01106' )\n",
    "HC02666_final = CompareSimilarity(HC02666_KP,filtAbund,HC02666,'HC02666' )"
   ]
  },
  {
   "cell_type": "code",
   "execution_count": 102,
   "id": "f3e5dae4",
   "metadata": {},
   "outputs": [],
   "source": [
    "colorDict = {'grey':{'VeryLow':'#FFF9E0', 'Low':'#B3B3B3', 'Mid': '#737373', 'High':'#535353'}, \n",
    "             'red':{'VeryLow':'#FFF9E0','Low':'#FF0000', 'Mid': '#B50303', 'High':'#6A0606'}, \n",
    "             'cyan':{'VeryLow':'#FFF9E0','Low':'#00C8FF', 'Mid': '#028DDA', 'High':'#0451B5'},  \n",
    "             'black':{'VeryLow':'#FFF9E0','Low':'#5A5A5A', 'Mid': '#2D2D2D', 'High':'#000000'}\n",
    "}"
   ]
  },
  {
   "cell_type": "code",
   "execution_count": 103,
   "id": "24966a83",
   "metadata": {},
   "outputs": [],
   "source": [
    "def addColor(df):\n",
    "    df['FinalColor']='temp'\n",
    "    for row in df.index:\n",
    "        \n",
    "        if float(df.at[row,'Similarity_Percentage'])<= 0.03:\n",
    "            df.at[row,'FinalColor'] = colorDict[str(df.at[row,'Color'])]['VeryLow']\n",
    "            \n",
    "        elif float(df.at[row,'Similarity_Percentage'])> 0.03 and float(df.at[row,'Similarity_Percentage'])<= 0.05:\n",
    "            df.at[row,'FinalColor'] = colorDict[str(df.at[row,'Color'])]['Low']\n",
    "        elif float(df.at[row,'Similarity_Percentage'])> 0.05 and float(df.at[row,'Similarity_Percentage'])<= 0.10:\n",
    "            df.at[row,'FinalColor'] = colorDict[str(df.at[row,'Color'])]['Mid']\n",
    "        elif float(df.at[row,'Similarity_Percentage'])> 0.10:\n",
    "            df.at[row,'FinalColor'] = colorDict[str(df.at[row,'Color'])]['High']\n",
    "        else:\n",
    "            print(\"HUH\")\n",
    "    return(df)"
   ]
  },
  {
   "cell_type": "code",
   "execution_count": 104,
   "id": "0985b530",
   "metadata": {},
   "outputs": [],
   "source": [
    "HG002_finalColorized  = addColor(HG002_final)\n",
    "HG00358_finalColorized = addColor(HG00358_final)\n",
    "HG01952_finalColorized = addColor(HG01952_final)\n",
    "HG01890_finalColorized = addColor(HG01890_final)\n",
    "HG02011_finalColorized = addColor(HG02011_final)\n",
    "HG01106_finalColorized = addColor(HG01106_final)\n",
    "HC02666_finalColorized = addColor(HC02666_final)"
   ]
  },
  {
   "cell_type": "code",
   "execution_count": null,
   "id": "e27ff311",
   "metadata": {},
   "outputs": [],
   "source": [
    "#HC02666_finalColorized\n",
    "#HG02011_finalColorized\n",
    "#HG01890_finalColorized\n",
    "#HG01952_finalColorized\n",
    "#HG01106_finalColorized\n",
    "#HG00358_finalColorized"
   ]
  },
  {
   "cell_type": "code",
   "execution_count": 160,
   "id": "a92ce8c9",
   "metadata": {},
   "outputs": [
    {
     "data": {
      "text/html": [
       "<div>\n",
       "<style scoped>\n",
       "    .dataframe tbody tr th:only-of-type {\n",
       "        vertical-align: middle;\n",
       "    }\n",
       "\n",
       "    .dataframe tbody tr th {\n",
       "        vertical-align: top;\n",
       "    }\n",
       "\n",
       "    .dataframe thead th {\n",
       "        text-align: right;\n",
       "    }\n",
       "</style>\n",
       "<table border=\"1\" class=\"dataframe\">\n",
       "  <thead>\n",
       "    <tr style=\"text-align: right;\">\n",
       "      <th></th>\n",
       "      <th>Fragment</th>\n",
       "      <th>Orientation</th>\n",
       "      <th>Length</th>\n",
       "      <th>Start</th>\n",
       "      <th>End</th>\n",
       "      <th>Color</th>\n",
       "      <th>SpacerBlock</th>\n",
       "      <th>Similarity_Percentage</th>\n",
       "      <th>FinalColor</th>\n",
       "    </tr>\n",
       "    <tr>\n",
       "      <th>Identity</th>\n",
       "      <th></th>\n",
       "      <th></th>\n",
       "      <th></th>\n",
       "      <th></th>\n",
       "      <th></th>\n",
       "      <th></th>\n",
       "      <th></th>\n",
       "      <th></th>\n",
       "      <th></th>\n",
       "    </tr>\n",
       "  </thead>\n",
       "  <tbody>\n",
       "    <tr>\n",
       "      <th>chrY:27462685-27465535</th>\n",
       "      <td>chrY:27462683-27616714</td>\n",
       "      <td>C</td>\n",
       "      <td>2850</td>\n",
       "      <td>27462685</td>\n",
       "      <td>27465535</td>\n",
       "      <td>grey</td>\n",
       "      <td>0</td>\n",
       "      <td>0.062187</td>\n",
       "      <td>#737373</td>\n",
       "    </tr>\n",
       "    <tr>\n",
       "      <th>chrY:27465537-27468379</th>\n",
       "      <td>chrY:27462683-27616714</td>\n",
       "      <td>C</td>\n",
       "      <td>2842</td>\n",
       "      <td>27465537</td>\n",
       "      <td>27468379</td>\n",
       "      <td>grey</td>\n",
       "      <td>0</td>\n",
       "      <td>0.065570</td>\n",
       "      <td>#737373</td>\n",
       "    </tr>\n",
       "    <tr>\n",
       "      <th>chrY:27468381-27471227</th>\n",
       "      <td>chrY:27462683-27616714</td>\n",
       "      <td>C</td>\n",
       "      <td>2846</td>\n",
       "      <td>27468381</td>\n",
       "      <td>27471227</td>\n",
       "      <td>grey</td>\n",
       "      <td>0</td>\n",
       "      <td>0.077238</td>\n",
       "      <td>#737373</td>\n",
       "    </tr>\n",
       "    <tr>\n",
       "      <th>chrY:27471229-27474075</th>\n",
       "      <td>chrY:27462683-27616714</td>\n",
       "      <td>C</td>\n",
       "      <td>2846</td>\n",
       "      <td>27471229</td>\n",
       "      <td>27474075</td>\n",
       "      <td>grey</td>\n",
       "      <td>0</td>\n",
       "      <td>0.069974</td>\n",
       "      <td>#737373</td>\n",
       "    </tr>\n",
       "    <tr>\n",
       "      <th>chrY:27474077-27476939</th>\n",
       "      <td>chrY:27462683-27616714</td>\n",
       "      <td>C</td>\n",
       "      <td>2862</td>\n",
       "      <td>27474077</td>\n",
       "      <td>27476939</td>\n",
       "      <td>grey</td>\n",
       "      <td>0</td>\n",
       "      <td>0.060989</td>\n",
       "      <td>#737373</td>\n",
       "    </tr>\n",
       "    <tr>\n",
       "      <th>...</th>\n",
       "      <td>...</td>\n",
       "      <td>...</td>\n",
       "      <td>...</td>\n",
       "      <td>...</td>\n",
       "      <td>...</td>\n",
       "      <td>...</td>\n",
       "      <td>...</td>\n",
       "      <td>...</td>\n",
       "      <td>...</td>\n",
       "    </tr>\n",
       "    <tr>\n",
       "      <th>chrY:61984388-61987895</th>\n",
       "      <td>chrY:61714598-62002117</td>\n",
       "      <td>C</td>\n",
       "      <td>3507</td>\n",
       "      <td>61984388</td>\n",
       "      <td>61987895</td>\n",
       "      <td>black</td>\n",
       "      <td>42</td>\n",
       "      <td>0.071019</td>\n",
       "      <td>#2D2D2D</td>\n",
       "    </tr>\n",
       "    <tr>\n",
       "      <th>chrY:61987896-61991391</th>\n",
       "      <td>chrY:61714598-62002117</td>\n",
       "      <td>C</td>\n",
       "      <td>3495</td>\n",
       "      <td>61987896</td>\n",
       "      <td>61991391</td>\n",
       "      <td>black</td>\n",
       "      <td>42</td>\n",
       "      <td>0.064494</td>\n",
       "      <td>#2D2D2D</td>\n",
       "    </tr>\n",
       "    <tr>\n",
       "      <th>chrY:61991392-61994890</th>\n",
       "      <td>chrY:61714598-62002117</td>\n",
       "      <td>C</td>\n",
       "      <td>3498</td>\n",
       "      <td>61991392</td>\n",
       "      <td>61994890</td>\n",
       "      <td>black</td>\n",
       "      <td>42</td>\n",
       "      <td>0.059481</td>\n",
       "      <td>#2D2D2D</td>\n",
       "    </tr>\n",
       "    <tr>\n",
       "      <th>chrY:61994891-61998434</th>\n",
       "      <td>chrY:61714598-62002117</td>\n",
       "      <td>C</td>\n",
       "      <td>3543</td>\n",
       "      <td>61994891</td>\n",
       "      <td>61998434</td>\n",
       "      <td>black</td>\n",
       "      <td>42</td>\n",
       "      <td>0.068171</td>\n",
       "      <td>#2D2D2D</td>\n",
       "    </tr>\n",
       "    <tr>\n",
       "      <th>chrY:61998435-62001967</th>\n",
       "      <td>chrY:61714598-62002117</td>\n",
       "      <td>C</td>\n",
       "      <td>3532</td>\n",
       "      <td>61998435</td>\n",
       "      <td>62001967</td>\n",
       "      <td>black</td>\n",
       "      <td>42</td>\n",
       "      <td>0.071836</td>\n",
       "      <td>#2D2D2D</td>\n",
       "    </tr>\n",
       "  </tbody>\n",
       "</table>\n",
       "<p>5866 rows × 9 columns</p>\n",
       "</div>"
      ],
      "text/plain": [
       "                                      Fragment Orientation  Length     Start  \\\n",
       "Identity                                                                       \n",
       "chrY:27462685-27465535  chrY:27462683-27616714           C    2850  27462685   \n",
       "chrY:27465537-27468379  chrY:27462683-27616714           C    2842  27465537   \n",
       "chrY:27468381-27471227  chrY:27462683-27616714           C    2846  27468381   \n",
       "chrY:27471229-27474075  chrY:27462683-27616714           C    2846  27471229   \n",
       "chrY:27474077-27476939  chrY:27462683-27616714           C    2862  27474077   \n",
       "...                                        ...         ...     ...       ...   \n",
       "chrY:61984388-61987895  chrY:61714598-62002117           C    3507  61984388   \n",
       "chrY:61987896-61991391  chrY:61714598-62002117           C    3495  61987896   \n",
       "chrY:61991392-61994890  chrY:61714598-62002117           C    3498  61991392   \n",
       "chrY:61994891-61998434  chrY:61714598-62002117           C    3543  61994891   \n",
       "chrY:61998435-62001967  chrY:61714598-62002117           C    3532  61998435   \n",
       "\n",
       "                             End  Color  SpacerBlock  Similarity_Percentage  \\\n",
       "Identity                                                                      \n",
       "chrY:27462685-27465535  27465535   grey            0               0.062187   \n",
       "chrY:27465537-27468379  27468379   grey            0               0.065570   \n",
       "chrY:27468381-27471227  27471227   grey            0               0.077238   \n",
       "chrY:27471229-27474075  27474075   grey            0               0.069974   \n",
       "chrY:27474077-27476939  27476939   grey            0               0.060989   \n",
       "...                          ...    ...          ...                    ...   \n",
       "chrY:61984388-61987895  61987895  black           42               0.071019   \n",
       "chrY:61987896-61991391  61991391  black           42               0.064494   \n",
       "chrY:61991392-61994890  61994890  black           42               0.059481   \n",
       "chrY:61994891-61998434  61998434  black           42               0.068171   \n",
       "chrY:61998435-62001967  62001967  black           42               0.071836   \n",
       "\n",
       "                       FinalColor  \n",
       "Identity                           \n",
       "chrY:27462685-27465535    #737373  \n",
       "chrY:27465537-27468379    #737373  \n",
       "chrY:27468381-27471227    #737373  \n",
       "chrY:27471229-27474075    #737373  \n",
       "chrY:27474077-27476939    #737373  \n",
       "...                           ...  \n",
       "chrY:61984388-61987895    #2D2D2D  \n",
       "chrY:61987896-61991391    #2D2D2D  \n",
       "chrY:61991392-61994890    #2D2D2D  \n",
       "chrY:61994891-61998434    #2D2D2D  \n",
       "chrY:61998435-62001967    #2D2D2D  \n",
       "\n",
       "[5866 rows x 9 columns]"
      ]
     },
     "execution_count": 160,
     "metadata": {},
     "output_type": "execute_result"
    }
   ],
   "source": [
    "rb_df = HG002_finalColorized.copy()\n",
    "rb_df"
   ]
  },
  {
   "cell_type": "code",
   "execution_count": 168,
   "id": "257eef3a",
   "metadata": {},
   "outputs": [
    {
     "name": "stderr",
     "output_type": "stream",
     "text": [
      "100%|███████████████████████████████████████████| 19/19 [04:08<00:00, 13.06s/it]\n"
     ]
    }
   ],
   "source": [
    "import turtle\n",
    "turtle.position()\n",
    "turtle.color('black')\n",
    "turtle.speed(0)\n",
    "flag=1\n",
    "groupFlag = 0\n",
    "#groupNames = list(goodAluGroupDict.keys())\n",
    "lengthFlag = 0\n",
    "\n",
    "startPosition = turtle.position()\n",
    "turtle.color(\"white\")\n",
    "turtle.setposition(turtle.pos()[0], turtle.pos()[1]+300)\n",
    "turtle.color(\"black\")\n",
    "turtle.write(\"HG002 Yq Heterochromatin Spacer Blocks\", align=\"Left\")\n",
    "turtle.color(\"white\")\n",
    "turtle.setposition(startPosition)\n",
    "\n",
    "for key in tqdm(list(set(rb_df['SpacerBlock']))[24:]):\n",
    "    \n",
    "    totalAlus = len(rb_df[rb_df['SpacerBlock']==key])\n",
    "        \n",
    "    turtle.color(\"black\")\n",
    "    turtle.forward(75)\n",
    "    currentPosition = turtle.position()\n",
    "    \n",
    "\n",
    "    if lengthFlag == 0:\n",
    "        turtle.setposition(currentPosition)\n",
    "    else:\n",
    "        #turtle.setposition(turtle.pos()[0]-10, turtle.pos()[1]+20)\n",
    "        #turtle.write(str(BlockListDistance[key]), align=\"right\")\n",
    "        turtle.setposition(currentPosition)\n",
    "\n",
    "    currentPosition = turtle.position()\n",
    "    if (flag % 2) == 0:\n",
    "        turtle.setposition(turtle.pos()[0], turtle.pos()[1]-200)\n",
    "    else:\n",
    "        turtle.setposition(turtle.pos()[0], turtle.pos()[1]+200)\n",
    "        \n",
    "    turtle.write(\" DYZ1 Block: \"+str(key), align=\"left\")\n",
    "\n",
    "    turtle.setposition(currentPosition)\n",
    "    \n",
    "\n",
    "    groupFlag+=1\n",
    "    lengthFlag+=1\n",
    "    flag+=1\n",
    "    \n",
    "    tempDF = rb_df[rb_df['SpacerBlock']==key].copy() \n",
    "    for item in tempDF.index:\n",
    "        \n",
    "        if tempDF.at[item,'Orientation'] == 'C':\n",
    "            turtle.color(tempDF.at[item,'FinalColor'])\n",
    "            turtle.forward(.5)\n",
    "            turtle.right(90)\n",
    "            turtle.forward(tempDF.at[item,'Length']/20)\n",
    "            turtle.left(90)\n",
    "            turtle.forward(1)\n",
    "            turtle.left(90)\n",
    "            turtle.forward(tempDF.at[item,'Length']/20)\n",
    "            turtle.right(90)\n",
    "            turtle.forward(.5)\n",
    "        \n",
    "        elif tempDF.at[item,'Orientation'] == '+':\n",
    "            turtle.color(tempDF.at[item,'FinalColor'])\n",
    "            turtle.forward(.5)\n",
    "            turtle.left(90)\n",
    "            turtle.forward(tempDF.at[item,'Length']/20)\n",
    "            turtle.right(90)\n",
    "            turtle.forward(1)\n",
    "            turtle.right(90)\n",
    "            turtle.forward(tempDF.at[item,'Length']/20)\n",
    "            turtle.left(90)\n",
    "            turtle.forward(.5)\n",
    "\n",
    "        elif tempDF.at[item,'Orientation'] == 'temp':\n",
    "            turtle.color(tempDF.at[item,'FinalColor'])\n",
    "            turtle.forward(.5)\n",
    "            turtle.left(90)\n",
    "            turtle.forward(tempDF.at[item,'Length']/20)\n",
    "            turtle.right(90)\n",
    "            turtle.forward(1)\n",
    "            turtle.right(90)\n",
    "            turtle.forward(tempDF.at[item,'Length']/20)\n",
    "            turtle.left(90)\n",
    "            turtle.forward(.5)\n",
    "        \n",
    "        else:\n",
    "            turtle.color('black')\n",
    "            turtle.forward(.5)\n"
   ]
  },
  {
   "cell_type": "code",
   "execution_count": 169,
   "id": "31e30ef9",
   "metadata": {},
   "outputs": [],
   "source": [
    "from PIL import Image"
   ]
  },
  {
   "cell_type": "code",
   "execution_count": 170,
   "id": "2e76b95f",
   "metadata": {},
   "outputs": [],
   "source": [
    "def save_as_png(canvas,fileName):\n",
    "    # save postscipt image \n",
    "    canvas.postscript(file = fileName + '.eps') \n",
    "    # use PIL to convert to PNG \n",
    "    img = Image.open(fileName + '.eps') \n",
    "    img.save(fileName + '.png', 'png') "
   ]
  },
  {
   "cell_type": "code",
   "execution_count": 171,
   "id": "a58c395e",
   "metadata": {},
   "outputs": [],
   "source": [
    "ts = turtle.getscreen()\n",
    "save_as_png(ts.getcanvas(),\"/home/mark/Desktop/chromosome_y/Images/T2T/HG002_Similarirty_DYZ1_Final_part2\")"
   ]
  },
  {
   "cell_type": "code",
   "execution_count": 172,
   "id": "532421d0",
   "metadata": {},
   "outputs": [],
   "source": [
    "turtle.bye()"
   ]
  },
  {
   "cell_type": "markdown",
   "id": "2744de35",
   "metadata": {},
   "source": [
    "## Look at original Satellite calls"
   ]
  },
  {
   "cell_type": "code",
   "execution_count": 24,
   "id": "7e2118bb",
   "metadata": {},
   "outputs": [],
   "source": [
    "HG00358 = pd.read_csv(\"/home/mark/Desktop/chromosome_y/Dataframes/HG00358/BlockSize_dataframe.csv\").drop(columns=['Unnamed: 0'])\n",
    "HC02666 = pd.read_csv(\"/home/mark/Desktop/chromosome_y/Dataframes/HC02666/BlockSize_dataframe.csv\").drop(columns=['Unnamed: 0'])\n",
    "HG01890 = pd.read_csv(\"/home/mark/Desktop/chromosome_y/Dataframes/HG01890/BlockSize_dataframe.csv\").drop(columns=['Unnamed: 0'])\n",
    "HG01952 = pd.read_csv(\"/home/mark/Desktop/chromosome_y/Dataframes/HG01952/BlockSize_dataframe.csv\").drop(columns=['Unnamed: 0'])\n",
    "HG01106 = pd.read_csv(\"/home/mark/Desktop/chromosome_y/Dataframes/HG01106/BlockSize_dataframe.csv\").drop(columns=['Unnamed: 0'])\n",
    "HG02011 = pd.read_csv(\"/home/mark/Desktop/chromosome_y/Dataframes/HG02011/BlockSize_dataframe.csv\").drop(columns=['Unnamed: 0'])\n",
    "T2T = pd.read_csv(\"/home/mark/Desktop/chromosome_y/Dataframes/T2T/BlockSize_dataframe.csv\").drop(columns=['Unnamed: 0'])"
   ]
  },
  {
   "cell_type": "code",
   "execution_count": 46,
   "id": "2a2f44b7",
   "metadata": {},
   "outputs": [],
   "source": [
    "def pullSatelliteCount(filepath, df):\n",
    "    tempList = []\n",
    "    \n",
    "    with open(filepath) as f:\n",
    "        Lines = f.readlines()\n",
    "\n",
    "        AluFlag = 0\n",
    "        aluEnd =0\n",
    "\n",
    "        AluCasetteDict = {}\n",
    "        group = 0\n",
    "        AluCasetteDict[str(group)]=[]\n",
    "\n",
    "        for line in tqdm(Lines): \n",
    "\n",
    "            goodLine = ' '.join(line.split())\n",
    "            #print(goodLine)\n",
    "            if 'Satellite' in goodLine:\n",
    "                start = int(goodLine.split(\" \")[6])\n",
    "                end = int(goodLine.split(\" \")[7])\n",
    "                flag=0\n",
    "                for row in df.index:\n",
    "                    if start >= int(df.at[row,'Start']) and end <= int(df.at[row,'End']):\n",
    "                        flag+=1\n",
    "                    else:\n",
    "                        continue\n",
    "                if flag > 0:\n",
    "                    tempList.append(goodLine.split(\" \")[10])\n",
    "                else:\n",
    "                    continue\n",
    "    f.close()\n",
    "    return(tempList)"
   ]
  },
  {
   "cell_type": "code",
   "execution_count": 63,
   "id": "ae661770",
   "metadata": {},
   "outputs": [],
   "source": [
    "def pullSatelliteCountT2T(filepath, df):\n",
    "    tempList = []\n",
    "    \n",
    "    with open(filepath) as f:\n",
    "        Lines = f.readlines()\n",
    "\n",
    "        AluFlag = 0\n",
    "        aluEnd =0\n",
    "\n",
    "        AluCasetteDict = {}\n",
    "        group = 0\n",
    "        AluCasetteDict[str(group)]=[]\n",
    "\n",
    "        for line in tqdm(Lines): \n",
    "\n",
    "            goodLine = ' '.join(line.split())\n",
    "            #print(goodLine)\n",
    "            if 'Satellite' in goodLine:\n",
    "                start = int(goodLine.split(\" \")[5])\n",
    "                end = int(goodLine.split(\" \")[6])\n",
    "                flag=0\n",
    "                for row in df.index:\n",
    "                    if start >= int(df.at[row,'Start']) and end <= int(df.at[row,'End']):\n",
    "                        flag+=1\n",
    "                    else:\n",
    "                        continue\n",
    "                if flag > 0:\n",
    "                    tempList.append(goodLine.split(\" \")[9])\n",
    "                else:\n",
    "                    continue\n",
    "    f.close()\n",
    "    return(tempList)"
   ]
  },
  {
   "cell_type": "code",
   "execution_count": 47,
   "id": "b72b4e74",
   "metadata": {},
   "outputs": [
    {
     "name": "stderr",
     "output_type": "stream",
     "text": [
      "100%|██████████████████████████████████| 22892/22892 [00:01<00:00, 21468.80it/s]\n",
      "100%|██████████████████████████████████| 27925/27925 [00:02<00:00, 13471.42it/s]\n",
      "100%|██████████████████████████████████| 16757/16757 [00:00<00:00, 26786.84it/s]\n",
      "100%|██████████████████████████████████| 20665/20665 [00:00<00:00, 22120.86it/s]\n",
      "100%|██████████████████████████████████| 32711/32711 [00:02<00:00, 13969.90it/s]\n",
      "100%|██████████████████████████████████| 19741/19741 [00:01<00:00, 18270.02it/s]\n"
     ]
    }
   ],
   "source": [
    "HC02666_satellites = pullSatelliteCount('/home/mark/Desktop/chromosome_y/assemblies/repeatmasker/postMay232022/finalized/HC02666_finalized.txt', HC02666[HC02666['Block_Type']=='Spacer Block'])\n",
    "HG00358_satellites = pullSatelliteCount('/home/mark/Desktop/chromosome_y/assemblies/repeatmasker/postMay232022/finalized/HG00358_finalized.txt', HG00358[HG00358['Block_Type']=='Spacer Block'])\n",
    "HG01890_satellites = pullSatelliteCount('/home/mark/Desktop/chromosome_y/assemblies/repeatmasker/postMay232022/finalized/HG01890_finalized.txt', HG01890[HG01890['Block_Type']=='Spacer Block'])\n",
    "HG01952_satellites = pullSatelliteCount('/home/mark/Desktop/chromosome_y/assemblies/repeatmasker/postMay232022/finalized/HG01952_finalized.txt', HG01952[HG01952['Block_Type']=='Spacer Block'])\n",
    "HG01106_satellites = pullSatelliteCount('/home/mark/Desktop/chromosome_y/assemblies/repeatmasker/postMay232022/finalized/HG01106_finalized.txt', HG01106[HG01106['Block_Type']=='Spacer Block'])\n",
    "HG02011_satellites = pullSatelliteCount('/home/mark/Desktop/chromosome_y/assemblies/repeatmasker/postMay232022/finalized/HG02011_finalized.txt', HG02011[HG02011['Block_Type']=='Spacer Block'])\n"
   ]
  },
  {
   "cell_type": "code",
   "execution_count": 64,
   "id": "36c544d7",
   "metadata": {},
   "outputs": [
    {
     "name": "stderr",
     "output_type": "stream",
     "text": [
      "100%|██████████████████████████████████| 29612/29612 [00:02<00:00, 12630.28it/s]\n"
     ]
    }
   ],
   "source": [
    "T2T_satellites = pullSatelliteCountT2T('/home/mark/Desktop/chromosome_y/assemblies/repeatmasker/postMay232022/finalized/T2T.ChrY.Final.fasta.out', T2T[T2T['Block_Type']=='Spacer Block'])"
   ]
  },
  {
   "cell_type": "code",
   "execution_count": 65,
   "id": "caf4c20a",
   "metadata": {
    "scrolled": true
   },
   "outputs": [
    {
     "name": "stdout",
     "output_type": "stream",
     "text": [
      "5648\n",
      "Counter({'HSATII': 5349, '(GAATG)n': 216, '(CATTC)n': 83})\n",
      "5789\n",
      "Counter({'HSATII': 5499, '(GAATG)n': 184, '(CATTC)n': 105, 'HSATI': 1})\n",
      "4002\n",
      "Counter({'HSATII': 3768, '(GAATG)n': 146, '(CATTC)n': 84, 'SAR': 3, 'HSATI': 1})\n",
      "3763\n",
      "Counter({'HSATII': 3598, '(GAATG)n': 109, '(CATTC)n': 56})\n",
      "5888\n",
      "Counter({'HSATII': 5681, '(GAATG)n': 175, '(CATTC)n': 32})\n",
      "4659\n",
      "Counter({'HSATII': 4407, '(GAATG)n': 151, '(CATTC)n': 101})\n",
      "5621\n",
      "Counter({'HSATII': 5375, '(GAATG)n': 207, '(CATTC)n': 39})\n"
     ]
    }
   ],
   "source": [
    "print(len(HC02666_satellites))\n",
    "print(collections.Counter(HC02666_satellites))\n",
    "\n",
    "print(len(HG00358_satellites))\n",
    "print(collections.Counter(HG00358_satellites))\n",
    "\n",
    "print(len(HG01890_satellites))\n",
    "print(collections.Counter(HG01890_satellites))\n",
    "\n",
    "print(len(HG01952_satellites))\n",
    "print(collections.Counter(HG01952_satellites))\n",
    "\n",
    "print(len(HG01106_satellites))\n",
    "print(collections.Counter(HG01106_satellites))\n",
    "\n",
    "print(len(HG02011_satellites))\n",
    "print(collections.Counter(HG02011_satellites))\n",
    "\n",
    "print(len(T2T_satellites))\n",
    "print(collections.Counter(T2T_satellites))"
   ]
  },
  {
   "cell_type": "code",
   "execution_count": 55,
   "id": "b4d1ca4b",
   "metadata": {},
   "outputs": [
    {
     "name": "stdout",
     "output_type": "stream",
     "text": [
      "35370\n"
     ]
    }
   ],
   "source": [
    "totalSatellites = 5648+5789+4002+3763+5888+4659+5621\n",
    "print(totalSatellites)"
   ]
  },
  {
   "cell_type": "code",
   "execution_count": 66,
   "id": "982e49a9",
   "metadata": {},
   "outputs": [
    {
     "name": "stdout",
     "output_type": "stream",
     "text": [
      "33677\n",
      "0.9521345773254171\n"
     ]
    }
   ],
   "source": [
    "totalHSAT2 = 5349+5499+3768+3598+5681+4407+5375\n",
    "print(totalHSAT2)\n",
    "print(totalHSAT2/totalSatellites)"
   ]
  },
  {
   "cell_type": "code",
   "execution_count": null,
   "id": "d8572789",
   "metadata": {},
   "outputs": [],
   "source": []
  }
 ],
 "metadata": {
  "kernelspec": {
   "display_name": "Python 3 (ipykernel)",
   "language": "python",
   "name": "python3"
  },
  "language_info": {
   "codemirror_mode": {
    "name": "ipython",
    "version": 3
   },
   "file_extension": ".py",
   "mimetype": "text/x-python",
   "name": "python",
   "nbconvert_exporter": "python",
   "pygments_lexer": "ipython3",
   "version": "3.9.12"
  }
 },
 "nbformat": 4,
 "nbformat_minor": 5
}
