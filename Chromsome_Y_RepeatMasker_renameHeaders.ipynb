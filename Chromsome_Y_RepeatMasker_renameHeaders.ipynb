{
 "cells": [
  {
   "cell_type": "code",
   "execution_count": 1,
   "id": "83d817a8",
   "metadata": {},
   "outputs": [],
   "source": [
    "%matplotlib inline\n",
    "import pandas as pd\n",
    "import matplotlib.pyplot as plt\n",
    "import numpy as np\n",
    "import itertools\n",
    "import seaborn as sns\n",
    "from os import walk\n",
    "from tqdm import tqdm"
   ]
  },
  {
   "cell_type": "code",
   "execution_count": 2,
   "id": "ad03275a",
   "metadata": {},
   "outputs": [],
   "source": [
    "def cleanheaders(inFile, tofile):\n",
    "    with open(tofile, 'a+') as OutFile:\n",
    "        with open(inFile) as INFILE:\n",
    "            lines = INFILE.readlines()\n",
    "            i=0\n",
    "            for line in lines:\n",
    "                if \">\" in line:\n",
    "                    OutFile.write(\">\"+str(line.split(\" \")[7].split(\":\")[1].split(\",\")[0])+\"_\"+str(line.split(\" \")[9])+'-'+str(line.split(\" \")[12])+\"\\n\")\n",
    "                else:\n",
    "                    OutFile.write(line)\n",
    "        INFILE.close()\n",
    "    OutFile.close()"
   ]
  },
  {
   "cell_type": "code",
   "execution_count": 14,
   "id": "f1317252",
   "metadata": {},
   "outputs": [],
   "source": [
    "cleanheaders('/home/mark/Desktop/chromosome_y/nonRepeatBlockSubBlocks/DYZ1_Blocks/Restriction_Digest/HC02666_HaeIII.fasta', '/home/mark/Desktop/chromosome_y/nonRepeatBlockSubBlocks/DYZ1_Blocks/Restriction_Digest/HC02666_headerCleaned.fasta')"
   ]
  },
  {
   "cell_type": "code",
   "execution_count": 15,
   "id": "c02c5e16",
   "metadata": {},
   "outputs": [],
   "source": [
    "cleanheaders('/home/mark/Desktop/chromosome_y/nonRepeatBlockSubBlocks/DYZ1_Blocks/Restriction_Digest/HG00358_HaeIII.fasta', '/home/mark/Desktop/chromosome_y/nonRepeatBlockSubBlocks/DYZ1_Blocks/Restriction_Digest/HG00358_headerCleaned.fasta')"
   ]
  },
  {
   "cell_type": "code",
   "execution_count": 16,
   "id": "d0e62fa3",
   "metadata": {},
   "outputs": [],
   "source": [
    "cleanheaders('/home/mark/Desktop/chromosome_y/nonRepeatBlockSubBlocks/DYZ1_Blocks/Restriction_Digest/HG01106_HaeIII.fasta', '/home/mark/Desktop/chromosome_y/nonRepeatBlockSubBlocks/DYZ1_Blocks/Restriction_Digest/HG01106_headerCleaned.fasta')"
   ]
  },
  {
   "cell_type": "code",
   "execution_count": 17,
   "id": "8ae4ba69",
   "metadata": {},
   "outputs": [],
   "source": [
    "cleanheaders('/home/mark/Desktop/chromosome_y/nonRepeatBlockSubBlocks/DYZ1_Blocks/Restriction_Digest/HG01890_HaeIII.fasta', '/home/mark/Desktop/chromosome_y/nonRepeatBlockSubBlocks/DYZ1_Blocks/Restriction_Digest/HG01890_headerCleaned.fasta')"
   ]
  },
  {
   "cell_type": "code",
   "execution_count": 18,
   "id": "595d970d",
   "metadata": {},
   "outputs": [],
   "source": [
    "cleanheaders('/home/mark/Desktop/chromosome_y/nonRepeatBlockSubBlocks/DYZ1_Blocks/Restriction_Digest/HG01952_HaeIII.fasta', '/home/mark/Desktop/chromosome_y/nonRepeatBlockSubBlocks/DYZ1_Blocks/Restriction_Digest/HG01952_headerCleaned.fasta')"
   ]
  },
  {
   "cell_type": "code",
   "execution_count": 19,
   "id": "0eefd3eb",
   "metadata": {},
   "outputs": [],
   "source": [
    "cleanheaders('/home/mark/Desktop/chromosome_y/nonRepeatBlockSubBlocks/DYZ1_Blocks/Restriction_Digest/HG02011_HaeIII.fasta', '/home/mark/Desktop/chromosome_y/nonRepeatBlockSubBlocks/DYZ1_Blocks/Restriction_Digest/HG02011_headerCleaned.fasta')"
   ]
  },
  {
   "cell_type": "code",
   "execution_count": 20,
   "id": "6a883cf2",
   "metadata": {},
   "outputs": [],
   "source": [
    "cleanheaders('/home/mark/Desktop/chromosome_y/nonRepeatBlockSubBlocks/DYZ1_Blocks/Restriction_Digest/T2T_HaeIII.fasta', '/home/mark/Desktop/chromosome_y/nonRepeatBlockSubBlocks/DYZ1_Blocks/Restriction_Digest/T2T_headerCleaned.fasta')"
   ]
  },
  {
   "cell_type": "markdown",
   "id": "55bab311",
   "metadata": {},
   "source": [
    "# Fragmented Genomes"
   ]
  },
  {
   "cell_type": "code",
   "execution_count": 2,
   "id": "1dd300f0",
   "metadata": {},
   "outputs": [],
   "source": [
    "def cleanheaders(inFile, tofile, samplename):\n",
    "    with open(tofile, 'a+') as OutFile:\n",
    "        with open(inFile) as INFILE:\n",
    "            lines = INFILE.readlines()\n",
    "            i=0\n",
    "            for line in lines:\n",
    "                if \">\" in line:\n",
    "                    OutFile.write(\">\"+str(samplename)+str(line.split(samplename)[1].strip())+\"\\n\")\n",
    "                else:\n",
    "                    OutFile.write(line)\n",
    "        INFILE.close()\n",
    "    OutFile.close()"
   ]
  },
  {
   "cell_type": "code",
   "execution_count": 8,
   "id": "2e7d5c85",
   "metadata": {},
   "outputs": [],
   "source": [
    "#cleanheaders('/home/mark/Desktop/chromosome_y/repeatBlockFiles/DYZ/Fragmented/NA19317/NA19317_piece1_DYZ_Sequences.txt', '/home/mark/Desktop/chromosome_y/repeatBlockFiles/DYZ/Fragmented/NA19317/NA19317_piece1_DYZ_Sequences_cleaned.fasta', 'NA19317')"
   ]
  },
  {
   "cell_type": "code",
   "execution_count": 9,
   "id": "8ea53392",
   "metadata": {},
   "outputs": [],
   "source": [
    "#cleanheaders('/home/mark/Desktop/chromosome_y/repeatBlockFiles/DYZ/Fragmented/NA19317/NA19317_piece2_DYZ_Sequences.txt', '/home/mark/Desktop/chromosome_y/repeatBlockFiles/DYZ/Fragmented/NA19317/NA19317_piece2_DYZ_Sequences_cleaned.fasta', 'NA19317')"
   ]
  },
  {
   "cell_type": "code",
   "execution_count": 5,
   "id": "462d2a88",
   "metadata": {},
   "outputs": [],
   "source": [
    "#cleanheaders('/home/mark/Desktop/chromosome_y/repeatBlockFiles/DYZ/Fragmented/NA19347/NA19347_piece1_DYZ_Sequences.txt', '/home/mark/Desktop/chromosome_y/repeatBlockFiles/DYZ/Fragmented/NA19347/NA19347_piece1_DYZ_Sequences_cleaned.fasta', 'NA19347')"
   ]
  },
  {
   "cell_type": "code",
   "execution_count": 6,
   "id": "e9391f0e",
   "metadata": {},
   "outputs": [],
   "source": [
    "#cleanheaders('/home/mark/Desktop/chromosome_y/repeatBlockFiles/DYZ/Fragmented/NA19347/NA19347_piece2_DYZ_Sequences.txt', '/home/mark/Desktop/chromosome_y/repeatBlockFiles/DYZ/Fragmented/NA19347/NA19347_piece2_DYZ_Sequences_cleaned.fasta', 'NA19347')"
   ]
  },
  {
   "cell_type": "code",
   "execution_count": null,
   "id": "97fb4e52",
   "metadata": {},
   "outputs": [],
   "source": []
  }
 ],
 "metadata": {
  "kernelspec": {
   "display_name": "Python 3 (ipykernel)",
   "language": "python",
   "name": "python3"
  },
  "language_info": {
   "codemirror_mode": {
    "name": "ipython",
    "version": 3
   },
   "file_extension": ".py",
   "mimetype": "text/x-python",
   "name": "python",
   "nbconvert_exporter": "python",
   "pygments_lexer": "ipython3",
   "version": "3.9.12"
  }
 },
 "nbformat": 4,
 "nbformat_minor": 5
}
