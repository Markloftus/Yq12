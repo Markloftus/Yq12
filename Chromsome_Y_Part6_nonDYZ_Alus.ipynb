{
 "cells": [
  {
   "cell_type": "code",
   "execution_count": 1,
   "id": "83d817a8",
   "metadata": {},
   "outputs": [],
   "source": [
    "%matplotlib inline\n",
    "import pandas as pd\n",
    "#import pandas.util.testing as pd\n",
    "import matplotlib.pyplot as plt\n",
    "import numpy as np\n",
    "import itertools\n",
    "import seaborn as sns\n",
    "from os import walk\n",
    "from tqdm import tqdm\n",
    "import ast"
   ]
  },
  {
   "cell_type": "code",
   "execution_count": 2,
   "id": "99d2e988",
   "metadata": {},
   "outputs": [],
   "source": [
    "def nonDYZAluFinder(df, name):\n",
    "    nonRepeatAlus = {}\n",
    "\n",
    "    for row in df.index:\n",
    "        SR=0\n",
    "        Sat=0\n",
    "        Sine=0\n",
    "\n",
    "        for repeat in ast.literal_eval(df.at[row,'Group']):\n",
    "            if 'Satellite' in repeat:\n",
    "                Sat+=1\n",
    "            elif 'SINE/Alu' in repeat:\n",
    "                Sine+=1\n",
    "\n",
    "            elif 'Simple_repeat' in repeat:\n",
    "                SR+=1\n",
    "\n",
    "            else:\n",
    "                continue\n",
    "\n",
    "        if SR==1 and Sat ==1 and Sine ==1:\n",
    "            continue\n",
    "\n",
    "        elif SR>1 and Sat ==1 and Sine ==1:\n",
    "            continue\n",
    "        else:\n",
    "            nonRepeatAlus[row]={'SimpleRepeat':SR, 'Satellite':Sat, 'SINE/Alu':Sine}\n",
    "            \n",
    "    tempDf = df.loc[list(nonRepeatAlus.keys())].copy()\n",
    "    tempDf2 = tempDf[tempDf['KMode_cluster']!='GraveYard'].drop(columns=['KMode_cluster']).copy()\n",
    "    tempList = []\n",
    "    \n",
    "    for row in tempDf2.index:\n",
    "        if '+_' in row:\n",
    "            continue\n",
    "        else:\n",
    "            tempList.append(row)\n",
    "    \n",
    "    tempDf2['SampleName']=name\n",
    "    #.loc[tempList]\n",
    "    return(tempDf2)"
   ]
  },
  {
   "cell_type": "code",
   "execution_count": 3,
   "id": "4e208c66",
   "metadata": {},
   "outputs": [],
   "source": [
    "########################### IMPORT DATAFRAMES #######################################"
   ]
  },
  {
   "cell_type": "code",
   "execution_count": 17,
   "id": "c19395f9",
   "metadata": {},
   "outputs": [],
   "source": [
    "HG00358 = pd.read_csv(\"/home/mark/Desktop/chromosome_y/Dataframes/HG00358/HG00358_rbDF2_Kmode.csv\").set_index(\"Alu\")\n",
    "#HG02666 = pd.read_csv(\"/home/mark/Desktop/chromosome_y/Dataframes/HG02666/HG02666_rbDF2_Kmode.csv\").set_index(\"Alu\")\n",
    "HC02666 = pd.read_csv(\"/home/mark/Desktop/chromosome_y/Dataframes/HC02666/HC02666_rbDF2_Kmode.csv\").set_index(\"Alu\")\n",
    "HG01106 = pd.read_csv(\"/home/mark/Desktop/chromosome_y/Dataframes/HG01106/HG01106_rbDF2_Kmode.csv\").set_index(\"Alu\")\n",
    "HG02011 = pd.read_csv(\"/home/mark/Desktop/chromosome_y/Dataframes/HG02011/HG02011_rbDF2_Kmode.csv\").set_index(\"Alu\")\n",
    "HG01890 = pd.read_csv(\"/home/mark/Desktop/chromosome_y/Dataframes/HG01890/HG01890_rbDF2_Kmode.csv\").set_index(\"Alu\")\n",
    "HG01952 = pd.read_csv(\"/home/mark/Desktop/chromosome_y/Dataframes/HG01952/HG01952_rbDF2_Kmode.csv\").set_index(\"Alu\")\n",
    "T2T = pd.read_csv(\"/home/mark/Desktop/chromosome_y/Dataframes/T2T/T2T_rbDF2_Kmode.csv\").set_index(\"Alu\")"
   ]
  },
  {
   "cell_type": "code",
   "execution_count": 18,
   "id": "0b765506",
   "metadata": {},
   "outputs": [],
   "source": [
    "HG00358_nonDYZDF = nonDYZAluFinder(HG00358, 'HG00358')\n",
    "#HG02666_nonDYZDF = nonDYZAluFinder(HG02666, 'HG02666')\n",
    "HC02666_nonDYZDF = nonDYZAluFinder(HC02666, 'HC02666')\n",
    "HG01106_nonDYZDF = nonDYZAluFinder(HG01106, 'HG01106')\n",
    "HG02011_nonDYZDF = nonDYZAluFinder(HG02011, 'HG02011')\n",
    "HG01890_nonDYZDF = nonDYZAluFinder(HG01890, 'HG01890')\n",
    "HG01952_nonDYZDF = nonDYZAluFinder(HG01952, 'HG01952')\n",
    "T2T_nonDYZDF = nonDYZAluFinder(T2T, 'T2T')"
   ]
  },
  {
   "cell_type": "code",
   "execution_count": 19,
   "id": "adcbe33a",
   "metadata": {},
   "outputs": [],
   "source": [
    "allSamplesDF = pd.concat([HG00358_nonDYZDF,HC02666_nonDYZDF,HG01890_nonDYZDF,HG01952_nonDYZDF,T2T_nonDYZDF,HG01106_nonDYZDF,HG02011_nonDYZDF]).copy()"
   ]
  },
  {
   "cell_type": "code",
   "execution_count": 20,
   "id": "4061d1f1",
   "metadata": {},
   "outputs": [
    {
     "data": {
      "text/plain": [
       "(array([82., 20.,  1.,  0., 12.,  0.,  7.,  0., 13.,  3.]),\n",
       " array([ 744., 1010., 1276., 1542., 1808., 2074., 2340., 2606., 2872.,\n",
       "        3138., 3404.]),\n",
       " <BarContainer object of 10 artists>)"
      ]
     },
     "execution_count": 20,
     "metadata": {},
     "output_type": "execute_result"
    },
    {
     "data": {
      "image/png": "[encoded data removed]",
      "text/plain": [
       "<Figure size 432x288 with 1 Axes>"
      ]
     },
     "metadata": {
      "needs_background": "light"
     },
     "output_type": "display_data"
    }
   ],
   "source": [
    "plt.hist(allSamplesDF['Lengths'])"
   ]
  },
  {
   "cell_type": "code",
   "execution_count": 21,
   "id": "6a04ae19",
   "metadata": {},
   "outputs": [],
   "source": [
    "aluDivergence = []\n",
    "for row in allSamplesDF.index:\n",
    "    if allSamplesDF.at[row,'SampleName'] == 'T2T':\n",
    "        for repeat in ast.literal_eval(allSamplesDF.at[row,'Group']):\n",
    "            if 'SINE/Alu' in repeat:\n",
    "                aluDivergence.append(float(repeat.split(\" \")[1]))\n",
    "    else:\n",
    "        for repeat in ast.literal_eval(allSamplesDF.at[row,'Group']):\n",
    "            if 'SINE/Alu' in repeat:\n",
    "                aluDivergence.append(float(repeat.split(\" \")[2]))\n",
    "\n",
    "allSamplesDF['Divergence'] = aluDivergence"
   ]
  },
  {
   "cell_type": "code",
   "execution_count": 22,
   "id": "2701e21f",
   "metadata": {},
   "outputs": [
    {
     "data": {
      "text/plain": [
       "{'HC02666', 'HG00358', 'HG01106', 'HG01890', 'HG01952', 'HG02011', 'T2T'}"
      ]
     },
     "execution_count": 22,
     "metadata": {},
     "output_type": "execute_result"
    }
   ],
   "source": [
    "set(allSamplesDF['SampleName'])"
   ]
  },
  {
   "cell_type": "code",
   "execution_count": 23,
   "id": "022d311a",
   "metadata": {},
   "outputs": [
    {
     "data": {
      "text/plain": [
       "<AxesSubplot:xlabel='Lengths', ylabel='Divergence'>"
      ]
     },
     "execution_count": 23,
     "metadata": {},
     "output_type": "execute_result"
    },
    {
     "data": {
      "image/png": "[encoded data removed]",
      "text/plain": [
       "<Figure size 432x288 with 1 Axes>"
      ]
     },
     "metadata": {
      "needs_background": "light"
     },
     "output_type": "display_data"
    }
   ],
   "source": [
    "sns.scatterplot(x=allSamplesDF['Lengths'], y=allSamplesDF['Divergence'])"
   ]
  },
  {
   "cell_type": "code",
   "execution_count": 24,
   "id": "b55f53d7",
   "metadata": {},
   "outputs": [],
   "source": [
    "#allSamplesDF.to_csv(\"/home/mark/Desktop/chromosome_y/Dataframes/AllSamples_nonDYZ_AluBlocks.csv\")"
   ]
  },
  {
   "cell_type": "code",
   "execution_count": null,
   "id": "8ba22c13",
   "metadata": {},
   "outputs": [],
   "source": []
  }
 ],
 "metadata": {
  "kernelspec": {
   "display_name": "Python 3 (ipykernel)",
   "language": "python",
   "name": "python3"
  },
  "language_info": {
   "codemirror_mode": {
    "name": "ipython",
    "version": 3
   },
   "file_extension": ".py",
   "mimetype": "text/x-python",
   "name": "python",
   "nbconvert_exporter": "python",
   "pygments_lexer": "ipython3",
   "version": "3.9.12"
  }
 },
 "nbformat": 4,
 "nbformat_minor": 5
}
