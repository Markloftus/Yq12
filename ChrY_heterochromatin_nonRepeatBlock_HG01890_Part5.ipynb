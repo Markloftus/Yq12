{
 "cells": [
  {
   "cell_type": "code",
   "execution_count": 93,
   "id": "d9edad20",
   "metadata": {},
   "outputs": [],
   "source": [
    "%matplotlib inline\n",
    "import pandas as pd\n",
    "import matplotlib.pyplot as plt\n",
    "import numpy as np\n",
    "import itertools\n",
    "import seaborn as sns\n",
    "from os import walk\n",
    "from tqdm import tqdm"
   ]
  },
  {
   "cell_type": "code",
   "execution_count": 94,
   "id": "5b657566",
   "metadata": {},
   "outputs": [],
   "source": [
    "import json\n",
    "f = open('/home/mark/Desktop/chromosome_y/json_dict/HG01890_cluster.json') \n",
    "T2T_dict = json.load(f) "
   ]
  },
  {
   "cell_type": "code",
   "execution_count": 95,
   "id": "0d351cb5",
   "metadata": {},
   "outputs": [],
   "source": [
    "T2T_startStopDict = {key:[] for key in T2T_dict.keys()}\n",
    "for key in T2T_startStopDict.keys():\n",
    "    T2T_startStopDict[key].append(T2T_dict[key][0][0].split(\" \")[6].strip())\n",
    "    T2T_startStopDict[key].append(T2T_dict[key][-1][-1].split(\" \")[7].strip())"
   ]
  },
  {
   "cell_type": "code",
   "execution_count": 96,
   "id": "e42ca64f",
   "metadata": {},
   "outputs": [
    {
     "data": {
      "text/plain": [
       "{'0': ['29823871', '29857041'],\n",
       " '1': ['30203322', '30295248'],\n",
       " '2': ['30645332', '30666368'],\n",
       " '3': ['32095446', '32326802'],\n",
       " '4': ['33301785', '33575578'],\n",
       " '5': ['34296876', '34358917'],\n",
       " '6': ['34364640', '34473437'],\n",
       " '7': ['35308683', '35545473'],\n",
       " '8': ['36090560', '36293831'],\n",
       " '9': ['37078637', '37730854'],\n",
       " '10': ['38023000', '38416458'],\n",
       " '11': ['38847093', '40825752'],\n",
       " '12': ['41267031', '41464375'],\n",
       " '13': ['41795367', '43443099'],\n",
       " '14': ['44387310', '44546472'],\n",
       " '15': ['45030984', '45138567'],\n",
       " '16': ['45796966', '45822760'],\n",
       " '17': ['46041949', '46065018'],\n",
       " '18': ['46075790', '46095889'],\n",
       " '19': ['46105901', '46127101'],\n",
       " '20': ['46133501', '46162589']}"
      ]
     },
     "execution_count": 96,
     "metadata": {},
     "output_type": "execute_result"
    }
   ],
   "source": [
    "T2T_startStopDict"
   ]
  },
  {
   "cell_type": "code",
   "execution_count": 97,
   "id": "a3c78e57",
   "metadata": {},
   "outputs": [
    {
     "name": "stderr",
     "output_type": "stream",
     "text": [
      "100%|█████████████████████████████████| 16757/16757 [00:00<00:00, 404491.00it/s]\n"
     ]
    }
   ],
   "source": [
    "with open('/home/mark/Desktop/chromosome_y/assemblies/repeatmasker/postMay232022/finalized/HG01890_finalized.txt') as f:\n",
    "    Lines = f.readlines()\n",
    "    myLines = []\n",
    "    lineNum = 0\n",
    "\n",
    "    for line in tqdm(Lines): \n",
    "        \n",
    "        goodLine = ' '.join(line.split())\n",
    "        \n",
    "        myLines.append(goodLine)"
   ]
  },
  {
   "cell_type": "code",
   "execution_count": 98,
   "id": "64f98d67",
   "metadata": {},
   "outputs": [],
   "source": [
    "myLines2 = myLines.copy()\n",
    "myLines3 = myLines.copy()"
   ]
  },
  {
   "cell_type": "code",
   "execution_count": 99,
   "id": "61e9b964",
   "metadata": {},
   "outputs": [
    {
     "name": "stderr",
     "output_type": "stream",
     "text": [
      "100%|███████████████████████████████████████████| 21/21 [00:00<00:00, 63.35it/s]\n"
     ]
    }
   ],
   "source": [
    "NRB_Blocks={}\n",
    "i = 0\n",
    "firstFlag = 0\n",
    "keyList = list(T2T_startStopDict.keys())\n",
    "myKey = 0\n",
    "\n",
    "for key in tqdm(keyList):\n",
    "    \n",
    "    if firstFlag == 0:\n",
    "    \n",
    "        NRB_Blocks[i]=[]\n",
    "\n",
    "        for line in myLines2:\n",
    "\n",
    "            if int(line.split(\" \")[7].strip()) < int(T2T_startStopDict[key][0].strip()) and int(line.split(\" \")[6].strip()) > 28526630:\n",
    "                NRB_Blocks[i].append(line)\n",
    "            else:\n",
    "                continue\n",
    "                \n",
    "                \n",
    "        firstFlag=1\n",
    "        myKey+=1\n",
    "                \n",
    "    else:\n",
    "        \n",
    "        NRB_Blocks[i]=[]\n",
    "    \n",
    "        for line in myLines2:\n",
    "\n",
    "            if int(line.split(\" \")[7].strip()) < int(T2T_startStopDict[key][0].strip()) and int(line.split(\" \")[6].strip()) > int(T2T_startStopDict[keyList[myKey-1]][1].strip()) :\n",
    "                NRB_Blocks[i].append(line)\n",
    "\n",
    "            else:\n",
    "                continue\n",
    "                \n",
    "        myKey+=1\n",
    "        \n",
    "            \n",
    "    i+=1\n",
    "            "
   ]
  },
  {
   "cell_type": "code",
   "execution_count": 100,
   "id": "5ddba362",
   "metadata": {},
   "outputs": [
    {
     "data": {
      "text/plain": [
       "16757"
      ]
     },
     "execution_count": 100,
     "metadata": {},
     "output_type": "execute_result"
    }
   ],
   "source": [
    "len(myLines2)"
   ]
  },
  {
   "cell_type": "code",
   "execution_count": 101,
   "id": "5eff96c6",
   "metadata": {},
   "outputs": [
    {
     "data": {
      "text/plain": [
       "dict_keys([0, 1, 2, 3, 4, 5, 6, 7, 8, 9, 10, 11, 12, 13, 14, 15, 16, 17, 18, 19, 20])"
      ]
     },
     "execution_count": 101,
     "metadata": {},
     "output_type": "execute_result"
    }
   ],
   "source": [
    "NRB_Blocks.keys()"
   ]
  },
  {
   "cell_type": "code",
   "execution_count": 11,
   "id": "30305d6a",
   "metadata": {},
   "outputs": [],
   "source": [
    "import collections\n",
    "templist = {}\n",
    "\n",
    "for block in list(NRB_Blocks.keys())[:-3]:\n",
    "    for repeat in NRB_Blocks[block]:\n",
    "        if repeat.split(\" \")[11] in templist.keys():\n",
    "            templist[repeat.split(\" \")[11]].append(repeat.split(\" \")[10])\n",
    "        else:\n",
    "            templist[repeat.split(\" \")[11]]=[]\n",
    "            templist[repeat.split(\" \")[11]].append(repeat.split(\" \")[10])"
   ]
  },
  {
   "cell_type": "code",
   "execution_count": 12,
   "id": "b2496374",
   "metadata": {},
   "outputs": [
    {
     "data": {
      "text/plain": [
       "dict_keys(['Simple_repeat', 'Satellite', 'Low_complexity'])"
      ]
     },
     "execution_count": 12,
     "metadata": {},
     "output_type": "execute_result"
    }
   ],
   "source": [
    "templist.keys()"
   ]
  },
  {
   "cell_type": "code",
   "execution_count": 13,
   "id": "c5393eb3",
   "metadata": {},
   "outputs": [
    {
     "name": "stdout",
     "output_type": "stream",
     "text": [
      "Counter({'HSATII': 4055, '(GAATG)n': 156, '(CATTC)n': 84, 'SAR': 3, 'HSATI': 1})\n"
     ]
    }
   ],
   "source": [
    "print(collections.Counter(templist['Satellite']))"
   ]
  },
  {
   "cell_type": "code",
   "execution_count": 14,
   "id": "f74810a1",
   "metadata": {},
   "outputs": [
    {
     "data": {
      "text/plain": [
       "0.9477000630119723"
      ]
     },
     "execution_count": 14,
     "metadata": {},
     "output_type": "execute_result"
    }
   ],
   "source": [
    "4512/(4512+161+84+3+1)"
   ]
  },
  {
   "cell_type": "code",
   "execution_count": 15,
   "id": "9fd84614",
   "metadata": {},
   "outputs": [
    {
     "name": "stdout",
     "output_type": "stream",
     "text": [
      "514796.0\n"
     ]
    }
   ],
   "source": [
    "spacerBlockLengths=[]\n",
    "for block in list(NRB_Blocks.keys())[:-3]:\n",
    "    spacerBlockLengths.append((int(NRB_Blocks[block][-1].split(\" \")[7].strip())- int(NRB_Blocks[block][0].split(\" \")[6].strip()))+1)\n",
    "print(np.median(spacerBlockLengths))"
   ]
  },
  {
   "cell_type": "code",
   "execution_count": 16,
   "id": "8d5c19b9",
   "metadata": {},
   "outputs": [],
   "source": [
    "i=0\n",
    "tempList = []\n",
    "for block in spacerBlockLengths:\n",
    "    tempList.append([i,block,'Spacer Block'])\n",
    "    tempList.append([i,int(T2T_startStopDict[str(i)][1])-int(T2T_startStopDict[str(i)][0]),'Repeat Block'])\n",
    "    i+=1\n",
    "    \n",
    "tempDF = pd.DataFrame(data=tempList, columns=['Block_Number','Length','Block_Type'])"
   ]
  },
  {
   "cell_type": "code",
   "execution_count": 17,
   "id": "451a595e",
   "metadata": {},
   "outputs": [
    {
     "data": {
      "text/plain": [
       "MannwhitneyuResult(statistic=255.0, pvalue=0.0034272183334826574)"
      ]
     },
     "execution_count": 17,
     "metadata": {},
     "output_type": "execute_result"
    }
   ],
   "source": [
    "import scipy\n",
    "scipy.stats.mannwhitneyu(list(tempDF[tempDF['Block_Type']=='Spacer Block']['Length']), list(tempDF[tempDF['Block_Type']=='Repeat Block']['Length']))"
   ]
  },
  {
   "cell_type": "code",
   "execution_count": 18,
   "id": "db16c7fe",
   "metadata": {},
   "outputs": [
    {
     "name": "stdout",
     "output_type": "stream",
     "text": [
      "514796.0\n"
     ]
    }
   ],
   "source": [
    "print(np.median(list(tempDF[tempDF['Block_Type']=='Spacer Block']['Length'])))"
   ]
  },
  {
   "cell_type": "code",
   "execution_count": 19,
   "id": "5b1289cc",
   "metadata": {},
   "outputs": [
    {
     "name": "stdout",
     "output_type": "stream",
     "text": [
      "178253.0\n"
     ]
    }
   ],
   "source": [
    "print(np.median(list(tempDF[tempDF['Block_Type']=='Repeat Block']['Length'])))"
   ]
  },
  {
   "cell_type": "code",
   "execution_count": 20,
   "id": "3275e008",
   "metadata": {},
   "outputs": [],
   "source": [
    "tempDF['SampleName']='HG01890'"
   ]
  },
  {
   "cell_type": "code",
   "execution_count": 20,
   "id": "d7d275dd",
   "metadata": {},
   "outputs": [],
   "source": [
    "#tempDF.to_csv(\"/home/mark/Desktop/chromosome_y/Dataframes/HG01890/BlockSize_dataframe.csv\")"
   ]
  },
  {
   "cell_type": "code",
   "execution_count": 22,
   "id": "57578efa",
   "metadata": {},
   "outputs": [],
   "source": [
    "#Make a file with the coordinates for DYZ1 blocks\n",
    "with open(\"/home/mark/Desktop/chromosome_y/nonRepeatBlockSubBlocks/HG01890/HG01890_spacerBlock_DYZ1_regions.tsv\", 'a+') as file:\n",
    "    for key in NRB_Blocks.keys():\n",
    "        file.write(str(key)+\"\\t\"+str(NRB_Blocks[key][0].split(\" \")[5])+\"\\t\"+str(NRB_Blocks[key][0].split(\" \")[6])+\"\\t\"+str(NRB_Blocks[key][-1].split(\" \")[7])+\"\\n\")\n",
    "    file.close()"
   ]
  },
  {
   "cell_type": "code",
   "execution_count": 23,
   "id": "e052bd0e",
   "metadata": {},
   "outputs": [],
   "source": [
    "#Make a file with the coordinates for DYZ1 blocks\n",
    "with open(\"/home/mark/Desktop/chromosome_y/nonRepeatBlockSubBlocks/HG01890/HG01890_spacerBlock_DYZ1_regions_samtools.tsv\", 'a+') as file:\n",
    "    for key in NRB_Blocks.keys():\n",
    "        file.write(str(NRB_Blocks[key][0].split(\" \")[5])+\":\"+str(NRB_Blocks[key][0].split(\" \")[6])+\"-\"+str(NRB_Blocks[key][-1].split(\" \")[7])+\"\\n\")\n",
    "    file.close()"
   ]
  },
  {
   "cell_type": "markdown",
   "id": "ba910025",
   "metadata": {},
   "source": [
    "## Load in HaeIII Results"
   ]
  },
  {
   "cell_type": "code",
   "execution_count": 31,
   "id": "e7047970",
   "metadata": {},
   "outputs": [],
   "source": [
    "spacerDictionary = {}\n",
    "for key in NRB_Blocks.keys():\n",
    "    spacerDictionary[str(NRB_Blocks[key][0].split(\" \")[5])+\":\"+str(NRB_Blocks[key][0].split(\" \")[6])+\"-\"+str(NRB_Blocks[key][-1].split(\" \")[7])]=key"
   ]
  },
  {
   "cell_type": "code",
   "execution_count": 91,
   "id": "784e0fc9",
   "metadata": {},
   "outputs": [
    {
     "data": {
      "text/plain": [
       "{'chrY.01-24.01.PAR1-PAR2.RV.unassigned-0000376.HG01890:28526907-29823870': 0,\n",
       " 'chrY.01-24.01.PAR1-PAR2.RV.unassigned-0000376.HG01890:29857042-30203318': 1,\n",
       " 'chrY.01-24.01.PAR1-PAR2.RV.unassigned-0000376.HG01890:30295250-30645330': 2,\n",
       " 'chrY.01-24.01.PAR1-PAR2.RV.unassigned-0000376.HG01890:30666370-32095444': 3,\n",
       " 'chrY.01-24.01.PAR1-PAR2.RV.unassigned-0000376.HG01890:32326804-33301783': 4,\n",
       " 'chrY.01-24.01.PAR1-PAR2.RV.unassigned-0000376.HG01890:33575580-34296853': 5,\n",
       " 'chrY.01-24.01.PAR1-PAR2.RV.unassigned-0000376.HG01890:34359232-34364632': 6,\n",
       " 'chrY.01-24.01.PAR1-PAR2.RV.unassigned-0000376.HG01890:34473439-35308681': 7,\n",
       " 'chrY.01-24.01.PAR1-PAR2.RV.unassigned-0000376.HG01890:35545475-36090558': 8,\n",
       " 'chrY.01-24.01.PAR1-PAR2.RV.unassigned-0000376.HG01890:36293833-37078614': 9,\n",
       " 'chrY.01-24.01.PAR1-PAR2.RV.unassigned-0000376.HG01890:37730856-38022998': 10,\n",
       " 'chrY.01-24.01.PAR1-PAR2.RV.unassigned-0000376.HG01890:38416460-38847070': 11,\n",
       " 'chrY.01-24.01.PAR1-PAR2.RV.unassigned-0000376.HG01890:40825754-41267008': 12,\n",
       " 'chrY.01-24.01.PAR1-PAR2.RV.unassigned-0000376.HG01890:41464377-41795366': 13,\n",
       " 'chrY.01-24.01.PAR1-PAR2.RV.unassigned-0000376.HG01890:43443101-44387308': 14,\n",
       " 'chrY.01-24.01.PAR1-PAR2.RV.unassigned-0000376.HG01890:44546474-45030981': 15,\n",
       " 'chrY.01-24.01.PAR1-PAR2.RV.unassigned-0000376.HG01890:45138575-45796965': 16,\n",
       " 'chrY.01-24.01.PAR1-PAR2.RV.unassigned-0000376.HG01890:45822766-46041704': 17,\n",
       " 'chrY.01-24.01.PAR1-PAR2.RV.unassigned-0000376.HG01890:46065020-46075533': 18,\n",
       " 'chrY.01-24.01.PAR1-PAR2.RV.unassigned-0000376.HG01890:46097531-46105900': 19,\n",
       " 'chrY.01-24.01.PAR1-PAR2.RV.unassigned-0000376.HG01890:46127110-46133499': 20}"
      ]
     },
     "execution_count": 91,
     "metadata": {},
     "output_type": "execute_result"
    }
   ],
   "source": [
    "spacerDictionary"
   ]
  },
  {
   "cell_type": "code",
   "execution_count": 52,
   "id": "85c17087",
   "metadata": {},
   "outputs": [
    {
     "name": "stderr",
     "output_type": "stream",
     "text": [
      "100%|███████████████████████████████████| 3137/3137 [00:00<00:00, 179323.89it/s]\n"
     ]
    }
   ],
   "source": [
    "SpacerBlocks={x:[] for x in spacerDictionary.values()}\n",
    "with open('/home/mark/Desktop/chromosome_y/nonRepeatBlockSubBlocks/DYZ1_Blocks/Restriction_Digest/headers/HG01890_headers.txt') as f:\n",
    "    Lines = f.readlines()\n",
    "    \n",
    "    for line in tqdm(Lines):\n",
    "        SpacerBlocks[spacerDictionary[line.split(\" \")[7].split(\",\")[0]]].append(str(line.split(\" \")[0].split(\">\")[1])+\"_\"+str(int(line.split(\" \")[7].split(\",\")[0].split(\":\")[1].split(\"-\")[0])+int(line.split(\" \")[9]))+\"-\"+str(int(line.split(\" \")[7].split(\",\")[0].split(\":\")[1].split(\"-\")[0])+int(line.split(\" \")[12])))\n",
    "    f.close()\n",
    "SpacerBlockList = []\n",
    "for key in SpacerBlocks.keys():\n",
    "\n",
    "    for item in SpacerBlocks[key]:\n",
    "        SpacerBlockList.append([key, int(item.split(\"_\")[0]), int(item.split(\"_\")[1].split(\"-\")[0]), int(item.split(\"_\")[1].split(\"-\")[1])])\n",
    "tempDF = pd.DataFrame(data=SpacerBlockList, columns=['SpacerBlock','Length','Start','End'])\n",
    "group = tempDF.groupby(\"SpacerBlock\")\n",
    "sort_function = lambda x: x.sort_values(by=\"Start\", ascending = True)\n",
    "desired_df = group.apply(sort_function)"
   ]
  },
  {
   "cell_type": "code",
   "execution_count": 66,
   "id": "a631429e",
   "metadata": {},
   "outputs": [
    {
     "data": {
      "text/html": [
       "<div>\n",
       "<style scoped>\n",
       "    .dataframe tbody tr th:only-of-type {\n",
       "        vertical-align: middle;\n",
       "    }\n",
       "\n",
       "    .dataframe tbody tr th {\n",
       "        vertical-align: top;\n",
       "    }\n",
       "\n",
       "    .dataframe thead th {\n",
       "        text-align: right;\n",
       "    }\n",
       "</style>\n",
       "<table border=\"1\" class=\"dataframe\">\n",
       "  <thead>\n",
       "    <tr style=\"text-align: right;\">\n",
       "      <th></th>\n",
       "      <th></th>\n",
       "      <th>SpacerBlock</th>\n",
       "      <th>Length</th>\n",
       "      <th>Start</th>\n",
       "      <th>End</th>\n",
       "    </tr>\n",
       "    <tr>\n",
       "      <th>SpacerBlock</th>\n",
       "      <th></th>\n",
       "      <th></th>\n",
       "      <th></th>\n",
       "      <th></th>\n",
       "      <th></th>\n",
       "    </tr>\n",
       "  </thead>\n",
       "  <tbody>\n",
       "    <tr>\n",
       "      <th rowspan=\"5\" valign=\"top\">0</th>\n",
       "      <th>303</th>\n",
       "      <td>0</td>\n",
       "      <td>1751</td>\n",
       "      <td>28526908</td>\n",
       "      <td>28528658</td>\n",
       "    </tr>\n",
       "    <tr>\n",
       "      <th>3</th>\n",
       "      <td>0</td>\n",
       "      <td>7310</td>\n",
       "      <td>28528659</td>\n",
       "      <td>28535968</td>\n",
       "    </tr>\n",
       "    <tr>\n",
       "      <th>1</th>\n",
       "      <td>0</td>\n",
       "      <td>31114</td>\n",
       "      <td>28535969</td>\n",
       "      <td>28567082</td>\n",
       "    </tr>\n",
       "    <tr>\n",
       "      <th>257</th>\n",
       "      <td>0</td>\n",
       "      <td>3101</td>\n",
       "      <td>28567083</td>\n",
       "      <td>28570183</td>\n",
       "    </tr>\n",
       "    <tr>\n",
       "      <th>261</th>\n",
       "      <td>0</td>\n",
       "      <td>3096</td>\n",
       "      <td>28570184</td>\n",
       "      <td>28573279</td>\n",
       "    </tr>\n",
       "    <tr>\n",
       "      <th>...</th>\n",
       "      <th>...</th>\n",
       "      <td>...</td>\n",
       "      <td>...</td>\n",
       "      <td>...</td>\n",
       "      <td>...</td>\n",
       "    </tr>\n",
       "    <tr>\n",
       "      <th rowspan=\"5\" valign=\"top\">20</th>\n",
       "      <th>3135</th>\n",
       "      <td>20</td>\n",
       "      <td>420</td>\n",
       "      <td>46128684</td>\n",
       "      <td>46129103</td>\n",
       "    </tr>\n",
       "    <tr>\n",
       "      <th>3133</th>\n",
       "      <td>20</td>\n",
       "      <td>776</td>\n",
       "      <td>46129104</td>\n",
       "      <td>46129879</td>\n",
       "    </tr>\n",
       "    <tr>\n",
       "      <th>3136</th>\n",
       "      <td>20</td>\n",
       "      <td>81</td>\n",
       "      <td>46129880</td>\n",
       "      <td>46129960</td>\n",
       "    </tr>\n",
       "    <tr>\n",
       "      <th>3130</th>\n",
       "      <td>20</td>\n",
       "      <td>1975</td>\n",
       "      <td>46129961</td>\n",
       "      <td>46131935</td>\n",
       "    </tr>\n",
       "    <tr>\n",
       "      <th>3131</th>\n",
       "      <td>20</td>\n",
       "      <td>1565</td>\n",
       "      <td>46131936</td>\n",
       "      <td>46133500</td>\n",
       "    </tr>\n",
       "  </tbody>\n",
       "</table>\n",
       "<p>3137 rows × 4 columns</p>\n",
       "</div>"
      ],
      "text/plain": [
       "                  SpacerBlock  Length     Start       End\n",
       "SpacerBlock                                              \n",
       "0           303             0    1751  28526908  28528658\n",
       "            3               0    7310  28528659  28535968\n",
       "            1               0   31114  28535969  28567082\n",
       "            257             0    3101  28567083  28570183\n",
       "            261             0    3096  28570184  28573279\n",
       "...                       ...     ...       ...       ...\n",
       "20          3135           20     420  46128684  46129103\n",
       "            3133           20     776  46129104  46129879\n",
       "            3136           20      81  46129880  46129960\n",
       "            3130           20    1975  46129961  46131935\n",
       "            3131           20    1565  46131936  46133500\n",
       "\n",
       "[3137 rows x 4 columns]"
      ]
     },
     "execution_count": 66,
     "metadata": {},
     "output_type": "execute_result"
    }
   ],
   "source": [
    "desired_df"
   ]
  },
  {
   "cell_type": "code",
   "execution_count": 88,
   "id": "b69da841",
   "metadata": {},
   "outputs": [],
   "source": [
    "barplotList = []\n",
    "for key in SpacerBlocks.keys():\n",
    "    if int(key) < 18:\n",
    "        barplotList.append([key, len(desired_df[desired_df['SpacerBlock']==key])])\n",
    "barplotDF = pd.DataFrame(data=barplotList, columns=['SpacerBlock','Total Fragments'])"
   ]
  },
  {
   "cell_type": "code",
   "execution_count": 89,
   "id": "405e6394",
   "metadata": {},
   "outputs": [
    {
     "data": {
      "text/plain": [
       "<AxesSubplot:xlabel='SpacerBlock', ylabel='Total Fragments'>"
      ]
     },
     "execution_count": 89,
     "metadata": {},
     "output_type": "execute_result"
    },
    {
     "data": {
      "image/png": "[encoded data removed]",
      "text/plain": [
       "<Figure size 432x288 with 1 Axes>"
      ]
     },
     "metadata": {
      "needs_background": "light"
     },
     "output_type": "display_data"
    }
   ],
   "source": [
    "sns.barplot(data=barplotDF, x='SpacerBlock', y='Total Fragments', color='black')"
   ]
  },
  {
   "cell_type": "code",
   "execution_count": 90,
   "id": "2730ccbc",
   "metadata": {},
   "outputs": [
    {
     "data": {
      "text/html": [
       "<div>\n",
       "<style scoped>\n",
       "    .dataframe tbody tr th:only-of-type {\n",
       "        vertical-align: middle;\n",
       "    }\n",
       "\n",
       "    .dataframe tbody tr th {\n",
       "        vertical-align: top;\n",
       "    }\n",
       "\n",
       "    .dataframe thead th {\n",
       "        text-align: right;\n",
       "    }\n",
       "</style>\n",
       "<table border=\"1\" class=\"dataframe\">\n",
       "  <thead>\n",
       "    <tr style=\"text-align: right;\">\n",
       "      <th></th>\n",
       "      <th></th>\n",
       "      <th>SpacerBlock</th>\n",
       "      <th>Length</th>\n",
       "      <th>Start</th>\n",
       "      <th>End</th>\n",
       "    </tr>\n",
       "    <tr>\n",
       "      <th>SpacerBlock</th>\n",
       "      <th></th>\n",
       "      <th></th>\n",
       "      <th></th>\n",
       "      <th></th>\n",
       "      <th></th>\n",
       "    </tr>\n",
       "  </thead>\n",
       "  <tbody>\n",
       "    <tr>\n",
       "      <th>6</th>\n",
       "      <th>1422</th>\n",
       "      <td>6</td>\n",
       "      <td>5401</td>\n",
       "      <td>34359233</td>\n",
       "      <td>34364633</td>\n",
       "    </tr>\n",
       "  </tbody>\n",
       "</table>\n",
       "</div>"
      ],
      "text/plain": [
       "                  SpacerBlock  Length     Start       End\n",
       "SpacerBlock                                              \n",
       "6           1422            6    5401  34359233  34364633"
      ]
     },
     "execution_count": 90,
     "metadata": {},
     "output_type": "execute_result"
    }
   ],
   "source": [
    "desired_df[desired_df['SpacerBlock']==6]"
   ]
  },
  {
   "cell_type": "code",
   "execution_count": 65,
   "id": "2369e091",
   "metadata": {},
   "outputs": [
    {
     "name": "stdout",
     "output_type": "stream",
     "text": [
      "Mean: 3543.3471469556903\n",
      "Median: 3554.0\n"
     ]
    }
   ],
   "source": [
    "print(\"Mean: \"+str(np.mean(desired_df['Length'])))\n",
    "print(\"Median: \"+str(np.median(desired_df['Length'])))"
   ]
  },
  {
   "cell_type": "code",
   "execution_count": 73,
   "id": "7c83ab19",
   "metadata": {},
   "outputs": [
    {
     "name": "stdout",
     "output_type": "stream",
     "text": [
      "Mean: 3564.836387013822\n",
      "Median: 3554.0\n"
     ]
    }
   ],
   "source": [
    "print(\"Mean: \"+str(np.mean(desired_df[desired_df['SpacerBlock']<18]['Length'])))\n",
    "print(\"Median: \"+str(np.median(desired_df[desired_df['SpacerBlock']<18]['Length'])))"
   ]
  },
  {
   "cell_type": "code",
   "execution_count": 59,
   "id": "9b5b412b",
   "metadata": {
    "scrolled": true
   },
   "outputs": [
    {
     "data": {
      "text/plain": [
       "(array([1.67e+02, 2.47e+02, 2.65e+03, 2.20e+01, 3.40e+01, 1.00e+00,\n",
       "        4.00e+00, 0.00e+00, 5.00e+00, 0.00e+00, 0.00e+00, 1.00e+00,\n",
       "        1.00e+00, 0.00e+00, 0.00e+00, 0.00e+00, 0.00e+00, 0.00e+00,\n",
       "        2.00e+00, 0.00e+00, 1.00e+00, 0.00e+00, 0.00e+00, 0.00e+00,\n",
       "        0.00e+00, 0.00e+00, 0.00e+00, 0.00e+00, 0.00e+00, 0.00e+00,\n",
       "        0.00e+00, 0.00e+00, 1.00e+00, 0.00e+00, 0.00e+00, 0.00e+00,\n",
       "        0.00e+00, 0.00e+00, 0.00e+00, 0.00e+00, 0.00e+00, 0.00e+00,\n",
       "        0.00e+00, 0.00e+00, 0.00e+00, 0.00e+00, 0.00e+00, 0.00e+00,\n",
       "        0.00e+00, 0.00e+00, 0.00e+00, 0.00e+00, 0.00e+00, 0.00e+00,\n",
       "        0.00e+00, 0.00e+00, 0.00e+00, 0.00e+00, 0.00e+00, 0.00e+00,\n",
       "        0.00e+00, 0.00e+00, 0.00e+00, 0.00e+00, 0.00e+00, 0.00e+00,\n",
       "        0.00e+00, 0.00e+00, 0.00e+00, 0.00e+00, 0.00e+00, 0.00e+00,\n",
       "        0.00e+00, 0.00e+00, 0.00e+00, 0.00e+00, 0.00e+00, 0.00e+00,\n",
       "        0.00e+00, 0.00e+00, 0.00e+00, 0.00e+00, 0.00e+00, 0.00e+00,\n",
       "        0.00e+00, 0.00e+00, 0.00e+00, 0.00e+00, 0.00e+00, 0.00e+00,\n",
       "        0.00e+00, 0.00e+00, 0.00e+00, 0.00e+00, 0.00e+00, 0.00e+00,\n",
       "        0.00e+00, 0.00e+00, 0.00e+00, 1.00e+00]),\n",
       " array([2.4000000e+01, 1.7475600e+03, 3.4711200e+03, 5.1946800e+03,\n",
       "        6.9182400e+03, 8.6418000e+03, 1.0365360e+04, 1.2088920e+04,\n",
       "        1.3812480e+04, 1.5536040e+04, 1.7259600e+04, 1.8983160e+04,\n",
       "        2.0706720e+04, 2.2430280e+04, 2.4153840e+04, 2.5877400e+04,\n",
       "        2.7600960e+04, 2.9324520e+04, 3.1048080e+04, 3.2771640e+04,\n",
       "        3.4495200e+04, 3.6218760e+04, 3.7942320e+04, 3.9665880e+04,\n",
       "        4.1389440e+04, 4.3113000e+04, 4.4836560e+04, 4.6560120e+04,\n",
       "        4.8283680e+04, 5.0007240e+04, 5.1730800e+04, 5.3454360e+04,\n",
       "        5.5177920e+04, 5.6901480e+04, 5.8625040e+04, 6.0348600e+04,\n",
       "        6.2072160e+04, 6.3795720e+04, 6.5519280e+04, 6.7242840e+04,\n",
       "        6.8966400e+04, 7.0689960e+04, 7.2413520e+04, 7.4137080e+04,\n",
       "        7.5860640e+04, 7.7584200e+04, 7.9307760e+04, 8.1031320e+04,\n",
       "        8.2754880e+04, 8.4478440e+04, 8.6202000e+04, 8.7925560e+04,\n",
       "        8.9649120e+04, 9.1372680e+04, 9.3096240e+04, 9.4819800e+04,\n",
       "        9.6543360e+04, 9.8266920e+04, 9.9990480e+04, 1.0171404e+05,\n",
       "        1.0343760e+05, 1.0516116e+05, 1.0688472e+05, 1.0860828e+05,\n",
       "        1.1033184e+05, 1.1205540e+05, 1.1377896e+05, 1.1550252e+05,\n",
       "        1.1722608e+05, 1.1894964e+05, 1.2067320e+05, 1.2239676e+05,\n",
       "        1.2412032e+05, 1.2584388e+05, 1.2756744e+05, 1.2929100e+05,\n",
       "        1.3101456e+05, 1.3273812e+05, 1.3446168e+05, 1.3618524e+05,\n",
       "        1.3790880e+05, 1.3963236e+05, 1.4135592e+05, 1.4307948e+05,\n",
       "        1.4480304e+05, 1.4652660e+05, 1.4825016e+05, 1.4997372e+05,\n",
       "        1.5169728e+05, 1.5342084e+05, 1.5514440e+05, 1.5686796e+05,\n",
       "        1.5859152e+05, 1.6031508e+05, 1.6203864e+05, 1.6376220e+05,\n",
       "        1.6548576e+05, 1.6720932e+05, 1.6893288e+05, 1.7065644e+05,\n",
       "        1.7238000e+05]),\n",
       " <BarContainer object of 100 artists>)"
      ]
     },
     "execution_count": 59,
     "metadata": {},
     "output_type": "execute_result"
    },
    {
     "data": {
      "image/png": "[encoded data removed]",
      "text/plain": [
       "<Figure size 432x288 with 1 Axes>"
      ]
     },
     "metadata": {
      "needs_background": "light"
     },
     "output_type": "display_data"
    }
   ],
   "source": [
    "plt.hist(desired_df['Length'], log=True, bins=100)"
   ]
  },
  {
   "cell_type": "code",
   "execution_count": 77,
   "id": "3c5b0366",
   "metadata": {
    "scrolled": true
   },
   "outputs": [
    {
     "data": {
      "text/plain": [
       "(array([1.450e+02, 2.440e+02, 2.649e+03, 2.200e+01, 3.400e+01, 1.000e+00,\n",
       "        4.000e+00, 0.000e+00, 5.000e+00, 0.000e+00, 0.000e+00, 1.000e+00,\n",
       "        1.000e+00, 0.000e+00, 0.000e+00, 0.000e+00, 0.000e+00, 0.000e+00,\n",
       "        2.000e+00, 0.000e+00, 1.000e+00, 0.000e+00, 0.000e+00, 0.000e+00,\n",
       "        0.000e+00, 0.000e+00, 0.000e+00, 0.000e+00, 0.000e+00, 0.000e+00,\n",
       "        0.000e+00, 0.000e+00, 1.000e+00, 0.000e+00, 0.000e+00, 0.000e+00,\n",
       "        0.000e+00, 0.000e+00, 0.000e+00, 0.000e+00, 0.000e+00, 0.000e+00,\n",
       "        0.000e+00, 0.000e+00, 0.000e+00, 0.000e+00, 0.000e+00, 0.000e+00,\n",
       "        0.000e+00, 0.000e+00, 0.000e+00, 0.000e+00, 0.000e+00, 0.000e+00,\n",
       "        0.000e+00, 0.000e+00, 0.000e+00, 0.000e+00, 0.000e+00, 0.000e+00,\n",
       "        0.000e+00, 0.000e+00, 0.000e+00, 0.000e+00, 0.000e+00, 0.000e+00,\n",
       "        0.000e+00, 0.000e+00, 0.000e+00, 0.000e+00, 0.000e+00, 0.000e+00,\n",
       "        0.000e+00, 0.000e+00, 0.000e+00, 0.000e+00, 0.000e+00, 0.000e+00,\n",
       "        0.000e+00, 0.000e+00, 0.000e+00, 0.000e+00, 0.000e+00, 0.000e+00,\n",
       "        0.000e+00, 0.000e+00, 0.000e+00, 0.000e+00, 0.000e+00, 0.000e+00,\n",
       "        0.000e+00, 0.000e+00, 0.000e+00, 0.000e+00, 0.000e+00, 0.000e+00,\n",
       "        0.000e+00, 0.000e+00, 0.000e+00, 1.000e+00]),\n",
       " array([2.4000000e+01, 1.7475600e+03, 3.4711200e+03, 5.1946800e+03,\n",
       "        6.9182400e+03, 8.6418000e+03, 1.0365360e+04, 1.2088920e+04,\n",
       "        1.3812480e+04, 1.5536040e+04, 1.7259600e+04, 1.8983160e+04,\n",
       "        2.0706720e+04, 2.2430280e+04, 2.4153840e+04, 2.5877400e+04,\n",
       "        2.7600960e+04, 2.9324520e+04, 3.1048080e+04, 3.2771640e+04,\n",
       "        3.4495200e+04, 3.6218760e+04, 3.7942320e+04, 3.9665880e+04,\n",
       "        4.1389440e+04, 4.3113000e+04, 4.4836560e+04, 4.6560120e+04,\n",
       "        4.8283680e+04, 5.0007240e+04, 5.1730800e+04, 5.3454360e+04,\n",
       "        5.5177920e+04, 5.6901480e+04, 5.8625040e+04, 6.0348600e+04,\n",
       "        6.2072160e+04, 6.3795720e+04, 6.5519280e+04, 6.7242840e+04,\n",
       "        6.8966400e+04, 7.0689960e+04, 7.2413520e+04, 7.4137080e+04,\n",
       "        7.5860640e+04, 7.7584200e+04, 7.9307760e+04, 8.1031320e+04,\n",
       "        8.2754880e+04, 8.4478440e+04, 8.6202000e+04, 8.7925560e+04,\n",
       "        8.9649120e+04, 9.1372680e+04, 9.3096240e+04, 9.4819800e+04,\n",
       "        9.6543360e+04, 9.8266920e+04, 9.9990480e+04, 1.0171404e+05,\n",
       "        1.0343760e+05, 1.0516116e+05, 1.0688472e+05, 1.0860828e+05,\n",
       "        1.1033184e+05, 1.1205540e+05, 1.1377896e+05, 1.1550252e+05,\n",
       "        1.1722608e+05, 1.1894964e+05, 1.2067320e+05, 1.2239676e+05,\n",
       "        1.2412032e+05, 1.2584388e+05, 1.2756744e+05, 1.2929100e+05,\n",
       "        1.3101456e+05, 1.3273812e+05, 1.3446168e+05, 1.3618524e+05,\n",
       "        1.3790880e+05, 1.3963236e+05, 1.4135592e+05, 1.4307948e+05,\n",
       "        1.4480304e+05, 1.4652660e+05, 1.4825016e+05, 1.4997372e+05,\n",
       "        1.5169728e+05, 1.5342084e+05, 1.5514440e+05, 1.5686796e+05,\n",
       "        1.5859152e+05, 1.6031508e+05, 1.6203864e+05, 1.6376220e+05,\n",
       "        1.6548576e+05, 1.6720932e+05, 1.6893288e+05, 1.7065644e+05,\n",
       "        1.7238000e+05]),\n",
       " <BarContainer object of 100 artists>)"
      ]
     },
     "execution_count": 77,
     "metadata": {},
     "output_type": "execute_result"
    },
    {
     "data": {
      "image/png": "[encoded data removed]",
      "text/plain": [
       "<Figure size 432x288 with 1 Axes>"
      ]
     },
     "metadata": {
      "needs_background": "light"
     },
     "output_type": "display_data"
    }
   ],
   "source": [
    "plt.hist(desired_df[desired_df['SpacerBlock']<18]['Length'], log=True, bins=100)"
   ]
  },
  {
   "cell_type": "code",
   "execution_count": null,
   "id": "c3418a89",
   "metadata": {},
   "outputs": [],
   "source": []
  }
 ],
 "metadata": {
  "kernelspec": {
   "display_name": "Python 3 (ipykernel)",
   "language": "python",
   "name": "python3"
  },
  "language_info": {
   "codemirror_mode": {
    "name": "ipython",
    "version": 3
   },
   "file_extension": ".py",
   "mimetype": "text/x-python",
   "name": "python",
   "nbconvert_exporter": "python",
   "pygments_lexer": "ipython3",
   "version": "3.9.12"
  }
 },
 "nbformat": 4,
 "nbformat_minor": 5
}
