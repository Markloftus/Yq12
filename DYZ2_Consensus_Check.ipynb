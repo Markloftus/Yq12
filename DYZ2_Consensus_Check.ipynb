{
 "cells": [
  {
   "cell_type": "code",
   "execution_count": 1,
   "id": "fcea14fe",
   "metadata": {},
   "outputs": [],
   "source": [
    "%matplotlib inline\n",
    "import pandas as pd\n",
    "#import pandas.util.testing as pd\n",
    "import matplotlib.pyplot as plt\n",
    "import numpy as np\n",
    "import itertools\n",
    "import seaborn as sns\n",
    "from os import walk\n",
    "from tqdm import tqdm"
   ]
  },
  {
   "cell_type": "code",
   "execution_count": 2,
   "id": "19f83db9",
   "metadata": {},
   "outputs": [],
   "source": [
    "import pysam"
   ]
  },
  {
   "cell_type": "code",
   "execution_count": 3,
   "id": "96be8bba",
   "metadata": {},
   "outputs": [],
   "source": [
    "breakpointDF = pd.read_csv('/home/mark/Desktop/chromosome_y/breakpoints/Yq12_Inversion_Breakpoints.csv').set_index(\"Sample_Name\")"
   ]
  },
  {
   "cell_type": "code",
   "execution_count": 4,
   "id": "e40cd144",
   "metadata": {
    "scrolled": true
   },
   "outputs": [
    {
     "data": {
      "text/html": [
       "<div>\n",
       "<style scoped>\n",
       "    .dataframe tbody tr th:only-of-type {\n",
       "        vertical-align: middle;\n",
       "    }\n",
       "\n",
       "    .dataframe tbody tr th {\n",
       "        vertical-align: top;\n",
       "    }\n",
       "\n",
       "    .dataframe thead th {\n",
       "        text-align: right;\n",
       "    }\n",
       "</style>\n",
       "<table border=\"1\" class=\"dataframe\">\n",
       "  <thead>\n",
       "    <tr style=\"text-align: right;\">\n",
       "      <th></th>\n",
       "      <th>Assembly</th>\n",
       "      <th>Proximal_Contig_Name</th>\n",
       "      <th>Proximal_1st_Breakpoint</th>\n",
       "      <th>Proximal_2nd_Breakpoint</th>\n",
       "      <th>Distal_Contig_Name</th>\n",
       "      <th>Distal_1st_Breakpoint</th>\n",
       "      <th>Distal_2nd_Breakpoint</th>\n",
       "    </tr>\n",
       "    <tr>\n",
       "      <th>Sample_Name</th>\n",
       "      <th></th>\n",
       "      <th></th>\n",
       "      <th></th>\n",
       "      <th></th>\n",
       "      <th></th>\n",
       "      <th></th>\n",
       "      <th></th>\n",
       "    </tr>\n",
       "  </thead>\n",
       "  <tbody>\n",
       "    <tr>\n",
       "      <th>HG002</th>\n",
       "      <td>Complete</td>\n",
       "      <td>chrY</td>\n",
       "      <td>28673535.0</td>\n",
       "      <td>29238493.0</td>\n",
       "      <td>chrY</td>\n",
       "      <td>61145507</td>\n",
       "      <td>61404974</td>\n",
       "    </tr>\n",
       "    <tr>\n",
       "      <th>HG02666</th>\n",
       "      <td>Complete</td>\n",
       "      <td>chrY.01-24.01.PAR1-PAR2.RV.unassigned-0000749....</td>\n",
       "      <td>30372859.0</td>\n",
       "      <td>30955148.0</td>\n",
       "      <td>chrY.01-24.01.PAR1-PAR2.RV.unassigned-0000749....</td>\n",
       "      <td>52803703</td>\n",
       "      <td>53445091</td>\n",
       "    </tr>\n",
       "    <tr>\n",
       "      <th>HG02011</th>\n",
       "      <td>Complete</td>\n",
       "      <td>chrY.09-24.01.HET1_centro-PAR2.FW.unassigned-0...</td>\n",
       "      <td>18167324.0</td>\n",
       "      <td>18945823.0</td>\n",
       "      <td>chrY.09-24.01.HET1_centro-PAR2.FW.unassigned-0...</td>\n",
       "      <td>39033959</td>\n",
       "      <td>39536354</td>\n",
       "    </tr>\n",
       "    <tr>\n",
       "      <th>HG01890</th>\n",
       "      <td>Complete</td>\n",
       "      <td>chrY.01-24.01.PAR1-PAR2.RV.utig4-384.HG01890</td>\n",
       "      <td>29844211.0</td>\n",
       "      <td>29857045.0</td>\n",
       "      <td>chrY.01-24.01.PAR1-PAR2.RV.utig4-384.HG01890</td>\n",
       "      <td>44446944</td>\n",
       "      <td>45041243</td>\n",
       "    </tr>\n",
       "    <tr>\n",
       "      <th>HG01952</th>\n",
       "      <td>Complete</td>\n",
       "      <td>chrY.21-24.01.AMPL7-PAR2.FW.utig4-9605.HG01952</td>\n",
       "      <td>1899453.0</td>\n",
       "      <td>2577931.0</td>\n",
       "      <td>chrY.21-24.01.AMPL7-PAR2.FW.utig4-9605.HG01952</td>\n",
       "      <td>22309789</td>\n",
       "      <td>22681591</td>\n",
       "    </tr>\n",
       "    <tr>\n",
       "      <th>HG00358</th>\n",
       "      <td>Complete</td>\n",
       "      <td>chrY.01-24.01.PAR1-PAR2.RV.utig4-2510.HG00358</td>\n",
       "      <td>27665566.0</td>\n",
       "      <td>28193943.0</td>\n",
       "      <td>chrY.01-24.01.PAR1-PAR2.RV.utig4-2510.HG00358</td>\n",
       "      <td>57313376</td>\n",
       "      <td>57922190</td>\n",
       "    </tr>\n",
       "    <tr>\n",
       "      <th>HG01106</th>\n",
       "      <td>Complete</td>\n",
       "      <td>NaN</td>\n",
       "      <td>NaN</td>\n",
       "      <td>NaN</td>\n",
       "      <td>chrY.21-24.01.AMPL7-PAR2.FW.unassigned-0000976...</td>\n",
       "      <td>36797732</td>\n",
       "      <td>37147912</td>\n",
       "    </tr>\n",
       "    <tr>\n",
       "      <th>NA19347</th>\n",
       "      <td>Fragmented</td>\n",
       "      <td>chrY.09-23.01.HET1_centro-HET3_Yq.RV.unassigne...</td>\n",
       "      <td>18120241.0</td>\n",
       "      <td>18940332.0</td>\n",
       "      <td>chrY.23-24.01.HET3_Yq-PAR2.FW.unassigned-00008...</td>\n",
       "      <td>2932598</td>\n",
       "      <td>3403056</td>\n",
       "    </tr>\n",
       "    <tr>\n",
       "      <th>NA19317</th>\n",
       "      <td>Fragmented</td>\n",
       "      <td>chrY.01-23.01.PAR1-HET3_Yq.RV.unassigned-00009...</td>\n",
       "      <td>29160467.0</td>\n",
       "      <td>29980560.0</td>\n",
       "      <td>chrY.23-24.01.HET3_Yq-PAR2.RV.unassigned-00004...</td>\n",
       "      <td>2868656</td>\n",
       "      <td>3339114</td>\n",
       "    </tr>\n",
       "    <tr>\n",
       "      <th>NA19705</th>\n",
       "      <td>Fragmented</td>\n",
       "      <td>chrY.09-23.01.HET1_centro-HET3_Yq.FW.unassigne...</td>\n",
       "      <td>18999289.0</td>\n",
       "      <td>19728385.0</td>\n",
       "      <td>chrY.23-24.01.HET3_Yq-PAR2.RV.unassigned-00001...</td>\n",
       "      <td>2971458</td>\n",
       "      <td>3492013</td>\n",
       "    </tr>\n",
       "    <tr>\n",
       "      <th>HG01928</th>\n",
       "      <td>Fragmented</td>\n",
       "      <td>chrY.17-23.01.AMPL6-HET3_Yq.RV.unassigned-0005...</td>\n",
       "      <td>9369452.0</td>\n",
       "      <td>9993895.0</td>\n",
       "      <td>chrY.23-24.01.HET3_Yq-PAR2.FW.unassigned-00085...</td>\n",
       "      <td>13686217</td>\n",
       "      <td>14093798</td>\n",
       "    </tr>\n",
       "  </tbody>\n",
       "</table>\n",
       "</div>"
      ],
      "text/plain": [
       "               Assembly                               Proximal_Contig_Name  \\\n",
       "Sample_Name                                                                  \n",
       "HG002          Complete                                               chrY   \n",
       "HG02666        Complete  chrY.01-24.01.PAR1-PAR2.RV.unassigned-0000749....   \n",
       "HG02011        Complete  chrY.09-24.01.HET1_centro-PAR2.FW.unassigned-0...   \n",
       "HG01890        Complete       chrY.01-24.01.PAR1-PAR2.RV.utig4-384.HG01890   \n",
       "HG01952        Complete     chrY.21-24.01.AMPL7-PAR2.FW.utig4-9605.HG01952   \n",
       "HG00358        Complete      chrY.01-24.01.PAR1-PAR2.RV.utig4-2510.HG00358   \n",
       "HG01106        Complete                                                NaN   \n",
       "NA19347      Fragmented  chrY.09-23.01.HET1_centro-HET3_Yq.RV.unassigne...   \n",
       "NA19317      Fragmented  chrY.01-23.01.PAR1-HET3_Yq.RV.unassigned-00009...   \n",
       "NA19705      Fragmented  chrY.09-23.01.HET1_centro-HET3_Yq.FW.unassigne...   \n",
       "HG01928      Fragmented  chrY.17-23.01.AMPL6-HET3_Yq.RV.unassigned-0005...   \n",
       "\n",
       "             Proximal_1st_Breakpoint  Proximal_2nd_Breakpoint  \\\n",
       "Sample_Name                                                     \n",
       "HG002                     28673535.0               29238493.0   \n",
       "HG02666                   30372859.0               30955148.0   \n",
       "HG02011                   18167324.0               18945823.0   \n",
       "HG01890                   29844211.0               29857045.0   \n",
       "HG01952                    1899453.0                2577931.0   \n",
       "HG00358                   27665566.0               28193943.0   \n",
       "HG01106                          NaN                      NaN   \n",
       "NA19347                   18120241.0               18940332.0   \n",
       "NA19317                   29160467.0               29980560.0   \n",
       "NA19705                   18999289.0               19728385.0   \n",
       "HG01928                    9369452.0                9993895.0   \n",
       "\n",
       "                                            Distal_Contig_Name  \\\n",
       "Sample_Name                                                      \n",
       "HG002                                                     chrY   \n",
       "HG02666      chrY.01-24.01.PAR1-PAR2.RV.unassigned-0000749....   \n",
       "HG02011      chrY.09-24.01.HET1_centro-PAR2.FW.unassigned-0...   \n",
       "HG01890           chrY.01-24.01.PAR1-PAR2.RV.utig4-384.HG01890   \n",
       "HG01952         chrY.21-24.01.AMPL7-PAR2.FW.utig4-9605.HG01952   \n",
       "HG00358          chrY.01-24.01.PAR1-PAR2.RV.utig4-2510.HG00358   \n",
       "HG01106      chrY.21-24.01.AMPL7-PAR2.FW.unassigned-0000976...   \n",
       "NA19347      chrY.23-24.01.HET3_Yq-PAR2.FW.unassigned-00008...   \n",
       "NA19317      chrY.23-24.01.HET3_Yq-PAR2.RV.unassigned-00004...   \n",
       "NA19705      chrY.23-24.01.HET3_Yq-PAR2.RV.unassigned-00001...   \n",
       "HG01928      chrY.23-24.01.HET3_Yq-PAR2.FW.unassigned-00085...   \n",
       "\n",
       "             Distal_1st_Breakpoint  Distal_2nd_Breakpoint  \n",
       "Sample_Name                                                \n",
       "HG002                     61145507               61404974  \n",
       "HG02666                   52803703               53445091  \n",
       "HG02011                   39033959               39536354  \n",
       "HG01890                   44446944               45041243  \n",
       "HG01952                   22309789               22681591  \n",
       "HG00358                   57313376               57922190  \n",
       "HG01106                   36797732               37147912  \n",
       "NA19347                    2932598                3403056  \n",
       "NA19317                    2868656                3339114  \n",
       "NA19705                    2971458                3492013  \n",
       "HG01928                   13686217               14093798  "
      ]
     },
     "execution_count": 4,
     "metadata": {},
     "output_type": "execute_result"
    }
   ],
   "source": [
    "breakpointDF"
   ]
  },
  {
   "cell_type": "code",
   "execution_count": 3,
   "id": "6725a277",
   "metadata": {},
   "outputs": [],
   "source": [
    "GenomeDict = {'HG002':'/home/mark/Desktop/chromosome_y/assemblies/assembly_pysam/T2T.chrY.fasta', \n",
    "             'HG02666':'/home/mark/Desktop/chromosome_y/assemblies/assembly_pysam/HC02666.HIFIRW.ONTUL.na.chrY.fasta', \n",
    "             'HG02011':'/home/mark/Desktop/chromosome_y/assemblies/assembly/FinalGenomes/HG02011.HIFIRW.ONTUL.na.chrY.fasta', \n",
    "             'HG01890':'/home/mark/Desktop/chromosome_y/assemblies/assembly_pysam/HG01890.chrY.fasta', \n",
    "             'HG01952':'/home/mark/Desktop/chromosome_y/assemblies/assembly_pysam/HG01952.chrY.fasta', \n",
    "             'HG00358':'/home/mark/Desktop/chromosome_y/assemblies/assembly_pysam/HG00358.chrY.fasta', \n",
    "             'HG01106':'/home/mark/Desktop/chromosome_y/assemblies/assembly/FinalGenomes/HG01106.HIFIRW.ONTUL.na.chrY.fasta', \n",
    "             'NA19347':'/home/mark/Desktop/chromosome_y/assemblies/assembly/FinalGenomes/NA19347.HIFIRW.ONTUL.na.chrY.fasta', \n",
    "             'NA19317':'/home/mark/Desktop/chromosome_y/assemblies/assembly/FinalGenomes/NA19317.HIFIRW.ONTUL.na.chrY.fasta', \n",
    "             'NA19705':'/home/mark/Desktop/chromosome_y/assemblies/assembly/FinalGenomes/NA19705.HIFIRW.ONTUL.na.chrY.fasta', \n",
    "             'HG01928':'/home/mark/Desktop/chromosome_y/assemblies/assembly/FinalGenomes/HG01928.HIFIRW.ONTUL.na.chrY.fasta'\n",
    "}"
   ]
  },
  {
   "cell_type": "code",
   "execution_count": 4,
   "id": "43eeba3c",
   "metadata": {},
   "outputs": [],
   "source": [
    "HC02666_df = pd.read_csv(\"/home/mark/Desktop/chromosome_y/Dataframes/HC02666/HC02666_rbDF2_Kmode.csv\").set_index(\"Alu\")#.drop(columns=['Unnamed: 0'])\n",
    "HG01890_df = pd.read_csv(\"/home/mark/Desktop/chromosome_y/Dataframes/HG01890/HG01890_rbDF2_Kmode.csv\").set_index(\"Alu\")#.drop(columns=['Unnamed: 0'])\n",
    "HG00358_df = pd.read_csv(\"/home/mark/Desktop/chromosome_y/Dataframes/HG00358/HG00358_rbDF2_Kmode.csv\").set_index(\"Alu\")#.drop(columns=['Unnamed: 0'])\n",
    "HG02011_df = pd.read_csv(\"/home/mark/Desktop/chromosome_y/Dataframes/HG02011/HG02011_rbDF2_Kmode.csv\").set_index(\"Alu\")#.drop(columns=['Unnamed: 0'])\n",
    "HG01106_df = pd.read_csv(\"/home/mark/Desktop/chromosome_y/Dataframes/HG01106/HG01106_rbDF2_Kmode.csv\").set_index(\"Alu\")#.drop(columns=['Unnamed: 0'])\n",
    "T2T_df = pd.read_csv(\"/home/mark/Desktop/chromosome_y/Dataframes/T2T/T2T_rbDF2_Kmode.csv\").set_index(\"Alu\")#.drop(columns=['Unnamed: 0'])\n",
    "HG01952_df = pd.read_csv(\"/home/mark/Desktop/chromosome_y/Dataframes/HG01952/HG01952_rbDF2_Kmode.csv\").set_index(\"Alu\")#.drop(columns=['Unnamed: 0'])"
   ]
  },
  {
   "cell_type": "code",
   "execution_count": 5,
   "id": "d3a011f7",
   "metadata": {},
   "outputs": [
    {
     "data": {
      "text/html": [
       "<div>\n",
       "<style scoped>\n",
       "    .dataframe tbody tr th:only-of-type {\n",
       "        vertical-align: middle;\n",
       "    }\n",
       "\n",
       "    .dataframe tbody tr th {\n",
       "        vertical-align: top;\n",
       "    }\n",
       "\n",
       "    .dataframe thead th {\n",
       "        text-align: right;\n",
       "    }\n",
       "</style>\n",
       "<table border=\"1\" class=\"dataframe\">\n",
       "  <thead>\n",
       "    <tr style=\"text-align: right;\">\n",
       "      <th></th>\n",
       "      <th>RepeatBlock</th>\n",
       "      <th>Lengths</th>\n",
       "      <th>Group</th>\n",
       "      <th>Block_Size</th>\n",
       "      <th>KMode_cluster</th>\n",
       "    </tr>\n",
       "    <tr>\n",
       "      <th>Alu</th>\n",
       "      <th></th>\n",
       "      <th></th>\n",
       "      <th></th>\n",
       "      <th></th>\n",
       "      <th></th>\n",
       "    </tr>\n",
       "  </thead>\n",
       "  <tbody>\n",
       "    <tr>\n",
       "      <th>C_AluY_30358347-30358634</th>\n",
       "      <td>0</td>\n",
       "      <td>2214</td>\n",
       "      <td>['45593 372 23.4 4.5 3.3 chrY.01-24.01.PAR1-PA...</td>\n",
       "      <td>2000-2999</td>\n",
       "      <td>#F6C324</td>\n",
       "    </tr>\n",
       "    <tr>\n",
       "      <th>C_AluY_30360759-30361047</th>\n",
       "      <td>0</td>\n",
       "      <td>2402</td>\n",
       "      <td>['45596 372 19.8 8.9 2.8 chrY.01-24.01.PAR1-PA...</td>\n",
       "      <td>2000-2999</td>\n",
       "      <td>#F6C324</td>\n",
       "    </tr>\n",
       "    <tr>\n",
       "      <th>C_AluY_30363169-30363457</th>\n",
       "      <td>0</td>\n",
       "      <td>2403</td>\n",
       "      <td>['45599 400 24.7 3.9 3.7 chrY.01-24.01.PAR1-PA...</td>\n",
       "      <td>2000-2999</td>\n",
       "      <td>#F6C324</td>\n",
       "    </tr>\n",
       "    <tr>\n",
       "      <th>C_AluY_30365580-30365868</th>\n",
       "      <td>0</td>\n",
       "      <td>2404</td>\n",
       "      <td>['45602 379 26.2 3.0 4.2 chrY.01-24.01.PAR1-PA...</td>\n",
       "      <td>2000-2999</td>\n",
       "      <td>#F6C324</td>\n",
       "    </tr>\n",
       "    <tr>\n",
       "      <th>C_AluY_30367996-30368286</th>\n",
       "      <td>0</td>\n",
       "      <td>2418</td>\n",
       "      <td>['45605 390 18.8 9.1 2.7 chrY.01-24.01.PAR1-PA...</td>\n",
       "      <td>2000-2999</td>\n",
       "      <td>#F6C324</td>\n",
       "    </tr>\n",
       "    <tr>\n",
       "      <th>...</th>\n",
       "      <td>...</td>\n",
       "      <td>...</td>\n",
       "      <td>...</td>\n",
       "      <td>...</td>\n",
       "      <td>...</td>\n",
       "    </tr>\n",
       "    <tr>\n",
       "      <th>+_AluSx_54438944-54439272</th>\n",
       "      <td>25</td>\n",
       "      <td>551</td>\n",
       "      <td>['65992 2114 13.0 0.7 0.0 chrY.01-24.01.PAR1-P...</td>\n",
       "      <td>&lt;999</td>\n",
       "      <td>GraveYard</td>\n",
       "    </tr>\n",
       "    <tr>\n",
       "      <th>+_AluJb_54440400-54440550</th>\n",
       "      <td>25</td>\n",
       "      <td>1012</td>\n",
       "      <td>['65994 18 21.8 0.0 0.0 chrY.01-24.01.PAR1-PAR...</td>\n",
       "      <td>1000-1999</td>\n",
       "      <td>GraveYard</td>\n",
       "    </tr>\n",
       "    <tr>\n",
       "      <th>+_AluSp_54440551-54440848</th>\n",
       "      <td>25</td>\n",
       "      <td>298</td>\n",
       "      <td>['65996 2102 12.8 0.7 0.3 chrY.01-24.01.PAR1-P...</td>\n",
       "      <td>&lt;999</td>\n",
       "      <td>GraveYard</td>\n",
       "    </tr>\n",
       "    <tr>\n",
       "      <th>+_AluJb_54440849-54441008</th>\n",
       "      <td>25</td>\n",
       "      <td>772</td>\n",
       "      <td>['65997 1569 19.5 0.0 6.5 chrY.01-24.01.PAR1-P...</td>\n",
       "      <td>&lt;999</td>\n",
       "      <td>GraveYard</td>\n",
       "    </tr>\n",
       "    <tr>\n",
       "      <th>C_AluSx_54441693-54442011</th>\n",
       "      <td>25</td>\n",
       "      <td>357</td>\n",
       "      <td>['66000 1768 11.8 1.6 7.3 chrY.01-24.01.PAR1-P...</td>\n",
       "      <td>&lt;999</td>\n",
       "      <td>GraveYard</td>\n",
       "    </tr>\n",
       "  </tbody>\n",
       "</table>\n",
       "<p>3735 rows × 5 columns</p>\n",
       "</div>"
      ],
      "text/plain": [
       "                           RepeatBlock  Lengths  \\\n",
       "Alu                                               \n",
       "C_AluY_30358347-30358634             0     2214   \n",
       "C_AluY_30360759-30361047             0     2402   \n",
       "C_AluY_30363169-30363457             0     2403   \n",
       "C_AluY_30365580-30365868             0     2404   \n",
       "C_AluY_30367996-30368286             0     2418   \n",
       "...                                ...      ...   \n",
       "+_AluSx_54438944-54439272           25      551   \n",
       "+_AluJb_54440400-54440550           25     1012   \n",
       "+_AluSp_54440551-54440848           25      298   \n",
       "+_AluJb_54440849-54441008           25      772   \n",
       "C_AluSx_54441693-54442011           25      357   \n",
       "\n",
       "                                                                       Group  \\\n",
       "Alu                                                                            \n",
       "C_AluY_30358347-30358634   ['45593 372 23.4 4.5 3.3 chrY.01-24.01.PAR1-PA...   \n",
       "C_AluY_30360759-30361047   ['45596 372 19.8 8.9 2.8 chrY.01-24.01.PAR1-PA...   \n",
       "C_AluY_30363169-30363457   ['45599 400 24.7 3.9 3.7 chrY.01-24.01.PAR1-PA...   \n",
       "C_AluY_30365580-30365868   ['45602 379 26.2 3.0 4.2 chrY.01-24.01.PAR1-PA...   \n",
       "C_AluY_30367996-30368286   ['45605 390 18.8 9.1 2.7 chrY.01-24.01.PAR1-PA...   \n",
       "...                                                                      ...   \n",
       "+_AluSx_54438944-54439272  ['65992 2114 13.0 0.7 0.0 chrY.01-24.01.PAR1-P...   \n",
       "+_AluJb_54440400-54440550  ['65994 18 21.8 0.0 0.0 chrY.01-24.01.PAR1-PAR...   \n",
       "+_AluSp_54440551-54440848  ['65996 2102 12.8 0.7 0.3 chrY.01-24.01.PAR1-P...   \n",
       "+_AluJb_54440849-54441008  ['65997 1569 19.5 0.0 6.5 chrY.01-24.01.PAR1-P...   \n",
       "C_AluSx_54441693-54442011  ['66000 1768 11.8 1.6 7.3 chrY.01-24.01.PAR1-P...   \n",
       "\n",
       "                          Block_Size KMode_cluster  \n",
       "Alu                                                 \n",
       "C_AluY_30358347-30358634   2000-2999       #F6C324  \n",
       "C_AluY_30360759-30361047   2000-2999       #F6C324  \n",
       "C_AluY_30363169-30363457   2000-2999       #F6C324  \n",
       "C_AluY_30365580-30365868   2000-2999       #F6C324  \n",
       "C_AluY_30367996-30368286   2000-2999       #F6C324  \n",
       "...                              ...           ...  \n",
       "+_AluSx_54438944-54439272       <999     GraveYard  \n",
       "+_AluJb_54440400-54440550  1000-1999     GraveYard  \n",
       "+_AluSp_54440551-54440848       <999     GraveYard  \n",
       "+_AluJb_54440849-54441008       <999     GraveYard  \n",
       "C_AluSx_54441693-54442011       <999     GraveYard  \n",
       "\n",
       "[3735 rows x 5 columns]"
      ]
     },
     "execution_count": 5,
     "metadata": {},
     "output_type": "execute_result"
    }
   ],
   "source": [
    "HC02666_df"
   ]
  },
  {
   "cell_type": "code",
   "execution_count": 6,
   "id": "519ecd4a",
   "metadata": {},
   "outputs": [
    {
     "data": {
      "text/plain": [
       "\"['45593 372 23.4 4.5 3.3 chrY.01-24.01.PAR1-PAR2.RV.unassigned-0000749.HC02666 30356992 30358346 24424111 False (ATATAAT)n Simple_repeat 1 1371 0 36434 False', '45594 1333 20.2 0.0 5.5 chrY.01-24.01.PAR1-PAR2.RV.unassigned-0000749.HC02666 30358347 30358634 24423823 True AluY SINE/Alu 12 289 17 36435 False', '45595 4010 9.5 0.0 0.0 chrY.01-24.01.PAR1-PAR2.RV.unassigned-0000749.HC02666 30358638 30359205 24423252 True HSATI Satellite 0 568 1 36436 False']\""
      ]
     },
     "execution_count": 6,
     "metadata": {},
     "output_type": "execute_result"
    }
   ],
   "source": [
    "HC02666_df.loc['C_AluY_30358347-30358634']['Group']"
   ]
  },
  {
   "cell_type": "code",
   "execution_count": null,
   "id": "a28e6275",
   "metadata": {},
   "outputs": [],
   "source": []
  },
  {
   "cell_type": "code",
   "execution_count": null,
   "id": "326ce23a",
   "metadata": {},
   "outputs": [],
   "source": []
  },
  {
   "cell_type": "code",
   "execution_count": 6,
   "id": "345652f3",
   "metadata": {},
   "outputs": [],
   "source": [
    "import ast\n",
    "\n",
    "def pullSequences(genome, df):\n",
    "    df2 = df[df['KMode_cluster']!='GraveYard'].copy()\n",
    "    \n",
    "    for unit in df2.index:\n",
    "        if 'C_' in str(unit):\n",
    "            coordinate = ast.literal_eval(df.at[unit,'Group'])[-1]\n",
    "            int(coordinate.split(\" \")[7])\n",
    "            \n",
    "            with open(\"/home/mark/Desktop/DYZ2_Ends.fasta\", 'a+') as file:\n",
    "                file.write(pysam.faidx(GenomeDict[genome], str(breakpointDF.at[genome,'Distal_Contig_Name'])+\":\"+str(int(coordinate.split(\" \")[7]))+\"-\"+str(int(coordinate.split(\" \")[7])+30)))\n",
    "            file.close()\n",
    "            \n",
    "        else:\n",
    "            continue\n",
    "        \n"
   ]
  },
  {
   "cell_type": "code",
   "execution_count": 7,
   "id": "f55ea57c",
   "metadata": {},
   "outputs": [],
   "source": [
    "import ast\n",
    "\n",
    "def pullSequences_T2T(genome, df):\n",
    "    df2 = df[df['KMode_cluster']!='GraveYard'].copy()\n",
    "    \n",
    "    for unit in df2.index:\n",
    "        if 'C_' in str(unit):\n",
    "            coordinate = ast.literal_eval(df.at[unit,'Group'])[-1]\n",
    "            int(coordinate.split(\" \")[6])\n",
    "            \n",
    "            with open(\"/home/mark/Desktop/DYZ2_Ends.fasta\", 'a+') as file:\n",
    "                file.write(pysam.faidx(GenomeDict[genome], str(breakpointDF.at[genome,'Distal_Contig_Name'])+\":\"+str(int(coordinate.split(\" \")[6]))+\"-\"+str(int(coordinate.split(\" \")[6])+30)))\n",
    "            file.close()\n",
    "            \n",
    "        else:\n",
    "            continue\n",
    "        \n"
   ]
  },
  {
   "cell_type": "code",
   "execution_count": 39,
   "id": "749c7e91",
   "metadata": {},
   "outputs": [
    {
     "data": {
      "text/plain": [
       "['3990',\n",
       " '9.5',\n",
       " '0.0',\n",
       " '0.2',\n",
       " 'chrY',\n",
       " '28661721',\n",
       " '28662289',\n",
       " '(33797740)',\n",
       " 'C',\n",
       " 'HSATI',\n",
       " 'Satellite',\n",
       " '(0)',\n",
       " '568',\n",
       " '1',\n",
       " '36027']"
      ]
     },
     "execution_count": 39,
     "metadata": {},
     "output_type": "execute_result"
    }
   ],
   "source": [
    "ast.literal_eval(T2T_df.loc['C_AluY_28661430-28661721']['Group'])[-1].split(\" \")"
   ]
  },
  {
   "cell_type": "code",
   "execution_count": 44,
   "id": "7c9220ba",
   "metadata": {},
   "outputs": [],
   "source": [
    "pullSequences('HG02666', HC02666_df)"
   ]
  },
  {
   "cell_type": "code",
   "execution_count": 45,
   "id": "c638585f",
   "metadata": {},
   "outputs": [],
   "source": [
    "pullSequences('HG01890', HG01890_df)"
   ]
  },
  {
   "cell_type": "code",
   "execution_count": 46,
   "id": "fb655e77",
   "metadata": {},
   "outputs": [],
   "source": [
    "pullSequences('HG00358', HG00358_df)"
   ]
  },
  {
   "cell_type": "code",
   "execution_count": 47,
   "id": "fad41e06",
   "metadata": {},
   "outputs": [],
   "source": [
    "pullSequences('HG02011', HG02011_df)"
   ]
  },
  {
   "cell_type": "code",
   "execution_count": 10,
   "id": "c1cd6bd8",
   "metadata": {},
   "outputs": [
    {
     "data": {
      "text/plain": [
       "\"['50689 196 23.5 4.1 4.0 chrY.21-24.01.AMPL7-PAR2.FW.unassigned-0000976.HG01106 2854767 2855515 35344130 False (ATATATA)n Simple_repeat 1 750 0 20913 False', '50690 1375 19.9 0.0 5.4 chrY.21-24.01.AMPL7-PAR2.FW.unassigned-0000976.HG01106 2855516 2855807 35343838 True AluY SINE/Alu 12 289 13 20914 True', '50691 3922 10.2 0.0 0.0 chrY.21-24.01.AMPL7-PAR2.FW.unassigned-0000976.HG01106 2855807 2856374 35343271 True HSATI Satellite 0 568 1 20915 False']\""
      ]
     },
     "execution_count": 10,
     "metadata": {},
     "output_type": "execute_result"
    }
   ],
   "source": [
    "HG01106_df.loc['C_AluY_2855516-2855807']['Group']"
   ]
  },
  {
   "cell_type": "code",
   "execution_count": 48,
   "id": "f39f8c45",
   "metadata": {},
   "outputs": [],
   "source": [
    "pullSequences('HG01106', HG01106_df)"
   ]
  },
  {
   "cell_type": "code",
   "execution_count": 49,
   "id": "249da749",
   "metadata": {},
   "outputs": [],
   "source": [
    "pullSequences('HG01952', HG01952_df)"
   ]
  },
  {
   "cell_type": "code",
   "execution_count": 50,
   "id": "7e8cf293",
   "metadata": {},
   "outputs": [],
   "source": [
    "pullSequences_T2T('HG002',T2T_df)"
   ]
  },
  {
   "cell_type": "markdown",
   "id": "e43040e0",
   "metadata": {},
   "source": [
    "## Pull DYZ2 Blocks"
   ]
  },
  {
   "cell_type": "code",
   "execution_count": 3,
   "id": "944bf069",
   "metadata": {},
   "outputs": [],
   "source": [
    "breakpointDF = pd.read_csv('/home/mark/Desktop/chromosome_y/breakpoints/Yq12_Inversion_Breakpoints.csv').set_index(\"Sample_Name\")"
   ]
  },
  {
   "cell_type": "code",
   "execution_count": 4,
   "id": "5ff0156b",
   "metadata": {},
   "outputs": [],
   "source": [
    "HG00358 = pd.read_csv(\"/home/mark/Desktop/chromosome_y/Dataframes/HG00358/BlockSize_dataframe.csv\").drop(columns=['Unnamed: 0'])\n",
    "HC02666 = pd.read_csv(\"/home/mark/Desktop/chromosome_y/Dataframes/HC02666/BlockSize_dataframe.csv\").drop(columns=['Unnamed: 0'])\n",
    "HG01890 = pd.read_csv(\"/home/mark/Desktop/chromosome_y/Dataframes/HG01890/BlockSize_dataframe.csv\").drop(columns=['Unnamed: 0'])\n",
    "HG01952 = pd.read_csv(\"/home/mark/Desktop/chromosome_y/Dataframes/HG01952/BlockSize_dataframe.csv\").drop(columns=['Unnamed: 0'])\n",
    "HG01106 = pd.read_csv(\"/home/mark/Desktop/chromosome_y/Dataframes/HG01106/BlockSize_dataframe.csv\").drop(columns=['Unnamed: 0'])\n",
    "HG02011 = pd.read_csv(\"/home/mark/Desktop/chromosome_y/Dataframes/HG02011/BlockSize_dataframe.csv\").drop(columns=['Unnamed: 0'])\n",
    "T2T = pd.read_csv(\"/home/mark/Desktop/chromosome_y/Dataframes/T2T/BlockSize_dataframe.csv\").drop(columns=['Unnamed: 0'])"
   ]
  },
  {
   "cell_type": "code",
   "execution_count": 5,
   "id": "b7678d27",
   "metadata": {},
   "outputs": [],
   "source": [
    "import pysam"
   ]
  },
  {
   "cell_type": "code",
   "execution_count": 6,
   "id": "f47a7948",
   "metadata": {},
   "outputs": [],
   "source": [
    "GenomeDict = {'HG002':'/home/mark/Desktop/chromosome_y/assemblies/assembly_pysam/T2T.chrY.fasta', \n",
    "             'HG02666':'/home/mark/Desktop/chromosome_y/assemblies/assembly_pysam/HC02666.HIFIRW.ONTUL.na.chrY.fasta', \n",
    "             'HG02011':'/home/mark/Desktop/chromosome_y/assemblies/assembly/FinalGenomes/HG02011.HIFIRW.ONTUL.na.chrY.fasta', \n",
    "             'HG01890':'/home/mark/Desktop/chromosome_y/assemblies/assembly_pysam/HG01890.chrY.fasta', \n",
    "             'HG01952':'/home/mark/Desktop/chromosome_y/assemblies/assembly_pysam/HG01952.chrY.fasta', \n",
    "             'HG00358':'/home/mark/Desktop/chromosome_y/assemblies/assembly_pysam/HG00358.chrY.fasta', \n",
    "             'HG01106':'/home/mark/Desktop/chromosome_y/assemblies/assembly/FinalGenomes/HG01106.HIFIRW.ONTUL.na.chrY.fasta', \n",
    "             'NA19347':'/home/mark/Desktop/chromosome_y/assemblies/assembly/FinalGenomes/NA19347.HIFIRW.ONTUL.na.chrY.fasta', \n",
    "             'NA19317':'/home/mark/Desktop/chromosome_y/assemblies/assembly/FinalGenomes/NA19317.HIFIRW.ONTUL.na.chrY.fasta', \n",
    "             'NA19705':'/home/mark/Desktop/chromosome_y/assemblies/assembly/FinalGenomes/NA19705.HIFIRW.ONTUL.na.chrY.fasta', \n",
    "             'HG01928':'/home/mark/Desktop/chromosome_y/assemblies/assembly/FinalGenomes/HG01928.HIFIRW.ONTUL.na.chrY.fasta'\n",
    "}"
   ]
  },
  {
   "cell_type": "code",
   "execution_count": 11,
   "id": "ac15ac26",
   "metadata": {},
   "outputs": [],
   "source": [
    "def pullBlocks(df, genome):\n",
    "    df2 = df[df['Block_Type']=='Repeat Block'].copy()\n",
    "    \n",
    "    for block in df2.index:\n",
    "        with open(\"/home/mark/Desktop/chromosome_y/DYZ2_Blocks/\"+str(genome)+\"/\"+str(genome)+\"_blocks.fasta\", 'a+') as file:\n",
    "            file.write(pysam.faidx(GenomeDict[genome], str(breakpointDF.at[genome,'Distal_Contig_Name'])+\":\"+str(df2.at[block,'Start']-5000)+\"-\"+str(df2.at[block,'End']+5000)))\n",
    "        file.close()\n",
    "        \n",
    "    with open(\"/home/mark/Desktop/chromosome_y/DYZ2_Blocks/\"+str(genome)+\"/\"+str(genome)+\"_blocks.fasta\", 'r') as filein:\n",
    "        Lines = filein.readlines()\n",
    "        with open(\"/home/mark/Desktop/chromosome_y/DYZ2_Blocks/\"+str(genome)+\"_CleanBlocks.fasta\", 'a+') as file2:\n",
    "            for line in Lines:\n",
    "                if \">\" in line:\n",
    "                    file2.write(\">\"+str(genome)+\":\"+str(line.split(\":\")[1]))\n",
    "                else:\n",
    "                    file2.write(line)\n",
    "        file2.close()\n",
    "    filein.close()"
   ]
  },
  {
   "cell_type": "code",
   "execution_count": 19,
   "id": "c4b4d308",
   "metadata": {},
   "outputs": [],
   "source": [
    "pullBlocks(HG00358, 'HG00358')"
   ]
  },
  {
   "cell_type": "code",
   "execution_count": 20,
   "id": "2cd2845d",
   "metadata": {},
   "outputs": [],
   "source": [
    "pullBlocks(HC02666, 'HG02666')\n",
    "pullBlocks(HG02011, 'HG02011')\n",
    "pullBlocks(HG01106, 'HG01106')\n",
    "pullBlocks(HG01952, 'HG01952')\n",
    "pullBlocks(HG01890, 'HG01890')\n",
    "pullBlocks(T2T, 'HG002')"
   ]
  },
  {
   "cell_type": "markdown",
   "id": "39dc2078",
   "metadata": {},
   "source": [
    "## Check HMMER calls on new DYZ2"
   ]
  },
  {
   "cell_type": "code",
   "execution_count": 7,
   "id": "3d02b3de",
   "metadata": {},
   "outputs": [],
   "source": [
    "HG00358 = pd.read_csv(\"/home/mark/Desktop/chromosome_y/Dataframes/HG00358/BlockSize_dataframe.csv\").drop(columns=['Unnamed: 0'])\n",
    "HC02666 = pd.read_csv(\"/home/mark/Desktop/chromosome_y/Dataframes/HC02666/BlockSize_dataframe.csv\").drop(columns=['Unnamed: 0'])\n",
    "HG01890 = pd.read_csv(\"/home/mark/Desktop/chromosome_y/Dataframes/HG01890/BlockSize_dataframe.csv\").drop(columns=['Unnamed: 0'])\n",
    "HG01952 = pd.read_csv(\"/home/mark/Desktop/chromosome_y/Dataframes/HG01952/BlockSize_dataframe.csv\").drop(columns=['Unnamed: 0'])\n",
    "HG01106 = pd.read_csv(\"/home/mark/Desktop/chromosome_y/Dataframes/HG01106/BlockSize_dataframe.csv\").drop(columns=['Unnamed: 0'])\n",
    "HG02011 = pd.read_csv(\"/home/mark/Desktop/chromosome_y/Dataframes/HG02011/BlockSize_dataframe.csv\").drop(columns=['Unnamed: 0'])\n",
    "T2T = pd.read_csv(\"/home/mark/Desktop/chromosome_y/Dataframes/T2T/BlockSize_dataframe.csv\").drop(columns=['Unnamed: 0'])"
   ]
  },
  {
   "cell_type": "code",
   "execution_count": 8,
   "id": "a9dfe77b",
   "metadata": {},
   "outputs": [],
   "source": [
    "def pullCoords(df, genome):\n",
    "    df2 = df[df['Block_Type']=='Repeat Block'].copy()\n",
    "    coordList = {}\n",
    "    i =0\n",
    "    for row in df2.index:\n",
    "        coordList[str(genome)+\":\"+str(int(df2.at[row,'Start'])-5000)+\"-\"+str(int(df2.at[row,'End'])+5000)] = i\n",
    "        i+=1\n",
    "    return(coordList)"
   ]
  },
  {
   "cell_type": "code",
   "execution_count": 9,
   "id": "086bbb0b",
   "metadata": {},
   "outputs": [],
   "source": [
    "HG00358_cords = pullCoords(HG00358, 'HG00358')\n",
    "HG002_cords = pullCoords(T2T, 'HG002')\n",
    "HG02011_cords = pullCoords(HG02011, 'HG02011')\n",
    "HG01106_cords = pullCoords(HG01106, 'HG01106')\n",
    "HG01952_cords = pullCoords(HG01952, 'HG01952')\n",
    "HG01890_cords = pullCoords(HG01890, 'HG01890')\n",
    "HG02666_cords = pullCoords(HC02666, 'HG02666')"
   ]
  },
  {
   "cell_type": "code",
   "execution_count": 10,
   "id": "f0807f26",
   "metadata": {},
   "outputs": [],
   "source": [
    "def cleanHMMER(genome, coordinateDict):\n",
    "    with open(\"/home/mark/Desktop/chromosome_y/DYZ2_Blocks/\"+str(genome)+\"_hmmer.tbl\", 'r') as file:\n",
    "        Lines = file.readlines()\n",
    "        \n",
    "        goodDYZ2 = []\n",
    "        for line in Lines:\n",
    "            if genome in line:\n",
    "                try:\n",
    "                    tempList = line.split()\n",
    "                    block = tempList[0]\n",
    "                    length =  int(tempList[5]) - int(tempList[4])+1\n",
    "                    orientation = tempList[11]\n",
    "                    if orientation == '-':\n",
    "                        start = tempList[7]\n",
    "                        end = tempList[6]\n",
    "                    else:\n",
    "                        start = tempList[6]\n",
    "                        end = tempList[7]\n",
    "\n",
    "                    score = tempList[12]\n",
    "                    \n",
    "                    coordinatePull = str(int(tempList[0].split(\":\")[1].split(\"-\")[0])+int(start))+\"-\"+str(int(tempList[0].split(\":\")[1].split(\"-\")[0])+int(end))\n",
    "                    \n",
    "                    if score == '0':\n",
    "                        goodDYZ2.append([int(coordinateDict[block]), int(length), orientation, int(start), int(end), int(score), coordinatePull, block])\n",
    "                        #goodDYZ2.append([int(coordinateDict[block]), int(length), orientation, int(start), int(end), int(score)])\n",
    "\n",
    "                    else:\n",
    "                        continue\n",
    "                except:\n",
    "                    continue\n",
    "                \n",
    "            else:\n",
    "                continue\n",
    "                \n",
    "    file.close()\n",
    "    \n",
    "    tempDF = pd.DataFrame(data=goodDYZ2, columns=['Block', 'Length', 'Orientation', 'Start', 'End', 'Score', 'Coordinates', 'Original_Block'])\n",
    "    #tempDF = pd.DataFrame(data=goodDYZ2, columns=['Block', 'Length', 'Orientation', 'Start', 'End', 'Score'])\n",
    "\n",
    "    return(tempDF.sort_values(by=['Block','Start']))"
   ]
  },
  {
   "cell_type": "code",
   "execution_count": 11,
   "id": "d710e8ac",
   "metadata": {},
   "outputs": [],
   "source": [
    "HG00358_CH = cleanHMMER('HG00358',HG00358_cords)\n",
    "HG002_CH = cleanHMMER('HG002',HG002_cords)\n",
    "HG02011_CH = cleanHMMER('HG02011',HG02011_cords)\n",
    "HG01106_CH = cleanHMMER('HG01106',HG01106_cords)\n",
    "HG01952_CH = cleanHMMER('HG01952',HG01952_cords)\n",
    "HG01890_CH = cleanHMMER('HG01890',HG01890_cords)\n",
    "HG02666_CH = cleanHMMER('HG02666',HG02666_cords)"
   ]
  },
  {
   "cell_type": "code",
   "execution_count": 71,
   "id": "d5d61ee5",
   "metadata": {},
   "outputs": [
    {
     "data": {
      "text/plain": [
       "\"['42438 373 24.1 3.6 3.7 chrY.01-24.01.PAR1-PAR2.RV.utig4-2510.HG00358 27647271 27648627 31254814 False (ATATAAT)n Simple_repeat 7 1363 0 34179 False', '42439 1378 19.9 0.0 5.4 chrY.01-24.01.PAR1-PAR2.RV.utig4-2510.HG00358 27648628 27648919 31254522 True AluY SINE/Alu 12 289 13 34180 True', '42440 3991 9.5 0.0 0.2 chrY.01-24.01.PAR1-PAR2.RV.utig4-2510.HG00358 27648919 27649487 31253954 True HSATI Satellite 0 568 1 34181 False']\""
      ]
     },
     "execution_count": 71,
     "metadata": {},
     "output_type": "execute_result"
    }
   ],
   "source": [
    "HG00358_df.loc['C_AluY_27648628-27648919']['Group']"
   ]
  },
  {
   "cell_type": "code",
   "execution_count": 72,
   "id": "4692fa45",
   "metadata": {},
   "outputs": [],
   "source": [
    "import ast\n",
    "def compareBoth(df, dfCH):\n",
    "    tempList = []\n",
    "    i = 0\n",
    "    for block in set(dfCH['Block']):\n",
    "        totalGood = 0\n",
    "        \n",
    "        for row in df[df['RepeatBlock']==block].index:\n",
    "            Sat = 0\n",
    "            SR = 0\n",
    "            Alu = 0\n",
    "            for repeat in ast.literal_eval(df.at[row,'Group']):\n",
    "                if 'Satellite' in str(repeat):\n",
    "                    Sat+=1\n",
    "                elif 'Simple_repeat' in str(repeat):\n",
    "                    SR+=1\n",
    "                elif 'SINE/Alu' in str(repeat):\n",
    "                    Alu+=1\n",
    "                else:\n",
    "                    continue\n",
    "            if Sat>0 and SR >0 and Alu >0:\n",
    "                totalGood+=1\n",
    "            else:\n",
    "                continue\n",
    "                    \n",
    "        \n",
    "        tempList.append([len(df[df['RepeatBlock']==block]), len(dfCH[dfCH['Block']==block]), int(totalGood)])\n",
    "    \n",
    "    tempDF = pd.DataFrame(data=tempList, columns=['Original', 'New', 'Total_Good'])\n",
    "    return(tempDF)\n",
    "        "
   ]
  },
  {
   "cell_type": "code",
   "execution_count": 73,
   "id": "039eabe6",
   "metadata": {
    "scrolled": true
   },
   "outputs": [
    {
     "data": {
      "text/plain": [
       "<AxesSubplot:xlabel='Total_Good', ylabel='New'>"
      ]
     },
     "execution_count": 73,
     "metadata": {},
     "output_type": "execute_result"
    },
    {
     "data": {
      "image/png": "[encoded data removed]",
      "text/plain": [
       "<Figure size 432x288 with 1 Axes>"
      ]
     },
     "metadata": {
      "needs_background": "light"
     },
     "output_type": "display_data"
    }
   ],
   "source": [
    "sns.scatterplot(data=compareBoth(HG00358_df, HG00358_CH), x='Total_Good', y='New')"
   ]
  },
  {
   "cell_type": "code",
   "execution_count": 74,
   "id": "c4699547",
   "metadata": {
    "scrolled": true
   },
   "outputs": [
    {
     "data": {
      "text/plain": [
       "<AxesSubplot:xlabel='Total_Good', ylabel='New'>"
      ]
     },
     "execution_count": 74,
     "metadata": {},
     "output_type": "execute_result"
    },
    {
     "data": {
      "image/png": "[encoded data removed]",
      "text/plain": [
       "<Figure size 432x288 with 1 Axes>"
      ]
     },
     "metadata": {
      "needs_background": "light"
     },
     "output_type": "display_data"
    }
   ],
   "source": [
    "sns.scatterplot(data=compareBoth(HC02666_df, HG02666_CH), x='Total_Good', y='New')"
   ]
  },
  {
   "cell_type": "code",
   "execution_count": 75,
   "id": "eefe4dc2",
   "metadata": {
    "scrolled": true
   },
   "outputs": [
    {
     "data": {
      "text/plain": [
       "<AxesSubplot:xlabel='Total_Good', ylabel='New'>"
      ]
     },
     "execution_count": 75,
     "metadata": {},
     "output_type": "execute_result"
    },
    {
     "data": {
      "image/png": "[encoded data removed]",
      "text/plain": [
       "<Figure size 432x288 with 1 Axes>"
      ]
     },
     "metadata": {
      "needs_background": "light"
     },
     "output_type": "display_data"
    }
   ],
   "source": [
    "sns.scatterplot(data=compareBoth(HG01890_df, HG01890_CH), x='Total_Good', y='New')"
   ]
  },
  {
   "cell_type": "code",
   "execution_count": 123,
   "id": "4071ed9e",
   "metadata": {
    "scrolled": true
   },
   "outputs": [
    {
     "data": {
      "text/plain": [
       "<AxesSubplot:xlabel='Total_Good', ylabel='New'>"
      ]
     },
     "execution_count": 123,
     "metadata": {},
     "output_type": "execute_result"
    },
    {
     "data": {
      "image/png": "[encoded data removed]",
      "text/plain": [
       "<Figure size 432x288 with 1 Axes>"
      ]
     },
     "metadata": {
      "needs_background": "light"
     },
     "output_type": "display_data"
    }
   ],
   "source": [
    "sns.scatterplot(data=compareBoth(HG02011_df, HG02011_CH), x='Total_Good', y='New')"
   ]
  },
  {
   "cell_type": "code",
   "execution_count": 124,
   "id": "f79e2a0c",
   "metadata": {
    "scrolled": true
   },
   "outputs": [
    {
     "data": {
      "text/plain": [
       "<AxesSubplot:xlabel='Total_Good', ylabel='New'>"
      ]
     },
     "execution_count": 124,
     "metadata": {},
     "output_type": "execute_result"
    },
    {
     "data": {
      "image/png": "[encoded data removed]",
      "text/plain": [
       "<Figure size 432x288 with 1 Axes>"
      ]
     },
     "metadata": {
      "needs_background": "light"
     },
     "output_type": "display_data"
    }
   ],
   "source": [
    "sns.scatterplot(data=compareBoth(HG01106_df, HG01106_CH), x='Total_Good', y='New')"
   ]
  },
  {
   "cell_type": "code",
   "execution_count": 125,
   "id": "43d1be12",
   "metadata": {
    "scrolled": true
   },
   "outputs": [
    {
     "data": {
      "text/plain": [
       "<AxesSubplot:xlabel='Total_Good', ylabel='New'>"
      ]
     },
     "execution_count": 125,
     "metadata": {},
     "output_type": "execute_result"
    },
    {
     "data": {
      "image/png": "[encoded data removed]",
      "text/plain": [
       "<Figure size 432x288 with 1 Axes>"
      ]
     },
     "metadata": {
      "needs_background": "light"
     },
     "output_type": "display_data"
    }
   ],
   "source": [
    "sns.scatterplot(data=compareBoth(T2T_df, HG002_CH), x='Total_Good', y='New')"
   ]
  },
  {
   "cell_type": "code",
   "execution_count": 126,
   "id": "85a89c5a",
   "metadata": {
    "scrolled": true
   },
   "outputs": [
    {
     "data": {
      "text/plain": [
       "<AxesSubplot:xlabel='Total_Good', ylabel='New'>"
      ]
     },
     "execution_count": 126,
     "metadata": {},
     "output_type": "execute_result"
    },
    {
     "data": {
      "image/png": "[encoded data removed]",
      "text/plain": [
       "<Figure size 432x288 with 1 Axes>"
      ]
     },
     "metadata": {
      "needs_background": "light"
     },
     "output_type": "display_data"
    }
   ],
   "source": [
    "sns.scatterplot(data=compareBoth(HG01952_df, HG01952_CH), x='Total_Good', y='New')"
   ]
  },
  {
   "cell_type": "markdown",
   "id": "ae417bab",
   "metadata": {},
   "source": [
    "# Pull Sequences for Repeatmasking"
   ]
  },
  {
   "cell_type": "code",
   "execution_count": null,
   "id": "031129ff",
   "metadata": {},
   "outputs": [],
   "source": [
    "GenomeDict = {'HG002':'/home/mark/Desktop/chromosome_y/assemblies/assembly_pysam/T2T.chrY.fasta', \n",
    "             'HG02666':'/home/mark/Desktop/chromosome_y/assemblies/assembly_pysam/HC02666.HIFIRW.ONTUL.na.chrY.fasta', \n",
    "             'HG02011':'/home/mark/Desktop/chromosome_y/assemblies/assembly/FinalGenomes/HG02011.HIFIRW.ONTUL.na.chrY.fasta', \n",
    "             'HG01890':'/home/mark/Desktop/chromosome_y/assemblies/assembly_pysam/HG01890.chrY.fasta', \n",
    "             'HG01952':'/home/mark/Desktop/chromosome_y/assemblies/assembly_pysam/HG01952.chrY.fasta', \n",
    "             'HG00358':'/home/mark/Desktop/chromosome_y/assemblies/assembly_pysam/HG00358.chrY.fasta', \n",
    "             'HG01106':'/home/mark/Desktop/chromosome_y/assemblies/assembly/FinalGenomes/HG01106.HIFIRW.ONTUL.na.chrY.fasta', \n",
    "             'NA19347':'/home/mark/Desktop/chromosome_y/assemblies/assembly/FinalGenomes/NA19347.HIFIRW.ONTUL.na.chrY.fasta', \n",
    "             'NA19317':'/home/mark/Desktop/chromosome_y/assemblies/assembly/FinalGenomes/NA19317.HIFIRW.ONTUL.na.chrY.fasta', \n",
    "             'NA19705':'/home/mark/Desktop/chromosome_y/assemblies/assembly/FinalGenomes/NA19705.HIFIRW.ONTUL.na.chrY.fasta', \n",
    "             'HG01928':'/home/mark/Desktop/chromosome_y/assemblies/assembly/FinalGenomes/HG01928.HIFIRW.ONTUL.na.chrY.fasta'\n",
    "}"
   ]
  },
  {
   "cell_type": "code",
   "execution_count": 57,
   "id": "b90ad9e2",
   "metadata": {},
   "outputs": [],
   "source": [
    "def pullHMMSeqs(df, genome):\n",
    "    df2 = df.copy()\n",
    "    \n",
    "    for block in df2.index:\n",
    "        with open(\"/home/mark/Desktop/chromosome_y/DYZ2_End_Refinement/DYZ2_HMMER_Sequences/\"+str(genome)+\"_HMMseqs.fasta\", 'a+') as file:\n",
    "            file.write(pysam.faidx(GenomeDict[genome], str(breakpointDF.at[genome,'Distal_Contig_Name'])+\":\"+str(df2.at[block,'Coordinates'])))\n",
    "        file.close()\n",
    "        \n",
    "    with open(\"/home/mark/Desktop/chromosome_y/DYZ2_End_Refinement/DYZ2_HMMER_Sequences/\"+str(genome)+\"_HMMseqs.fasta\", 'r') as filein:\n",
    "        Lines = filein.readlines()\n",
    "        with open(\"/home/mark/Desktop/chromosome_y/DYZ2_End_Refinement/DYZ2_HMMER_Sequences/\"+str(genome)+\"_CleanHMM.fasta\", 'a+') as file2:\n",
    "            for line in Lines:\n",
    "                if \">\" in line:\n",
    "                    file2.write(\">\"+str(genome)+\":\"+str(line.split(\":\")[1]))\n",
    "                else:\n",
    "                    file2.write(line)\n",
    "        file2.close()\n",
    "    filein.close()"
   ]
  },
  {
   "cell_type": "code",
   "execution_count": 22,
   "id": "ac114638",
   "metadata": {},
   "outputs": [],
   "source": [
    "#HG00358_CH = cleanHMMER('HG00358',HG00358_cords)\n",
    "#HG002_CH = cleanHMMER('HG002',HG002_cords)\n",
    "#HG02011_CH = cleanHMMER('HG02011',HG02011_cords)\n",
    "#HG01106_CH = cleanHMMER('HG01106',HG01106_cords)\n",
    "#HG01952_CH = cleanHMMER('HG01952',HG01952_cords)\n",
    "#HG01890_CH = cleanHMMER('HG01890',HG01890_cords)\n",
    "#HG02666_CH = cleanHMMER('HG02666',HG02666_cords)"
   ]
  },
  {
   "cell_type": "code",
   "execution_count": 60,
   "id": "925523d2",
   "metadata": {},
   "outputs": [],
   "source": [
    "pullHMMSeqs(HG02666_CH,'HG02666')\n",
    "pullHMMSeqs(HG00358_CH,'HG00358')\n",
    "pullHMMSeqs(HG002_CH,'HG002')\n",
    "pullHMMSeqs(HG02011_CH,'HG02011')\n",
    "pullHMMSeqs(HG01106_CH,'HG01106')\n",
    "pullHMMSeqs(HG01952_CH,'HG01952')\n",
    "pullHMMSeqs(HG01890_CH,'HG01890')"
   ]
  },
  {
   "cell_type": "markdown",
   "id": "28722d29",
   "metadata": {},
   "source": [
    "## Import RepeatMasker info"
   ]
  },
  {
   "cell_type": "code",
   "execution_count": 36,
   "id": "5df7cb57",
   "metadata": {},
   "outputs": [],
   "source": [
    "def incorporateRepeatMaskerInfo(df, genome):\n",
    "    genDict = {str(genome)+':'+str(x):{'Simple_repeat':0, 'SINE/Alu':0, 'Satellite':0} for x in set(df['Coordinates'])}\n",
    "    with open(\"/home/mark/Desktop/chromosome_y/DYZ2_End_Refinement/DYZ2_HMMER_Sequences/RepeatMasked/\"+str(genome)+\"_CleanHMM.fasta.out\", 'r') as file:\n",
    "        Lines = file.readlines()\n",
    "        for line in Lines:\n",
    "            if str(genome) in line:\n",
    "                goodLine = ' '.join(line.split())\n",
    "                try:\n",
    "                    genDict[goodLine.split(\" \")[4]][goodLine.split(\" \")[10]]+=1\n",
    "                except:\n",
    "                    continue\n",
    "            \n",
    "    file.close()\n",
    "    \n",
    "    df2 = df.set_index(\"Coordinates\")\n",
    "    df2['Classification']='NOT_TRIPARTITE'\n",
    "    df2['Missing_Piece']='None'\n",
    "\n",
    "    for insert in df2.index:\n",
    "        if (genDict[str(genome)+\":\"+str(insert)]['Simple_repeat']>0) and (genDict[str(genome)+\":\"+str(insert)]['SINE/Alu']>0) and (genDict[str(genome)+\":\"+str(insert)]['Satellite']>0):\n",
    "            df2.at[insert,'Classification']='GOOD_DYZ2'\n",
    "        elif (genDict[str(genome)+\":\"+str(insert)]['Simple_repeat']>0) and (genDict[str(genome)+\":\"+str(insert)]['SINE/Alu']>0) and (genDict[str(genome)+\":\"+str(insert)]['Satellite']==0):\n",
    "            df2.at[insert,'Missing_Piece'] ='Satellite'\n",
    "        elif (genDict[str(genome)+\":\"+str(insert)]['Simple_repeat']>0) and (genDict[str(genome)+\":\"+str(insert)]['SINE/Alu']==0) and (genDict[str(genome)+\":\"+str(insert)]['Satellite']>0):\n",
    "            df2.at[insert,'Missing_Piece'] = 'Alu'\n",
    "        elif (genDict[str(genome)+\":\"+str(insert)]['Simple_repeat']==0) and (genDict[str(genome)+\":\"+str(insert)]['SINE/Alu']>0) and (genDict[str(genome)+\":\"+str(insert)]['Satellite']>0):\n",
    "            df2.at[insert,'Missing_Piece'] = 'Simple_repeat'\n",
    "        else:\n",
    "            continue\n",
    "            \n",
    "            \n",
    "    #Add 1 to correct for actual length of repeat\n",
    "    df2['Length']+=1\n",
    "    df2['End']+=1\n",
    "    return(df2)"
   ]
  },
  {
   "cell_type": "code",
   "execution_count": 37,
   "id": "29fffb11",
   "metadata": {},
   "outputs": [],
   "source": [
    "HG00358_FILTDF = incorporateRepeatMaskerInfo(HG00358_CH, 'HG00358')\n",
    "HG01106_FILTDF = incorporateRepeatMaskerInfo(HG01106_CH, 'HG01106')\n",
    "HG02011_FILTDF = incorporateRepeatMaskerInfo(HG02011_CH, 'HG02011')\n",
    "HG02666_FILTDF = incorporateRepeatMaskerInfo(HG02666_CH, 'HG02666')\n",
    "HG01890_FILTDF = incorporateRepeatMaskerInfo(HG01890_CH, 'HG01890')\n",
    "HG01952_FILTDF = incorporateRepeatMaskerInfo(HG01952_CH, 'HG01952')\n",
    "HG002_FILTDF = incorporateRepeatMaskerInfo(HG002_CH, 'HG002')"
   ]
  },
  {
   "cell_type": "code",
   "execution_count": 55,
   "id": "e378cb3d",
   "metadata": {},
   "outputs": [],
   "source": [
    "def pullLengthInfo(ndf, odf):\n",
    "    df = ndf.copy()\n",
    "    df['SpaceBefore'] = 0\n",
    "    df['SpaceAfter'] = 0\n",
    "\n",
    "    flag= 0\n",
    "    lastRow = 'temp'\n",
    "    i=0\n",
    "    for row in df.index:\n",
    "        if flag == 0:\n",
    "            flag+=1\n",
    "            lastRow=row\n",
    "            df.at[row,'SpaceAfter'] = int(df.iloc[i+1]['Start']) - int(df.iloc[i]['End'])\n",
    "            i+=1\n",
    "            continue\n",
    "        else:\n",
    "            df.at[row,'SpaceBefore'] = int(row.split(\"-\")[0]) - int(lastRow.split(\"-\")[1])\n",
    "            try:\n",
    "                df.at[row,'SpaceAfter'] = int(df.iloc[i+1]['Start']) - int(df.iloc[i]['End'])\n",
    "            except:\n",
    "                df.at[row,'SpaceAfter'] = 0\n",
    "            lastRow = row\n",
    "            i+=1\n",
    "\n",
    "\n",
    "    df['Original_Length'] = 0\n",
    "\n",
    "    for block in set(df['Block']):\n",
    "        tempDF = df[df['Block']==block].copy()\n",
    "        tempDF2 = odf[odf['RepeatBlock']==block].copy()\n",
    "        for row in tempDF.index:\n",
    "            for alu in tempDF2.index:\n",
    "                if int(alu.split(\"_\")[2].split(\"-\")[0]) > int(row.split(\"-\")[0]) and int(alu.split(\"_\")[2].split(\"-\")[1]) < int(row.split(\"-\")[1]):\n",
    "                    df.at[row,'Original_Length'] =  odf.at[alu,'Lengths']\n",
    "                else:\n",
    "                    continue\n",
    "                    \n",
    "    return(df)\n",
    "        "
   ]
  },
  {
   "cell_type": "code",
   "execution_count": 56,
   "id": "890020ea",
   "metadata": {},
   "outputs": [],
   "source": [
    "HG00358_Final = pullLengthInfo(HG00358_FILTDF, HG00358_df)\n",
    "HG02011_Final = pullLengthInfo(HG02011_FILTDF, HG02011_df)\n",
    "HG01106_Final = pullLengthInfo(HG01106_FILTDF, HG01106_df)\n",
    "HG002_Final = pullLengthInfo(HG00358_FILTDF, T2T_df)\n",
    "HG01890_Final = pullLengthInfo(HG01890_FILTDF, HG01890_df)\n",
    "HG01952_Final = pullLengthInfo(HG01952_FILTDF, HG01952_df)\n",
    "HG02666_Final = pullLengthInfo(HG02666_FILTDF, HC02666_df)"
   ]
  },
  {
   "cell_type": "code",
   "execution_count": 85,
   "id": "009aa99e",
   "metadata": {},
   "outputs": [
    {
     "data": {
      "text/html": [
       "<div>\n",
       "<style scoped>\n",
       "    .dataframe tbody tr th:only-of-type {\n",
       "        vertical-align: middle;\n",
       "    }\n",
       "\n",
       "    .dataframe tbody tr th {\n",
       "        vertical-align: top;\n",
       "    }\n",
       "\n",
       "    .dataframe thead th {\n",
       "        text-align: right;\n",
       "    }\n",
       "</style>\n",
       "<table border=\"1\" class=\"dataframe\">\n",
       "  <thead>\n",
       "    <tr style=\"text-align: right;\">\n",
       "      <th></th>\n",
       "      <th>RepeatBlock</th>\n",
       "      <th>Lengths</th>\n",
       "      <th>Group</th>\n",
       "      <th>Block_Size</th>\n",
       "      <th>KMode_cluster</th>\n",
       "    </tr>\n",
       "    <tr>\n",
       "      <th>Alu</th>\n",
       "      <th></th>\n",
       "      <th></th>\n",
       "      <th></th>\n",
       "      <th></th>\n",
       "      <th></th>\n",
       "    </tr>\n",
       "  </thead>\n",
       "  <tbody>\n",
       "    <tr>\n",
       "      <th>C_AluY_27648628-27648919</th>\n",
       "      <td>0</td>\n",
       "      <td>2217</td>\n",
       "      <td>['42438 373 24.1 3.6 3.7 chrY.01-24.01.PAR1-PA...</td>\n",
       "      <td>2000-2999</td>\n",
       "      <td>#FF033E</td>\n",
       "    </tr>\n",
       "    <tr>\n",
       "      <th>C_AluY_27651050-27651338</th>\n",
       "      <td>0</td>\n",
       "      <td>2411</td>\n",
       "      <td>['42441 411 24.3 3.9 3.7 chrY.01-24.01.PAR1-PA...</td>\n",
       "      <td>2000-2999</td>\n",
       "      <td>#FF033E</td>\n",
       "    </tr>\n",
       "    <tr>\n",
       "      <th>C_AluY_27653465-27653756</th>\n",
       "      <td>0</td>\n",
       "      <td>2411</td>\n",
       "      <td>['42444 407 24.3 3.9 3.8 chrY.01-24.01.PAR1-PA...</td>\n",
       "      <td>2000-2999</td>\n",
       "      <td>#FF033E</td>\n",
       "    </tr>\n",
       "    <tr>\n",
       "      <th>C_AluY_27655874-27656161</th>\n",
       "      <td>0</td>\n",
       "      <td>2402</td>\n",
       "      <td>['42447 379 26.9 2.9 3.9 chrY.01-24.01.PAR1-PA...</td>\n",
       "      <td>2000-2999</td>\n",
       "      <td>#FF033E</td>\n",
       "    </tr>\n",
       "    <tr>\n",
       "      <th>C_AluY_27658288-27658576</th>\n",
       "      <td>0</td>\n",
       "      <td>2404</td>\n",
       "      <td>['42450 358 20.7 8.6 3.0 chrY.01-24.01.PAR1-PA...</td>\n",
       "      <td>2000-2999</td>\n",
       "      <td>#FF033E</td>\n",
       "    </tr>\n",
       "    <tr>\n",
       "      <th>...</th>\n",
       "      <td>...</td>\n",
       "      <td>...</td>\n",
       "      <td>...</td>\n",
       "      <td>...</td>\n",
       "      <td>...</td>\n",
       "    </tr>\n",
       "    <tr>\n",
       "      <th>+_AluSx_58564972-58565300</th>\n",
       "      <td>41</td>\n",
       "      <td>551</td>\n",
       "      <td>['67980 2114 13.0 0.7 0.0 chrY.01-24.01.PAR1-P...</td>\n",
       "      <td>&lt;999</td>\n",
       "      <td>GraveYard</td>\n",
       "    </tr>\n",
       "    <tr>\n",
       "      <th>+_AluJb_58566428-58566578</th>\n",
       "      <td>41</td>\n",
       "      <td>1012</td>\n",
       "      <td>['67982 18 21.8 0.0 0.0 chrY.01-24.01.PAR1-PAR...</td>\n",
       "      <td>1000-1999</td>\n",
       "      <td>GraveYard</td>\n",
       "    </tr>\n",
       "    <tr>\n",
       "      <th>+_AluSp_58566579-58566876</th>\n",
       "      <td>41</td>\n",
       "      <td>298</td>\n",
       "      <td>['67984 2101 12.8 0.7 0.3 chrY.01-24.01.PAR1-P...</td>\n",
       "      <td>&lt;999</td>\n",
       "      <td>GraveYard</td>\n",
       "    </tr>\n",
       "    <tr>\n",
       "      <th>+_AluJb_58566877-58567036</th>\n",
       "      <td>41</td>\n",
       "      <td>772</td>\n",
       "      <td>['67985 1569 19.5 0.0 6.5 chrY.01-24.01.PAR1-P...</td>\n",
       "      <td>&lt;999</td>\n",
       "      <td>GraveYard</td>\n",
       "    </tr>\n",
       "    <tr>\n",
       "      <th>C_AluSx_58567721-58568039</th>\n",
       "      <td>41</td>\n",
       "      <td>354</td>\n",
       "      <td>['67988 1768 11.8 1.6 7.3 chrY.01-24.01.PAR1-P...</td>\n",
       "      <td>&lt;999</td>\n",
       "      <td>GraveYard</td>\n",
       "    </tr>\n",
       "  </tbody>\n",
       "</table>\n",
       "<p>5296 rows × 5 columns</p>\n",
       "</div>"
      ],
      "text/plain": [
       "                           RepeatBlock  Lengths  \\\n",
       "Alu                                               \n",
       "C_AluY_27648628-27648919             0     2217   \n",
       "C_AluY_27651050-27651338             0     2411   \n",
       "C_AluY_27653465-27653756             0     2411   \n",
       "C_AluY_27655874-27656161             0     2402   \n",
       "C_AluY_27658288-27658576             0     2404   \n",
       "...                                ...      ...   \n",
       "+_AluSx_58564972-58565300           41      551   \n",
       "+_AluJb_58566428-58566578           41     1012   \n",
       "+_AluSp_58566579-58566876           41      298   \n",
       "+_AluJb_58566877-58567036           41      772   \n",
       "C_AluSx_58567721-58568039           41      354   \n",
       "\n",
       "                                                                       Group  \\\n",
       "Alu                                                                            \n",
       "C_AluY_27648628-27648919   ['42438 373 24.1 3.6 3.7 chrY.01-24.01.PAR1-PA...   \n",
       "C_AluY_27651050-27651338   ['42441 411 24.3 3.9 3.7 chrY.01-24.01.PAR1-PA...   \n",
       "C_AluY_27653465-27653756   ['42444 407 24.3 3.9 3.8 chrY.01-24.01.PAR1-PA...   \n",
       "C_AluY_27655874-27656161   ['42447 379 26.9 2.9 3.9 chrY.01-24.01.PAR1-PA...   \n",
       "C_AluY_27658288-27658576   ['42450 358 20.7 8.6 3.0 chrY.01-24.01.PAR1-PA...   \n",
       "...                                                                      ...   \n",
       "+_AluSx_58564972-58565300  ['67980 2114 13.0 0.7 0.0 chrY.01-24.01.PAR1-P...   \n",
       "+_AluJb_58566428-58566578  ['67982 18 21.8 0.0 0.0 chrY.01-24.01.PAR1-PAR...   \n",
       "+_AluSp_58566579-58566876  ['67984 2101 12.8 0.7 0.3 chrY.01-24.01.PAR1-P...   \n",
       "+_AluJb_58566877-58567036  ['67985 1569 19.5 0.0 6.5 chrY.01-24.01.PAR1-P...   \n",
       "C_AluSx_58567721-58568039  ['67988 1768 11.8 1.6 7.3 chrY.01-24.01.PAR1-P...   \n",
       "\n",
       "                          Block_Size KMode_cluster  \n",
       "Alu                                                 \n",
       "C_AluY_27648628-27648919   2000-2999       #FF033E  \n",
       "C_AluY_27651050-27651338   2000-2999       #FF033E  \n",
       "C_AluY_27653465-27653756   2000-2999       #FF033E  \n",
       "C_AluY_27655874-27656161   2000-2999       #FF033E  \n",
       "C_AluY_27658288-27658576   2000-2999       #FF033E  \n",
       "...                              ...           ...  \n",
       "+_AluSx_58564972-58565300       <999     GraveYard  \n",
       "+_AluJb_58566428-58566578  1000-1999     GraveYard  \n",
       "+_AluSp_58566579-58566876       <999     GraveYard  \n",
       "+_AluJb_58566877-58567036       <999     GraveYard  \n",
       "C_AluSx_58567721-58568039       <999     GraveYard  \n",
       "\n",
       "[5296 rows x 5 columns]"
      ]
     },
     "execution_count": 85,
     "metadata": {},
     "output_type": "execute_result"
    }
   ],
   "source": [
    "HG00358_df"
   ]
  },
  {
   "cell_type": "code",
   "execution_count": 59,
   "id": "aa568152",
   "metadata": {},
   "outputs": [],
   "source": [
    "#HG00358_Final.to_csv(\"/home/mark/Desktop/chromosome_y/DYZ2_End_Refinement/HG00358_FullRefineDF.csv\")\n",
    "#HG02011_Final.to_csv(\"/home/mark/Desktop/chromosome_y/DYZ2_End_Refinement/HG02011_FullRefineDF.csv\")\n",
    "#HG01106_Final.to_csv(\"/home/mark/Desktop/chromosome_y/DYZ2_End_Refinement/HG01106_FullRefineDF.csv\")\n",
    "#HG002_Final.to_csv(\"/home/mark/Desktop/chromosome_y/DYZ2_End_Refinement/HG002_FullRefineDF.csv\")\n",
    "#HG01890_Final.to_csv(\"/home/mark/Desktop/chromosome_y/DYZ2_End_Refinement/HG01890_FullRefineDF.csv\")\n",
    "#HG01952_Final.to_csv(\"/home/mark/Desktop/chromosome_y/DYZ2_End_Refinement/HG01952_FullRefineDF.csv\")\n",
    "#HG02666_Final.to_csv(\"/home/mark/Desktop/chromosome_y/DYZ2_End_Refinement/HG02666_FullRefineDF.csv\")"
   ]
  },
  {
   "cell_type": "code",
   "execution_count": 64,
   "id": "40f1b9e7",
   "metadata": {},
   "outputs": [],
   "source": [
    "HG02011_longList = list(HG02011_Final[(HG02011_Final['Classification']=='GOOD_DYZ2') & (HG02011_Final['Original_Length']>=2500)]['Original_Length'])\n",
    "HG00358_longList = list(HG00358_Final[(HG00358_Final['Classification']=='GOOD_DYZ2') & (HG00358_Final['Original_Length']>=2500)]['Original_Length'])\n",
    "HG01106_longList = list(HG01106_Final[(HG01106_Final['Classification']=='GOOD_DYZ2') & (HG01106_Final['Original_Length']>=2500)]['Original_Length'])\n",
    "HG002_longList = list(HG002_Final[(HG002_Final['Classification']=='GOOD_DYZ2') & (HG002_Final['Original_Length']>=2500)]['Original_Length'])\n",
    "HG01890_longList = list(HG01890_Final[(HG01890_Final['Classification']=='GOOD_DYZ2') & (HG01890_Final['Original_Length']>=2500)]['Original_Length'])\n",
    "HG01952_longList = list(HG01952_Final[(HG01952_Final['Classification']=='GOOD_DYZ2') & (HG01952_Final['Original_Length']>=2500)]['Original_Length'])\n",
    "HG02666_longList = list(HG02666_Final[(HG02666_Final['Classification']=='GOOD_DYZ2') & (HG02666_Final['Original_Length']>=2500)]['Original_Length'])"
   ]
  },
  {
   "cell_type": "code",
   "execution_count": 84,
   "id": "fe0abc6c",
   "metadata": {},
   "outputs": [
    {
     "name": "stdout",
     "output_type": "stream",
     "text": [
      "3231\n",
      "5219\n",
      "6681\n",
      "5219\n",
      "2661\n",
      "4000\n",
      "3645\n"
     ]
    }
   ],
   "source": [
    "print(len(HG02011_Final[HG02011_Final['Classification']=='GOOD_DYZ2']))\n",
    "print(len(HG00358_Final[HG00358_Final['Classification']=='GOOD_DYZ2']))\n",
    "print(len(HG01106_Final[HG01106_Final['Classification']=='GOOD_DYZ2']))\n",
    "print(len(HG002_Final[HG002_Final['Classification']=='GOOD_DYZ2']))\n",
    "print(len(HG01890_Final[HG01890_Final['Classification']=='GOOD_DYZ2']))\n",
    "print(len(HG01952_Final[HG01952_Final['Classification']=='GOOD_DYZ2']))\n",
    "print(len(HG02666_Final[HG02666_Final['Classification']=='GOOD_DYZ2']))"
   ]
  },
  {
   "cell_type": "code",
   "execution_count": 93,
   "id": "8b440b66",
   "metadata": {},
   "outputs": [
    {
     "data": {
      "text/plain": [
       "4379.428571428572"
      ]
     },
     "execution_count": 93,
     "metadata": {},
     "output_type": "execute_result"
    }
   ],
   "source": [
    "np.mean([3231,5219,6681,5219,2661,4000,3645])"
   ]
  },
  {
   "cell_type": "code",
   "execution_count": 96,
   "id": "cc15fbe1",
   "metadata": {},
   "outputs": [
    {
     "data": {
      "text/plain": [
       "30656"
      ]
     },
     "execution_count": 96,
     "metadata": {},
     "output_type": "execute_result"
    }
   ],
   "source": [
    "np.sum([3231,5219,6681,5219,2661,4000,3645])"
   ]
  },
  {
   "cell_type": "code",
   "execution_count": 65,
   "id": "cde0a1db",
   "metadata": {},
   "outputs": [],
   "source": [
    "HG02011_HMMList = list(HG02011_Final[(HG02011_Final['Classification']=='GOOD_DYZ2') & (HG02011_Final['Original_Length']<2500)]['Length'])\n",
    "HG00358_HMMList = list(HG00358_Final[(HG00358_Final['Classification']=='GOOD_DYZ2') & (HG00358_Final['Original_Length']<2500)]['Length'])\n",
    "HG01106_HMMList = list(HG01106_Final[(HG01106_Final['Classification']=='GOOD_DYZ2') & (HG01106_Final['Original_Length']<2500)]['Length'])\n",
    "HG002_HMMList = list(HG002_Final[(HG002_Final['Classification']=='GOOD_DYZ2') & (HG002_Final['Original_Length']<2500)]['Length'])\n",
    "HG01890_HMMList = list(HG01890_Final[(HG01890_Final['Classification']=='GOOD_DYZ2') & (HG01890_Final['Original_Length']<2500)]['Length'])\n",
    "HG01952_HMMList = list(HG01952_Final[(HG01952_Final['Classification']=='GOOD_DYZ2') & (HG01952_Final['Original_Length']<2500)]['Length'])\n",
    "HG02666_HMMList = list(HG02666_Final[(HG02666_Final['Classification']=='GOOD_DYZ2') & (HG02666_Final['Original_Length']<2500)]['Length'])"
   ]
  },
  {
   "cell_type": "code",
   "execution_count": 67,
   "id": "6dfb7ed1",
   "metadata": {},
   "outputs": [],
   "source": [
    "listONE= HG02011_HMMList+HG00358_HMMList+HG01106_HMMList+HG002_HMMList+HG01890_HMMList+HG01952_HMMList+HG02666_HMMList"
   ]
  },
  {
   "cell_type": "code",
   "execution_count": 68,
   "id": "7b3098b7",
   "metadata": {},
   "outputs": [],
   "source": [
    "listTWO= HG02011_longList+HG00358_longList+HG01106_longList+HG002_longList+HG01890_longList+HG01952_longList+HG02666_longList"
   ]
  },
  {
   "cell_type": "code",
   "execution_count": 70,
   "id": "fb1bfd0f",
   "metadata": {},
   "outputs": [
    {
     "data": {
      "text/plain": [
       "3719"
      ]
     },
     "execution_count": 70,
     "metadata": {},
     "output_type": "execute_result"
    }
   ],
   "source": [
    "np.max(listONE+listTWO)"
   ]
  },
  {
   "cell_type": "code",
   "execution_count": 71,
   "id": "49b6559e",
   "metadata": {},
   "outputs": [
    {
     "data": {
      "text/plain": [
       "2420.0"
      ]
     },
     "execution_count": 71,
     "metadata": {},
     "output_type": "execute_result"
    }
   ],
   "source": [
    "np.median(listONE+listTWO)"
   ]
  },
  {
   "cell_type": "code",
   "execution_count": 74,
   "id": "d42800a2",
   "metadata": {},
   "outputs": [
    {
     "name": "stdout",
     "output_type": "stream",
     "text": [
      "30656\n"
     ]
    }
   ],
   "source": [
    "print(len(listONE+listTWO))"
   ]
  },
  {
   "cell_type": "code",
   "execution_count": 73,
   "id": "af0a919b",
   "metadata": {},
   "outputs": [
    {
     "name": "stdout",
     "output_type": "stream",
     "text": [
      "Counter({2420: 28739, 2419: 673, 2418: 526, 2410: 93, 1533: 81, 1534: 78, 2416: 58, 2413: 57, 2411: 40, 2417: 39, 1985: 39, 3698: 20, 2414: 15, 2036: 15, 2584: 13, 1987: 11, 3699: 9, 1585: 8, 1549: 7, 2038: 7, 2556: 7, 1763: 6, 2139: 6, 2554: 6, 2230: 5, 2035: 5, 3704: 5, 2368: 4, 1587: 4, 1544: 4, 2084: 4, 1983: 4, 2553: 4, 3695: 4, 3697: 3, 2155: 2, 1275: 2, 2167: 2, 2134: 2, 1492: 2, 2197: 2, 2896: 2, 3696: 2, 2552: 2, 3228: 2, 2582: 2, 3521: 2, 3526: 2, 2558: 2, 2580: 2, 3703: 2, 3719: 2, 3702: 2, 3669: 2, 1584: 1, 2269: 1, 2379: 1, 2372: 1, 2412: 1, 1844: 1, 1542: 1, 2398: 1, 2039: 1, 2158: 1, 2229: 1, 2415: 1, 2343: 1, 1762: 1, 3700: 1, 2980: 1, 2978: 1, 2551: 1, 2872: 1})\n"
     ]
    }
   ],
   "source": [
    "import collections\n",
    "print(collections.Counter(listONE+listTWO))"
   ]
  },
  {
   "cell_type": "code",
   "execution_count": null,
   "id": "9ad73938",
   "metadata": {},
   "outputs": [],
   "source": []
  },
  {
   "cell_type": "code",
   "execution_count": 75,
   "id": "b9fca808",
   "metadata": {},
   "outputs": [
    {
     "data": {
      "text/plain": [
       "0.9374673799582464"
      ]
     },
     "execution_count": 75,
     "metadata": {},
     "output_type": "execute_result"
    }
   ],
   "source": [
    "28739/30656"
   ]
  },
  {
   "cell_type": "code",
   "execution_count": 72,
   "id": "dc5275d2",
   "metadata": {},
   "outputs": [
    {
     "data": {
      "text/plain": [
       "1275"
      ]
     },
     "execution_count": 72,
     "metadata": {},
     "output_type": "execute_result"
    }
   ],
   "source": [
    "np.min(listONE+listTWO)"
   ]
  },
  {
   "cell_type": "code",
   "execution_count": 76,
   "id": "9f73230d",
   "metadata": {},
   "outputs": [],
   "source": [
    "allDYZ2s = listONE+listTWO"
   ]
  },
  {
   "cell_type": "code",
   "execution_count": 79,
   "id": "d7b29002",
   "metadata": {},
   "outputs": [],
   "source": [
    "totalA = []\n",
    "for x in allDYZ2s:\n",
    "    if int(x) > 2400 and int(x) < 2421:\n",
    "        totalA.append(x)"
   ]
  },
  {
   "cell_type": "code",
   "execution_count": 80,
   "id": "5ef395c9",
   "metadata": {},
   "outputs": [
    {
     "data": {
      "text/plain": [
       "0.9864953027139874"
      ]
     },
     "execution_count": 80,
     "metadata": {},
     "output_type": "execute_result"
    }
   ],
   "source": [
    "len(totalA)/len(allDYZ2s)"
   ]
  },
  {
   "cell_type": "code",
   "execution_count": 95,
   "id": "b4be7d23",
   "metadata": {},
   "outputs": [
    {
     "data": {
      "text/plain": [
       "30242"
      ]
     },
     "execution_count": 95,
     "metadata": {},
     "output_type": "execute_result"
    }
   ],
   "source": [
    "len(totalA)"
   ]
  },
  {
   "cell_type": "markdown",
   "id": "bba18429",
   "metadata": {},
   "source": [
    "## Look at Lengths"
   ]
  },
  {
   "cell_type": "code",
   "execution_count": 104,
   "id": "5e4923a8",
   "metadata": {},
   "outputs": [],
   "source": [
    "AllLengths = list(HG02011_FILTDF[\"Length\"])+ list(HG01106_FILTDF[\"Length\"]) + list(HG002_FILTDF[\"Length\"]) + list(HG01952_FILTDF[\"Length\"]) + list(HG01890_FILTDF[\"Length\"]) + list(HG02666_FILTDF[\"Length\"]) + list(HG00358_FILTDF[\"Length\"])"
   ]
  },
  {
   "cell_type": "code",
   "execution_count": 96,
   "id": "52acc44b",
   "metadata": {},
   "outputs": [
    {
     "name": "stdout",
     "output_type": "stream",
     "text": [
      "Counter({'GOOD_DYZ2': 5219, 'NOT_TRIPARTITE': 2})\n",
      "Counter({'GOOD_DYZ2': 6681, 'NOT_TRIPARTITE': 5})\n",
      "Counter({'GOOD_DYZ2': 3231, 'NOT_TRIPARTITE': 7})\n",
      "Counter({'GOOD_DYZ2': 3645, 'NOT_TRIPARTITE': 2})\n",
      "Counter({'GOOD_DYZ2': 2661, 'NOT_TRIPARTITE': 2})\n",
      "Counter({'GOOD_DYZ2': 4000, 'NOT_TRIPARTITE': 5})\n",
      "Counter({'GOOD_DYZ2': 5845, 'NOT_TRIPARTITE': 4})\n"
     ]
    }
   ],
   "source": [
    "import collections\n",
    "print(collections.Counter(HG00358_FILTDF['Classification']))\n",
    "print(collections.Counter(HG01106_FILTDF['Classification']))\n",
    "print(collections.Counter(HG02011_FILTDF['Classification']))\n",
    "print(collections.Counter(HG02666_FILTDF['Classification']))\n",
    "print(collections.Counter(HG01890_FILTDF['Classification']))\n",
    "print(collections.Counter(HG01952_FILTDF['Classification']))\n",
    "print(collections.Counter(HG002_FILTDF['Classification']))"
   ]
  },
  {
   "cell_type": "code",
   "execution_count": 129,
   "id": "a14a1b69",
   "metadata": {},
   "outputs": [],
   "source": [
    "HGTest = HG01106_FILTDF.reset_index().copy()"
   ]
  },
  {
   "cell_type": "code",
   "execution_count": 135,
   "id": "341429e1",
   "metadata": {},
   "outputs": [
    {
     "data": {
      "text/plain": [
       "1294"
      ]
     },
     "execution_count": 135,
     "metadata": {},
     "output_type": "execute_result"
    }
   ],
   "source": [
    "3225318-3224024"
   ]
  },
  {
   "cell_type": "code",
   "execution_count": 133,
   "id": "e6e6746c",
   "metadata": {},
   "outputs": [
    {
     "data": {
      "text/plain": [
       "Coordinates               3221606-3224024\n",
       "Block                                   0\n",
       "Length                               2420\n",
       "Orientation                             -\n",
       "Start                              371839\n",
       "End                                374258\n",
       "Score                                   0\n",
       "Original_Block    HG01106:2849767-3235115\n",
       "Classification                  GOOD_DYZ2\n",
       "Name: 152, dtype: object"
      ]
     },
     "execution_count": 133,
     "metadata": {},
     "output_type": "execute_result"
    }
   ],
   "source": [
    "HGTest[HGTest['Block']==0].iloc[152]"
   ]
  },
  {
   "cell_type": "code",
   "execution_count": 134,
   "id": "4463bccf",
   "metadata": {},
   "outputs": [
    {
     "data": {
      "text/plain": [
       "Coordinates               3225318-3227733\n",
       "Block                                   0\n",
       "Length                               2419\n",
       "Orientation                             -\n",
       "Start                              375551\n",
       "End                                377967\n",
       "Score                                   0\n",
       "Original_Block    HG01106:2849767-3235115\n",
       "Classification                  GOOD_DYZ2\n",
       "Name: 153, dtype: object"
      ]
     },
     "execution_count": 134,
     "metadata": {},
     "output_type": "execute_result"
    }
   ],
   "source": [
    "HGTest[HGTest['Block']==0].iloc[153]"
   ]
  },
  {
   "cell_type": "code",
   "execution_count": 136,
   "id": "f80be45e",
   "metadata": {},
   "outputs": [
    {
     "data": {
      "text/html": [
       "<div>\n",
       "<style scoped>\n",
       "    .dataframe tbody tr th:only-of-type {\n",
       "        vertical-align: middle;\n",
       "    }\n",
       "\n",
       "    .dataframe tbody tr th {\n",
       "        vertical-align: top;\n",
       "    }\n",
       "\n",
       "    .dataframe thead th {\n",
       "        text-align: right;\n",
       "    }\n",
       "</style>\n",
       "<table border=\"1\" class=\"dataframe\">\n",
       "  <thead>\n",
       "    <tr style=\"text-align: right;\">\n",
       "      <th></th>\n",
       "      <th>RepeatBlock</th>\n",
       "      <th>Lengths</th>\n",
       "      <th>Group</th>\n",
       "      <th>Block_Size</th>\n",
       "      <th>KMode_cluster</th>\n",
       "    </tr>\n",
       "    <tr>\n",
       "      <th>Alu</th>\n",
       "      <th></th>\n",
       "      <th></th>\n",
       "      <th></th>\n",
       "      <th></th>\n",
       "      <th></th>\n",
       "    </tr>\n",
       "  </thead>\n",
       "  <tbody>\n",
       "    <tr>\n",
       "      <th>C_AluY_2855516-2855807</th>\n",
       "      <td>0</td>\n",
       "      <td>1608</td>\n",
       "      <td>['50689 196 23.5 4.1 4.0 chrY.21-24.01.AMPL7-P...</td>\n",
       "      <td>1000-1999</td>\n",
       "      <td>#FF033E</td>\n",
       "    </tr>\n",
       "    <tr>\n",
       "      <th>C_AluY_2857936-2858227</th>\n",
       "      <td>0</td>\n",
       "      <td>2413</td>\n",
       "      <td>['50692 415 24.7 3.9 3.4 chrY.21-24.01.AMPL7-P...</td>\n",
       "      <td>2000-2999</td>\n",
       "      <td>#FF033E</td>\n",
       "    </tr>\n",
       "    <tr>\n",
       "      <th>C_AluY_2860356-2860646</th>\n",
       "      <td>0</td>\n",
       "      <td>2412</td>\n",
       "      <td>['50695 413 25.1 3.5 3.5 chrY.21-24.01.AMPL7-P...</td>\n",
       "      <td>2000-2999</td>\n",
       "      <td>#FF033E</td>\n",
       "    </tr>\n",
       "    <tr>\n",
       "      <th>C_AluY_2862775-2863065</th>\n",
       "      <td>0</td>\n",
       "      <td>2412</td>\n",
       "      <td>['50698 408 24.7 3.7 3.7 chrY.21-24.01.AMPL7-P...</td>\n",
       "      <td>2000-2999</td>\n",
       "      <td>#FF033E</td>\n",
       "    </tr>\n",
       "    <tr>\n",
       "      <th>C_AluY_2865192-2865483</th>\n",
       "      <td>0</td>\n",
       "      <td>2411</td>\n",
       "      <td>['50701 408 25.1 3.4 3.8 chrY.21-24.01.AMPL7-P...</td>\n",
       "      <td>2000-2999</td>\n",
       "      <td>#FF033E</td>\n",
       "    </tr>\n",
       "    <tr>\n",
       "      <th>...</th>\n",
       "      <td>...</td>\n",
       "      <td>...</td>\n",
       "      <td>...</td>\n",
       "      <td>...</td>\n",
       "      <td>...</td>\n",
       "    </tr>\n",
       "    <tr>\n",
       "      <th>C_AluY_3218319-3218610</th>\n",
       "      <td>0</td>\n",
       "      <td>2413</td>\n",
       "      <td>['51153 401 24.6 3.9 3.9 chrY.21-24.01.AMPL7-P...</td>\n",
       "      <td>2000-2999</td>\n",
       "      <td>#4169e1</td>\n",
       "    </tr>\n",
       "    <tr>\n",
       "      <th>C_AluY_3220739-3221029</th>\n",
       "      <td>0</td>\n",
       "      <td>2412</td>\n",
       "      <td>['51156 421 23.9 3.8 3.8 chrY.21-24.01.AMPL7-P...</td>\n",
       "      <td>2000-2999</td>\n",
       "      <td>#F6C324</td>\n",
       "    </tr>\n",
       "    <tr>\n",
       "      <th>C_AluY_3223158-3223449</th>\n",
       "      <td>0</td>\n",
       "      <td>2413</td>\n",
       "      <td>['51159 403 24.7 3.4 4.3 chrY.21-24.01.AMPL7-P...</td>\n",
       "      <td>2000-2999</td>\n",
       "      <td>#FF033E</td>\n",
       "    </tr>\n",
       "    <tr>\n",
       "      <th>C_AluY_3226868-3227159</th>\n",
       "      <td>0</td>\n",
       "      <td>3704</td>\n",
       "      <td>['51162 748 24.2 3.5 4.2 chrY.21-24.01.AMPL7-P...</td>\n",
       "      <td>3000-3999</td>\n",
       "      <td>#FF033E</td>\n",
       "    </tr>\n",
       "    <tr>\n",
       "      <th>C_AluY_3229257-3229545</th>\n",
       "      <td>0</td>\n",
       "      <td>2382</td>\n",
       "      <td>['51165 420 24.7 3.1 3.3 chrY.21-24.01.AMPL7-P...</td>\n",
       "      <td>2000-2999</td>\n",
       "      <td>#FF033E</td>\n",
       "    </tr>\n",
       "  </tbody>\n",
       "</table>\n",
       "<p>155 rows × 5 columns</p>\n",
       "</div>"
      ],
      "text/plain": [
       "                        RepeatBlock  Lengths  \\\n",
       "Alu                                            \n",
       "C_AluY_2855516-2855807            0     1608   \n",
       "C_AluY_2857936-2858227            0     2413   \n",
       "C_AluY_2860356-2860646            0     2412   \n",
       "C_AluY_2862775-2863065            0     2412   \n",
       "C_AluY_2865192-2865483            0     2411   \n",
       "...                             ...      ...   \n",
       "C_AluY_3218319-3218610            0     2413   \n",
       "C_AluY_3220739-3221029            0     2412   \n",
       "C_AluY_3223158-3223449            0     2413   \n",
       "C_AluY_3226868-3227159            0     3704   \n",
       "C_AluY_3229257-3229545            0     2382   \n",
       "\n",
       "                                                                    Group  \\\n",
       "Alu                                                                         \n",
       "C_AluY_2855516-2855807  ['50689 196 23.5 4.1 4.0 chrY.21-24.01.AMPL7-P...   \n",
       "C_AluY_2857936-2858227  ['50692 415 24.7 3.9 3.4 chrY.21-24.01.AMPL7-P...   \n",
       "C_AluY_2860356-2860646  ['50695 413 25.1 3.5 3.5 chrY.21-24.01.AMPL7-P...   \n",
       "C_AluY_2862775-2863065  ['50698 408 24.7 3.7 3.7 chrY.21-24.01.AMPL7-P...   \n",
       "C_AluY_2865192-2865483  ['50701 408 25.1 3.4 3.8 chrY.21-24.01.AMPL7-P...   \n",
       "...                                                                   ...   \n",
       "C_AluY_3218319-3218610  ['51153 401 24.6 3.9 3.9 chrY.21-24.01.AMPL7-P...   \n",
       "C_AluY_3220739-3221029  ['51156 421 23.9 3.8 3.8 chrY.21-24.01.AMPL7-P...   \n",
       "C_AluY_3223158-3223449  ['51159 403 24.7 3.4 4.3 chrY.21-24.01.AMPL7-P...   \n",
       "C_AluY_3226868-3227159  ['51162 748 24.2 3.5 4.2 chrY.21-24.01.AMPL7-P...   \n",
       "C_AluY_3229257-3229545  ['51165 420 24.7 3.1 3.3 chrY.21-24.01.AMPL7-P...   \n",
       "\n",
       "                       Block_Size KMode_cluster  \n",
       "Alu                                              \n",
       "C_AluY_2855516-2855807  1000-1999       #FF033E  \n",
       "C_AluY_2857936-2858227  2000-2999       #FF033E  \n",
       "C_AluY_2860356-2860646  2000-2999       #FF033E  \n",
       "C_AluY_2862775-2863065  2000-2999       #FF033E  \n",
       "C_AluY_2865192-2865483  2000-2999       #FF033E  \n",
       "...                           ...           ...  \n",
       "C_AluY_3218319-3218610  2000-2999       #4169e1  \n",
       "C_AluY_3220739-3221029  2000-2999       #F6C324  \n",
       "C_AluY_3223158-3223449  2000-2999       #FF033E  \n",
       "C_AluY_3226868-3227159  3000-3999       #FF033E  \n",
       "C_AluY_3229257-3229545  2000-2999       #FF033E  \n",
       "\n",
       "[155 rows x 5 columns]"
      ]
     },
     "execution_count": 136,
     "metadata": {},
     "output_type": "execute_result"
    }
   ],
   "source": [
    "HG01106_df[HG01106_df['RepeatBlock']==0]"
   ]
  },
  {
   "cell_type": "code",
   "execution_count": 120,
   "id": "2282d8c1",
   "metadata": {},
   "outputs": [
    {
     "data": {
      "text/plain": [
       "\"['51162 748 24.2 3.5 4.2 chrY.21-24.01.AMPL7-PAR2.FW.unassigned-0000976.HG01106 3224024 3226828 34972817 False (TATATAT)n Simple_repeat 1 2786 0 21385 False', '51163 1405 19.9 0.0 5.4 chrY.21-24.01.AMPL7-PAR2.FW.unassigned-0000976.HG01106 3226868 3227159 34972486 True AluY SINE/Alu 12 289 13 21386 True', '51164 3997 9.5 0.0 0.2 chrY.21-24.01.AMPL7-PAR2.FW.unassigned-0000976.HG01106 3227159 3227727 34971918 True HSATI Satellite 0 568 1 21387 False']\""
      ]
     },
     "execution_count": 120,
     "metadata": {},
     "output_type": "execute_result"
    }
   ],
   "source": [
    "HG01106_df.loc['C_AluY_3226868-3227159']['Group']"
   ]
  },
  {
   "cell_type": "code",
   "execution_count": 137,
   "id": "f608d22f",
   "metadata": {},
   "outputs": [
    {
     "data": {
      "text/plain": [
       "\"['52987 752 24.1 3.5 4.2 chrY.21-24.01.AMPL7-PAR2.FW.unassigned-0000976.HG01106 5654624 5657428 32542217 False (TATATAT)n Simple_repeat 1 2786 0 23172 False', '52988 1405 19.9 0.0 5.4 chrY.21-24.01.AMPL7-PAR2.FW.unassigned-0000976.HG01106 5657468 5657759 32541886 True AluY SINE/Alu 12 289 13 23173 True', '52989 3997 9.5 0.0 0.2 chrY.21-24.01.AMPL7-PAR2.FW.unassigned-0000976.HG01106 5657759 5658327 32541318 True HSATI Satellite 0 568 1 23174 False']\""
      ]
     },
     "execution_count": 137,
     "metadata": {},
     "output_type": "execute_result"
    }
   ],
   "source": [
    "HG01106_df.loc['C_AluY_5657468-5657759']['Group']"
   ]
  },
  {
   "cell_type": "code",
   "execution_count": 118,
   "id": "64ed3d4f",
   "metadata": {},
   "outputs": [
    {
     "data": {
      "text/html": [
       "<div>\n",
       "<style scoped>\n",
       "    .dataframe tbody tr th:only-of-type {\n",
       "        vertical-align: middle;\n",
       "    }\n",
       "\n",
       "    .dataframe tbody tr th {\n",
       "        vertical-align: top;\n",
       "    }\n",
       "\n",
       "    .dataframe thead th {\n",
       "        text-align: right;\n",
       "    }\n",
       "</style>\n",
       "<table border=\"1\" class=\"dataframe\">\n",
       "  <thead>\n",
       "    <tr style=\"text-align: right;\">\n",
       "      <th></th>\n",
       "      <th>RepeatBlock</th>\n",
       "      <th>Lengths</th>\n",
       "      <th>Group</th>\n",
       "      <th>Block_Size</th>\n",
       "      <th>KMode_cluster</th>\n",
       "    </tr>\n",
       "    <tr>\n",
       "      <th>Alu</th>\n",
       "      <th></th>\n",
       "      <th></th>\n",
       "      <th></th>\n",
       "      <th></th>\n",
       "      <th></th>\n",
       "    </tr>\n",
       "  </thead>\n",
       "  <tbody>\n",
       "    <tr>\n",
       "      <th>C_AluY_3226868-3227159</th>\n",
       "      <td>0</td>\n",
       "      <td>3704</td>\n",
       "      <td>['51162 748 24.2 3.5 4.2 chrY.21-24.01.AMPL7-P...</td>\n",
       "      <td>3000-3999</td>\n",
       "      <td>#FF033E</td>\n",
       "    </tr>\n",
       "    <tr>\n",
       "      <th>C_AluY_5657468-5657759</th>\n",
       "      <td>3</td>\n",
       "      <td>3704</td>\n",
       "      <td>['52987 752 24.1 3.5 4.2 chrY.21-24.01.AMPL7-P...</td>\n",
       "      <td>3000-3999</td>\n",
       "      <td>#FF033E</td>\n",
       "    </tr>\n",
       "    <tr>\n",
       "      <th>C_AluY_7331375-7331666</th>\n",
       "      <td>5</td>\n",
       "      <td>3698</td>\n",
       "      <td>['54079 769 24.0 3.6 3.8 chrY.21-24.01.AMPL7-P...</td>\n",
       "      <td>3000-3999</td>\n",
       "      <td>#FF033E</td>\n",
       "    </tr>\n",
       "    <tr>\n",
       "      <th>C_AluY_7764323-7764614</th>\n",
       "      <td>6</td>\n",
       "      <td>3698</td>\n",
       "      <td>['54461 767 24.2 3.4 3.9 chrY.21-24.01.AMPL7-P...</td>\n",
       "      <td>3000-3999</td>\n",
       "      <td>#FF033E</td>\n",
       "    </tr>\n",
       "    <tr>\n",
       "      <th>C_AluY_10976556-10976847</th>\n",
       "      <td>8</td>\n",
       "      <td>3698</td>\n",
       "      <td>['57361 770 24.2 3.5 4.0 chrY.21-24.01.AMPL7-P...</td>\n",
       "      <td>3000-3999</td>\n",
       "      <td>#FF033E</td>\n",
       "    </tr>\n",
       "    <tr>\n",
       "      <th>C_AluY_12568414-12568705</th>\n",
       "      <td>10</td>\n",
       "      <td>3698</td>\n",
       "      <td>['58828 764 23.9 3.5 4.0 chrY.21-24.01.AMPL7-P...</td>\n",
       "      <td>3000-3999</td>\n",
       "      <td>#FF033E</td>\n",
       "    </tr>\n",
       "    <tr>\n",
       "      <th>C_AluY_13937017-13937308</th>\n",
       "      <td>11</td>\n",
       "      <td>3698</td>\n",
       "      <td>['60268 766 23.9 3.5 4.0 chrY.21-24.01.AMPL7-P...</td>\n",
       "      <td>3000-3999</td>\n",
       "      <td>#FF033E</td>\n",
       "    </tr>\n",
       "    <tr>\n",
       "      <th>C_AluY_16561967-16562258</th>\n",
       "      <td>14</td>\n",
       "      <td>3521</td>\n",
       "      <td>['62562 723 23.4 3.7 4.1 chrY.21-24.01.AMPL7-P...</td>\n",
       "      <td>3000-3999</td>\n",
       "      <td>#FF033E</td>\n",
       "    </tr>\n",
       "    <tr>\n",
       "      <th>C_AluY_20559780-20560071</th>\n",
       "      <td>19</td>\n",
       "      <td>3526</td>\n",
       "      <td>['65835 722 23.5 3.6 4.1 chrY.21-24.01.AMPL7-P...</td>\n",
       "      <td>3000-3999</td>\n",
       "      <td>#FF033E</td>\n",
       "    </tr>\n",
       "    <tr>\n",
       "      <th>C_AluY_26380687-26380978</th>\n",
       "      <td>26</td>\n",
       "      <td>3521</td>\n",
       "      <td>['70694 715 23.6 3.5 4.3 chrY.21-24.01.AMPL7-P...</td>\n",
       "      <td>3000-3999</td>\n",
       "      <td>#FF033E</td>\n",
       "    </tr>\n",
       "    <tr>\n",
       "      <th>C_AluY_30906652-30906943</th>\n",
       "      <td>31</td>\n",
       "      <td>3526</td>\n",
       "      <td>['74397 720 23.5 3.6 4.1 chrY.21-24.01.AMPL7-P...</td>\n",
       "      <td>3000-3999</td>\n",
       "      <td>#FF033E</td>\n",
       "    </tr>\n",
       "    <tr>\n",
       "      <th>C_AluY_36045537-36045828</th>\n",
       "      <td>36</td>\n",
       "      <td>3695</td>\n",
       "      <td>['79307 777 24.6 3.6 3.4 chrY.21-24.01.AMPL7-P...</td>\n",
       "      <td>3000-3999</td>\n",
       "      <td>#FF033E</td>\n",
       "    </tr>\n",
       "    <tr>\n",
       "      <th>+_AluY_37133344-37133635</th>\n",
       "      <td>38</td>\n",
       "      <td>3700</td>\n",
       "      <td>['80014 4016 9.3 0.0 0.2 chrY.21-24.01.AMPL7-P...</td>\n",
       "      <td>3000-3999</td>\n",
       "      <td>#FF033E</td>\n",
       "    </tr>\n",
       "    <tr>\n",
       "      <th>C_FLAM_A_37783271-37783387</th>\n",
       "      <td>41</td>\n",
       "      <td>3724</td>\n",
       "      <td>['80467 37 2.8 0.0 0.0 chrY.21-24.01.AMPL7-PAR...</td>\n",
       "      <td>3000-3999</td>\n",
       "      <td>GraveYard</td>\n",
       "    </tr>\n",
       "    <tr>\n",
       "      <th>C_FLAM_A_37788651-37788767</th>\n",
       "      <td>41</td>\n",
       "      <td>3462</td>\n",
       "      <td>['80473 480 32.5 0.0 0.0 chrY.21-24.01.AMPL7-P...</td>\n",
       "      <td>3000-3999</td>\n",
       "      <td>GraveYard</td>\n",
       "    </tr>\n",
       "    <tr>\n",
       "      <th>+_AluSx_37792246-37792653</th>\n",
       "      <td>41</td>\n",
       "      <td>3538</td>\n",
       "      <td>['80475 1598 20.5 1.9 2.7 chrY.21-24.01.AMPL7-...</td>\n",
       "      <td>3000-3999</td>\n",
       "      <td>GraveYard</td>\n",
       "    </tr>\n",
       "  </tbody>\n",
       "</table>\n",
       "</div>"
      ],
      "text/plain": [
       "                            RepeatBlock  Lengths  \\\n",
       "Alu                                                \n",
       "C_AluY_3226868-3227159                0     3704   \n",
       "C_AluY_5657468-5657759                3     3704   \n",
       "C_AluY_7331375-7331666                5     3698   \n",
       "C_AluY_7764323-7764614                6     3698   \n",
       "C_AluY_10976556-10976847              8     3698   \n",
       "C_AluY_12568414-12568705             10     3698   \n",
       "C_AluY_13937017-13937308             11     3698   \n",
       "C_AluY_16561967-16562258             14     3521   \n",
       "C_AluY_20559780-20560071             19     3526   \n",
       "C_AluY_26380687-26380978             26     3521   \n",
       "C_AluY_30906652-30906943             31     3526   \n",
       "C_AluY_36045537-36045828             36     3695   \n",
       "+_AluY_37133344-37133635             38     3700   \n",
       "C_FLAM_A_37783271-37783387           41     3724   \n",
       "C_FLAM_A_37788651-37788767           41     3462   \n",
       "+_AluSx_37792246-37792653            41     3538   \n",
       "\n",
       "                                                                        Group  \\\n",
       "Alu                                                                             \n",
       "C_AluY_3226868-3227159      ['51162 748 24.2 3.5 4.2 chrY.21-24.01.AMPL7-P...   \n",
       "C_AluY_5657468-5657759      ['52987 752 24.1 3.5 4.2 chrY.21-24.01.AMPL7-P...   \n",
       "C_AluY_7331375-7331666      ['54079 769 24.0 3.6 3.8 chrY.21-24.01.AMPL7-P...   \n",
       "C_AluY_7764323-7764614      ['54461 767 24.2 3.4 3.9 chrY.21-24.01.AMPL7-P...   \n",
       "C_AluY_10976556-10976847    ['57361 770 24.2 3.5 4.0 chrY.21-24.01.AMPL7-P...   \n",
       "C_AluY_12568414-12568705    ['58828 764 23.9 3.5 4.0 chrY.21-24.01.AMPL7-P...   \n",
       "C_AluY_13937017-13937308    ['60268 766 23.9 3.5 4.0 chrY.21-24.01.AMPL7-P...   \n",
       "C_AluY_16561967-16562258    ['62562 723 23.4 3.7 4.1 chrY.21-24.01.AMPL7-P...   \n",
       "C_AluY_20559780-20560071    ['65835 722 23.5 3.6 4.1 chrY.21-24.01.AMPL7-P...   \n",
       "C_AluY_26380687-26380978    ['70694 715 23.6 3.5 4.3 chrY.21-24.01.AMPL7-P...   \n",
       "C_AluY_30906652-30906943    ['74397 720 23.5 3.6 4.1 chrY.21-24.01.AMPL7-P...   \n",
       "C_AluY_36045537-36045828    ['79307 777 24.6 3.6 3.4 chrY.21-24.01.AMPL7-P...   \n",
       "+_AluY_37133344-37133635    ['80014 4016 9.3 0.0 0.2 chrY.21-24.01.AMPL7-P...   \n",
       "C_FLAM_A_37783271-37783387  ['80467 37 2.8 0.0 0.0 chrY.21-24.01.AMPL7-PAR...   \n",
       "C_FLAM_A_37788651-37788767  ['80473 480 32.5 0.0 0.0 chrY.21-24.01.AMPL7-P...   \n",
       "+_AluSx_37792246-37792653   ['80475 1598 20.5 1.9 2.7 chrY.21-24.01.AMPL7-...   \n",
       "\n",
       "                           Block_Size KMode_cluster  \n",
       "Alu                                                  \n",
       "C_AluY_3226868-3227159      3000-3999       #FF033E  \n",
       "C_AluY_5657468-5657759      3000-3999       #FF033E  \n",
       "C_AluY_7331375-7331666      3000-3999       #FF033E  \n",
       "C_AluY_7764323-7764614      3000-3999       #FF033E  \n",
       "C_AluY_10976556-10976847    3000-3999       #FF033E  \n",
       "C_AluY_12568414-12568705    3000-3999       #FF033E  \n",
       "C_AluY_13937017-13937308    3000-3999       #FF033E  \n",
       "C_AluY_16561967-16562258    3000-3999       #FF033E  \n",
       "C_AluY_20559780-20560071    3000-3999       #FF033E  \n",
       "C_AluY_26380687-26380978    3000-3999       #FF033E  \n",
       "C_AluY_30906652-30906943    3000-3999       #FF033E  \n",
       "C_AluY_36045537-36045828    3000-3999       #FF033E  \n",
       "+_AluY_37133344-37133635    3000-3999       #FF033E  \n",
       "C_FLAM_A_37783271-37783387  3000-3999     GraveYard  \n",
       "C_FLAM_A_37788651-37788767  3000-3999     GraveYard  \n",
       "+_AluSx_37792246-37792653   3000-3999     GraveYard  "
      ]
     },
     "execution_count": 118,
     "metadata": {},
     "output_type": "execute_result"
    }
   ],
   "source": [
    "HG01106_df[HG01106_df['Block_Size']=='3000-3999']"
   ]
  },
  {
   "cell_type": "code",
   "execution_count": 105,
   "id": "09e8b48d",
   "metadata": {},
   "outputs": [
    {
     "name": "stdout",
     "output_type": "stream",
     "text": [
      "Counter({2420: 29338, 2419: 729, 2418: 544, 2410: 99, 1533: 83, 1534: 77, 2416: 59, 2413: 57, 2417: 43, 2411: 39, 1985: 36, 2036: 32, 1544: 23, 2414: 15, 1860: 14, 1987: 13, 2038: 9, 1549: 7, 1585: 7, 1833: 6, 1763: 6, 2139: 6, 2230: 5, 1839: 5, 1587: 5, 2035: 5, 2368: 4, 2084: 4, 1983: 4, 1961: 2, 2136: 2, 1275: 2, 1492: 2, 2197: 2, 2134: 2, 1584: 1, 2269: 1, 1427: 1, 2379: 1, 2372: 1, 2412: 1, 1844: 1, 2246: 1, 1276: 1, 2037: 1, 2158: 1, 1859: 1, 2398: 1, 2039: 1, 2229: 1, 2415: 1, 1582: 1, 2343: 1, 1543: 1, 1762: 1, 2155: 1, 1542: 1, 2167: 1})\n"
     ]
    }
   ],
   "source": [
    "print(collections.Counter(AllLengths))"
   ]
  },
  {
   "cell_type": "code",
   "execution_count": 106,
   "id": "4f6c220c",
   "metadata": {},
   "outputs": [
    {
     "name": "stdout",
     "output_type": "stream",
     "text": [
      "31309\n"
     ]
    }
   ],
   "source": [
    "print(len(AllLengths))"
   ]
  },
  {
   "cell_type": "code",
   "execution_count": 107,
   "id": "43861d91",
   "metadata": {},
   "outputs": [
    {
     "data": {
      "text/plain": [
       "0.9370468555367466"
      ]
     },
     "execution_count": 107,
     "metadata": {},
     "output_type": "execute_result"
    }
   ],
   "source": [
    "29338/31309"
   ]
  },
  {
   "cell_type": "code",
   "execution_count": 110,
   "id": "edcae890",
   "metadata": {},
   "outputs": [
    {
     "data": {
      "text/plain": [
       "1275"
      ]
     },
     "execution_count": 110,
     "metadata": {},
     "output_type": "execute_result"
    }
   ],
   "source": [
    "np.min(AllLengths)"
   ]
  },
  {
   "cell_type": "code",
   "execution_count": 111,
   "id": "8f7fbc76",
   "metadata": {},
   "outputs": [
    {
     "data": {
      "text/plain": [
       "2420"
      ]
     },
     "execution_count": 111,
     "metadata": {},
     "output_type": "execute_result"
    }
   ],
   "source": [
    "np.max(AllLengths)"
   ]
  },
  {
   "cell_type": "markdown",
   "id": "a71cc6d1",
   "metadata": {},
   "source": [
    "## Look at counts"
   ]
  },
  {
   "cell_type": "code",
   "execution_count": 2,
   "id": "b125440c",
   "metadata": {},
   "outputs": [],
   "source": [
    "HG00358_Final = pd.read_csv(\"/home/mark/Desktop/chromosome_y/DYZ2_End_Refinement/HG00358_FullRefineDF.csv\")\n",
    "HG02011_Final = pd.read_csv(\"/home/mark/Desktop/chromosome_y/DYZ2_End_Refinement/HG02011_FullRefineDF.csv\")\n",
    "HG01106_Final = pd.read_csv(\"/home/mark/Desktop/chromosome_y/DYZ2_End_Refinement/HG01106_FullRefineDF.csv\")\n",
    "HG002_Final = pd.read_csv(\"/home/mark/Desktop/chromosome_y/DYZ2_End_Refinement/HG002_FullRefineDF.csv\")\n",
    "HG01890_Final = pd.read_csv(\"/home/mark/Desktop/chromosome_y/DYZ2_End_Refinement/HG01890_FullRefineDF.csv\")\n",
    "HG01952_Final = pd.read_csv(\"/home/mark/Desktop/chromosome_y/DYZ2_End_Refinement/HG01952_FullRefineDF.csv\")\n",
    "HG02666_Final = pd.read_csv(\"/home/mark/Desktop/chromosome_y/DYZ2_End_Refinement/HG02666_FullRefineDF.csv\")"
   ]
  },
  {
   "cell_type": "code",
   "execution_count": 3,
   "id": "36d53d96",
   "metadata": {},
   "outputs": [
    {
     "name": "stdout",
     "output_type": "stream",
     "text": [
      "HG00358: 5219 DYZ2 Units\n",
      "HG02011: 3231 DYZ2 Units\n",
      "HG01106: 6681 DYZ2 Units\n",
      "HG002: 5219 DYZ2 Units\n",
      "HG01890: 2661 DYZ2 Units\n",
      "HG01952: 4000 DYZ2 Units\n",
      "HG02666: 3645 DYZ2 Units\n"
     ]
    }
   ],
   "source": [
    "print(\"HG00358: \"+str(len(HG00358_Final[HG00358_Final['Classification']=='GOOD_DYZ2']))+\" DYZ2 Units\")\n",
    "print(\"HG02011: \"+str(len(HG02011_Final[HG02011_Final['Classification']=='GOOD_DYZ2']))+\" DYZ2 Units\")\n",
    "print(\"HG01106: \"+str(len(HG01106_Final[HG01106_Final['Classification']=='GOOD_DYZ2']))+\" DYZ2 Units\")\n",
    "print(\"HG002: \"+str(len(HG002_Final[HG002_Final['Classification']=='GOOD_DYZ2']))+\" DYZ2 Units\")\n",
    "print(\"HG01890: \"+str(len(HG01890_Final[HG01890_Final['Classification']=='GOOD_DYZ2']))+\" DYZ2 Units\")\n",
    "print(\"HG01952: \"+str(len(HG01952_Final[HG01952_Final['Classification']=='GOOD_DYZ2']))+\" DYZ2 Units\")\n",
    "print(\"HG02666: \"+str(len(HG02666_Final[HG02666_Final['Classification']=='GOOD_DYZ2']))+\" DYZ2 Units\")"
   ]
  },
  {
   "cell_type": "code",
   "execution_count": 4,
   "id": "f60a69d0",
   "metadata": {},
   "outputs": [],
   "source": [
    "HG01952_DYZ2 = pd.read_csv(\"/home/mark/Desktop/chromosome_y/DYZ1_Region_Analysis/Block_Sequences/HG01952/Finalized_Fragmentdf.csv\")\n",
    "HG00358_DYZ2 = pd.read_csv(\"/home/mark/Desktop/chromosome_y/DYZ1_Region_Analysis/Block_Sequences/HG00358/Finalized_Fragmentdf.csv\")\n",
    "HG02011_DYZ2 = pd.read_csv(\"/home/mark/Desktop/chromosome_y/DYZ1_Region_Analysis/Block_Sequences/HG02011/Finalized_Fragmentdf.csv\")\n",
    "HG002_DYZ2 = pd.read_csv(\"/home/mark/Desktop/chromosome_y/DYZ1_Region_Analysis/Block_Sequences/HG002/Finalized_Fragmentdf.csv\")\n",
    "HG01890_DYZ2 = pd.read_csv(\"/home/mark/Desktop/chromosome_y/DYZ1_Region_Analysis/Block_Sequences/HG01890/Finalized_Fragmentdf.csv\")\n",
    "HG02666_DYZ2 = pd.read_csv(\"/home/mark/Desktop/chromosome_y/DYZ1_Region_Analysis/Block_Sequences/HC02666/Finalized_Fragmentdf.csv\")\n",
    "HG01106_DYZ2 = pd.read_csv(\"/home/mark/Desktop/chromosome_y/DYZ1_Region_Analysis/Block_Sequences/HG01106/Finalized_Fragmentdf.csv\")"
   ]
  },
  {
   "cell_type": "code",
   "execution_count": 5,
   "id": "3a2a9dc8",
   "metadata": {},
   "outputs": [
    {
     "name": "stdout",
     "output_type": "stream",
     "text": [
      "HG01952: 3580 DYZ1 Units\n",
      "HG00358: 5436 DYZ1 Units\n",
      "HG02011: 4289 DYZ1 Units\n",
      "HG002: 5717 DYZ1 Units\n",
      "HG01890: 3124 DYZ1 Units\n",
      "HG02666: 4771 DYZ1 Units\n",
      "HG01106: 5910 DYZ1 Units\n"
     ]
    }
   ],
   "source": [
    "print(\"HG01952: \"+str(len(HG01952_DYZ2[HG01952_DYZ2['Color']=='black']))+\" DYZ1 Units\")\n",
    "print(\"HG00358: \"+str(len(HG00358_DYZ2[HG00358_DYZ2['Color']=='black']))+\" DYZ1 Units\")\n",
    "print(\"HG02011: \"+str(len(HG02011_DYZ2[HG02011_DYZ2['Color']=='black']))+\" DYZ1 Units\")\n",
    "print(\"HG002: \"+str(len(HG002_DYZ2[HG002_DYZ2['Color']=='black']))+\" DYZ1 Units\")\n",
    "print(\"HG01890: \"+str(len(HG01890_DYZ2[HG01890_DYZ2['Color']=='black']))+\" DYZ1 Units\")\n",
    "print(\"HG02666: \"+str(len(HG02666_DYZ2[HG02666_DYZ2['Color']=='black']))+\" DYZ1 Units\")\n",
    "print(\"HG01106: \"+str(len(HG01106_DYZ2[HG01106_DYZ2['Color']=='black']))+\" DYZ1 Units\")"
   ]
  },
  {
   "cell_type": "code",
   "execution_count": 18,
   "id": "b1025798",
   "metadata": {},
   "outputs": [
    {
     "name": "stdout",
     "output_type": "stream",
     "text": [
      "HG01952 Ratio (DYZ1/DYZ2): 0.895\n",
      "HG00358 Ratio (DYZ1/DYZ2): 1.0415788465223224\n",
      "HG02011 Ratio (DYZ1/DYZ2): 1.3274528009904054\n",
      "HG002 Ratio (DYZ1/DYZ2): 1.0954205786549147\n",
      "HG01890 Ratio (DYZ1/DYZ2): 1.1739947388199925\n",
      "HG02666 Ratio (DYZ1/DYZ2): 1.3089163237311385\n",
      "HG01106 Ratio (DYZ1/DYZ2): 0.8845981140547822\n"
     ]
    }
   ],
   "source": [
    "print(\"HG01952 Ratio (DYZ1/DYZ2): \"+str(3580/4000))\n",
    "print(\"HG00358 Ratio (DYZ1/DYZ2): \"+str(5436/5219))\n",
    "print(\"HG02011 Ratio (DYZ1/DYZ2): \"+str(4289/3231))\n",
    "print(\"HG002 Ratio (DYZ1/DYZ2): \"+str(5717/5219))\n",
    "print(\"HG01890 Ratio (DYZ1/DYZ2): \"+str(3124/2661))\n",
    "print(\"HG02666 Ratio (DYZ1/DYZ2): \"+str(4771/3645))\n",
    "print(\"HG01106 Ratio (DYZ1/DYZ2): \"+str(5910/6681))"
   ]
  },
  {
   "cell_type": "code",
   "execution_count": 20,
   "id": "1ef4d44e",
   "metadata": {},
   "outputs": [],
   "source": [
    "ratios = [0.895,1.0415788465223224,1.3274528009904054, 1.0954205786549147, 1.1739947388199925, 1.3089163237311385, 0.8845981140547822]"
   ]
  },
  {
   "cell_type": "code",
   "execution_count": 21,
   "id": "64ec0817",
   "metadata": {},
   "outputs": [
    {
     "data": {
      "text/plain": [
       "1.1038516289676508"
      ]
     },
     "execution_count": 21,
     "metadata": {},
     "output_type": "execute_result"
    }
   ],
   "source": [
    "np.mean(ratios)"
   ]
  },
  {
   "cell_type": "code",
   "execution_count": 25,
   "id": "2dd285d6",
   "metadata": {},
   "outputs": [
    {
     "data": {
      "text/plain": [
       "1.0954205786549147"
      ]
     },
     "execution_count": 25,
     "metadata": {},
     "output_type": "execute_result"
    }
   ],
   "source": [
    "np.median(ratios)"
   ]
  },
  {
   "cell_type": "code",
   "execution_count": 22,
   "id": "1010bca4",
   "metadata": {},
   "outputs": [
    {
     "data": {
      "text/plain": [
       "0.8845981140547822"
      ]
     },
     "execution_count": 22,
     "metadata": {},
     "output_type": "execute_result"
    }
   ],
   "source": [
    "np.min(ratios)"
   ]
  },
  {
   "cell_type": "code",
   "execution_count": 23,
   "id": "f0349193",
   "metadata": {},
   "outputs": [
    {
     "data": {
      "text/plain": [
       "1.3274528009904054"
      ]
     },
     "execution_count": 23,
     "metadata": {},
     "output_type": "execute_result"
    }
   ],
   "source": [
    "np.max(ratios)"
   ]
  },
  {
   "cell_type": "code",
   "execution_count": 24,
   "id": "a1de3563",
   "metadata": {},
   "outputs": [
    {
     "data": {
      "text/plain": [
       "0.16587825044510265"
      ]
     },
     "execution_count": 24,
     "metadata": {},
     "output_type": "execute_result"
    }
   ],
   "source": [
    "np.std(ratios)"
   ]
  },
  {
   "cell_type": "markdown",
   "id": "edadf913",
   "metadata": {},
   "source": [
    "# Plot"
   ]
  },
  {
   "cell_type": "code",
   "execution_count": 18,
   "id": "8138576c",
   "metadata": {},
   "outputs": [
    {
     "name": "stdout",
     "output_type": "stream",
     "text": [
      "HG01952 Ratio (DYZ1/DYZ2): 0.895\n",
      "HG00358 Ratio (DYZ1/DYZ2): 1.0415788465223224\n",
      "HG02011 Ratio (DYZ1/DYZ2): 1.3274528009904054\n",
      "HG002 Ratio (DYZ1/DYZ2): 1.0954205786549147\n",
      "HG01890 Ratio (DYZ1/DYZ2): 1.1739947388199925\n",
      "HG02666 Ratio (DYZ1/DYZ2): 1.3089163237311385\n",
      "HG01106 Ratio (DYZ1/DYZ2): 0.8845981140547822\n"
     ]
    }
   ],
   "source": [
    "print(\"HG01952 Ratio (DYZ1/DYZ2): \"+str(3580/4000))\n",
    "print(\"HG00358 Ratio (DYZ1/DYZ2): \"+str(5436/5219))\n",
    "print(\"HG02011 Ratio (DYZ1/DYZ2): \"+str(4289/3231))\n",
    "print(\"HG002 Ratio (DYZ1/DYZ2): \"+str(5717/5219))\n",
    "print(\"HG01890 Ratio (DYZ1/DYZ2): \"+str(3124/2661))\n",
    "print(\"HG02666 Ratio (DYZ1/DYZ2): \"+str(4771/3645))\n",
    "print(\"HG01106 Ratio (DYZ1/DYZ2): \"+str(5910/6681))"
   ]
  },
  {
   "cell_type": "code",
   "execution_count": 6,
   "id": "5e9eff4b",
   "metadata": {},
   "outputs": [],
   "source": [
    "unitData = [['HG01890',3124, 'DYZ1'],\n",
    "            ['HG02666',4771, 'DYZ1'],\n",
    "            ['HG01106',5910, 'DYZ1'],\n",
    "            ['HG002',5717, 'DYZ1'],\n",
    "            ['HG02011',4289, 'DYZ1'],\n",
    "            ['HG00358',5436, 'DYZ1'],\n",
    "            ['HG01952',3580, 'DYZ1'],\n",
    "            ['HG01890',2661, 'DYZ2'],\n",
    "            ['HG02666',3645, 'DYZ2'],\n",
    "            ['HG01106',6681, 'DYZ2'],\n",
    "            ['HG002',5219, 'DYZ2'],\n",
    "            ['HG02011',3231, 'DYZ2'],\n",
    "            ['HG00358',5219, 'DYZ2'],\n",
    "            ['HG01952',4000, 'DYZ2']\n",
    "]\n",
    "tempDF = pd.DataFrame(data=unitData, columns=['Sample Name', 'Total Repeats', 'Repeat'])"
   ]
  },
  {
   "cell_type": "code",
   "execution_count": 18,
   "id": "109f570c",
   "metadata": {},
   "outputs": [
    {
     "data": {
      "text/plain": [
       "32827"
      ]
     },
     "execution_count": 18,
     "metadata": {},
     "output_type": "execute_result"
    }
   ],
   "source": [
    "np.sum(tempDF[tempDF['Repeat']=='DYZ1']['Total Repeats'])"
   ]
  },
  {
   "cell_type": "code",
   "execution_count": 19,
   "id": "170ca2c8",
   "metadata": {},
   "outputs": [
    {
     "data": {
      "text/plain": [
       "30656"
      ]
     },
     "execution_count": 19,
     "metadata": {},
     "output_type": "execute_result"
    }
   ],
   "source": [
    "np.sum(tempDF[tempDF['Repeat']=='DYZ2']['Total Repeats'])"
   ]
  },
  {
   "cell_type": "code",
   "execution_count": 14,
   "id": "2badfbeb",
   "metadata": {},
   "outputs": [
    {
     "data": {
      "image/png": "[encoded data removed]",
      "text/plain": [
       "<Figure size 1200x800 with 1 Axes>"
      ]
     },
     "metadata": {},
     "output_type": "display_data"
    }
   ],
   "source": [
    "from matplotlib import rcParams\n",
    "plt.rcParams.update(plt.rcParamsDefault)\n",
    "rcParams['figure.figsize'] = 12,8\n",
    "sampleList = ['HG01890', 'HG00358','HG01106','HG02011','HG002','HG02666','HG01952']\n",
    "ax = sns.barplot(x=\"Sample Name\", y=\"Total Repeats\", hue=\"Repeat\", data=tempDF.set_index(\"Sample Name\").loc[sampleList].reset_index())\n",
    "handles, labels = plt.gca().get_legend_handles_labels()\n",
    "order = [1,0]\n",
    "plt.legend([handles[idx] for idx in order],[labels[idx] for idx in order], title='Block Type', loc='center left', bbox_to_anchor=(1, 0.95)) \n",
    "plt.ylabel(\"Total Subunits\")\n",
    "plt.title(\"Total DZY1 and DYZ2 Repeats Within the Yq12\")\n",
    "for container in ax.containers:\n",
    "    ax.bar_label(container)\n",
    "#plt.savefig(\"/home/mark/Desktop/chromosome_y/Images/Yq12_totalUnits.jpg\", dpi=300, bbox_inches='tight')\n",
    "#plt.savefig(\"/home/mark/Desktop/chromosome_y/Images/Yq12_totalUnits.pdf\", dpi=300, bbox_inches='tight')\n",
    "plt.show()"
   ]
  },
  {
   "cell_type": "code",
   "execution_count": null,
   "id": "8a93677e",
   "metadata": {},
   "outputs": [],
   "source": []
  }
 ],
 "metadata": {
  "kernelspec": {
   "display_name": "Python 3 (ipykernel)",
   "language": "python",
   "name": "python3"
  },
  "language_info": {
   "codemirror_mode": {
    "name": "ipython",
    "version": 3
   },
   "file_extension": ".py",
   "mimetype": "text/x-python",
   "name": "python",
   "nbconvert_exporter": "python",
   "pygments_lexer": "ipython3",
   "version": "3.9.12"
  }
 },
 "nbformat": 4,
 "nbformat_minor": 5
}
