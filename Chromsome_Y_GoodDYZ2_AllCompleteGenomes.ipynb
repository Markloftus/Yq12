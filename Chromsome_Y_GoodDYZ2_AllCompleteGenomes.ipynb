{
 "cells": [
  {
   "cell_type": "code",
   "execution_count": 1,
   "id": "83d817a8",
   "metadata": {},
   "outputs": [],
   "source": [
    "%matplotlib inline\n",
    "import pandas as pd\n",
    "#import pandas.util.testing as pd\n",
    "import matplotlib.pyplot as plt\n",
    "import numpy as np\n",
    "import itertools\n",
    "import seaborn as sns\n",
    "from os import walk\n",
    "from tqdm import tqdm"
   ]
  },
  {
   "cell_type": "code",
   "execution_count": 2,
   "id": "2dfb5683",
   "metadata": {},
   "outputs": [],
   "source": [
    "HG02011 = pd.read_csv(\"/home/mark/Desktop/chromosome_y/DYZ2_Coordinates/Dataframes/HG02011_goodDYZ2.csv\")\n",
    "T2T = pd.read_csv(\"/home/mark/Desktop/chromosome_y/DYZ2_Coordinates/Dataframes/T2T_goodDYZ2.csv\")\n",
    "HC02666 = pd.read_csv(\"/home/mark/Desktop/chromosome_y/DYZ2_Coordinates/Dataframes/HC02666_goodDYZ2.csv\")\n",
    "HG00358 = pd.read_csv(\"/home/mark/Desktop/chromosome_y/DYZ2_Coordinates/Dataframes/HG00358_goodDYZ2.csv\")\n",
    "HG01106 = pd.read_csv(\"/home/mark/Desktop/chromosome_y/DYZ2_Coordinates/Dataframes/HG01106_goodDYZ2.csv\")\n",
    "HG01890 = pd.read_csv(\"/home/mark/Desktop/chromosome_y/DYZ2_Coordinates/Dataframes/HG01890_goodDYZ2.csv\")\n",
    "HG01952 = pd.read_csv(\"/home/mark/Desktop/chromosome_y/DYZ2_Coordinates/Dataframes/HG01952_goodDYZ2.csv\")"
   ]
  },
  {
   "cell_type": "code",
   "execution_count": 26,
   "id": "fb7a9609",
   "metadata": {},
   "outputs": [
    {
     "data": {
      "text/html": [
       "<div>\n",
       "<style scoped>\n",
       "    .dataframe tbody tr th:only-of-type {\n",
       "        vertical-align: middle;\n",
       "    }\n",
       "\n",
       "    .dataframe tbody tr th {\n",
       "        vertical-align: top;\n",
       "    }\n",
       "\n",
       "    .dataframe thead th {\n",
       "        text-align: right;\n",
       "    }\n",
       "</style>\n",
       "<table border=\"1\" class=\"dataframe\">\n",
       "  <thead>\n",
       "    <tr style=\"text-align: right;\">\n",
       "      <th></th>\n",
       "      <th>Alu</th>\n",
       "      <th>RepeatBlock</th>\n",
       "      <th>Lengths</th>\n",
       "      <th>Group</th>\n",
       "      <th>Block_Size</th>\n",
       "      <th>KMode_cluster</th>\n",
       "      <th>SNP_Color</th>\n",
       "    </tr>\n",
       "  </thead>\n",
       "  <tbody>\n",
       "    <tr>\n",
       "      <th>0</th>\n",
       "      <td>C_AluY_18150388-18150679</td>\n",
       "      <td>0</td>\n",
       "      <td>2214</td>\n",
       "      <td>['44615 372 23.9 3.5 3.9 chrY.09-24.01.HET1_ce...</td>\n",
       "      <td>2000-2999</td>\n",
       "      <td>#4169e1</td>\n",
       "      <td>#332288</td>\n",
       "    </tr>\n",
       "    <tr>\n",
       "      <th>1</th>\n",
       "      <td>C_AluY_18152810-18153098</td>\n",
       "      <td>0</td>\n",
       "      <td>2411</td>\n",
       "      <td>['44618 414 24.2 3.9 3.7 chrY.09-24.01.HET1_ce...</td>\n",
       "      <td>2000-2999</td>\n",
       "      <td>#4169e1</td>\n",
       "      <td>#332288</td>\n",
       "    </tr>\n",
       "    <tr>\n",
       "      <th>2</th>\n",
       "      <td>C_AluY_18155225-18155516</td>\n",
       "      <td>0</td>\n",
       "      <td>2411</td>\n",
       "      <td>['44621 410 24.2 3.9 3.8 chrY.09-24.01.HET1_ce...</td>\n",
       "      <td>2000-2999</td>\n",
       "      <td>#4169e1</td>\n",
       "      <td>#332288</td>\n",
       "    </tr>\n",
       "    <tr>\n",
       "      <th>3</th>\n",
       "      <td>C_AluY_18157634-18157921</td>\n",
       "      <td>0</td>\n",
       "      <td>2402</td>\n",
       "      <td>['44624 376 27.0 2.9 3.9 chrY.09-24.01.HET1_ce...</td>\n",
       "      <td>2000-2999</td>\n",
       "      <td>#4169e1</td>\n",
       "      <td>#332288</td>\n",
       "    </tr>\n",
       "    <tr>\n",
       "      <th>4</th>\n",
       "      <td>C_AluY_18160046-18160334</td>\n",
       "      <td>0</td>\n",
       "      <td>2402</td>\n",
       "      <td>['44627 354 20.9 8.6 3.0 chrY.09-24.01.HET1_ce...</td>\n",
       "      <td>2000-2999</td>\n",
       "      <td>#4169e1</td>\n",
       "      <td>#332288</td>\n",
       "    </tr>\n",
       "    <tr>\n",
       "      <th>...</th>\n",
       "      <td>...</td>\n",
       "      <td>...</td>\n",
       "      <td>...</td>\n",
       "      <td>...</td>\n",
       "      <td>...</td>\n",
       "      <td>...</td>\n",
       "      <td>...</td>\n",
       "    </tr>\n",
       "    <tr>\n",
       "      <th>3222</th>\n",
       "      <td>C_AluY_40173323-40173614</td>\n",
       "      <td>27</td>\n",
       "      <td>2396</td>\n",
       "      <td>['62249 416 24.2 2.9 4.2 chrY.09-24.01.HET1_ce...</td>\n",
       "      <td>2000-2999</td>\n",
       "      <td>#4169e1</td>\n",
       "      <td>#332288</td>\n",
       "    </tr>\n",
       "    <tr>\n",
       "      <th>3223</th>\n",
       "      <td>C_AluY_40175715-40176006</td>\n",
       "      <td>27</td>\n",
       "      <td>2393</td>\n",
       "      <td>['62254 428 23.8 4.1 3.2 chrY.09-24.01.HET1_ce...</td>\n",
       "      <td>2000-2999</td>\n",
       "      <td>#4169e1</td>\n",
       "      <td>#332288</td>\n",
       "    </tr>\n",
       "    <tr>\n",
       "      <th>3224</th>\n",
       "      <td>C_AluY_40178110-40178401</td>\n",
       "      <td>27</td>\n",
       "      <td>2393</td>\n",
       "      <td>['62257 438 23.9 2.7 4.3 chrY.09-24.01.HET1_ce...</td>\n",
       "      <td>2000-2999</td>\n",
       "      <td>#4169e1</td>\n",
       "      <td>#332288</td>\n",
       "    </tr>\n",
       "    <tr>\n",
       "      <th>3225</th>\n",
       "      <td>C_AluY_40180490-40180781</td>\n",
       "      <td>27</td>\n",
       "      <td>2377</td>\n",
       "      <td>['62260 440 23.6 3.7 3.3 chrY.09-24.01.HET1_ce...</td>\n",
       "      <td>2000-2999</td>\n",
       "      <td>#4169e1</td>\n",
       "      <td>#332288</td>\n",
       "    </tr>\n",
       "    <tr>\n",
       "      <th>3226</th>\n",
       "      <td>C_AluY_40182879-40183169</td>\n",
       "      <td>27</td>\n",
       "      <td>2389</td>\n",
       "      <td>['62263 420 23.4 3.3 4.2 chrY.09-24.01.HET1_ce...</td>\n",
       "      <td>2000-2999</td>\n",
       "      <td>#4169e1</td>\n",
       "      <td>#332288</td>\n",
       "    </tr>\n",
       "  </tbody>\n",
       "</table>\n",
       "<p>3227 rows × 7 columns</p>\n",
       "</div>"
      ],
      "text/plain": [
       "                           Alu  RepeatBlock  Lengths  \\\n",
       "0     C_AluY_18150388-18150679            0     2214   \n",
       "1     C_AluY_18152810-18153098            0     2411   \n",
       "2     C_AluY_18155225-18155516            0     2411   \n",
       "3     C_AluY_18157634-18157921            0     2402   \n",
       "4     C_AluY_18160046-18160334            0     2402   \n",
       "...                        ...          ...      ...   \n",
       "3222  C_AluY_40173323-40173614           27     2396   \n",
       "3223  C_AluY_40175715-40176006           27     2393   \n",
       "3224  C_AluY_40178110-40178401           27     2393   \n",
       "3225  C_AluY_40180490-40180781           27     2377   \n",
       "3226  C_AluY_40182879-40183169           27     2389   \n",
       "\n",
       "                                                  Group Block_Size  \\\n",
       "0     ['44615 372 23.9 3.5 3.9 chrY.09-24.01.HET1_ce...  2000-2999   \n",
       "1     ['44618 414 24.2 3.9 3.7 chrY.09-24.01.HET1_ce...  2000-2999   \n",
       "2     ['44621 410 24.2 3.9 3.8 chrY.09-24.01.HET1_ce...  2000-2999   \n",
       "3     ['44624 376 27.0 2.9 3.9 chrY.09-24.01.HET1_ce...  2000-2999   \n",
       "4     ['44627 354 20.9 8.6 3.0 chrY.09-24.01.HET1_ce...  2000-2999   \n",
       "...                                                 ...        ...   \n",
       "3222  ['62249 416 24.2 2.9 4.2 chrY.09-24.01.HET1_ce...  2000-2999   \n",
       "3223  ['62254 428 23.8 4.1 3.2 chrY.09-24.01.HET1_ce...  2000-2999   \n",
       "3224  ['62257 438 23.9 2.7 4.3 chrY.09-24.01.HET1_ce...  2000-2999   \n",
       "3225  ['62260 440 23.6 3.7 3.3 chrY.09-24.01.HET1_ce...  2000-2999   \n",
       "3226  ['62263 420 23.4 3.3 4.2 chrY.09-24.01.HET1_ce...  2000-2999   \n",
       "\n",
       "     KMode_cluster SNP_Color  \n",
       "0          #4169e1   #332288  \n",
       "1          #4169e1   #332288  \n",
       "2          #4169e1   #332288  \n",
       "3          #4169e1   #332288  \n",
       "4          #4169e1   #332288  \n",
       "...            ...       ...  \n",
       "3222       #4169e1   #332288  \n",
       "3223       #4169e1   #332288  \n",
       "3224       #4169e1   #332288  \n",
       "3225       #4169e1   #332288  \n",
       "3226       #4169e1   #332288  \n",
       "\n",
       "[3227 rows x 7 columns]"
      ]
     },
     "execution_count": 26,
     "metadata": {},
     "output_type": "execute_result"
    }
   ],
   "source": [
    "HG02011"
   ]
  },
  {
   "cell_type": "code",
   "execution_count": 3,
   "id": "1b9941ab",
   "metadata": {},
   "outputs": [],
   "source": [
    "AllSamplesDYZ2 = list(HG02011['Lengths'])+list(T2T['Lengths'])+list(HC02666['Lengths'])+list(HG00358['Lengths'])+list(HG01106['Lengths'])+list(HG01890['Lengths'])+list(HG01952['Lengths'])"
   ]
  },
  {
   "cell_type": "code",
   "execution_count": 4,
   "id": "8706919a",
   "metadata": {},
   "outputs": [
    {
     "data": {
      "text/plain": [
       "2413.0"
      ]
     },
     "execution_count": 4,
     "metadata": {},
     "output_type": "execute_result"
    }
   ],
   "source": [
    "np.median(AllSamplesDYZ2)"
   ]
  },
  {
   "cell_type": "code",
   "execution_count": 5,
   "id": "f1f8b48e",
   "metadata": {},
   "outputs": [
    {
     "data": {
      "text/plain": [
       "738"
      ]
     },
     "execution_count": 5,
     "metadata": {},
     "output_type": "execute_result"
    }
   ],
   "source": [
    "min(AllSamplesDYZ2)"
   ]
  },
  {
   "cell_type": "code",
   "execution_count": 6,
   "id": "069e4f09",
   "metadata": {},
   "outputs": [
    {
     "data": {
      "text/plain": [
       "3719"
      ]
     },
     "execution_count": 6,
     "metadata": {},
     "output_type": "execute_result"
    }
   ],
   "source": [
    "max(AllSamplesDYZ2)"
   ]
  },
  {
   "cell_type": "code",
   "execution_count": 7,
   "id": "0b28c7d8",
   "metadata": {},
   "outputs": [
    {
     "data": {
      "text/plain": [
       "31280"
      ]
     },
     "execution_count": 7,
     "metadata": {},
     "output_type": "execute_result"
    }
   ],
   "source": [
    "len(AllSamplesDYZ2)"
   ]
  },
  {
   "cell_type": "code",
   "execution_count": 8,
   "id": "4f4b2e15",
   "metadata": {},
   "outputs": [
    {
     "data": {
      "text/plain": [
       "(array([6.0000e+00, 1.0000e+00, 1.8400e+02, 1.5000e+01, 5.1000e+01,\n",
       "        3.0866e+04, 6.1000e+01, 4.0000e+00, 4.0000e+00, 8.8000e+01]),\n",
       " array([ 738. , 1036.1, 1334.2, 1632.3, 1930.4, 2228.5, 2526.6, 2824.7,\n",
       "        3122.8, 3420.9, 3719. ]),\n",
       " <BarContainer object of 10 artists>)"
      ]
     },
     "execution_count": 8,
     "metadata": {},
     "output_type": "execute_result"
    },
    {
     "data": {
      "image/png": "[encoded data removed]",
      "text/plain": [
       "<Figure size 432x288 with 1 Axes>"
      ]
     },
     "metadata": {
      "needs_background": "light"
     },
     "output_type": "display_data"
    }
   ],
   "source": [
    "plt.hist(AllSamplesDYZ2, log=True, bins=10)"
   ]
  },
  {
   "cell_type": "code",
   "execution_count": 9,
   "id": "03eec7c2",
   "metadata": {},
   "outputs": [],
   "source": [
    "k2List = []\n",
    "for x in AllSamplesDYZ2:\n",
    "    if x >=2000 and x<= 2999:\n",
    "        k2List.append(x)"
   ]
  },
  {
   "cell_type": "code",
   "execution_count": 24,
   "id": "fa9f5d06",
   "metadata": {},
   "outputs": [],
   "source": [
    "k2List = []\n",
    "for x in AllSamplesDYZ2:\n",
    "    if x ==2413:\n",
    "        k2List.append(x)"
   ]
  },
  {
   "cell_type": "code",
   "execution_count": 10,
   "id": "d8f7eb92",
   "metadata": {},
   "outputs": [
    {
     "data": {
      "text/plain": [
       "0.9891624040920716"
      ]
     },
     "execution_count": 10,
     "metadata": {},
     "output_type": "execute_result"
    }
   ],
   "source": [
    "len(k2List)/31280"
   ]
  },
  {
   "cell_type": "code",
   "execution_count": 12,
   "id": "61c79141",
   "metadata": {},
   "outputs": [],
   "source": [
    "#Alu sizes:\n",
    "def findSubUnitSizes(df):\n",
    "    simpleRepeat =[]\n",
    "    Alu = []\n",
    "    Satellite = []\n",
    "    for row in df.index:\n",
    "        for unit in ast.literal_eval(df.at[row, 'Group']):\n",
    "            if 'Simple_repeat' in unit:\n",
    "                simpleRepeat.append(int(unit.split(\" \")[7])-int(unit.split(\" \")[6]))\n",
    "            elif 'SINE/Alu' in unit:\n",
    "                Alu.append(int(unit.split(\" \")[7])-int(unit.split(\" \")[6]))\n",
    "            elif 'HSATI' in unit:\n",
    "                Satellite.append(int(unit.split(\" \")[7])-int(unit.split(\" \")[6]))\n",
    "                \n",
    "            else:\n",
    "                continue\n",
    "    return (simpleRepeat, Alu, Satellite)"
   ]
  },
  {
   "cell_type": "code",
   "execution_count": 13,
   "id": "29bd5881",
   "metadata": {},
   "outputs": [],
   "source": [
    "#Alu sizes:\n",
    "def findSubUnitSizes_2(df):\n",
    "    simpleRepeat =[]\n",
    "    Alu = []\n",
    "    Satellite = []\n",
    "    for row in df.index:\n",
    "        for unit in ast.literal_eval(df.at[row, 'Group']):\n",
    "            if 'Simple_repeat' in unit:\n",
    "                simpleRepeat.append(int(unit.split(\" \")[6])-int(unit.split(\" \")[5]))\n",
    "            elif 'SINE/Alu' in unit:\n",
    "                Alu.append(int(unit.split(\" \")[6])-int(unit.split(\" \")[5]))\n",
    "            elif 'HSATI' in unit:\n",
    "                Satellite.append(int(unit.split(\" \")[6])-int(unit.split(\" \")[5]))\n",
    "                \n",
    "            else:\n",
    "                continue\n",
    "    return (simpleRepeat, Alu, Satellite)"
   ]
  },
  {
   "cell_type": "code",
   "execution_count": 14,
   "id": "778d1de1",
   "metadata": {},
   "outputs": [],
   "source": [
    "HG02011_SR, HG02011_Alu, HG02011_sat = findSubUnitSizes(HG02011)"
   ]
  },
  {
   "cell_type": "code",
   "execution_count": 15,
   "id": "482dee7c",
   "metadata": {},
   "outputs": [],
   "source": [
    "HC02666_SR, HC02666_Alu, HC02666_sat = findSubUnitSizes(HC02666)"
   ]
  },
  {
   "cell_type": "code",
   "execution_count": 16,
   "id": "b3419aaa",
   "metadata": {},
   "outputs": [],
   "source": [
    "HG00358_SR, HG00358_Alu, HG00358_sat = findSubUnitSizes(HG00358)"
   ]
  },
  {
   "cell_type": "code",
   "execution_count": 17,
   "id": "f5413f43",
   "metadata": {},
   "outputs": [],
   "source": [
    "HG01106_SR, HG01106_Alu, HG01106_sat = findSubUnitSizes(HG01106)"
   ]
  },
  {
   "cell_type": "code",
   "execution_count": 18,
   "id": "6b7bfdb1",
   "metadata": {},
   "outputs": [],
   "source": [
    "HG01890_SR, HG01890_Alu, HG01890_sat = findSubUnitSizes(HG01890)"
   ]
  },
  {
   "cell_type": "code",
   "execution_count": 19,
   "id": "3b2740a7",
   "metadata": {},
   "outputs": [],
   "source": [
    "HG01952_SR, HG01952_Alu, HG01952_sat = findSubUnitSizes(HG01952)"
   ]
  },
  {
   "cell_type": "code",
   "execution_count": 20,
   "id": "b229dfa8",
   "metadata": {},
   "outputs": [],
   "source": [
    "T2T_SR, T2T_Alu, T2T_sat = findSubUnitSizes_2(T2T)"
   ]
  },
  {
   "cell_type": "code",
   "execution_count": 21,
   "id": "e2952086",
   "metadata": {},
   "outputs": [],
   "source": [
    "allSimpleRepeat = HG02011_SR+HC02666_SR+HG00358_SR+HG01106_SR+HG01890_SR+HG01952_SR+T2T_SR"
   ]
  },
  {
   "cell_type": "code",
   "execution_count": 22,
   "id": "6e8651bc",
   "metadata": {},
   "outputs": [],
   "source": [
    "allAlu = HG02011_Alu+HC02666_Alu+HG00358_Alu+HG01106_Alu+HG01890_Alu+HG01952_Alu+T2T_Alu"
   ]
  },
  {
   "cell_type": "code",
   "execution_count": 23,
   "id": "abbe7553",
   "metadata": {},
   "outputs": [],
   "source": [
    "allSatellite = HG02011_sat+HC02666_sat+HG00358_sat+HG01106_sat+HG01890_sat+HG01952_sat+T2T_sat"
   ]
  },
  {
   "cell_type": "code",
   "execution_count": 39,
   "id": "03dcc4d6",
   "metadata": {},
   "outputs": [
    {
     "name": "stdout",
     "output_type": "stream",
     "text": [
      "290.86636828644504\n"
     ]
    }
   ],
   "source": [
    "print(np.mean(allAlu))"
   ]
  },
  {
   "cell_type": "code",
   "execution_count": 40,
   "id": "d4b6f7a8",
   "metadata": {},
   "outputs": [
    {
     "name": "stdout",
     "output_type": "stream",
     "text": [
      "291.0\n"
     ]
    }
   ],
   "source": [
    "print(np.median(allAlu))"
   ]
  },
  {
   "cell_type": "code",
   "execution_count": 41,
   "id": "29950de4",
   "metadata": {},
   "outputs": [
    {
     "name": "stdout",
     "output_type": "stream",
     "text": [
      "2.0659632005934974\n"
     ]
    }
   ],
   "source": [
    "print(np.std(allAlu))"
   ]
  },
  {
   "cell_type": "code",
   "execution_count": 44,
   "id": "748317d3",
   "metadata": {},
   "outputs": [
    {
     "data": {
      "text/plain": [
       "0.006872852233676976"
      ]
     },
     "execution_count": 44,
     "metadata": {},
     "output_type": "execute_result"
    }
   ],
   "source": [
    "2/291"
   ]
  },
  {
   "cell_type": "code",
   "execution_count": 34,
   "id": "7de0c6dd",
   "metadata": {},
   "outputs": [
    {
     "name": "stdout",
     "output_type": "stream",
     "text": [
      "1414.8584068212347\n"
     ]
    }
   ],
   "source": [
    "print(np.mean(allSimpleRepeat))"
   ]
  },
  {
   "cell_type": "code",
   "execution_count": 43,
   "id": "b325b4b5",
   "metadata": {},
   "outputs": [
    {
     "data": {
      "text/plain": [
       "0.2706713780918728"
      ]
     },
     "execution_count": 43,
     "metadata": {},
     "output_type": "execute_result"
    }
   ],
   "source": [
    "383/1415"
   ]
  },
  {
   "cell_type": "code",
   "execution_count": 38,
   "id": "5474f86b",
   "metadata": {},
   "outputs": [
    {
     "name": "stdout",
     "output_type": "stream",
     "text": [
      "1551.0\n"
     ]
    }
   ],
   "source": [
    "print(np.median(allSimpleRepeat))"
   ]
  },
  {
   "cell_type": "code",
   "execution_count": 37,
   "id": "13c71cc3",
   "metadata": {},
   "outputs": [
    {
     "name": "stdout",
     "output_type": "stream",
     "text": [
      "383.2166134149869\n"
     ]
    }
   ],
   "source": [
    "print(np.std(allSimpleRepeat))"
   ]
  },
  {
   "cell_type": "code",
   "execution_count": 45,
   "id": "14d7ecdf",
   "metadata": {},
   "outputs": [
    {
     "name": "stdout",
     "output_type": "stream",
     "text": [
      "566.3004475703325\n"
     ]
    }
   ],
   "source": [
    "print(np.mean(allSatellite))"
   ]
  },
  {
   "cell_type": "code",
   "execution_count": 26,
   "id": "22147d8d",
   "metadata": {},
   "outputs": [
    {
     "name": "stdout",
     "output_type": "stream",
     "text": [
      "567.0\n"
     ]
    }
   ],
   "source": [
    "print(np.median(allSatellite))"
   ]
  },
  {
   "cell_type": "code",
   "execution_count": 46,
   "id": "3a9a958b",
   "metadata": {},
   "outputs": [
    {
     "name": "stdout",
     "output_type": "stream",
     "text": [
      "15.674221340578304\n"
     ]
    }
   ],
   "source": [
    "print(np.std(allSatellite))"
   ]
  },
  {
   "cell_type": "code",
   "execution_count": 47,
   "id": "c1f86dff",
   "metadata": {},
   "outputs": [
    {
     "data": {
      "text/plain": [
       "0.028268551236749116"
      ]
     },
     "execution_count": 47,
     "metadata": {},
     "output_type": "execute_result"
    }
   ],
   "source": [
    "16/566"
   ]
  },
  {
   "cell_type": "code",
   "execution_count": 27,
   "id": "6e7ce603",
   "metadata": {},
   "outputs": [
    {
     "data": {
      "text/plain": [
       "2409"
      ]
     },
     "execution_count": 27,
     "metadata": {},
     "output_type": "execute_result"
    }
   ],
   "source": [
    "291+1551+567"
   ]
  },
  {
   "cell_type": "code",
   "execution_count": null,
   "id": "a237396d",
   "metadata": {},
   "outputs": [],
   "source": []
  }
 ],
 "metadata": {
  "kernelspec": {
   "display_name": "Python 3 (ipykernel)",
   "language": "python",
   "name": "python3"
  },
  "language_info": {
   "codemirror_mode": {
    "name": "ipython",
    "version": 3
   },
   "file_extension": ".py",
   "mimetype": "text/x-python",
   "name": "python",
   "nbconvert_exporter": "python",
   "pygments_lexer": "ipython3",
   "version": "3.9.12"
  }
 },
 "nbformat": 4,
 "nbformat_minor": 5
}
