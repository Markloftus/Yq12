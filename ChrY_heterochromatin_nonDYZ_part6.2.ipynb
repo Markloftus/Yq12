{
 "cells": [
  {
   "cell_type": "code",
   "execution_count": 1,
   "id": "d9edad20",
   "metadata": {},
   "outputs": [],
   "source": [
    "%matplotlib inline\n",
    "import pandas as pd\n",
    "import matplotlib.pyplot as plt\n",
    "import numpy as np\n",
    "import itertools\n",
    "import seaborn as sns\n",
    "from os import walk\n",
    "from tqdm import tqdm\n",
    "import ast"
   ]
  },
  {
   "cell_type": "code",
   "execution_count": 2,
   "id": "df2c8c60",
   "metadata": {},
   "outputs": [],
   "source": [
    "HG00358 = pd.read_csv(\"/home/mark/Desktop/chromosome_y/Dataframes/HG00358/HG00358_rbDF2_Kmode.csv\").set_index(\"Alu\")\n",
    "HC02666 = pd.read_csv(\"/home/mark/Desktop/chromosome_y/Dataframes/HC02666/HC02666_rbDF2_Kmode.csv\").set_index(\"Alu\")\n",
    "HG01890 = pd.read_csv(\"/home/mark/Desktop/chromosome_y/Dataframes/HG01890/HG01890_rbDF2_Kmode.csv\").set_index(\"Alu\")\n",
    "HG01952 = pd.read_csv(\"/home/mark/Desktop/chromosome_y/Dataframes/HG01952/HG01952_rbDF2_Kmode.csv\").set_index(\"Alu\")\n",
    "HG02011 = pd.read_csv(\"/home/mark/Desktop/chromosome_y/Dataframes/HG02011/HG02011_rbDF2_Kmode.csv\").set_index(\"Alu\")\n",
    "HG01106 = pd.read_csv(\"/home/mark/Desktop/chromosome_y/Dataframes/HG01106/HG01106_rbDF2_Kmode.csv\").set_index(\"Alu\")\n",
    "T2T = pd.read_csv(\"/home/mark/Desktop/chromosome_y/Dataframes/T2T/T2T_rbDF2_Kmode.csv\").set_index(\"Alu\")"
   ]
  },
  {
   "cell_type": "code",
   "execution_count": 5,
   "id": "7379eb6c",
   "metadata": {},
   "outputs": [
    {
     "name": "stdout",
     "output_type": "stream",
     "text": [
      "ERROR\n",
      "56198 981 26.0 2.8 9.3 chrY.01-24.01.PAR1-PAR2.RV.utig4-384.HG01890 41972972 41973260 4434644 False SVA_A Retroposon/SVA 57 326 1061 46925 True\n",
      "ERROR\n",
      "56200 981 26.0 2.8 9.3 chrY.01-24.01.PAR1-PAR2.RV.utig4-384.HG01890 41973292 41973434 4434470 False SVA_A Retroposon/SVA 327 463 924 46925 False\n",
      "ERROR\n",
      "56217 911 26.8 2.8 9.3 chrY.01-24.01.PAR1-PAR2.RV.utig4-384.HG01890 41985373 41985661 4422243 False SVA_A Retroposon/SVA 57 326 1061 46943 True\n",
      "ERROR\n",
      "56219 911 26.8 2.8 9.3 chrY.01-24.01.PAR1-PAR2.RV.utig4-384.HG01890 41985703 41985845 4422059 False SVA_A Retroposon/SVA 327 463 924 46943 False\n"
     ]
    }
   ],
   "source": [
    "allSamplesDF = pd.read_csv(\"/home/mark/Desktop/chromosome_y/Dataframes/AllSamples_nonDYZ_AluBlocks.csv\").set_index(\"Alu\")\n",
    "allSamplesDF['Color']='black'\n",
    "\n",
    "for row in allSamplesDF.index:\n",
    "    simp = 0\n",
    "    sat = 0 \n",
    "    alu = 0\n",
    "    for repeat in ast.literal_eval(allSamplesDF.at[row,'Group']):\n",
    "        if 'Simple_repeat' in repeat:\n",
    "            simp+=1\n",
    "        elif \"SINE/Alu\" in repeat:\n",
    "            alu+=1\n",
    "        elif 'Satellite' in repeat:\n",
    "            sat+=1\n",
    "            \n",
    "        else:\n",
    "            print(\"ERROR\")\n",
    "            print(repeat)\n",
    "            \n",
    "    if simp >0 and sat == 0:\n",
    "        allSamplesDF.at[row, 'Color'] = 'red'\n",
    "        \n",
    "    elif sat >0 and simp ==0:\n",
    "        allSamplesDF.at[row, 'Color'] = 'cyan'\n",
    "    else:\n",
    "        print(\"ERROR\")"
   ]
  },
  {
   "cell_type": "code",
   "execution_count": 6,
   "id": "c2f119a2",
   "metadata": {},
   "outputs": [
    {
     "data": {
      "text/html": [
       "<div>\n",
       "<style scoped>\n",
       "    .dataframe tbody tr th:only-of-type {\n",
       "        vertical-align: middle;\n",
       "    }\n",
       "\n",
       "    .dataframe tbody tr th {\n",
       "        vertical-align: top;\n",
       "    }\n",
       "\n",
       "    .dataframe thead th {\n",
       "        text-align: right;\n",
       "    }\n",
       "</style>\n",
       "<table border=\"1\" class=\"dataframe\">\n",
       "  <thead>\n",
       "    <tr style=\"text-align: right;\">\n",
       "      <th></th>\n",
       "      <th>RepeatBlock</th>\n",
       "      <th>Lengths</th>\n",
       "      <th>Group</th>\n",
       "      <th>Block_Size</th>\n",
       "      <th>SampleName</th>\n",
       "      <th>Divergence</th>\n",
       "      <th>Color</th>\n",
       "    </tr>\n",
       "    <tr>\n",
       "      <th>Alu</th>\n",
       "      <th></th>\n",
       "      <th></th>\n",
       "      <th></th>\n",
       "      <th></th>\n",
       "      <th></th>\n",
       "      <th></th>\n",
       "      <th></th>\n",
       "    </tr>\n",
       "  </thead>\n",
       "  <tbody>\n",
       "    <tr>\n",
       "      <th>C_AluY_27665535-27665797</th>\n",
       "      <td>0</td>\n",
       "      <td>3404</td>\n",
       "      <td>['42459 296 27.6 5.4 3.1 chrY.01-24.01.PAR1-PA...</td>\n",
       "      <td>3000-3999</td>\n",
       "      <td>HG00358</td>\n",
       "      <td>20.6</td>\n",
       "      <td>red</td>\n",
       "    </tr>\n",
       "    <tr>\n",
       "      <th>C_AluY_33365187-33365516</th>\n",
       "      <td>8</td>\n",
       "      <td>759</td>\n",
       "      <td>['46098 2317 2.9 0.1 0.1 chrY.01-24.01.PAR1-PA...</td>\n",
       "      <td>&lt;999</td>\n",
       "      <td>HG00358</td>\n",
       "      <td>2.9</td>\n",
       "      <td>cyan</td>\n",
       "    </tr>\n",
       "    <tr>\n",
       "      <th>C_AluY_46433143-46433466</th>\n",
       "      <td>22</td>\n",
       "      <td>763</td>\n",
       "      <td>['57100 2346 3.0 0.0 1.0 chrY.01-24.01.PAR1-PA...</td>\n",
       "      <td>&lt;999</td>\n",
       "      <td>HG00358</td>\n",
       "      <td>3.0</td>\n",
       "      <td>cyan</td>\n",
       "    </tr>\n",
       "    <tr>\n",
       "      <th>C_AluY_48522389-48522712</th>\n",
       "      <td>25</td>\n",
       "      <td>763</td>\n",
       "      <td>['58899 2355 2.7 0.0 1.0 chrY.01-24.01.PAR1-PA...</td>\n",
       "      <td>&lt;999</td>\n",
       "      <td>HG00358</td>\n",
       "      <td>2.7</td>\n",
       "      <td>cyan</td>\n",
       "    </tr>\n",
       "    <tr>\n",
       "      <th>+_AluY_48626169-48626435</th>\n",
       "      <td>25</td>\n",
       "      <td>1832</td>\n",
       "      <td>['59029 415 23.1 3.6 3.9 chrY.01-24.01.PAR1-PA...</td>\n",
       "      <td>1000-1999</td>\n",
       "      <td>HG00358</td>\n",
       "      <td>0.8</td>\n",
       "      <td>red</td>\n",
       "    </tr>\n",
       "    <tr>\n",
       "      <th>...</th>\n",
       "      <td>...</td>\n",
       "      <td>...</td>\n",
       "      <td>...</td>\n",
       "      <td>...</td>\n",
       "      <td>...</td>\n",
       "      <td>...</td>\n",
       "      <td>...</td>\n",
       "    </tr>\n",
       "    <tr>\n",
       "      <th>+_AluY_32974739-32975005</th>\n",
       "      <td>19</td>\n",
       "      <td>1035</td>\n",
       "      <td>['55868 175 21.8 4.6 4.2 chrY.09-24.01.HET1_ce...</td>\n",
       "      <td>1000-1999</td>\n",
       "      <td>HG02011</td>\n",
       "      <td>0.8</td>\n",
       "      <td>red</td>\n",
       "    </tr>\n",
       "    <tr>\n",
       "      <th>C_AluY_32975111-32975401</th>\n",
       "      <td>19</td>\n",
       "      <td>858</td>\n",
       "      <td>['55871 1369 18.9 0.7 5.4 chrY.09-24.01.HET1_c...</td>\n",
       "      <td>&lt;999</td>\n",
       "      <td>HG02011</td>\n",
       "      <td>18.9</td>\n",
       "      <td>cyan</td>\n",
       "    </tr>\n",
       "    <tr>\n",
       "      <th>+_AluY_35762810-35763076</th>\n",
       "      <td>22</td>\n",
       "      <td>1034</td>\n",
       "      <td>['58417 175 21.8 4.6 4.2 chrY.09-24.01.HET1_ce...</td>\n",
       "      <td>1000-1999</td>\n",
       "      <td>HG02011</td>\n",
       "      <td>0.8</td>\n",
       "      <td>red</td>\n",
       "    </tr>\n",
       "    <tr>\n",
       "      <th>C_AluY_35763181-35763471</th>\n",
       "      <td>22</td>\n",
       "      <td>858</td>\n",
       "      <td>['58420 1346 19.2 0.7 5.4 chrY.09-24.01.HET1_c...</td>\n",
       "      <td>&lt;999</td>\n",
       "      <td>HG02011</td>\n",
       "      <td>19.2</td>\n",
       "      <td>cyan</td>\n",
       "    </tr>\n",
       "    <tr>\n",
       "      <th>+_AluY_39033956-39034234</th>\n",
       "      <td>24</td>\n",
       "      <td>2498</td>\n",
       "      <td>['61446 156 19.4 9.6 2.8 chrY.09-24.01.HET1_ce...</td>\n",
       "      <td>2000-2999</td>\n",
       "      <td>HG02011</td>\n",
       "      <td>19.4</td>\n",
       "      <td>red</td>\n",
       "    </tr>\n",
       "  </tbody>\n",
       "</table>\n",
       "<p>138 rows × 7 columns</p>\n",
       "</div>"
      ],
      "text/plain": [
       "                          RepeatBlock  Lengths  \\\n",
       "Alu                                              \n",
       "C_AluY_27665535-27665797            0     3404   \n",
       "C_AluY_33365187-33365516            8      759   \n",
       "C_AluY_46433143-46433466           22      763   \n",
       "C_AluY_48522389-48522712           25      763   \n",
       "+_AluY_48626169-48626435           25     1832   \n",
       "...                               ...      ...   \n",
       "+_AluY_32974739-32975005           19     1035   \n",
       "C_AluY_32975111-32975401           19      858   \n",
       "+_AluY_35762810-35763076           22     1034   \n",
       "C_AluY_35763181-35763471           22      858   \n",
       "+_AluY_39033956-39034234           24     2498   \n",
       "\n",
       "                                                                      Group  \\\n",
       "Alu                                                                           \n",
       "C_AluY_27665535-27665797  ['42459 296 27.6 5.4 3.1 chrY.01-24.01.PAR1-PA...   \n",
       "C_AluY_33365187-33365516  ['46098 2317 2.9 0.1 0.1 chrY.01-24.01.PAR1-PA...   \n",
       "C_AluY_46433143-46433466  ['57100 2346 3.0 0.0 1.0 chrY.01-24.01.PAR1-PA...   \n",
       "C_AluY_48522389-48522712  ['58899 2355 2.7 0.0 1.0 chrY.01-24.01.PAR1-PA...   \n",
       "+_AluY_48626169-48626435  ['59029 415 23.1 3.6 3.9 chrY.01-24.01.PAR1-PA...   \n",
       "...                                                                     ...   \n",
       "+_AluY_32974739-32975005  ['55868 175 21.8 4.6 4.2 chrY.09-24.01.HET1_ce...   \n",
       "C_AluY_32975111-32975401  ['55871 1369 18.9 0.7 5.4 chrY.09-24.01.HET1_c...   \n",
       "+_AluY_35762810-35763076  ['58417 175 21.8 4.6 4.2 chrY.09-24.01.HET1_ce...   \n",
       "C_AluY_35763181-35763471  ['58420 1346 19.2 0.7 5.4 chrY.09-24.01.HET1_c...   \n",
       "+_AluY_39033956-39034234  ['61446 156 19.4 9.6 2.8 chrY.09-24.01.HET1_ce...   \n",
       "\n",
       "                         Block_Size SampleName  Divergence Color  \n",
       "Alu                                                               \n",
       "C_AluY_27665535-27665797  3000-3999    HG00358        20.6   red  \n",
       "C_AluY_33365187-33365516       <999    HG00358         2.9  cyan  \n",
       "C_AluY_46433143-46433466       <999    HG00358         3.0  cyan  \n",
       "C_AluY_48522389-48522712       <999    HG00358         2.7  cyan  \n",
       "+_AluY_48626169-48626435  1000-1999    HG00358         0.8   red  \n",
       "...                             ...        ...         ...   ...  \n",
       "+_AluY_32974739-32975005  1000-1999    HG02011         0.8   red  \n",
       "C_AluY_32975111-32975401       <999    HG02011        18.9  cyan  \n",
       "+_AluY_35762810-35763076  1000-1999    HG02011         0.8   red  \n",
       "C_AluY_35763181-35763471       <999    HG02011        19.2  cyan  \n",
       "+_AluY_39033956-39034234  2000-2999    HG02011        19.4   red  \n",
       "\n",
       "[138 rows x 7 columns]"
      ]
     },
     "execution_count": 6,
     "metadata": {},
     "output_type": "execute_result"
    }
   ],
   "source": [
    "allSamplesDF"
   ]
  },
  {
   "cell_type": "code",
   "execution_count": 24,
   "id": "7bdf04e5",
   "metadata": {},
   "outputs": [
    {
     "data": {
      "text/plain": [
       "{'HC02666', 'HG00358', 'HG01106', 'HG01890', 'HG01952', 'HG02011', 'T2T'}"
      ]
     },
     "execution_count": 24,
     "metadata": {},
     "output_type": "execute_result"
    }
   ],
   "source": [
    "set(allSamplesDF['SampleName'])"
   ]
  },
  {
   "cell_type": "code",
   "execution_count": 4,
   "id": "2ced5f64",
   "metadata": {},
   "outputs": [],
   "source": [
    "##################################################################################################"
   ]
  },
  {
   "cell_type": "code",
   "execution_count": 22,
   "id": "4a8af99f",
   "metadata": {},
   "outputs": [],
   "source": [
    "#allSamplesDF.to_csv(\"/home/mark/Desktop/chromosome_y/Dataframes/AllSamples_nonDYZ_AluBlocks_wColor.csv\")"
   ]
  },
  {
   "cell_type": "markdown",
   "id": "1f42d7a0",
   "metadata": {},
   "source": [
    "## Export DYZ2 coordinates"
   ]
  },
  {
   "cell_type": "code",
   "execution_count": 2,
   "id": "67732542",
   "metadata": {},
   "outputs": [],
   "source": [
    "HG00358 = pd.read_csv(\"/home/mark/Desktop/chromosome_y/Dataframes/HG00358/HG00358_rbDF2_Kmode.csv\").set_index(\"Alu\")\n",
    "HC02666 = pd.read_csv(\"/home/mark/Desktop/chromosome_y/Dataframes/HC02666/HC02666_rbDF2_Kmode.csv\").set_index(\"Alu\")\n",
    "HG01890 = pd.read_csv(\"/home/mark/Desktop/chromosome_y/Dataframes/HG01890/HG01890_rbDF2_Kmode.csv\").set_index(\"Alu\")\n",
    "HG01952 = pd.read_csv(\"/home/mark/Desktop/chromosome_y/Dataframes/HG01952/HG01952_rbDF2_Kmode.csv\").set_index(\"Alu\")\n",
    "HG02011 = pd.read_csv(\"/home/mark/Desktop/chromosome_y/Dataframes/HG02011/HG02011_rbDF2_Kmode.csv\").set_index(\"Alu\")\n",
    "HG01106 = pd.read_csv(\"/home/mark/Desktop/chromosome_y/Dataframes/HG01106/HG01106_rbDF2_Kmode.csv\").set_index(\"Alu\")\n",
    "T2T = pd.read_csv(\"/home/mark/Desktop/chromosome_y/Dataframes/T2T/T2T_rbDF2_Kmode.csv\").set_index(\"Alu\")"
   ]
  },
  {
   "cell_type": "code",
   "execution_count": 25,
   "id": "f2284b58",
   "metadata": {},
   "outputs": [],
   "source": [
    "def exportDYZ2(df, filepath, samplename):\n",
    "    \n",
    "    df2 = df.copy()\n",
    "    df2['Start']='temp'\n",
    "    df2['End']='temp'\n",
    "    for row in df2.index:\n",
    "        df2.at[row,'Start']= ast.literal_eval(df2.at[row,'Group'])[0].split(\" \")[6]\n",
    "        df2.at[row,'End']= ast.literal_eval(df2.at[row,'Group'])[-1].split(\" \")[7]\n",
    "    \n",
    "    newAllSample = allSamplesDF[allSamplesDF['SampleName']==samplename].copy()\n",
    "    \n",
    "    with open(filepath, 'a+') as file:\n",
    "        file.write(\"Orientation\\tStart_Coordinate\\tEnd_Coordinate\\n\")\n",
    "        for row in df2.index:\n",
    "            if row in newAllSample.index:\n",
    "                continue\n",
    "            else:\n",
    "                if df2.at[row,'KMode_cluster'] == 'GraveYard':\n",
    "                    continue\n",
    "                else:\n",
    "                    file.write(str(row.split(\"_\")[0])+\"\\t\"+str(df2.at[row,'Start'])+\"\\t\"+str(df2.at[row,'End'])+\"\\n\")\n",
    "    file.close()"
   ]
  },
  {
   "cell_type": "code",
   "execution_count": 26,
   "id": "8c8a1f7b",
   "metadata": {},
   "outputs": [],
   "source": [
    "def exportDYZ2T2T(df, filepath, samplename):\n",
    "    \n",
    "    df2 = df.copy()\n",
    "    df2['Start']='temp'\n",
    "    df2['End']='temp'\n",
    "    for row in df2.index:\n",
    "        df2.at[row,'Start']= ast.literal_eval(df2.at[row,'Group'])[0].split(\" \")[5]\n",
    "        df2.at[row,'End']= ast.literal_eval(df2.at[row,'Group'])[-1].split(\" \")[6]\n",
    "    \n",
    "    newAllSample = allSamplesDF[allSamplesDF['SampleName']==samplename].copy()\n",
    "    \n",
    "    with open(filepath, 'a+') as file:\n",
    "        file.write(\"Orientation\\tStart_Coordinate\\tEnd_Coordinate\\n\")\n",
    "        for row in df2.index:\n",
    "            if row in newAllSample.index:\n",
    "                continue\n",
    "            else:\n",
    "                if df2.at[row,'KMode_cluster'] == 'GraveYard':\n",
    "                    continue\n",
    "                else:\n",
    "                    file.write(str(row.split(\"_\")[0])+\"\\t\"+str(df2.at[row,'Start'])+\"\\t\"+str(df2.at[row,'End'])+\"\\n\")\n",
    "    file.close()"
   ]
  },
  {
   "cell_type": "code",
   "execution_count": 37,
   "id": "ae4b081e",
   "metadata": {},
   "outputs": [],
   "source": [
    "#exportDYZ2(HG00358, '/home/mark/Desktop/chromosome_y/DYZ2_Coordinates/HG00358_DYZ2_Coordinates.txt', 'HG00358')"
   ]
  },
  {
   "cell_type": "code",
   "execution_count": 38,
   "id": "3a5ca474",
   "metadata": {},
   "outputs": [],
   "source": [
    "#exportDYZ2(HC02666, '/home/mark/Desktop/chromosome_y/DYZ2_Coordinates/HC02666_DYZ2_Coordinates.txt', 'HC02666')"
   ]
  },
  {
   "cell_type": "code",
   "execution_count": 39,
   "id": "de9ba770",
   "metadata": {},
   "outputs": [],
   "source": [
    "#exportDYZ2(HG01890, '/home/mark/Desktop/chromosome_y/DYZ2_Coordinates/HG01890_DYZ2_Coordinates.txt', 'HG01890')"
   ]
  },
  {
   "cell_type": "code",
   "execution_count": 40,
   "id": "007e0019",
   "metadata": {},
   "outputs": [],
   "source": [
    "#exportDYZ2(HG01952, '/home/mark/Desktop/chromosome_y/DYZ2_Coordinates/HG01952_DYZ2_Coordinates.txt', 'HG01952')"
   ]
  },
  {
   "cell_type": "code",
   "execution_count": 41,
   "id": "3d08311b",
   "metadata": {},
   "outputs": [],
   "source": [
    "#exportDYZ2(HG02011, '/home/mark/Desktop/chromosome_y/DYZ2_Coordinates/HG02011_DYZ2_Coordinates.txt', 'HG02011')"
   ]
  },
  {
   "cell_type": "code",
   "execution_count": 42,
   "id": "3ab021df",
   "metadata": {},
   "outputs": [],
   "source": [
    "#exportDYZ2(HG01106, '/home/mark/Desktop/chromosome_y/DYZ2_Coordinates/HG01106_DYZ2_Coordinates.txt', 'HG01106')"
   ]
  },
  {
   "cell_type": "code",
   "execution_count": 43,
   "id": "404c3976",
   "metadata": {},
   "outputs": [],
   "source": [
    "#exportDYZ2T2T(T2T, '/home/mark/Desktop/chromosome_y/DYZ2_Coordinates/T2T_DYZ2_Coordinates.txt', 'T2T')"
   ]
  },
  {
   "cell_type": "code",
   "execution_count": 36,
   "id": "1f016d71",
   "metadata": {},
   "outputs": [
    {
     "data": {
      "text/plain": [
       "\"['373 24.5 3.2 3.8 chrY 28660073 28661429 (33798600) + (ATATAAT)n Simple_repeat 1 1350 (0) 36025', '1366 19.9 0.0 5.4 chrY 28661430 28661721 (33798308) C AluY SINE/Alu (12) 289 13 36026 *', '3990 9.5 0.0 0.2 chrY 28661721 28662289 (33797740) C HSATI Satellite (0) 568 1 36027']\""
      ]
     },
     "execution_count": 36,
     "metadata": {},
     "output_type": "execute_result"
    }
   ],
   "source": [
    "T2T.loc['C_AluY_28661430-28661721']['Group']"
   ]
  },
  {
   "cell_type": "markdown",
   "id": "938d2aaa",
   "metadata": {},
   "source": [
    "# Change Colors for Visualizing"
   ]
  },
  {
   "cell_type": "code",
   "execution_count": 18,
   "id": "ed74c71b",
   "metadata": {},
   "outputs": [],
   "source": [
    "def colorUnits(sample, df , allDF):\n",
    "    ASDF = allDF[allDF['SampleName']==sample].copy()\n",
    "    \n",
    "    df['Color']='black'\n",
    "    for row in df.index:\n",
    "        if row in ASDF.index:\n",
    "            df.at[row,'Color']=ASDF.at[row,'Color']\n",
    "\n",
    "        else:\n",
    "\n",
    "            if df.at[row,'KMode_cluster']=='GraveYard':\n",
    "                df.at[row,'Color']='black'\n",
    "            else:\n",
    "                df.at[row,'Color']='lightgrey'\n",
    "                \n",
    "    return df"
   ]
  },
  {
   "cell_type": "code",
   "execution_count": 21,
   "id": "2d5b18fc",
   "metadata": {},
   "outputs": [],
   "source": [
    "T2TNONDF = colorUnits('T2T',T2T,allSamplesDF)\n",
    "HG00358NONDF = colorUnits('HG00358',HG00358,allSamplesDF)\n",
    "HC02666NONDF = colorUnits('HC02666',HC02666,allSamplesDF)\n",
    "HG01890NONDF = colorUnits('HG01890',HG01890,allSamplesDF)\n",
    "HG01952NONDF = colorUnits('HG01952',HG01952,allSamplesDF)\n",
    "HG02011NONDF = colorUnits('HG02011',HG02011,allSamplesDF)\n",
    "HG01106NONDF = colorUnits('HG01106',HG01106,allSamplesDF)"
   ]
  },
  {
   "cell_type": "code",
   "execution_count": 38,
   "id": "467fab54",
   "metadata": {},
   "outputs": [],
   "source": [
    "rb_df2 = HG01106NONDF.copy()"
   ]
  },
  {
   "cell_type": "markdown",
   "id": "81f44120",
   "metadata": {},
   "source": [
    "## Draw"
   ]
  },
  {
   "cell_type": "code",
   "execution_count": 46,
   "id": "375e5528",
   "metadata": {},
   "outputs": [],
   "source": [
    "import turtle"
   ]
  },
  {
   "cell_type": "code",
   "execution_count": 48,
   "id": "8d02d641",
   "metadata": {},
   "outputs": [
    {
     "name": "stderr",
     "output_type": "stream",
     "text": [
      "100%|███████████████████████████████████████████| 20/20 [04:58<00:00, 14.90s/it]\n"
     ]
    }
   ],
   "source": [
    "turtle.position()\n",
    "turtle.color('black')\n",
    "turtle.speed(0)\n",
    "flag=1\n",
    "groupFlag = 0\n",
    "groupNames = sorted(set(rb_df2['RepeatBlock']))\n",
    "lengthFlag = 0\n",
    "\n",
    "startPosition = turtle.position()\n",
    "turtle.color(\"white\")\n",
    "turtle.setposition(turtle.pos()[0], turtle.pos()[1]+300)\n",
    "turtle.color(\"black\")\n",
    "turtle.write(\"HG01106 Yq Heterochromatin Repeat Blocks\", align=\"Left\")\n",
    "turtle.color(\"white\")\n",
    "turtle.setposition(startPosition)\n",
    "\n",
    "for key in tqdm(list(sorted(set(rb_df2['RepeatBlock'])))[24:]):\n",
    "#for key in tqdm(list(sorted(set(rb_df2['RepeatBlock'])))):\n",
    "\n",
    "    \n",
    "    totalAlus = len(rb_df2[rb_df2['RepeatBlock']==key])\n",
    "        \n",
    "    turtle.color(\"black\")\n",
    "    turtle.forward(50)\n",
    "    currentPosition = turtle.position()\n",
    "\n",
    "    currentPosition = turtle.position()\n",
    "    \n",
    "    if (flag % 2) == 0:\n",
    "        turtle.setposition(turtle.pos()[0], turtle.pos()[1]-200)\n",
    "    else:\n",
    "        turtle.setposition(turtle.pos()[0], turtle.pos()[1]+200)\n",
    "        \n",
    "    turtle.write(\" Repeat Block: \"+str(key), align=\"left\")\n",
    "\n",
    "    turtle.setposition(currentPosition)\n",
    "    \n",
    "\n",
    "    groupFlag+=1\n",
    "    lengthFlag+=1\n",
    "    flag+=1\n",
    "    \n",
    "    for item in list(rb_df2[rb_df2['RepeatBlock']==key].index):\n",
    "        \n",
    "        if 'C_' in item:\n",
    "            turtle.color(rb_df2.at[item,'Color'])\n",
    "            turtle.forward(.5)\n",
    "            turtle.right(90)\n",
    "            turtle.forward(int(rb_df2.at[item,'Lengths'])/20)\n",
    "            turtle.left(90)\n",
    "            turtle.forward(1)\n",
    "            turtle.left(90)\n",
    "            turtle.forward(int(rb_df2.at[item,'Lengths'])/20)\n",
    "            turtle.right(90)\n",
    "            turtle.forward(.5)\n",
    "\n",
    "        \n",
    "        elif '+_' in item:\n",
    "            turtle.color(rb_df2.at[item,'Color'])\n",
    "            turtle.forward(.5)\n",
    "            turtle.left(90)\n",
    "            turtle.forward(int(rb_df2.at[item,'Lengths'])/20)\n",
    "            turtle.right(90)\n",
    "            turtle.forward(1)\n",
    "            turtle.right(90)\n",
    "            turtle.forward(int(rb_df2.at[item,'Lengths'])/20)\n",
    "            turtle.left(90)\n",
    "            turtle.forward(.5)\n",
    "\n",
    "        \n",
    "        else:\n",
    "            turtle.color('black')\n",
    "            turtle.forward(.5)\n"
   ]
  },
  {
   "cell_type": "code",
   "execution_count": 49,
   "id": "f8af1015",
   "metadata": {},
   "outputs": [],
   "source": [
    "from PIL import Image"
   ]
  },
  {
   "cell_type": "code",
   "execution_count": 50,
   "id": "7bcae194",
   "metadata": {},
   "outputs": [],
   "source": [
    "def save_as_png(canvas,fileName):\n",
    "    # save postscipt image \n",
    "    canvas.postscript(file = fileName + '.eps') \n",
    "    # use PIL to convert to PNG \n",
    "    img = Image.open(fileName + '.eps') \n",
    "    img.save(fileName + '.png', 'png') "
   ]
  },
  {
   "cell_type": "code",
   "execution_count": 51,
   "id": "0c434323",
   "metadata": {},
   "outputs": [],
   "source": [
    "ts = turtle.getscreen()\n",
    "save_as_png(ts.getcanvas(),\"/home/mark/Desktop/chromosome_y/Images/HG01106/HG01106_nonDYZ_yqhet_part2\")"
   ]
  },
  {
   "cell_type": "code",
   "execution_count": 52,
   "id": "b2bdb0f9",
   "metadata": {},
   "outputs": [],
   "source": [
    "turtle.bye()"
   ]
  },
  {
   "cell_type": "markdown",
   "id": "a9608492",
   "metadata": {},
   "source": [
    "## Pull NON-DYZ Subunit Sequences"
   ]
  },
  {
   "cell_type": "code",
   "execution_count": 2,
   "id": "d562d7ba",
   "metadata": {},
   "outputs": [
    {
     "data": {
      "text/html": [
       "<div>\n",
       "<style scoped>\n",
       "    .dataframe tbody tr th:only-of-type {\n",
       "        vertical-align: middle;\n",
       "    }\n",
       "\n",
       "    .dataframe tbody tr th {\n",
       "        vertical-align: top;\n",
       "    }\n",
       "\n",
       "    .dataframe thead th {\n",
       "        text-align: right;\n",
       "    }\n",
       "</style>\n",
       "<table border=\"1\" class=\"dataframe\">\n",
       "  <thead>\n",
       "    <tr style=\"text-align: right;\">\n",
       "      <th></th>\n",
       "      <th>Alu</th>\n",
       "      <th>RepeatBlock</th>\n",
       "      <th>Lengths</th>\n",
       "      <th>Group</th>\n",
       "      <th>Block_Size</th>\n",
       "      <th>SampleName</th>\n",
       "      <th>Divergence</th>\n",
       "      <th>Color</th>\n",
       "    </tr>\n",
       "  </thead>\n",
       "  <tbody>\n",
       "    <tr>\n",
       "      <th>0</th>\n",
       "      <td>C_AluY_27665535-27665797</td>\n",
       "      <td>0</td>\n",
       "      <td>3404</td>\n",
       "      <td>['42459 296 27.6 5.4 3.1 chrY.01-24.01.PAR1-PA...</td>\n",
       "      <td>3000-3999</td>\n",
       "      <td>HG00358</td>\n",
       "      <td>20.6</td>\n",
       "      <td>red</td>\n",
       "    </tr>\n",
       "    <tr>\n",
       "      <th>1</th>\n",
       "      <td>C_AluY_33365187-33365516</td>\n",
       "      <td>8</td>\n",
       "      <td>759</td>\n",
       "      <td>['46098 2317 2.9 0.1 0.1 chrY.01-24.01.PAR1-PA...</td>\n",
       "      <td>&lt;999</td>\n",
       "      <td>HG00358</td>\n",
       "      <td>2.9</td>\n",
       "      <td>cyan</td>\n",
       "    </tr>\n",
       "    <tr>\n",
       "      <th>2</th>\n",
       "      <td>C_AluY_46433143-46433466</td>\n",
       "      <td>22</td>\n",
       "      <td>763</td>\n",
       "      <td>['57100 2346 3.0 0.0 1.0 chrY.01-24.01.PAR1-PA...</td>\n",
       "      <td>&lt;999</td>\n",
       "      <td>HG00358</td>\n",
       "      <td>3.0</td>\n",
       "      <td>cyan</td>\n",
       "    </tr>\n",
       "    <tr>\n",
       "      <th>3</th>\n",
       "      <td>C_AluY_48522389-48522712</td>\n",
       "      <td>25</td>\n",
       "      <td>763</td>\n",
       "      <td>['58899 2355 2.7 0.0 1.0 chrY.01-24.01.PAR1-PA...</td>\n",
       "      <td>&lt;999</td>\n",
       "      <td>HG00358</td>\n",
       "      <td>2.7</td>\n",
       "      <td>cyan</td>\n",
       "    </tr>\n",
       "    <tr>\n",
       "      <th>4</th>\n",
       "      <td>+_AluY_48626169-48626435</td>\n",
       "      <td>25</td>\n",
       "      <td>1832</td>\n",
       "      <td>['59029 415 23.1 3.6 3.9 chrY.01-24.01.PAR1-PA...</td>\n",
       "      <td>1000-1999</td>\n",
       "      <td>HG00358</td>\n",
       "      <td>0.8</td>\n",
       "      <td>red</td>\n",
       "    </tr>\n",
       "    <tr>\n",
       "      <th>...</th>\n",
       "      <td>...</td>\n",
       "      <td>...</td>\n",
       "      <td>...</td>\n",
       "      <td>...</td>\n",
       "      <td>...</td>\n",
       "      <td>...</td>\n",
       "      <td>...</td>\n",
       "      <td>...</td>\n",
       "    </tr>\n",
       "    <tr>\n",
       "      <th>133</th>\n",
       "      <td>+_AluY_32974739-32975005</td>\n",
       "      <td>19</td>\n",
       "      <td>1035</td>\n",
       "      <td>['55868 175 21.8 4.6 4.2 chrY.09-24.01.HET1_ce...</td>\n",
       "      <td>1000-1999</td>\n",
       "      <td>HG02011</td>\n",
       "      <td>0.8</td>\n",
       "      <td>red</td>\n",
       "    </tr>\n",
       "    <tr>\n",
       "      <th>134</th>\n",
       "      <td>C_AluY_32975111-32975401</td>\n",
       "      <td>19</td>\n",
       "      <td>858</td>\n",
       "      <td>['55871 1369 18.9 0.7 5.4 chrY.09-24.01.HET1_c...</td>\n",
       "      <td>&lt;999</td>\n",
       "      <td>HG02011</td>\n",
       "      <td>18.9</td>\n",
       "      <td>cyan</td>\n",
       "    </tr>\n",
       "    <tr>\n",
       "      <th>135</th>\n",
       "      <td>+_AluY_35762810-35763076</td>\n",
       "      <td>22</td>\n",
       "      <td>1034</td>\n",
       "      <td>['58417 175 21.8 4.6 4.2 chrY.09-24.01.HET1_ce...</td>\n",
       "      <td>1000-1999</td>\n",
       "      <td>HG02011</td>\n",
       "      <td>0.8</td>\n",
       "      <td>red</td>\n",
       "    </tr>\n",
       "    <tr>\n",
       "      <th>136</th>\n",
       "      <td>C_AluY_35763181-35763471</td>\n",
       "      <td>22</td>\n",
       "      <td>858</td>\n",
       "      <td>['58420 1346 19.2 0.7 5.4 chrY.09-24.01.HET1_c...</td>\n",
       "      <td>&lt;999</td>\n",
       "      <td>HG02011</td>\n",
       "      <td>19.2</td>\n",
       "      <td>cyan</td>\n",
       "    </tr>\n",
       "    <tr>\n",
       "      <th>137</th>\n",
       "      <td>+_AluY_39033956-39034234</td>\n",
       "      <td>24</td>\n",
       "      <td>2498</td>\n",
       "      <td>['61446 156 19.4 9.6 2.8 chrY.09-24.01.HET1_ce...</td>\n",
       "      <td>2000-2999</td>\n",
       "      <td>HG02011</td>\n",
       "      <td>19.4</td>\n",
       "      <td>red</td>\n",
       "    </tr>\n",
       "  </tbody>\n",
       "</table>\n",
       "<p>138 rows × 8 columns</p>\n",
       "</div>"
      ],
      "text/plain": [
       "                          Alu  RepeatBlock  Lengths  \\\n",
       "0    C_AluY_27665535-27665797            0     3404   \n",
       "1    C_AluY_33365187-33365516            8      759   \n",
       "2    C_AluY_46433143-46433466           22      763   \n",
       "3    C_AluY_48522389-48522712           25      763   \n",
       "4    +_AluY_48626169-48626435           25     1832   \n",
       "..                        ...          ...      ...   \n",
       "133  +_AluY_32974739-32975005           19     1035   \n",
       "134  C_AluY_32975111-32975401           19      858   \n",
       "135  +_AluY_35762810-35763076           22     1034   \n",
       "136  C_AluY_35763181-35763471           22      858   \n",
       "137  +_AluY_39033956-39034234           24     2498   \n",
       "\n",
       "                                                 Group Block_Size SampleName  \\\n",
       "0    ['42459 296 27.6 5.4 3.1 chrY.01-24.01.PAR1-PA...  3000-3999    HG00358   \n",
       "1    ['46098 2317 2.9 0.1 0.1 chrY.01-24.01.PAR1-PA...       <999    HG00358   \n",
       "2    ['57100 2346 3.0 0.0 1.0 chrY.01-24.01.PAR1-PA...       <999    HG00358   \n",
       "3    ['58899 2355 2.7 0.0 1.0 chrY.01-24.01.PAR1-PA...       <999    HG00358   \n",
       "4    ['59029 415 23.1 3.6 3.9 chrY.01-24.01.PAR1-PA...  1000-1999    HG00358   \n",
       "..                                                 ...        ...        ...   \n",
       "133  ['55868 175 21.8 4.6 4.2 chrY.09-24.01.HET1_ce...  1000-1999    HG02011   \n",
       "134  ['55871 1369 18.9 0.7 5.4 chrY.09-24.01.HET1_c...       <999    HG02011   \n",
       "135  ['58417 175 21.8 4.6 4.2 chrY.09-24.01.HET1_ce...  1000-1999    HG02011   \n",
       "136  ['58420 1346 19.2 0.7 5.4 chrY.09-24.01.HET1_c...       <999    HG02011   \n",
       "137  ['61446 156 19.4 9.6 2.8 chrY.09-24.01.HET1_ce...  2000-2999    HG02011   \n",
       "\n",
       "     Divergence Color  \n",
       "0          20.6   red  \n",
       "1           2.9  cyan  \n",
       "2           3.0  cyan  \n",
       "3           2.7  cyan  \n",
       "4           0.8   red  \n",
       "..          ...   ...  \n",
       "133         0.8   red  \n",
       "134        18.9  cyan  \n",
       "135         0.8   red  \n",
       "136        19.2  cyan  \n",
       "137        19.4   red  \n",
       "\n",
       "[138 rows x 8 columns]"
      ]
     },
     "execution_count": 2,
     "metadata": {},
     "output_type": "execute_result"
    }
   ],
   "source": [
    "allSamplesDF = pd.read_csv(\"/home/mark/Desktop/chromosome_y/Dataframes/AllSamples_nonDYZ_AluBlocks_wColor.csv\")\n",
    "allSamplesDF"
   ]
  },
  {
   "cell_type": "code",
   "execution_count": 3,
   "id": "89d7d9a6",
   "metadata": {},
   "outputs": [],
   "source": [
    "T2T_LIST = ['+_AluY_51292325-51292591','+_AluY_51343368-51343634','+_AluY_52852324-52852590','+_AluY_52908192-52908458','+_AluY_55267972-55268237','+_AluY_57873943-57874209','+_AluY_58709506-58709772','+_AluY_59769568-59769834']\n",
    "HG00358_LIST = ['+_AluY_48626169-48626435','+_AluY_53262871-53263136','+_AluY_55604009-55604275']\n",
    "HC02666_LIST = ['+_AluY_44820130-44820416','+_AluY_46010687-46010971']\n",
    "HG01890_LIST = ['+_AluY_41270116-41270382','+_AluY_41798452-41798718']\n",
    "HG01952_LIST = ['+_AluY_16280094-16280359','+_AluY_18912630-18912896','+_AluY_21045333-21045599']\n",
    "HG02011_LIST = ['+_AluY_32974739-32975005','+_AluY_35762810-35763076']\n",
    "HG01106_LIST = ['+_AluY_15622092-15622358','+_AluY_18479198-18479464','+_AluY_22771953-22772219','+_AluY_25496920-25497186','+_AluY_28491956-28492222','+_AluY_33190028-33190294','+_AluY_35403025-35403291']"
   ]
  },
  {
   "cell_type": "code",
   "execution_count": 4,
   "id": "20aa79fa",
   "metadata": {},
   "outputs": [],
   "source": [
    "tempDict={'T2T':T2T_LIST, 'HG00358':HG00358_LIST, 'HC02666':HC02666_LIST, 'HG01890':HG01890_LIST, 'HG01952':HG01952_LIST, 'HG02011':HG02011_LIST, 'HG01106':HG01106_LIST}"
   ]
  },
  {
   "cell_type": "code",
   "execution_count": 11,
   "id": "f2c5bad2",
   "metadata": {},
   "outputs": [
    {
     "data": {
      "text/plain": [
       "\"['1228 20.2 0.0 6.0 chrY 28673501 28673763 (33786266) C AluY SINE/Alu (12) 289 42 36040', '3887 10.3 0.2 0.0 chrY 28675369 28675930 (33784099) + HSATI Satellite 6 568 (0) 36041']\""
      ]
     },
     "execution_count": 11,
     "metadata": {},
     "output_type": "execute_result"
    }
   ],
   "source": [
    "#allSamplesDF[allSamplesDF['SampleName']=='T2T'].iloc[0]['Group']"
   ]
  },
  {
   "cell_type": "code",
   "execution_count": 6,
   "id": "c650f80d",
   "metadata": {},
   "outputs": [
    {
     "name": "stdout",
     "output_type": "stream",
     "text": [
      "Sample\tAlu_ID\tOrientation\tAlu_Sequence_Pull\tColor\n"
     ]
    }
   ],
   "source": [
    "import ast\n",
    "print(\"Sample\\tAlu_ID\\tOrientation\\tAlu_Sequence_Pull\\tColor\")\n",
    "#with open(\"/home/mark/Desktop/chromosome_y/nonDYZ_Sequences/Coordinates/AllCoordinates_completeSamples.txt\", 'a+') as file:\n",
    "    for row in allSamplesDF.index:\n",
    "        \n",
    "        if 'T2T' in str(allSamplesDF.at[row,'SampleName']):\n",
    "            if str(allSamplesDF.at[row,'Alu']) in tempDict[str(allSamplesDF.at[row,'SampleName'])]:\n",
    "                file.write(str(allSamplesDF.at[row,'SampleName'])+'\\t'+str(allSamplesDF.at[row,'Alu'])+'\\t'+str(allSamplesDF.at[row,'Alu'].split(\"_\")[0])+\"\\t\"+str(ast.literal_eval(allSamplesDF.at[row,'Group'])[0].split(\" \")[4])+\":\"+str(allSamplesDF.at[row,'Alu'].split(\"_\")[2])+\"\\t\"+\"INSERTION\\t\"+str(ast.literal_eval(allSamplesDF.at[row,'Group'])[0].split(\" \")[4])+\":\"+str(int(ast.literal_eval(allSamplesDF.at[row,'Group'])[0].split(\" \")[5])-100)+\"-\"+str(int(ast.literal_eval(allSamplesDF.at[row,'Group'])[-1].split(\" \")[6])+100)+'\\n')\n",
    "            else:\n",
    "                file.write(str(allSamplesDF.at[row,'SampleName'])+'\\t'+str(allSamplesDF.at[row,'Alu'])+'\\t'+str(allSamplesDF.at[row,'Alu'].split(\"_\")[0])+\"\\t\"+str(ast.literal_eval(allSamplesDF.at[row,'Group'])[0].split(\" \")[4])+\":\"+str(allSamplesDF.at[row,'Alu'].split(\"_\")[2])+\"\\t\"+str(allSamplesDF.at[row,'Color'])+\"\\t\"+str(ast.literal_eval(allSamplesDF.at[row,'Group'])[0].split(\" \")[4])+\":\"+str(int(ast.literal_eval(allSamplesDF.at[row,'Group'])[0].split(\" \")[5])-100)+\"-\"+str(int(ast.literal_eval(allSamplesDF.at[row,'Group'])[-1].split(\" \")[6])+100)+'\\n')\n",
    "        else:\n",
    "        \n",
    "            if str(allSamplesDF.at[row,'Alu']) in tempDict[str(allSamplesDF.at[row,'SampleName'])]:\n",
    "                file.write(str(allSamplesDF.at[row,'SampleName'])+'\\t'+str(allSamplesDF.at[row,'Alu'])+'\\t'+str(allSamplesDF.at[row,'Alu'].split(\"_\")[0])+\"\\t\"+str(ast.literal_eval(allSamplesDF.at[row,'Group'])[0].split(\" \")[5])+\":\"+str(allSamplesDF.at[row,'Alu'].split(\"_\")[2])+\"\\t\"+\"INSERTION\\t\"+str(ast.literal_eval(allSamplesDF.at[row,'Group'])[0].split(\" \")[5])+\":\"+str(int(ast.literal_eval(allSamplesDF.at[row,'Group'])[0].split(\" \")[6])-100)+\"-\"+str(int(ast.literal_eval(allSamplesDF.at[row,'Group'])[-1].split(\" \")[7])+100)+'\\n')\n",
    "            else:\n",
    "                file.write(str(allSamplesDF.at[row,'SampleName'])+'\\t'+str(allSamplesDF.at[row,'Alu'])+'\\t'+str(allSamplesDF.at[row,'Alu'].split(\"_\")[0])+\"\\t\"+str(ast.literal_eval(allSamplesDF.at[row,'Group'])[0].split(\" \")[5])+\":\"+str(allSamplesDF.at[row,'Alu'].split(\"_\")[2])+\"\\t\"+str(allSamplesDF.at[row,'Color'])+\"\\t\"+str(ast.literal_eval(allSamplesDF.at[row,'Group'])[0].split(\" \")[5])+\":\"+str(int(ast.literal_eval(allSamplesDF.at[row,'Group'])[0].split(\" \")[6])-100)+\"-\"+str(int(ast.literal_eval(allSamplesDF.at[row,'Group'])[-1].split(\" \")[7])+100)+'\\n')\n",
    "file.close()"
   ]
  },
  {
   "cell_type": "code",
   "execution_count": null,
   "id": "737c1150",
   "metadata": {},
   "outputs": [],
   "source": []
  }
 ],
 "metadata": {
  "kernelspec": {
   "display_name": "Python 3 (ipykernel)",
   "language": "python",
   "name": "python3"
  },
  "language_info": {
   "codemirror_mode": {
    "name": "ipython",
    "version": 3
   },
   "file_extension": ".py",
   "mimetype": "text/x-python",
   "name": "python",
   "nbconvert_exporter": "python",
   "pygments_lexer": "ipython3",
   "version": "3.9.12"
  }
 },
 "nbformat": 4,
 "nbformat_minor": 5
}
