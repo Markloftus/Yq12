{
 "cells": [
  {
   "cell_type": "code",
   "execution_count": 1,
   "id": "83d817a8",
   "metadata": {},
   "outputs": [],
   "source": [
    "%matplotlib inline\n",
    "import pandas as pd\n",
    "import matplotlib.pyplot as plt\n",
    "import numpy as np\n",
    "import itertools\n",
    "import seaborn as sns\n",
    "from os import walk\n",
    "from tqdm import tqdm"
   ]
  },
  {
   "cell_type": "code",
   "execution_count": 2,
   "id": "7bf8ec90",
   "metadata": {},
   "outputs": [],
   "source": [
    "HG00358 = pd.read_csv(\"/home/mark/Desktop/chromosome_y/Dataframes/HG00358/HG00358_rbDF2_Kmode.csv\").set_index(\"Alu\")"
   ]
  },
  {
   "cell_type": "code",
   "execution_count": 3,
   "id": "b080ab9c",
   "metadata": {},
   "outputs": [],
   "source": [
    "#for alu in HG00358[(HG00358['KMode_cluster']!='GraveYard') & (HG00358['RepeatBlock']==25)].index: = +_AluY_48626169-48626435\n",
    "#for alu in HG00358[(HG00358['KMode_cluster']!='GraveYard') & (HG00358['RepeatBlock']==30)].index: = +_AluY_53262871-53263136\n",
    "#for alu in HG00358[(HG00358['KMode_cluster']!='GraveYard') & (HG00358['RepeatBlock']==33)].index: = +_AluY_55604009-55604275"
   ]
  },
  {
   "cell_type": "code",
   "execution_count": 5,
   "id": "227daedd",
   "metadata": {},
   "outputs": [],
   "source": [
    "#HG00358.loc['+_AluY_48626169-48626435']['Group']"
   ]
  },
  {
   "cell_type": "code",
   "execution_count": 6,
   "id": "99a762f7",
   "metadata": {},
   "outputs": [],
   "source": [
    "#HG00358.loc['+_AluY_53262871-53263136']['Group']"
   ]
  },
  {
   "cell_type": "code",
   "execution_count": 7,
   "id": "262b5adb",
   "metadata": {},
   "outputs": [],
   "source": [
    "#HG00358.loc['+_AluY_55604009-55604275']['Group']"
   ]
  },
  {
   "cell_type": "code",
   "execution_count": 8,
   "id": "b8f6c56c",
   "metadata": {},
   "outputs": [],
   "source": [
    "##################################################################################################"
   ]
  },
  {
   "cell_type": "code",
   "execution_count": 9,
   "id": "fad5a94e",
   "metadata": {},
   "outputs": [],
   "source": [
    "HG02666 = pd.read_csv(\"/home/mark/Desktop/chromosome_y/Dataframes/HG02666/HG02666_rbDF2_Kmode.csv\").set_index(\"Alu\")"
   ]
  },
  {
   "cell_type": "code",
   "execution_count": 10,
   "id": "1863b211",
   "metadata": {},
   "outputs": [],
   "source": [
    "#for alu in HG02666[(HG02666['KMode_cluster']!='GraveYard') & (HG02666['RepeatBlock']==12)].index: = +_AluY_44822070-44822356\n",
    "#for alu in HG02666[(HG02666['KMode_cluster']!='GraveYard') & (HG02666['RepeatBlock']==13)].index: = +_AluY_46015047-46015331\n"
   ]
  },
  {
   "cell_type": "code",
   "execution_count": 11,
   "id": "41edd157",
   "metadata": {},
   "outputs": [],
   "source": [
    "####################################################################################################"
   ]
  },
  {
   "cell_type": "code",
   "execution_count": 12,
   "id": "8b4d6d33",
   "metadata": {},
   "outputs": [],
   "source": [
    "T2T = pd.read_csv(\"/home/mark/Desktop/chromosome_y/Dataframes/T2T/T2T_rbDF2_Kmode.csv\").set_index(\"Alu\")"
   ]
  },
  {
   "cell_type": "code",
   "execution_count": 13,
   "id": "37d5b53a",
   "metadata": {},
   "outputs": [],
   "source": [
    "#for alu in T2T[(T2T['KMode_cluster']!='GraveYard') & (T2T['RepeatBlock']==28)].index: = +_AluY_51292325-51292591\n",
    "#+_AluY_51343368-51343634\n",
    "\n",
    "\n",
    "#for alu in T2T[(T2T['KMode_cluster']!='GraveYard') & (T2T['RepeatBlock']==30)].index:= +_AluY_52852324-52852590\n",
    "# +_AluY_52908192-52908458\n",
    "\n",
    "#for alu in T2T[(T2T['KMode_cluster']!='GraveYard') & (T2T['RepeatBlock']==33)].index: = +_AluY_55267972-55268237\n",
    "\n",
    "#for alu in T2T[(T2T['KMode_cluster']!='GraveYard') & (T2T['RepeatBlock']==36)].index: = +_AluY_57873943-57874209\n",
    "\n",
    "#for alu in T2T[(T2T['KMode_cluster']!='GraveYard') & (T2T['RepeatBlock']==37)].index: = +_AluY_58709506-58709772\n",
    "\n",
    "#for alu in T2T[(T2T['KMode_cluster']!='GraveYard') & (T2T['RepeatBlock']==38)].index: = +_AluY_59769568-59769834"
   ]
  },
  {
   "cell_type": "code",
   "execution_count": 14,
   "id": "12072e5c",
   "metadata": {},
   "outputs": [],
   "source": [
    "#############################################################################################################"
   ]
  },
  {
   "cell_type": "code",
   "execution_count": 15,
   "id": "f55a77a1",
   "metadata": {},
   "outputs": [],
   "source": [
    "HG01952 = pd.read_csv(\"/home/mark/Desktop/chromosome_y/Dataframes/HG01952/HG01952_rbDF2_Kmode.csv\").set_index(\"Alu\")"
   ]
  },
  {
   "cell_type": "code",
   "execution_count": 16,
   "id": "bd6d863c",
   "metadata": {},
   "outputs": [],
   "source": [
    "#for alu in HG01952[(HG01952['KMode_cluster']!='GraveYard') & (HG01952['RepeatBlock']==15)].index: = +_AluY_16280094-16280359\n",
    "\n",
    "#for alu in HG01952[(HG01952['KMode_cluster']!='GraveYard') & (HG01952['RepeatBlock']==18)].index: = +_AluY_18912630-18912896\n",
    "\n",
    "#for alu in HG01952[(HG01952['KMode_cluster']!='GraveYard') & (HG01952['RepeatBlock']==20)].index: = +_AluY_21045333-21045599"
   ]
  },
  {
   "cell_type": "code",
   "execution_count": 17,
   "id": "ced47f0d",
   "metadata": {},
   "outputs": [],
   "source": [
    "#################################################################################################################"
   ]
  },
  {
   "cell_type": "code",
   "execution_count": 18,
   "id": "1f05d8e2",
   "metadata": {},
   "outputs": [],
   "source": [
    "HG01890 = pd.read_csv(\"/home/mark/Desktop/chromosome_y/Dataframes/HG01890/HG01890_rbDF2_Kmode.csv\").set_index(\"Alu\")\n",
    "#for alu in HG01890[(HG01890['KMode_cluster']!='GraveYard') & (HG01890['RepeatBlock']==12)].index: = +_AluY_41270116-41270382\n",
    "\n",
    "#for alu in HG01890[(HG01890['KMode_cluster']!='GraveYard') & (HG01890['RepeatBlock']==13)].index: = +_AluY_41798452-41798718"
   ]
  },
  {
   "cell_type": "code",
   "execution_count": null,
   "id": "2d436d93",
   "metadata": {},
   "outputs": [],
   "source": []
  },
  {
   "cell_type": "markdown",
   "id": "40d42a7a",
   "metadata": {},
   "source": [
    "## Look at RepeatBlock Alus"
   ]
  },
  {
   "cell_type": "code",
   "execution_count": 25,
   "id": "b57ba7a4",
   "metadata": {},
   "outputs": [
    {
     "name": "stdout",
     "output_type": "stream",
     "text": [
      "Counter({'AluY': 4014})\n"
     ]
    }
   ],
   "source": [
    "import ast\n",
    "import collections\n",
    "\n",
    "Alus = []\n",
    "tempDF = HG01952[HG01952['KMode_cluster']!='GraveYard'].copy()\n",
    "for row in tempDF.index:\n",
    "    for repeat in ast.literal_eval(tempDF.at[row,'Group']):\n",
    "        if 'SINE/Alu' in repeat:\n",
    "            Alus.append(repeat.split(\" \")[10])\n",
    "print(collections.Counter(Alus))"
   ]
  },
  {
   "cell_type": "code",
   "execution_count": 26,
   "id": "6e51bd90",
   "metadata": {},
   "outputs": [
    {
     "name": "stdout",
     "output_type": "stream",
     "text": [
      "Counter({'AluY': 2683, 'AluSc': 1})\n"
     ]
    }
   ],
   "source": [
    "import ast\n",
    "import collections\n",
    "\n",
    "Alus = []\n",
    "tempDF = HG01890[HG01890['KMode_cluster']!='GraveYard'].copy()\n",
    "for row in tempDF.index:\n",
    "    for repeat in ast.literal_eval(tempDF.at[row,'Group']):\n",
    "        if 'SINE/Alu' in repeat:\n",
    "            Alus.append(repeat.split(\" \")[10])\n",
    "print(collections.Counter(Alus))"
   ]
  },
  {
   "cell_type": "code",
   "execution_count": 27,
   "id": "81a80732",
   "metadata": {},
   "outputs": [
    {
     "name": "stdout",
     "output_type": "stream",
     "text": [
      "Counter({'AluY': 5230, 'AluSx': 3})\n"
     ]
    }
   ],
   "source": [
    "import ast\n",
    "import collections\n",
    "\n",
    "Alus = []\n",
    "tempDF = HG00358[HG00358['KMode_cluster']!='GraveYard'].copy()\n",
    "for row in tempDF.index:\n",
    "    for repeat in ast.literal_eval(tempDF.at[row,'Group']):\n",
    "        if 'SINE/Alu' in repeat:\n",
    "            Alus.append(repeat.split(\" \")[10])\n",
    "print(collections.Counter(Alus))"
   ]
  },
  {
   "cell_type": "code",
   "execution_count": 28,
   "id": "aca7db4d",
   "metadata": {},
   "outputs": [
    {
     "name": "stdout",
     "output_type": "stream",
     "text": [
      "Counter({'AluY': 3669, 'AluSx': 1})\n"
     ]
    }
   ],
   "source": [
    "import ast\n",
    "import collections\n",
    "\n",
    "Alus = []\n",
    "tempDF = HG02666[HG02666['KMode_cluster']!='GraveYard'].copy()\n",
    "for row in tempDF.index:\n",
    "    for repeat in ast.literal_eval(tempDF.at[row,'Group']):\n",
    "        if 'SINE/Alu' in repeat:\n",
    "            Alus.append(repeat.split(\" \")[10])\n",
    "print(collections.Counter(Alus))"
   ]
  },
  {
   "cell_type": "code",
   "execution_count": 29,
   "id": "d20c3cc8",
   "metadata": {},
   "outputs": [
    {
     "name": "stdout",
     "output_type": "stream",
     "text": [
      "Counter({'AluY': 5867, 'AluYk3': 1})\n"
     ]
    }
   ],
   "source": [
    "import ast\n",
    "import collections\n",
    "\n",
    "Alus = []\n",
    "tempDF = T2T[T2T['KMode_cluster']!='GraveYard'].copy()\n",
    "for row in tempDF.index:\n",
    "    for repeat in ast.literal_eval(tempDF.at[row,'Group']):\n",
    "        if 'SINE/Alu' in repeat:\n",
    "            Alus.append(repeat.split(\" \")[9])\n",
    "print(collections.Counter(Alus))"
   ]
  }
 ],
 "metadata": {
  "kernelspec": {
   "display_name": "Python 3 (ipykernel)",
   "language": "python",
   "name": "python3"
  },
  "language_info": {
   "codemirror_mode": {
    "name": "ipython",
    "version": 3
   },
   "file_extension": ".py",
   "mimetype": "text/x-python",
   "name": "python",
   "nbconvert_exporter": "python",
   "pygments_lexer": "ipython3",
   "version": "3.9.12"
  }
 },
 "nbformat": 4,
 "nbformat_minor": 5
}
